{
  "nbformat": 4,
  "nbformat_minor": 0,
  "metadata": {
    "colab": {
      "name": "第１回授業課題_課題1.ipynb",
      "provenance": [],
      "collapsed_sections": [],
      "authorship_tag": "ABX9TyPRR7ehgbhHEMUNGLn/kl03",
      "include_colab_link": true
    },
    "kernelspec": {
      "name": "python3",
      "display_name": "Python 3"
    }
  },
  "cells": [
    {
      "cell_type": "markdown",
      "metadata": {
        "id": "view-in-github",
        "colab_type": "text"
      },
      "source": [
        "<a href=\"https://colab.research.google.com/github/YusukeAoki57/diveintocode-ml/blob/master/%E7%AC%AC%EF%BC%91%E5%9B%9E%E6%8E%88%E6%A5%AD%E8%AA%B2%E9%A1%8C_%E8%AA%B2%E9%A1%8C1.ipynb\" target=\"_parent\"><img src=\"https://colab.research.google.com/assets/colab-badge.svg\" alt=\"Open In Colab\"/></a>"
      ]
    },
    {
      "cell_type": "code",
      "metadata": {
        "id": "DcxT3NKrAz4X"
      },
      "source": [
        "import matplotlib.pyplot as plt\r\n"
      ],
      "execution_count": null,
      "outputs": []
    },
    {
      "cell_type": "markdown",
      "metadata": {
        "id": "s8INj1hHBFdL"
      },
      "source": [
        "**問題1 100日目の米粒の数**"
      ]
    },
    {
      "cell_type": "code",
      "metadata": {
        "id": "x1AlkLb0BJf-"
      },
      "source": [
        "list=[]"
      ],
      "execution_count": null,
      "outputs": []
    },
    {
      "cell_type": "code",
      "metadata": {
        "id": "Uk-9NQfsUXgY"
      },
      "source": [
        "sum_list=[]"
      ],
      "execution_count": null,
      "outputs": []
    },
    {
      "cell_type": "code",
      "metadata": {
        "id": "S4x8ys7nBZcN"
      },
      "source": [
        "kome_num=1"
      ],
      "execution_count": null,
      "outputs": []
    },
    {
      "cell_type": "code",
      "metadata": {
        "id": "DknkD6lTBTYr"
      },
      "source": [
        "n_days=100"
      ],
      "execution_count": null,
      "outputs": []
    },
    {
      "cell_type": "code",
      "metadata": {
        "colab": {
          "base_uri": "https://localhost:8080/"
        },
        "id": "g9j0zwH1BRLe",
        "outputId": "332cb3b7-b97c-41bc-a0ef-0fdc42fb276a"
      },
      "source": [
        "for i in range(n_days):\r\n",
        "  if i==0:\r\n",
        "    kome_num=1\r\n",
        "    list.append(kome_num)\r\n",
        "  elif i>0:\r\n",
        "    kome_num=kome_num*2\r\n",
        "    list.append(kome_num)\r\n",
        "sum_list.append(1)\r\n",
        "for k in range(len(list)):\r\n",
        "  if k<1:\r\n",
        "    sum=list[k]+list[k+1]\r\n",
        "    sum_list.append(sum)\r\n",
        "  elif k >=1 and k<len(list)-1:\r\n",
        "    sum_list.append(sum_list[-1]+list[k+1])\r\n",
        "  else:\r\n",
        "    break\r\n",
        "print(list)\r\n",
        "print(len(list))\r\n",
        "print(list[-1])\r\n",
        "print(sum_list)\r\n",
        "print(sum_list[-1])\r\n",
        "print(len(sum_list))"
      ],
      "execution_count": null,
      "outputs": [
        {
          "output_type": "stream",
          "text": [
            "[1, 2, 4, 8, 16, 32, 64, 128, 256, 512, 1024, 2048, 4096, 8192, 16384, 32768, 65536, 131072, 262144, 524288, 1048576, 2097152, 4194304, 8388608, 16777216, 33554432, 67108864, 134217728, 268435456, 536870912, 1073741824, 2147483648, 4294967296, 8589934592, 17179869184, 34359738368, 68719476736, 137438953472, 274877906944, 549755813888, 1099511627776, 2199023255552, 4398046511104, 8796093022208, 17592186044416, 35184372088832, 70368744177664, 140737488355328, 281474976710656, 562949953421312, 1125899906842624, 2251799813685248, 4503599627370496, 9007199254740992, 18014398509481984, 36028797018963968, 72057594037927936, 144115188075855872, 288230376151711744, 576460752303423488, 1152921504606846976, 2305843009213693952, 4611686018427387904, 9223372036854775808, 18446744073709551616, 36893488147419103232, 73786976294838206464, 147573952589676412928, 295147905179352825856, 590295810358705651712, 1180591620717411303424, 2361183241434822606848, 4722366482869645213696, 9444732965739290427392, 18889465931478580854784, 37778931862957161709568, 75557863725914323419136, 151115727451828646838272, 302231454903657293676544, 604462909807314587353088, 1208925819614629174706176, 2417851639229258349412352, 4835703278458516698824704, 9671406556917033397649408, 19342813113834066795298816, 38685626227668133590597632, 77371252455336267181195264, 154742504910672534362390528, 309485009821345068724781056, 618970019642690137449562112, 1237940039285380274899124224, 2475880078570760549798248448, 4951760157141521099596496896, 9903520314283042199192993792, 19807040628566084398385987584, 39614081257132168796771975168, 79228162514264337593543950336, 158456325028528675187087900672, 316912650057057350374175801344, 633825300114114700748351602688]\n",
            "100\n",
            "633825300114114700748351602688\n",
            "[1, 3, 7, 15, 31, 63, 127, 255, 511, 1023, 2047, 4095, 8191, 16383, 32767, 65535, 131071, 262143, 524287, 1048575, 2097151, 4194303, 8388607, 16777215, 33554431, 67108863, 134217727, 268435455, 536870911, 1073741823, 2147483647, 4294967295, 8589934591, 17179869183, 34359738367, 68719476735, 137438953471, 274877906943, 549755813887, 1099511627775, 2199023255551, 4398046511103, 8796093022207, 17592186044415, 35184372088831, 70368744177663, 140737488355327, 281474976710655, 562949953421311, 1125899906842623, 2251799813685247, 4503599627370495, 9007199254740991, 18014398509481983, 36028797018963967, 72057594037927935, 144115188075855871, 288230376151711743, 576460752303423487, 1152921504606846975, 2305843009213693951, 4611686018427387903, 9223372036854775807, 18446744073709551615, 36893488147419103231, 73786976294838206463, 147573952589676412927, 295147905179352825855, 590295810358705651711, 1180591620717411303423, 2361183241434822606847, 4722366482869645213695, 9444732965739290427391, 18889465931478580854783, 37778931862957161709567, 75557863725914323419135, 151115727451828646838271, 302231454903657293676543, 604462909807314587353087, 1208925819614629174706175, 2417851639229258349412351, 4835703278458516698824703, 9671406556917033397649407, 19342813113834066795298815, 38685626227668133590597631, 77371252455336267181195263, 154742504910672534362390527, 309485009821345068724781055, 618970019642690137449562111, 1237940039285380274899124223, 2475880078570760549798248447, 4951760157141521099596496895, 9903520314283042199192993791, 19807040628566084398385987583, 39614081257132168796771975167, 79228162514264337593543950335, 158456325028528675187087900671, 316912650057057350374175801343, 633825300114114700748351602687, 1267650600228229401496703205375]\n",
            "1267650600228229401496703205375\n",
            "100\n"
          ],
          "name": "stdout"
        }
      ]
    },
    {
      "cell_type": "code",
      "metadata": {
        "colab": {
          "base_uri": "https://localhost:8080/",
          "height": 295
        },
        "id": "xXb87CHQBqUx",
        "outputId": "d315ee5e-480c-4442-ba63-f863e2479649"
      },
      "source": [
        "%matplotlib inline\r\n",
        "plt.title(\"number of rice belog 100 days\")\r\n",
        "plt.xlabel(\"days\")\r\n",
        "plt.ylabel(\"number of rice\")\r\n",
        "plt.plot(list, color='blue', label=\"double\") # その日にもらう米の数\r\n",
        "plt.plot(sum_list, color='red', label=\"comulative\") # その日での累計の米の数\r\n",
        "plt.legend()\r\n",
        "plt.show()"
      ],
      "execution_count": null,
      "outputs": [
        {
          "output_type": "display_data",
          "data": {
            "image/png": "[encoded data removed]",
            "text/plain": [
              "<Figure size 432x288 with 1 Axes>"
            ]
          },
          "metadata": {
            "tags": [],
            "needs_background": "light"
          }
        }
      ]
    },
    {
      "cell_type": "code",
      "metadata": {
        "id": "MKs9bQXICvIS"
      },
      "source": [
        "list=[]"
      ],
      "execution_count": null,
      "outputs": []
    },
    {
      "cell_type": "code",
      "metadata": {
        "id": "qJiZd6HOl2yR"
      },
      "source": [
        "sum_list=[]"
      ],
      "execution_count": null,
      "outputs": []
    },
    {
      "cell_type": "markdown",
      "metadata": {
        "id": "gs9I5oabDB3t"
      },
      "source": [
        "**問題2 100日目以外の米の数**"
      ]
    },
    {
      "cell_type": "code",
      "metadata": {
        "colab": {
          "base_uri": "https://localhost:8080/"
        },
        "id": "4v7FfPFdDGvh",
        "outputId": "af848e8b-cd25-4f03-924e-d94673388794"
      },
      "source": [
        "def compute_sorori_shinzaemon(day=100):\r\n",
        "  \"\"\"\r\n",
        "  日数を変数にした際のその日の米の数と累計の米の数を算出する関数\r\n",
        "  \"\"\"\r\n",
        "  rice=1\r\n",
        "  list2=[]\r\n",
        "  sum_list2=[]\r\n",
        "  for i in range(day):\r\n",
        "    if i==0:\r\n",
        "      rice=1\r\n",
        "      list2.append(rice)\r\n",
        "    elif i>0:\r\n",
        "      rice=rice*2\r\n",
        "      list2.append(rice)\r\n",
        "      sum_list2.append(1)\r\n",
        "  for k in range(len(list2)):\r\n",
        "    if k<1:\r\n",
        "      sum=list2[k]+list2[k+1]\r\n",
        "      sum_list2.append(sum)\r\n",
        "    elif k >=1 and k<len(list2)-1:\r\n",
        "      sum_list2.append(sum_list2[-1]+list2[k+1])\r\n",
        "    else:\r\n",
        "      break\r\n",
        "  return list2[-1],sum_list2[-1]\r\n",
        "\r\n",
        "print(compute_sorori_shinzaemon(day=120))\r\n"
      ],
      "execution_count": null,
      "outputs": [
        {
          "output_type": "stream",
          "text": [
            "(664613997892457936451903530140172288, 1329227995784915872903807060280344575)\n"
          ],
          "name": "stdout"
        }
      ]
    },
    {
      "cell_type": "code",
      "metadata": {
        "id": "qKrMXuurIVnO"
      },
      "source": [
        ""
      ],
      "execution_count": null,
      "outputs": []
    },
    {
      "cell_type": "markdown",
      "metadata": {
        "id": "xXSCUEohowFz"
      },
      "source": [
        "問題3 貰える米で何人が何日生活できるか"
      ]
    },
    {
      "cell_type": "code",
      "metadata": {
        "colab": {
          "base_uri": "https://localhost:8080/"
        },
        "id": "Epix4Mkxo3hU",
        "outputId": "b9e71fe5-bbb8-444d-fbc3-ceff90ef87d6"
      },
      "source": [
        "def day_rice_continue(people, rice_num):\r\n",
        "  onerice_grm=25*0.001 #米1粒の重さ（0.025g）\r\n",
        "  need_rice_gram_a_day=75*3 #一人当たり一日の米の消費量（グラム：1回75g）\r\n",
        "  need_rice=need_rice_gram_a_day/onerice_grm #一人当たり一日の米の粒量\r\n",
        "  need_people_rice=people*need_rice #人数当たりの一日の米の粒量\r\n",
        "  life_days = (rice_num)/(need_people_rice) #人数が米を食べつくすまでの日数（生活可能日数）\r\n",
        "\r\n",
        "  return life_days\r\n",
        "\r\n",
        "day_rice_num, comulative_rice_num=compute_sorori_shinzaemon(day=120) #120日間で必要な米粒：その日時点と累計\r\n",
        "\r\n",
        "people=15 #クラス人数\r\n",
        "print(str(day_rice_continue(people, comulative_rice_num))+\"日間暮らせる\")\r\n"
      ],
      "execution_count": null,
      "outputs": [
        {
          "output_type": "stream",
          "text": [
            "9.846133302110488e+30日間暮らせる\n"
          ],
          "name": "stdout"
        }
      ]
    },
    {
      "cell_type": "code",
      "metadata": {
        "id": "lJc4g-uPx6QN"
      },
      "source": [
        ""
      ],
      "execution_count": null,
      "outputs": []
    }
  ]
}