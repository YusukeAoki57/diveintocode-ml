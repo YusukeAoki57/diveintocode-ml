{
  "nbformat": 4,
  "nbformat_minor": 0,
  "metadata": {
    "colab": {
      "name": "sprint_機械学習スクラッチ入門.ipynb",
      "provenance": [],
      "collapsed_sections": [],
      "authorship_tag": "ABX9TyNMQano/VZGvad/5xw0ddYx",
      "include_colab_link": true
    },
    "kernelspec": {
      "name": "python3",
      "display_name": "Python 3"
    }
  },
  "cells": [
    {
      "cell_type": "markdown",
      "metadata": {
        "id": "view-in-github",
        "colab_type": "text"
      },
      "source": [
        "<a href=\"https://colab.research.google.com/github/YusukeAoki57/diveintocode-ml/blob/master/sprint_%E6%A9%9F%E6%A2%B0%E5%AD%A6%E7%BF%92%E3%82%B9%E3%82%AF%E3%83%A9%E3%83%83%E3%83%81%E5%85%A5%E9%96%80.ipynb\" target=\"_parent\"><img src=\"https://colab.research.google.com/assets/colab-badge.svg\" alt=\"Open In Colab\"/></a>"
      ]
    },
    {
      "cell_type": "code",
      "metadata": {
        "id": "Fc0dx7h7a2f1"
      },
      "source": [
        ""
      ],
      "execution_count": 8,
      "outputs": []
    },
    {
      "cell_type": "markdown",
      "metadata": {
        "id": "A5u3Op88a_3l"
      },
      "source": [
        "【問題1】train_test_splitのスクラッチ"
      ]
    },
    {
      "cell_type": "code",
      "metadata": {
        "id": "GMHA5kQ_cYzE"
      },
      "source": [
        "import numpy as np\r\n",
        "import pandas as pd\r\n",
        "from sklearn.datasets import load_iris\r\n",
        "from sklearn.model_selection import train_test_split"
      ],
      "execution_count": 9,
      "outputs": []
    },
    {
      "cell_type": "code",
      "metadata": {
        "id": "vIY6NijUctO_"
      },
      "source": [
        "iris=load_iris()\r\n",
        "\r\n"
      ],
      "execution_count": 10,
      "outputs": []
    },
    {
      "cell_type": "code",
      "metadata": {
        "id": "01a_bnh8bAN3"
      },
      "source": [
        "def scratch_train_test_split(X, y, train_size=0.8):\r\n",
        "    \"\"\"\r\n",
        "    検証データを分割する。\r\n",
        "    Parameters\r\n",
        "    ----------\r\n",
        "    X : 次の形のndarray, shape (n_samples, n_features)\r\n",
        "      訓練データ\r\n",
        "    y : 次の形のndarray, shape (n_samples, )\r\n",
        "      正解値\r\n",
        "    train_size : float (0<train_size<1)\r\n",
        "      何割をtrainとするか指定\r\n",
        "    Returns\r\n",
        "    ----------\r\n",
        "\r\n",
        "    X_train : 次の形のndarray, shape (n_samples, n_features)\r\n",
        "      訓練データ\r\n",
        "    X_test : 次の形のndarray, shape (n_samples, n_features)\r\n",
        "      検証データ\r\n",
        "    y_train : 次の形のndarray, shape (n_samples, )\r\n",
        "      訓練データの正解値\r\n",
        "    y_test : 次の形のndarray, shape (n_samples, )\r\n",
        "      検証データの正解値\r\n",
        "    \"\"\"\r\n",
        "    #ここにコードを書く\r\n",
        "    X_train=X[:int(X.shape[0]*train_size),:]\r\n",
        "    y_train=y[:int(y.shape[0]*train_size)]\r\n",
        "    \r\n",
        "\r\n",
        "    ntest=round(1-train_size,1)\r\n",
        "    X_test=X[:int(X.shape[0]*ntest),:]\r\n",
        "    y_test=y[:int(y.shape[0]*ntest)]\r\n",
        "    \r\n",
        "    return X_train, X_test, y_train, y_test"
      ],
      "execution_count": 63,
      "outputs": []
    },
    {
      "cell_type": "code",
      "metadata": {
        "colab": {
          "base_uri": "https://localhost:8080/"
        },
        "id": "eYbkWuGVlMRA",
        "outputId": "ee475955-b7cd-4a03-d0d5-b10624a2b236"
      },
      "source": [
        "#iris_data\r\n",
        "#iris\r\n",
        "#targetの生成\r\n",
        "x0=pd.DataFrame(iris.data)\r\n",
        "y0=pd.DataFrame(iris.target)\r\n",
        "y0.columns=['Species']\r\n",
        "\r\n",
        "#特徴量との結合\r\n",
        "xy0=pd.merge(x0,y0,left_index=True, right_index=True)\r\n",
        "\r\n",
        "#Targetのvirgicolorとvirginicaのみのデータの生成\r\n",
        "xy1=xy0[xy0['Species'] != 0]\r\n",
        "\r\n",
        "#sepal_lengthとpetal_lengthのみのデータの生成\r\n",
        "x=xy1.iloc[:,:-1]\r\n",
        "y=xy1.iloc[:,-1]\r\n",
        "print(x.shape)\r\n",
        "print(y.shape)"
      ],
      "execution_count": 64,
      "outputs": [
        {
          "output_type": "stream",
          "text": [
            "(100, 4)\n",
            "(100,)\n"
          ],
          "name": "stdout"
        }
      ]
    },
    {
      "cell_type": "code",
      "metadata": {
        "colab": {
          "base_uri": "https://localhost:8080/"
        },
        "id": "fOLKH0wbcWe_",
        "outputId": "743b8446-8c6a-46fe-ab1e-99b868487f2c"
      },
      "source": [
        "#sckit-learnで分割\r\n",
        "X_train, X_test, y_train, y_test = train_test_split(\r\n",
        "    x, y,test_size=0.2 ,random_state=0)\r\n",
        "\r\n",
        "print(X_train.shape)\r\n",
        "print(y_train.shape)\r\n",
        "print(X_test.shape)\r\n",
        "print(y_test.shape)\r\n",
        "\r\n",
        "#スクラッチ関数で分割\r\n",
        "x_ndarray=np.array(x)\r\n",
        "y_ndarray=np.array(y)\r\n",
        "X_train1,X_test1,y_train1,y_test1=scratch_train_test_split(x_ndarray,y_ndarray, train_size=0.8)\r\n",
        "print(X_train1.shape)\r\n",
        "print(y_train1.shape)\r\n",
        "print(X_test1.shape)\r\n",
        "print(y_test1.shape)\r\n"
      ],
      "execution_count": 66,
      "outputs": [
        {
          "output_type": "stream",
          "text": [
            "(80, 4)\n",
            "(80,)\n",
            "(20, 4)\n",
            "(20,)\n",
            "(80, 4)\n",
            "(80,)\n",
            "(20, 4)\n",
            "(20,)\n"
          ],
          "name": "stdout"
        }
      ]
    },
    {
      "cell_type": "markdown",
      "metadata": {
        "id": "jY2KSYv2h2kK"
      },
      "source": [
        "問題2 分類問題を解くコードの作成"
      ]
    },
    {
      "cell_type": "code",
      "metadata": {
        "id": "pDV2qilFd7Ew"
      },
      "source": [
        ""
      ],
      "execution_count": 61,
      "outputs": []
    },
    {
      "cell_type": "code",
      "metadata": {
        "id": "SpUwfJikiiWT",
        "colab": {
          "base_uri": "https://localhost:8080/"
        },
        "outputId": "2ed0fab9-1d0a-4ef5-aa91-3c1dff85711f"
      },
      "source": [
        "#データセット1\r\n",
        "np.random.seed(seed=0)\r\n",
        "n_samples = 500\r\n",
        "f0 = [-1, 2]\r\n",
        "f1 = [2, -1]\r\n",
        "cov = [[1.0,0.8], [0.8, 1.0]]\r\n",
        "f0 = np.random.multivariate_normal(f0, cov, int(n_samples/2))\r\n",
        "f1 = np.random.multivariate_normal(f1, cov, int(n_samples/2))\r\n",
        "x1 = np.concatenate((f0, f1))\r\n",
        "y1 = np.concatenate((np.ones((int(n_samples/2))), np.ones((int(n_samples/2))) *(-1))).astype(np.int)\r\n",
        "random_index = np.random.permutation(np.arange(n_samples))\r\n",
        "x1 = x1[random_index]\r\n",
        "y1 = y1[random_index]\r\n",
        "print(x1.shape)\r\n",
        "print(y1.shape)"
      ],
      "execution_count": 72,
      "outputs": [
        {
          "output_type": "stream",
          "text": [
            "(500, 2)\n",
            "(500,)\n"
          ],
          "name": "stdout"
        }
      ]
    },
    {
      "cell_type": "code",
      "metadata": {
        "id": "xDj-fO1ei9CJ"
      },
      "source": [
        "#データセット2\r\n",
        "x2 = np.array([[-0.44699 , -2.8073  ],[-1.4621  , -2.4586  ],\r\n",
        "       [ 0.10645 ,  1.9242  ],[-3.5944  , -4.0112  ],\r\n",
        "       [-0.9888  ,  4.5718  ],[-3.1625  , -3.9606  ],\r\n",
        "       [ 0.56421 ,  0.72888 ],[-0.60216 ,  8.4636  ],\r\n",
        "       [-0.61251 , -0.75345 ],[-0.73535 , -2.2718  ],\r\n",
        "       [-0.80647 , -2.2135  ],[ 0.86291 ,  2.3946  ],\r\n",
        "       [-3.1108  ,  0.15394 ],[-2.9362  ,  2.5462  ],\r\n",
        "       [-0.57242 , -2.9915  ],[ 1.4771  ,  3.4896  ],\r\n",
        "       [ 0.58619 ,  0.37158 ],[ 0.6017  ,  4.3439  ],\r\n",
        "       [-2.1086  ,  8.3428  ],[-4.1013  , -4.353   ],\r\n",
        "       [-1.9948  , -1.3927  ],[ 0.35084 , -0.031994],\r\n",
        "       [ 0.96765 ,  7.8929  ],[-1.281   , 15.6824  ],\r\n",
        "       [ 0.96765 , 10.083   ],[ 1.3763  ,  1.3347  ],\r\n",
        "       [-2.234   , -2.5323  ],[-2.9452  , -1.8219  ],\r\n",
        "       [ 0.14654 , -0.28733 ],[ 0.5461  ,  5.8245  ],\r\n",
        "       [-0.65259 ,  9.3444  ],[ 0.59912 ,  5.3524  ],\r\n",
        "       [ 0.50214 , -0.31818 ],[-3.0603  , -3.6461  ],\r\n",
        "       [-6.6797  ,  0.67661 ],[-2.353   , -0.72261 ],\r\n",
        "       [ 1.1319  ,  2.4023  ],[-0.12243 ,  9.0162  ],\r\n",
        "       [-2.5677  , 13.1779  ],[ 0.057313,  5.4681  ]])\r\n",
        "y2 = np.array([0, 0, 0, 0, 0, 0, 0, 0, 0, 0, 0, 0, 0, 0, 0, 0, 0, 0, 0, 0, 1, 1,\r\n",
        "       1, 1, 1, 1, 1, 1, 1, 1, 1, 1, 1, 1, 1, 1, 1, 1, 1, 1])"
      ],
      "execution_count": 57,
      "outputs": []
    },
    {
      "cell_type": "code",
      "metadata": {
        "id": "NVjeI4xrjAn3",
        "colab": {
          "base_uri": "https://localhost:8080/"
        },
        "outputId": "7c857f8d-9ff9-435d-a4fe-e6a7edf9f9f6"
      },
      "source": [
        "#データを訓練データとテストデータに分割\r\n",
        "X_train2,X_test2,y_train2,y_test2=scratch_train_test_split(x1,y1, train_size=0.8)\r\n",
        "X_train3,X_test3,y_train3,y_test3=scratch_train_test_split(x2,y2, train_size=0.8)"
      ],
      "execution_count": 94,
      "outputs": [
        {
          "output_type": "stream",
          "text": [
            "(100, 2)\n"
          ],
          "name": "stdout"
        }
      ]
    },
    {
      "cell_type": "markdown",
      "metadata": {
        "id": "Azo3aC2bhHmQ"
      },
      "source": [
        "問題2　分類問題を解くコードの作成"
      ]
    },
    {
      "cell_type": "code",
      "metadata": {
        "id": "DSJ4xchngoGS"
      },
      "source": [
        "#ロジスティック回帰"
      ],
      "execution_count": 82,
      "outputs": []
    },
    {
      "cell_type": "code",
      "metadata": {
        "id": "tVw6AHKmhOb5"
      },
      "source": [
        "from sklearn.linear_model import SGDClassifier"
      ],
      "execution_count": 92,
      "outputs": []
    },
    {
      "cell_type": "code",
      "metadata": {
        "id": "eSDX8wWPhwGC"
      },
      "source": [
        "def SGD(x_train,y_train,x_test):\r\n",
        "  clf = SGDClassifier(loss='log')\r\n",
        "  clf.fit(x_train, y_train)\r\n",
        "  y_pred=clf.predict(x_test)\r\n",
        "  return y_pred\r\n"
      ],
      "execution_count": 100,
      "outputs": []
    },
    {
      "cell_type": "code",
      "metadata": {
        "id": "kMGTNvx-iJbt"
      },
      "source": [
        "#iris\r\n",
        "y_pred1=SGD(X_train1,y_train1,X_test1)\r\n",
        "\r\n",
        "#データセット1\r\n",
        "y_pred2=SGD(X_train2,y_train2,X_test2)\r\n",
        "\r\n",
        "#データセット2\r\n",
        "y_pred3=SGD(X_train3,y_train3,X_test3)\r\n"
      ],
      "execution_count": 102,
      "outputs": []
    },
    {
      "cell_type": "code",
      "metadata": {
        "id": "6JvhM2eomWQH"
      },
      "source": [
        "#SVM"
      ],
      "execution_count": 103,
      "outputs": []
    },
    {
      "cell_type": "code",
      "metadata": {
        "id": "dYQx8ZN7s18V"
      },
      "source": [
        "from sklearn import svm\r\n",
        "def SVC(x_train,y_train,x_test):\r\n",
        "  clf = svm.SVC()\r\n",
        "  clf.fit(x_train, y_train)\r\n",
        "  y_pred=clf.predict(x_test)\r\n",
        "  return y_pred "
      ],
      "execution_count": 104,
      "outputs": []
    },
    {
      "cell_type": "code",
      "metadata": {
        "id": "vJXrrm3tv-Ha"
      },
      "source": [
        "#iris\r\n",
        "y_pred1=SVC(X_train1,y_train1,X_test1)\r\n",
        "\r\n",
        "#データセット1\r\n",
        "y_pred2=SVC(X_train2,y_train2,X_test2)\r\n",
        "\r\n",
        "#データセット2\r\n",
        "y_pred3=SVC(X_train3,y_train3,X_test3)"
      ],
      "execution_count": 107,
      "outputs": []
    },
    {
      "cell_type": "code",
      "metadata": {
        "id": "VyTGNx3xwCKp"
      },
      "source": [
        "#決定木"
      ],
      "execution_count": 108,
      "outputs": []
    },
    {
      "cell_type": "code",
      "metadata": {
        "id": "uNFu_SMWwKeg"
      },
      "source": [
        "from sklearn import tree\r\n",
        "\r\n",
        "def Tree(x_train,y_train,x_test):\r\n",
        "  tr = tree.DecisionTreeClassifier(max_depth=3)\r\n",
        "  tr.fit(x_train, y_train)\r\n",
        "  y_pred=tr.predict(x_test)\r\n",
        "  return y_pred"
      ],
      "execution_count": 113,
      "outputs": []
    },
    {
      "cell_type": "code",
      "metadata": {
        "id": "vA-07AcTwXqa"
      },
      "source": [
        "#iris\r\n",
        "y_pred1=Tree(X_train1,y_train1,X_test1)\r\n",
        "\r\n",
        "#データセット1\r\n",
        "y_pred2=Tree(X_train2,y_train2,X_test2)\r\n",
        "\r\n",
        "#データセット2\r\n",
        "y_pred3=Tree(X_train3,y_train3,X_test3)"
      ],
      "execution_count": 114,
      "outputs": []
    },
    {
      "cell_type": "code",
      "metadata": {
        "colab": {
          "base_uri": "https://localhost:8080/"
        },
        "id": "Jc4j-GJhwasF",
        "outputId": "5dc52d4c-cb6a-49e6-d42b-18e691f783fc"
      },
      "source": [
        "from google.colab import drive\r\n",
        "drive.mount('/content/drive')"
      ],
      "execution_count": 115,
      "outputs": [
        {
          "output_type": "stream",
          "text": [
            "Mounted at /content/drive\n"
          ],
          "name": "stdout"
        }
      ]
    },
    {
      "cell_type": "code",
      "metadata": {
        "colab": {
          "base_uri": "https://localhost:8080/"
        },
        "id": "W0w_ITl0w23O",
        "outputId": "28621d0a-1673-474a-9566-85c9bcfa9dca"
      },
      "source": [
        "import pandas as pd \r\n",
        "train= pd.read_csv('drive/My Drive/DIVE INTO CODE/0_課題/2_week3/授業前課題/data/train.csv',dtype = None)\r\n",
        "print(train)"
      ],
      "execution_count": 116,
      "outputs": [
        {
          "output_type": "stream",
          "text": [
            "        Id  MSSubClass MSZoning  ...  SaleType  SaleCondition SalePrice\n",
            "0        1          60       RL  ...        WD         Normal    208500\n",
            "1        2          20       RL  ...        WD         Normal    181500\n",
            "2        3          60       RL  ...        WD         Normal    223500\n",
            "3        4          70       RL  ...        WD        Abnorml    140000\n",
            "4        5          60       RL  ...        WD         Normal    250000\n",
            "...    ...         ...      ...  ...       ...            ...       ...\n",
            "1455  1456          60       RL  ...        WD         Normal    175000\n",
            "1456  1457          20       RL  ...        WD         Normal    210000\n",
            "1457  1458          70       RL  ...        WD         Normal    266500\n",
            "1458  1459          20       RL  ...        WD         Normal    142125\n",
            "1459  1460          20       RL  ...        WD         Normal    147500\n",
            "\n",
            "[1460 rows x 81 columns]\n"
          ],
          "name": "stdout"
        }
      ]
    },
    {
      "cell_type": "code",
      "metadata": {
        "id": "EfqOSX8Mw94N"
      },
      "source": [
        "x_1=train.loc[:,'GrLivArea']\r\n",
        "x_2=train.loc[:,'YearBuilt']\r\n",
        "\r\n",
        "x4=pd.concat([x_1,x_2],axis=1).values\r\n",
        "y4=train.loc[:,'SalePrice'].values"
      ],
      "execution_count": 120,
      "outputs": []
    },
    {
      "cell_type": "code",
      "metadata": {
        "id": "NWM2zP5ixAvx"
      },
      "source": [
        "X_train4,X_test4,y_train4,y_test4=scratch_train_test_split(x4,y4, train_size=0.8)"
      ],
      "execution_count": 121,
      "outputs": []
    },
    {
      "cell_type": "code",
      "metadata": {
        "id": "sQJLdlWaxMAk"
      },
      "source": [
        "#線形回帰\r\n",
        "y_pred4=SGD(X_train4,y_train4,X_test4)"
      ],
      "execution_count": 123,
      "outputs": []
    },
    {
      "cell_type": "code",
      "metadata": {
        "id": "ujphn_0fxayM"
      },
      "source": [
        ""
      ],
      "execution_count": null,
      "outputs": []
    }
  ]
}