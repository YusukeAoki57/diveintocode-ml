{
  "nbformat": 4,
  "nbformat_minor": 0,
  "metadata": {
    "colab": {
      "name": "week4_授業前課題3.ipynb",
      "provenance": [],
      "collapsed_sections": [],
      "authorship_tag": "ABX9TyNnoThdjngerqGm8/4nLYS9",
      "include_colab_link": true
    },
    "kernelspec": {
      "name": "python3",
      "display_name": "Python 3"
    }
  },
  "cells": [
    {
      "cell_type": "markdown",
      "metadata": {
        "id": "view-in-github",
        "colab_type": "text"
      },
      "source": [
        "<a href=\"https://colab.research.google.com/github/YusukeAoki57/diveintocode-ml/blob/master/week4_%E6%8E%88%E6%A5%AD%E5%89%8D%E8%AA%B2%E9%A1%8C3.ipynb\" target=\"_parent\"><img src=\"https://colab.research.google.com/assets/colab-badge.svg\" alt=\"Open In Colab\"/></a>"
      ]
    },
    {
      "cell_type": "code",
      "metadata": {
        "id": "kSbWhmPinkAy"
      },
      "source": [
        ""
      ],
      "execution_count": null,
      "outputs": []
    },
    {
      "cell_type": "markdown",
      "metadata": {
        "id": "Gdy_E8u3oEfd"
      },
      "source": [
        "問題1 これまで利用してきたクラスの列挙"
      ]
    },
    {
      "cell_type": "markdown",
      "metadata": {
        "id": "ZHg_3AihoNAf"
      },
      "source": [
        "Pandas : DataFrame\r\n",
        "matplotlib : Axes\r\n",
        "scikit-learn : LinearRegression "
      ]
    },
    {
      "cell_type": "markdown",
      "metadata": {
        "id": "jaAglppyqVb4"
      },
      "source": [
        "問題2 これまで利用してきたメソッドやインスタンス変数の列挙"
      ]
    },
    {
      "cell_type": "markdown",
      "metadata": {
        "id": "cf4CzMY0qdFd"
      },
      "source": [
        "メソッド：fit、predict、mean, var, values\r\n",
        "インスタンス変数：ロジスティック回帰のインスタンス変数、最近傍法の同変数、SVMの同変数、ランダムフォレストの同変数、線形回帰の同変数、決定木の同変数"
      ]
    },
    {
      "cell_type": "markdown",
      "metadata": {
        "id": "wPEiucOQrMrc"
      },
      "source": [
        "問題3 標準化クラスをスクラッチで作成"
      ]
    },
    {
      "cell_type": "code",
      "metadata": {
        "id": "qxf_NrBKqJQM"
      },
      "source": [
        "class ScratchStandardScaler():\r\n",
        "    \"\"\"\r\n",
        "    標準化のためのクラス\r\n",
        "    Attributes\r\n",
        "    ----------\r\n",
        "    mean_ : 次の形のndarray, shape(n_features,)\r\n",
        "        平均\r\n",
        "    var_ : 次の形のndarray, shape(n_features,)\r\n",
        "        分散\r\n",
        "    \"\"\"\r\n",
        "    def fit(self, X):\r\n",
        "        \"\"\"\r\n",
        "        標準化のために平均と標準偏差を計算する。\r\n",
        "        Parameters\r\n",
        "        ----------\r\n",
        "        X : 次の形のndarray, shape (n_samples, n_features)\r\n",
        "            訓練データ\r\n",
        "        \"\"\"\r\n",
        "        self.mean_ =np.mean(X,axis=0)\r\n",
        "        self.var_ =np.std(X,axis=0)\r\n",
        "        \r\n",
        "    def transform(self, X):\r\n",
        "        \"\"\"\r\n",
        "        fitで求めた値を使い標準化を行う。\r\n",
        "        Parameters\r\n",
        "        ----------\r\n",
        "        X : 次の形のndarray, shape (n_samples, n_features)\r\n",
        "            特徴量\r\n",
        "        Returns\r\n",
        "        ----------\r\n",
        "        X_scaled : 次の形のndarray, shape (n_samples, n_features)\r\n",
        "            標準化された特緒量\r\n",
        "        \"\"\"\r\n",
        "        X_scaled=(X-self.mean_)/self.var_\r\n",
        "        return X_scaled"
      ],
      "execution_count": 23,
      "outputs": []
    },
    {
      "cell_type": "code",
      "metadata": {
        "colab": {
          "base_uri": "https://localhost:8080/"
        },
        "id": "Yd6YLocutt4M",
        "outputId": "563a44c8-31c3-4c18-fb04-d02a10e62d0a"
      },
      "source": [
        "#挙動確認\r\n",
        "\r\n",
        "import numpy as np\r\n",
        "from sklearn.datasets import load_iris\r\n",
        "data = load_iris()\r\n",
        "X = data.data[:10]\r\n",
        "scratch_scaler = ScratchStandardScaler()\r\n",
        "scratch_scaler.fit(X)\r\n",
        "print(\"平均 : {}\".format(scratch_scaler.mean_))\r\n",
        "print(\"分散 : {}\".format(scratch_scaler.var_))\r\n",
        "X_std = scratch_scaler.transform(X)\r\n",
        "print(X_std)"
      ],
      "execution_count": 30,
      "outputs": [
        {
          "output_type": "stream",
          "text": [
            "平均 : [4.86 3.31 1.45 0.22]\n",
            "分散 : [0.2764055  0.29137605 0.10246951 0.07483315]\n",
            "[[ 0.86828953  0.65207831 -0.48795004 -0.26726124]\n",
            " [ 0.14471492 -1.06391725 -0.48795004 -0.26726124]\n",
            " [-0.57885968 -0.37751902 -1.46385011 -0.26726124]\n",
            " [-0.94064699 -0.72071813  0.48795004 -0.26726124]\n",
            " [ 0.50650222  0.99527742 -0.48795004 -0.26726124]\n",
            " [ 1.95365143  2.02487476  2.43975018  2.40535118]\n",
            " [-0.94064699  0.3088792  -0.48795004  1.06904497]\n",
            " [ 0.50650222  0.3088792   0.48795004 -0.26726124]\n",
            " [-1.66422159 -1.40711636 -0.48795004 -0.26726124]\n",
            " [ 0.14471492 -0.72071813  0.48795004 -1.60356745]]\n"
          ],
          "name": "stdout"
        }
      ]
    },
    {
      "cell_type": "markdown",
      "metadata": {
        "id": "BOvbcKXm0mP1"
      },
      "source": [
        "問題4 【問題4】 四則演算を行うクラスの作成"
      ]
    },
    {
      "cell_type": "code",
      "metadata": {
        "colab": {
          "base_uri": "https://localhost:8080/"
        },
        "id": "8Xik0Ia7yKv0",
        "outputId": "145729ec-44da-4462-cd74-1622703b9f45"
      },
      "source": [
        "import sys \r\n",
        "class CalcurateClass():\r\n",
        "    \"\"\"\r\n",
        "    説明用の簡単なクラス\r\n",
        "    Parameters\r\n",
        "    ----------\r\n",
        "    value : float or int\r\n",
        "        初期値\r\n",
        "    Attributes\r\n",
        "    ----------\r\n",
        "    value : float or int\r\n",
        "        計算結果\r\n",
        "    \"\"\"\r\n",
        "    def __init__(self, value):\r\n",
        "        try:\r\n",
        "          self.value = int(value)\r\n",
        "          print(\"初期値{}が設定されました\".format(self.value))\r\n",
        "        except ValueError:\r\n",
        "          print (\"エラー：数字以外の文字を入力しないでください。\")\r\n",
        "          sys.exit()\r\n",
        "\r\n",
        "    def add(self, value2):\r\n",
        "        \"\"\"\r\n",
        "        受け取った引数をself.valueに加える\r\n",
        "        \"\"\"\r\n",
        "        try:\r\n",
        "          self.value += int(value2)\r\n",
        "        except ValueError:\r\n",
        "          print (\"エラー：数字以外の文字を入力しないでください。\")\r\n",
        "          sys.exit()\r\n",
        "\r\n",
        "    def hikizan(self, value3):\r\n",
        "        \"\"\"\r\n",
        "        受け取った引数をself.valueに加える\r\n",
        "        \"\"\"\r\n",
        "        try:\r\n",
        "          self.value -= int(value3)\r\n",
        "        except ValueError:\r\n",
        "          print (\"エラー：数字以外の文字を入力しないでください。\")\r\n",
        "          sys.exit()\r\n",
        "\r\n",
        "\r\n",
        "    def kakezan(self, value4):\r\n",
        "        \"\"\"\r\n",
        "        受け取った引数をself.valueに加える\r\n",
        "        \"\"\"\r\n",
        "        try:\r\n",
        "          self.value *= int(value4)\r\n",
        "        except ValueError:\r\n",
        "          print (\"エラー：数字以外の文字を入力しないでください。\")\r\n",
        "          sys.exit()\r\n",
        "\r\n",
        "    def warizan(self, value5):\r\n",
        "        \"\"\"\r\n",
        "        受け取った引数をself.valueに加える\r\n",
        "        \"\"\"\r\n",
        "        try:\r\n",
        "          self.value /= int(value5)    \r\n",
        "        except ValueError:\r\n",
        "          print (\"エラー：数字以外の文字を入力しないでください。\")\r\n",
        "          sys.exit()\r\n",
        "example = CalcurateClass(5)\r\n",
        "print(\"value : {}\".format(example.value))\r\n",
        "example.add('3')\r\n",
        "print(\"value : {}\".format(example.value))\r\n",
        "example.hikizan('5')\r\n",
        "print(\"value : {}\".format(example.value))\r\n",
        "example.warizan('2')\r\n",
        "print(\"value : {}\".format(example.value))\r\n",
        "example.kakezan('2')\r\n",
        "print(\"value : {}\".format(example.value))"
      ],
      "execution_count": 16,
      "outputs": [
        {
          "output_type": "stream",
          "text": [
            "初期値5が設定されました\n",
            "value : 5\n",
            "value : 8\n",
            "value : 3\n",
            "value : 1.5\n",
            "value : 3.0\n"
          ],
          "name": "stdout"
        }
      ]
    },
    {
      "cell_type": "code",
      "metadata": {
        "id": "GWeOTpF_GafC"
      },
      "source": [
        ""
      ],
      "execution_count": null,
      "outputs": []
    }
  ]
}