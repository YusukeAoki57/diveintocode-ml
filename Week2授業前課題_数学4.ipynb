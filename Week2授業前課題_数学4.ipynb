{
  "nbformat": 4,
  "nbformat_minor": 0,
  "metadata": {
    "colab": {
      "name": "Week2授業前課題_数学4.ipynb",
      "provenance": [],
      "collapsed_sections": [],
      "authorship_tag": "ABX9TyMZn0OaYtWAjAGySURXHNP+",
      "include_colab_link": true
    },
    "kernelspec": {
      "name": "python3",
      "display_name": "Python 3"
    }
  },
  "cells": [
    {
      "cell_type": "markdown",
      "metadata": {
        "id": "view-in-github",
        "colab_type": "text"
      },
      "source": [
        "<a href=\"https://colab.research.google.com/github/YusukeAoki57/diveintocode-ml/blob/master/Week2%E6%8E%88%E6%A5%AD%E5%89%8D%E8%AA%B2%E9%A1%8C_%E6%95%B0%E5%AD%A64.ipynb\" target=\"_parent\"><img src=\"https://colab.research.google.com/assets/colab-badge.svg\" alt=\"Open In Colab\"/></a>"
      ]
    },
    {
      "cell_type": "markdown",
      "metadata": {
        "id": "9SL2DLFB8xpQ"
      },
      "source": [
        "問題1ダーツの的を選ぶ"
      ]
    },
    {
      "cell_type": "code",
      "metadata": {
        "id": "cd0rBpU0-kho"
      },
      "source": [
        "import numpy as np"
      ],
      "execution_count": null,
      "outputs": []
    },
    {
      "cell_type": "code",
      "metadata": {
        "id": "Bxkab_0F-lh0"
      },
      "source": [
        "def dice_random():\r\n",
        "  dice = list(range(1, 7))\r\n",
        "  random_choice=np.random.choice(dice)\r\n",
        "  return random_choice\r\n"
      ],
      "execution_count": null,
      "outputs": []
    },
    {
      "cell_type": "markdown",
      "metadata": {
        "id": "Hr28e-tZ-xp5"
      },
      "source": [
        "問題2 ダーツを投げて、刺さった場所を記録する"
      ]
    },
    {
      "cell_type": "code",
      "metadata": {
        "id": "Cwju_NIp-oHL"
      },
      "source": [
        "def record():\r\n",
        "  mean=dice_random()\r\n",
        "  cov=0.1\r\n",
        "  #mean2=([mean,0])\r\n",
        "  #cov2=([[0.1,1],\r\n",
        "  #   [1,0.1]])\r\n",
        "  #Multi_normal_dis=np.random.multivariate_normal(mean2,cov2,num)\r\n",
        "  x=np.random.normal(mean,cov,1)\r\n",
        "  y=np.random.normal(0,cov,1)\r\n",
        "  #a=0\r\n",
        "  #x=Multi_normal_dis[:,a]\r\n",
        "  #b=1\r\n",
        "  #=Multi_normal_dis[:,b]\r\n",
        "  #一つの配列にする\r\n",
        "  z=[]\r\n",
        "  z.append(x[0])\r\n",
        "  z.append(y[0])\r\n",
        "  return (z,mean)"
      ],
      "execution_count": null,
      "outputs": []
    },
    {
      "cell_type": "markdown",
      "metadata": {
        "id": "1AxfWz3rluDU"
      },
      "source": [
        "問題3 ダーツをたくさん投げて、まとの番号と紐付けた状態で記録する"
      ]
    },
    {
      "cell_type": "code",
      "metadata": {
        "id": "p00g1X4Z_oyi",
        "colab": {
          "base_uri": "https://localhost:8080/"
        },
        "outputId": "06ab5df4-9d91-4da4-f27e-9f5f24e8f4cb"
      },
      "source": [
        "def dic_record(num=1000):\r\n",
        "  #num=1000\r\n",
        "  z2=[]\r\n",
        "  dice_num=[1,2,3,4,5,6]\r\n",
        "  dice = list(range(1, 7))\r\n",
        "  dic={}\r\n",
        "  for i in range(num):\r\n",
        "    #上記関数を呼び出し\r\n",
        "    z2,choice=record()\r\n",
        "    #辞書に記録\r\n",
        "    if choice==dice_num[0]:\r\n",
        "      key=dice_num[0]\r\n",
        "      if key not in dic:\r\n",
        "        dic[key]=[]\r\n",
        "      dic[key].append(z2)\r\n",
        "    elif choice==dice_num[1]:\r\n",
        "      key=dice_num[1]\r\n",
        "      if key not in dic:\r\n",
        "        dic[key]=[]\r\n",
        "      dic[key].append(z2) \r\n",
        "    elif choice==dice_num[2]:\r\n",
        "      key=dice_num[2]\r\n",
        "      if key not in dic:\r\n",
        "        dic[key]=[]\r\n",
        "      dic[key].append(z2) \r\n",
        "    elif choice==dice_num[3]:\r\n",
        "      key=dice_num[3]\r\n",
        "      if key not in dic:\r\n",
        "        dic[key]=[]\r\n",
        "      dic[key].append(z2) \r\n",
        "    elif choice==dice_num[4]:\r\n",
        "      key=dice_num[4]\r\n",
        "      if key not in dic:\r\n",
        "        dic[key]=[]\r\n",
        "      dic[key].append(z2) \r\n",
        "    elif choice==dice_num[5]:\r\n",
        "      key=dice_num[5]\r\n",
        "      if key not in dic:\r\n",
        "        dic[key]=[]\r\n",
        "      dic[key].append(z2) \r\n",
        "\r\n",
        "  return dic\r\n",
        "print(dic_record(3))"
      ],
      "execution_count": null,
      "outputs": [
        {
          "output_type": "stream",
          "text": [
            "{6: [[5.856706008361739, 0.06755497662165995]], 5: [[5.045791962833505, -0.14681401682492687]], 1: [[0.964432533127985, -0.003436133845108609]]}\n"
          ],
          "name": "stdout"
        }
      ]
    },
    {
      "cell_type": "markdown",
      "metadata": {
        "id": "dlgWGuKJATyV"
      },
      "source": [
        "問題4 ダーツのまとと刺さった位置を描画する"
      ]
    },
    {
      "cell_type": "code",
      "metadata": {
        "colab": {
          "base_uri": "https://localhost:8080/",
          "height": 286
        },
        "id": "MP_uaR2ypzLn",
        "outputId": "f7b623c7-0540-48d0-ff88-5b59a25f0801"
      },
      "source": [
        "import numpy as np\r\n",
        "import matplotlib.path as mpath\r\n",
        "import matplotlib.patches as mpatches\r\n",
        "import matplotlib.pyplot as plt\r\n",
        "\r\n",
        "num=1000\r\n",
        "\r\n",
        "dice1=dic_record(num).get(1)\r\n",
        "dice2=dic_record(num).get(2)\r\n",
        "dice3=dic_record(num).get(3)\r\n",
        "dice4=dic_record(num).get(4)\r\n",
        "dice5=dic_record(num).get(5)\r\n",
        "dice6=dic_record(num).get(6)\r\n",
        "x1=[]\r\n",
        "y1=[]\r\n",
        "x2=[]\r\n",
        "y2=[]\r\n",
        "x3=[]\r\n",
        "y3=[]\r\n",
        "x4=[]\r\n",
        "y4=[]\r\n",
        "x5=[]\r\n",
        "y5=[]\r\n",
        "x6=[]\r\n",
        "y6=[]\r\n",
        "for i in range(len(dice1)):\r\n",
        "  x1.append(dice1[i][0])\r\n",
        "  y1.append(dice1[i][1])\r\n",
        "for i in range(len(dice2)):\r\n",
        "  x2.append(dice2[i][0])\r\n",
        "  y2.append(dice2[i][1])\r\n",
        "for i in range(len(dice3)):\r\n",
        "  x3.append(dice3[i][0])\r\n",
        "  y3.append(dice3[i][1])\r\n",
        "for i in range(len(dice4)):\r\n",
        "  x4.append(dice4[i][0])\r\n",
        "  y4.append(dice4[i][1])\r\n",
        "for i in range(len(dice5)):\r\n",
        "  x5.append(dice5[i][0])\r\n",
        "  y5.append(dice5[i][1])\r\n",
        "for i in range(len(dice6)):\r\n",
        "  x6.append(dice6[i][0])\r\n",
        "  y6.append(dice6[i][1])\r\n",
        "\r\n",
        "\r\n",
        "#グラフを描画\r\n",
        "plt.xlim(1,6)\r\n",
        "plt.ylim(-1,1)\r\n",
        "plt.scatter(x1,y1,label=\"1\")\r\n",
        "plt.scatter(x2,y2,label=\"2\")\r\n",
        "plt.scatter(x3,y3,label=\"3\")\r\n",
        "plt.scatter(x4,y4,label=\"4\")\r\n",
        "plt.scatter(x5,y5,label=\"5\")\r\n",
        "plt.scatter(x6,y6,label=\"6\")\r\n",
        "plt.legend()\r\n"
      ],
      "execution_count": null,
      "outputs": [
        {
          "output_type": "execute_result",
          "data": {
            "text/plain": [
              "<matplotlib.legend.Legend at 0x7f53e8696438>"
            ]
          },
          "metadata": {
            "tags": []
          },
          "execution_count": 193
        },
        {
          "output_type": "display_data",
          "data": {
            "image/png": "[encoded data removed]",
            "text/plain": [
              "<Figure size 432x288 with 1 Axes>"
            ]
          },
          "metadata": {
            "tags": [],
            "needs_background": "light"
          }
        }
      ]
    },
    {
      "cell_type": "code",
      "metadata": {
        "id": "4Xe3KHCjB87_",
        "colab": {
          "base_uri": "https://localhost:8080/",
          "height": 160
        },
        "outputId": "319c29fb-e371-4139-aff7-693408e9ccea"
      },
      "source": [
        "import numpy as np\r\n",
        "import matplotlib.path as mpath\r\n",
        "import matplotlib.patches as mpatches\r\n",
        "import matplotlib.pyplot as plt\r\n",
        "\r\n",
        "def wise(v):\r\n",
        "    if v == 1:\r\n",
        "        return \"CCW\"\r\n",
        "    else:\r\n",
        "        return \"CW\"\r\n",
        "\r\n",
        "\r\n",
        "def make_circle(r):\r\n",
        "    t = np.arange(0, np.pi * 2.0, 0.01)\r\n",
        "    t = t.reshape((len(t), 1))\r\n",
        "    x = r * np.cos(t)\r\n",
        "    y = r * np.sin(t)\r\n",
        "    return np.hstack((x, y))\r\n",
        "\r\n",
        "Path = mpath.Path\r\n",
        "\r\n",
        "fig, ax = plt.subplots()\r\n",
        "\r\n",
        "inside_vertices = make_circle(0.25)\r\n",
        "outside_vertices = make_circle(0.5)\r\n",
        "dice_1 = ax.scatter(x1,y1)\r\n",
        "dice_2=ax.scatter(x2,y2)\r\n",
        "dice_3=ax.scatter(x3,y3)\r\n",
        "dice_3=ax.scatter(x4,y4)\r\n",
        "dice_3=ax.scatter(x5,y5)\r\n",
        "dice_3=ax.scatter(x6,y6)\r\n",
        "codes = np.ones(\r\n",
        "    len(inside_vertices), dtype=mpath.Path.code_type) * mpath.Path.LINETO\r\n",
        "codes[0] = mpath.Path.MOVETO\r\n",
        "for i, (inside, outside) in enumerate(((1, 1), (1, -1), (-1, 1), (-1, -1),(1,1),(1,1))):\r\n",
        "    # Concatenate the inside and outside subpaths together, changing their\r\n",
        "    # order as needed\r\n",
        "    vertices = np.concatenate((outside_vertices[::outside],\r\n",
        "                               inside_vertices[::inside]))\r\n",
        "    #print(vertices)\r\n",
        "    # Shift the path\r\n",
        "    vertices[:, 0] += i * 1.0+1\r\n",
        "    # The codes will be all \"LINETO\" commands, except for \"MOVETO\"s at the\r\n",
        "    # beginning of each subpath\r\n",
        "    all_codes = np.concatenate((codes, codes))\r\n",
        "    #print(all_codes)\r\n",
        "    # Create the Path object\r\n",
        "    path = mpath.Path(vertices, all_codes)\r\n",
        "    # Add plot it\r\n",
        "    patch = mpatches.PathPatch(path, facecolor='none', edgecolor='blue')\r\n",
        "    ax.add_patch(patch)\r\n",
        "\r\n",
        "    #散布図を描画\r\n",
        "    #e = mpatches.Circle((.75,.75),radius=.25,fc='none')\r\n",
        "    #ax.add_patch(dice_1)\r\n",
        "    #dice_1.set_clip_path(e)\r\n",
        "\r\n",
        "\r\n",
        "    #ax.annotate(\"Outside %s,\\nInside %s\" % (wise(outside), wise(inside)),\r\n",
        "            #    (i * 2.5, -1.5), va=\"top\", ha=\"center\")\r\n",
        "\r\n",
        "ax.set_xlim(0, 7)\r\n",
        "ax.set_ylim(-1, 1)\r\n",
        "ax.set_title('test')\r\n",
        "ax.set_aspect(1.0)\r\n",
        "plt.show()\r\n",
        "\r\n",
        "\r\n"
      ],
      "execution_count": null,
      "outputs": [
        {
          "output_type": "display_data",
          "data": {
            "image/png": "[encoded data removed]",
            "text/plain": [
              "<Figure size 432x288 with 1 Axes>"
            ]
          },
          "metadata": {
            "tags": [],
            "needs_background": "light"
          }
        }
      ]
    },
    {
      "cell_type": "markdown",
      "metadata": {
        "id": "euXAaCtzGHtj"
      },
      "source": [
        "問題5 関数化"
      ]
    },
    {
      "cell_type": "code",
      "metadata": {
        "id": "ZRy8C_bmG6TS"
      },
      "source": [
        "#上記問題4の関数化は未実装"
      ],
      "execution_count": null,
      "outputs": []
    },
    {
      "cell_type": "code",
      "metadata": {
        "id": "5LNFR6iDte3x"
      },
      "source": [
        ""
      ],
      "execution_count": null,
      "outputs": []
    }
  ]
}