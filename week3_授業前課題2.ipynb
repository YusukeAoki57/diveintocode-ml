{
  "nbformat": 4,
  "nbformat_minor": 0,
  "metadata": {
    "colab": {
      "name": "week3_授業前課題2.ipynb",
      "provenance": [],
      "collapsed_sections": [],
      "authorship_tag": "ABX9TyPVje3+9G55uB/VSShb9tZN",
      "include_colab_link": true
    },
    "kernelspec": {
      "name": "python3",
      "display_name": "Python 3"
    }
  },
  "cells": [
    {
      "cell_type": "markdown",
      "metadata": {
        "id": "view-in-github",
        "colab_type": "text"
      },
      "source": [
        "<a href=\"https://colab.research.google.com/github/YusukeAoki57/diveintocode-ml/blob/master/week3_%E6%8E%88%E6%A5%AD%E5%89%8D%E8%AA%B2%E9%A1%8C2.ipynb\" target=\"_parent\"><img src=\"https://colab.research.google.com/assets/colab-badge.svg\" alt=\"Open In Colab\"/></a>"
      ]
    },
    {
      "cell_type": "code",
      "metadata": {
        "colab": {
          "base_uri": "https://localhost:8080/"
        },
        "id": "PkYrUmTdrKyg",
        "outputId": "95e316a4-ad67-475c-f7bd-b478e8abc583"
      },
      "source": [
        "from google.colab import drive\r\n",
        "drive.mount('/content/drive')"
      ],
      "execution_count": 2,
      "outputs": [
        {
          "output_type": "stream",
          "text": [
            "Mounted at /content/drive\n"
          ],
          "name": "stdout"
        }
      ]
    },
    {
      "cell_type": "code",
      "metadata": {
        "id": "NbSqb8CVtGJH"
      },
      "source": [
        "import numpy as np"
      ],
      "execution_count": 26,
      "outputs": []
    },
    {
      "cell_type": "markdown",
      "metadata": {
        "id": "vCh7RsxuuRra"
      },
      "source": [
        "問題1 データセットの取得"
      ]
    },
    {
      "cell_type": "code",
      "metadata": {
        "colab": {
          "base_uri": "https://localhost:8080/"
        },
        "id": "Bva7NfQTtPS0",
        "outputId": "15e053a3-e7d4-406b-ed17-5ed89153b219"
      },
      "source": [
        "import pandas as pd \r\n",
        "train= pd.read_csv('drive/My Drive/DIVE INTO CODE/0_課題/2_week3/授業前課題/data/train.csv',dtype = None)\r\n",
        "print(train)"
      ],
      "execution_count": 27,
      "outputs": [
        {
          "output_type": "stream",
          "text": [
            "        Id  MSSubClass MSZoning  ...  SaleType  SaleCondition SalePrice\n",
            "0        1          60       RL  ...        WD         Normal    208500\n",
            "1        2          20       RL  ...        WD         Normal    181500\n",
            "2        3          60       RL  ...        WD         Normal    223500\n",
            "3        4          70       RL  ...        WD        Abnorml    140000\n",
            "4        5          60       RL  ...        WD         Normal    250000\n",
            "...    ...         ...      ...  ...       ...            ...       ...\n",
            "1455  1456          60       RL  ...        WD         Normal    175000\n",
            "1456  1457          20       RL  ...        WD         Normal    210000\n",
            "1457  1458          70       RL  ...        WD         Normal    266500\n",
            "1458  1459          20       RL  ...        WD         Normal    142125\n",
            "1459  1460          20       RL  ...        WD         Normal    147500\n",
            "\n",
            "[1460 rows x 81 columns]\n"
          ],
          "name": "stdout"
        }
      ]
    },
    {
      "cell_type": "markdown",
      "metadata": {
        "id": "glOWrFV7uY_R"
      },
      "source": [
        "問題2 データセット自体の調査"
      ]
    },
    {
      "cell_type": "code",
      "metadata": {
        "id": "TgN-8U2ztogN"
      },
      "source": [
        "#記載予定"
      ],
      "execution_count": 28,
      "outputs": []
    },
    {
      "cell_type": "markdown",
      "metadata": {
        "id": "jRuMSiOivvoF"
      },
      "source": [
        "問題3 データの確認"
      ]
    },
    {
      "cell_type": "code",
      "metadata": {
        "colab": {
          "base_uri": "https://localhost:8080/",
          "height": 832
        },
        "id": "mGNhyhSsvuZ1",
        "outputId": "8ae9fb36-de1f-4428-da68-fa334c412bb3"
      },
      "source": [
        "#各特徴量の確認 \r\n",
        "print(train.columns)\r\n",
        "\r\n",
        "#目的変数の確認 目的変数とそれ以外に分類\r\n",
        "train_x = train.drop('SalePrice',axis=1)\r\n",
        "train_y = train[\"SalePrice\"]\r\n",
        "print(train_y)\r\n",
        "\r\n",
        "#特徴量の平均値と標準偏差、四分位数を一度に表示させる\r\n",
        "train.describe()\r\n",
        "\r\n"
      ],
      "execution_count": 29,
      "outputs": [
        {
          "output_type": "stream",
          "text": [
            "Index(['Id', 'MSSubClass', 'MSZoning', 'LotFrontage', 'LotArea', 'Street',\n",
            "       'Alley', 'LotShape', 'LandContour', 'Utilities', 'LotConfig',\n",
            "       'LandSlope', 'Neighborhood', 'Condition1', 'Condition2', 'BldgType',\n",
            "       'HouseStyle', 'OverallQual', 'OverallCond', 'YearBuilt', 'YearRemodAdd',\n",
            "       'RoofStyle', 'RoofMatl', 'Exterior1st', 'Exterior2nd', 'MasVnrType',\n",
            "       'MasVnrArea', 'ExterQual', 'ExterCond', 'Foundation', 'BsmtQual',\n",
            "       'BsmtCond', 'BsmtExposure', 'BsmtFinType1', 'BsmtFinSF1',\n",
            "       'BsmtFinType2', 'BsmtFinSF2', 'BsmtUnfSF', 'TotalBsmtSF', 'Heating',\n",
            "       'HeatingQC', 'CentralAir', 'Electrical', '1stFlrSF', '2ndFlrSF',\n",
            "       'LowQualFinSF', 'GrLivArea', 'BsmtFullBath', 'BsmtHalfBath', 'FullBath',\n",
            "       'HalfBath', 'BedroomAbvGr', 'KitchenAbvGr', 'KitchenQual',\n",
            "       'TotRmsAbvGrd', 'Functional', 'Fireplaces', 'FireplaceQu', 'GarageType',\n",
            "       'GarageYrBlt', 'GarageFinish', 'GarageCars', 'GarageArea', 'GarageQual',\n",
            "       'GarageCond', 'PavedDrive', 'WoodDeckSF', 'OpenPorchSF',\n",
            "       'EnclosedPorch', '3SsnPorch', 'ScreenPorch', 'PoolArea', 'PoolQC',\n",
            "       'Fence', 'MiscFeature', 'MiscVal', 'MoSold', 'YrSold', 'SaleType',\n",
            "       'SaleCondition', 'SalePrice'],\n",
            "      dtype='object')\n",
            "0       208500\n",
            "1       181500\n",
            "2       223500\n",
            "3       140000\n",
            "4       250000\n",
            "         ...  \n",
            "1455    175000\n",
            "1456    210000\n",
            "1457    266500\n",
            "1458    142125\n",
            "1459    147500\n",
            "Name: SalePrice, Length: 1460, dtype: int64\n"
          ],
          "name": "stdout"
        },
        {
          "output_type": "execute_result",
          "data": {
            "text/html": [
              "<div>\n",
              "<style scoped>\n",
              "    .dataframe tbody tr th:only-of-type {\n",
              "        vertical-align: middle;\n",
              "    }\n",
              "\n",
              "    .dataframe tbody tr th {\n",
              "        vertical-align: top;\n",
              "    }\n",
              "\n",
              "    .dataframe thead th {\n",
              "        text-align: right;\n",
              "    }\n",
              "</style>\n",
              "<table border=\"1\" class=\"dataframe\">\n",
              "  <thead>\n",
              "    <tr style=\"text-align: right;\">\n",
              "      <th></th>\n",
              "      <th>Id</th>\n",
              "      <th>MSSubClass</th>\n",
              "      <th>LotFrontage</th>\n",
              "      <th>LotArea</th>\n",
              "      <th>OverallQual</th>\n",
              "      <th>OverallCond</th>\n",
              "      <th>YearBuilt</th>\n",
              "      <th>YearRemodAdd</th>\n",
              "      <th>MasVnrArea</th>\n",
              "      <th>BsmtFinSF1</th>\n",
              "      <th>BsmtFinSF2</th>\n",
              "      <th>BsmtUnfSF</th>\n",
              "      <th>TotalBsmtSF</th>\n",
              "      <th>1stFlrSF</th>\n",
              "      <th>2ndFlrSF</th>\n",
              "      <th>LowQualFinSF</th>\n",
              "      <th>GrLivArea</th>\n",
              "      <th>BsmtFullBath</th>\n",
              "      <th>BsmtHalfBath</th>\n",
              "      <th>FullBath</th>\n",
              "      <th>HalfBath</th>\n",
              "      <th>BedroomAbvGr</th>\n",
              "      <th>KitchenAbvGr</th>\n",
              "      <th>TotRmsAbvGrd</th>\n",
              "      <th>Fireplaces</th>\n",
              "      <th>GarageYrBlt</th>\n",
              "      <th>GarageCars</th>\n",
              "      <th>GarageArea</th>\n",
              "      <th>WoodDeckSF</th>\n",
              "      <th>OpenPorchSF</th>\n",
              "      <th>EnclosedPorch</th>\n",
              "      <th>3SsnPorch</th>\n",
              "      <th>ScreenPorch</th>\n",
              "      <th>PoolArea</th>\n",
              "      <th>MiscVal</th>\n",
              "      <th>MoSold</th>\n",
              "      <th>YrSold</th>\n",
              "      <th>SalePrice</th>\n",
              "    </tr>\n",
              "  </thead>\n",
              "  <tbody>\n",
              "    <tr>\n",
              "      <th>count</th>\n",
              "      <td>1460.000000</td>\n",
              "      <td>1460.000000</td>\n",
              "      <td>1201.000000</td>\n",
              "      <td>1460.000000</td>\n",
              "      <td>1460.000000</td>\n",
              "      <td>1460.000000</td>\n",
              "      <td>1460.000000</td>\n",
              "      <td>1460.000000</td>\n",
              "      <td>1452.000000</td>\n",
              "      <td>1460.000000</td>\n",
              "      <td>1460.000000</td>\n",
              "      <td>1460.000000</td>\n",
              "      <td>1460.000000</td>\n",
              "      <td>1460.000000</td>\n",
              "      <td>1460.000000</td>\n",
              "      <td>1460.000000</td>\n",
              "      <td>1460.000000</td>\n",
              "      <td>1460.000000</td>\n",
              "      <td>1460.000000</td>\n",
              "      <td>1460.000000</td>\n",
              "      <td>1460.000000</td>\n",
              "      <td>1460.000000</td>\n",
              "      <td>1460.000000</td>\n",
              "      <td>1460.000000</td>\n",
              "      <td>1460.000000</td>\n",
              "      <td>1379.000000</td>\n",
              "      <td>1460.000000</td>\n",
              "      <td>1460.000000</td>\n",
              "      <td>1460.000000</td>\n",
              "      <td>1460.000000</td>\n",
              "      <td>1460.000000</td>\n",
              "      <td>1460.000000</td>\n",
              "      <td>1460.000000</td>\n",
              "      <td>1460.000000</td>\n",
              "      <td>1460.000000</td>\n",
              "      <td>1460.000000</td>\n",
              "      <td>1460.000000</td>\n",
              "      <td>1460.000000</td>\n",
              "    </tr>\n",
              "    <tr>\n",
              "      <th>mean</th>\n",
              "      <td>730.500000</td>\n",
              "      <td>56.897260</td>\n",
              "      <td>70.049958</td>\n",
              "      <td>10516.828082</td>\n",
              "      <td>6.099315</td>\n",
              "      <td>5.575342</td>\n",
              "      <td>1971.267808</td>\n",
              "      <td>1984.865753</td>\n",
              "      <td>103.685262</td>\n",
              "      <td>443.639726</td>\n",
              "      <td>46.549315</td>\n",
              "      <td>567.240411</td>\n",
              "      <td>1057.429452</td>\n",
              "      <td>1162.626712</td>\n",
              "      <td>346.992466</td>\n",
              "      <td>5.844521</td>\n",
              "      <td>1515.463699</td>\n",
              "      <td>0.425342</td>\n",
              "      <td>0.057534</td>\n",
              "      <td>1.565068</td>\n",
              "      <td>0.382877</td>\n",
              "      <td>2.866438</td>\n",
              "      <td>1.046575</td>\n",
              "      <td>6.517808</td>\n",
              "      <td>0.613014</td>\n",
              "      <td>1978.506164</td>\n",
              "      <td>1.767123</td>\n",
              "      <td>472.980137</td>\n",
              "      <td>94.244521</td>\n",
              "      <td>46.660274</td>\n",
              "      <td>21.954110</td>\n",
              "      <td>3.409589</td>\n",
              "      <td>15.060959</td>\n",
              "      <td>2.758904</td>\n",
              "      <td>43.489041</td>\n",
              "      <td>6.321918</td>\n",
              "      <td>2007.815753</td>\n",
              "      <td>180921.195890</td>\n",
              "    </tr>\n",
              "    <tr>\n",
              "      <th>std</th>\n",
              "      <td>421.610009</td>\n",
              "      <td>42.300571</td>\n",
              "      <td>24.284752</td>\n",
              "      <td>9981.264932</td>\n",
              "      <td>1.382997</td>\n",
              "      <td>1.112799</td>\n",
              "      <td>30.202904</td>\n",
              "      <td>20.645407</td>\n",
              "      <td>181.066207</td>\n",
              "      <td>456.098091</td>\n",
              "      <td>161.319273</td>\n",
              "      <td>441.866955</td>\n",
              "      <td>438.705324</td>\n",
              "      <td>386.587738</td>\n",
              "      <td>436.528436</td>\n",
              "      <td>48.623081</td>\n",
              "      <td>525.480383</td>\n",
              "      <td>0.518911</td>\n",
              "      <td>0.238753</td>\n",
              "      <td>0.550916</td>\n",
              "      <td>0.502885</td>\n",
              "      <td>0.815778</td>\n",
              "      <td>0.220338</td>\n",
              "      <td>1.625393</td>\n",
              "      <td>0.644666</td>\n",
              "      <td>24.689725</td>\n",
              "      <td>0.747315</td>\n",
              "      <td>213.804841</td>\n",
              "      <td>125.338794</td>\n",
              "      <td>66.256028</td>\n",
              "      <td>61.119149</td>\n",
              "      <td>29.317331</td>\n",
              "      <td>55.757415</td>\n",
              "      <td>40.177307</td>\n",
              "      <td>496.123024</td>\n",
              "      <td>2.703626</td>\n",
              "      <td>1.328095</td>\n",
              "      <td>79442.502883</td>\n",
              "    </tr>\n",
              "    <tr>\n",
              "      <th>min</th>\n",
              "      <td>1.000000</td>\n",
              "      <td>20.000000</td>\n",
              "      <td>21.000000</td>\n",
              "      <td>1300.000000</td>\n",
              "      <td>1.000000</td>\n",
              "      <td>1.000000</td>\n",
              "      <td>1872.000000</td>\n",
              "      <td>1950.000000</td>\n",
              "      <td>0.000000</td>\n",
              "      <td>0.000000</td>\n",
              "      <td>0.000000</td>\n",
              "      <td>0.000000</td>\n",
              "      <td>0.000000</td>\n",
              "      <td>334.000000</td>\n",
              "      <td>0.000000</td>\n",
              "      <td>0.000000</td>\n",
              "      <td>334.000000</td>\n",
              "      <td>0.000000</td>\n",
              "      <td>0.000000</td>\n",
              "      <td>0.000000</td>\n",
              "      <td>0.000000</td>\n",
              "      <td>0.000000</td>\n",
              "      <td>0.000000</td>\n",
              "      <td>2.000000</td>\n",
              "      <td>0.000000</td>\n",
              "      <td>1900.000000</td>\n",
              "      <td>0.000000</td>\n",
              "      <td>0.000000</td>\n",
              "      <td>0.000000</td>\n",
              "      <td>0.000000</td>\n",
              "      <td>0.000000</td>\n",
              "      <td>0.000000</td>\n",
              "      <td>0.000000</td>\n",
              "      <td>0.000000</td>\n",
              "      <td>0.000000</td>\n",
              "      <td>1.000000</td>\n",
              "      <td>2006.000000</td>\n",
              "      <td>34900.000000</td>\n",
              "    </tr>\n",
              "    <tr>\n",
              "      <th>25%</th>\n",
              "      <td>365.750000</td>\n",
              "      <td>20.000000</td>\n",
              "      <td>59.000000</td>\n",
              "      <td>7553.500000</td>\n",
              "      <td>5.000000</td>\n",
              "      <td>5.000000</td>\n",
              "      <td>1954.000000</td>\n",
              "      <td>1967.000000</td>\n",
              "      <td>0.000000</td>\n",
              "      <td>0.000000</td>\n",
              "      <td>0.000000</td>\n",
              "      <td>223.000000</td>\n",
              "      <td>795.750000</td>\n",
              "      <td>882.000000</td>\n",
              "      <td>0.000000</td>\n",
              "      <td>0.000000</td>\n",
              "      <td>1129.500000</td>\n",
              "      <td>0.000000</td>\n",
              "      <td>0.000000</td>\n",
              "      <td>1.000000</td>\n",
              "      <td>0.000000</td>\n",
              "      <td>2.000000</td>\n",
              "      <td>1.000000</td>\n",
              "      <td>5.000000</td>\n",
              "      <td>0.000000</td>\n",
              "      <td>1961.000000</td>\n",
              "      <td>1.000000</td>\n",
              "      <td>334.500000</td>\n",
              "      <td>0.000000</td>\n",
              "      <td>0.000000</td>\n",
              "      <td>0.000000</td>\n",
              "      <td>0.000000</td>\n",
              "      <td>0.000000</td>\n",
              "      <td>0.000000</td>\n",
              "      <td>0.000000</td>\n",
              "      <td>5.000000</td>\n",
              "      <td>2007.000000</td>\n",
              "      <td>129975.000000</td>\n",
              "    </tr>\n",
              "    <tr>\n",
              "      <th>50%</th>\n",
              "      <td>730.500000</td>\n",
              "      <td>50.000000</td>\n",
              "      <td>69.000000</td>\n",
              "      <td>9478.500000</td>\n",
              "      <td>6.000000</td>\n",
              "      <td>5.000000</td>\n",
              "      <td>1973.000000</td>\n",
              "      <td>1994.000000</td>\n",
              "      <td>0.000000</td>\n",
              "      <td>383.500000</td>\n",
              "      <td>0.000000</td>\n",
              "      <td>477.500000</td>\n",
              "      <td>991.500000</td>\n",
              "      <td>1087.000000</td>\n",
              "      <td>0.000000</td>\n",
              "      <td>0.000000</td>\n",
              "      <td>1464.000000</td>\n",
              "      <td>0.000000</td>\n",
              "      <td>0.000000</td>\n",
              "      <td>2.000000</td>\n",
              "      <td>0.000000</td>\n",
              "      <td>3.000000</td>\n",
              "      <td>1.000000</td>\n",
              "      <td>6.000000</td>\n",
              "      <td>1.000000</td>\n",
              "      <td>1980.000000</td>\n",
              "      <td>2.000000</td>\n",
              "      <td>480.000000</td>\n",
              "      <td>0.000000</td>\n",
              "      <td>25.000000</td>\n",
              "      <td>0.000000</td>\n",
              "      <td>0.000000</td>\n",
              "      <td>0.000000</td>\n",
              "      <td>0.000000</td>\n",
              "      <td>0.000000</td>\n",
              "      <td>6.000000</td>\n",
              "      <td>2008.000000</td>\n",
              "      <td>163000.000000</td>\n",
              "    </tr>\n",
              "    <tr>\n",
              "      <th>75%</th>\n",
              "      <td>1095.250000</td>\n",
              "      <td>70.000000</td>\n",
              "      <td>80.000000</td>\n",
              "      <td>11601.500000</td>\n",
              "      <td>7.000000</td>\n",
              "      <td>6.000000</td>\n",
              "      <td>2000.000000</td>\n",
              "      <td>2004.000000</td>\n",
              "      <td>166.000000</td>\n",
              "      <td>712.250000</td>\n",
              "      <td>0.000000</td>\n",
              "      <td>808.000000</td>\n",
              "      <td>1298.250000</td>\n",
              "      <td>1391.250000</td>\n",
              "      <td>728.000000</td>\n",
              "      <td>0.000000</td>\n",
              "      <td>1776.750000</td>\n",
              "      <td>1.000000</td>\n",
              "      <td>0.000000</td>\n",
              "      <td>2.000000</td>\n",
              "      <td>1.000000</td>\n",
              "      <td>3.000000</td>\n",
              "      <td>1.000000</td>\n",
              "      <td>7.000000</td>\n",
              "      <td>1.000000</td>\n",
              "      <td>2002.000000</td>\n",
              "      <td>2.000000</td>\n",
              "      <td>576.000000</td>\n",
              "      <td>168.000000</td>\n",
              "      <td>68.000000</td>\n",
              "      <td>0.000000</td>\n",
              "      <td>0.000000</td>\n",
              "      <td>0.000000</td>\n",
              "      <td>0.000000</td>\n",
              "      <td>0.000000</td>\n",
              "      <td>8.000000</td>\n",
              "      <td>2009.000000</td>\n",
              "      <td>214000.000000</td>\n",
              "    </tr>\n",
              "    <tr>\n",
              "      <th>max</th>\n",
              "      <td>1460.000000</td>\n",
              "      <td>190.000000</td>\n",
              "      <td>313.000000</td>\n",
              "      <td>215245.000000</td>\n",
              "      <td>10.000000</td>\n",
              "      <td>9.000000</td>\n",
              "      <td>2010.000000</td>\n",
              "      <td>2010.000000</td>\n",
              "      <td>1600.000000</td>\n",
              "      <td>5644.000000</td>\n",
              "      <td>1474.000000</td>\n",
              "      <td>2336.000000</td>\n",
              "      <td>6110.000000</td>\n",
              "      <td>4692.000000</td>\n",
              "      <td>2065.000000</td>\n",
              "      <td>572.000000</td>\n",
              "      <td>5642.000000</td>\n",
              "      <td>3.000000</td>\n",
              "      <td>2.000000</td>\n",
              "      <td>3.000000</td>\n",
              "      <td>2.000000</td>\n",
              "      <td>8.000000</td>\n",
              "      <td>3.000000</td>\n",
              "      <td>14.000000</td>\n",
              "      <td>3.000000</td>\n",
              "      <td>2010.000000</td>\n",
              "      <td>4.000000</td>\n",
              "      <td>1418.000000</td>\n",
              "      <td>857.000000</td>\n",
              "      <td>547.000000</td>\n",
              "      <td>552.000000</td>\n",
              "      <td>508.000000</td>\n",
              "      <td>480.000000</td>\n",
              "      <td>738.000000</td>\n",
              "      <td>15500.000000</td>\n",
              "      <td>12.000000</td>\n",
              "      <td>2010.000000</td>\n",
              "      <td>755000.000000</td>\n",
              "    </tr>\n",
              "  </tbody>\n",
              "</table>\n",
              "</div>"
            ],
            "text/plain": [
              "                Id   MSSubClass  ...       YrSold      SalePrice\n",
              "count  1460.000000  1460.000000  ...  1460.000000    1460.000000\n",
              "mean    730.500000    56.897260  ...  2007.815753  180921.195890\n",
              "std     421.610009    42.300571  ...     1.328095   79442.502883\n",
              "min       1.000000    20.000000  ...  2006.000000   34900.000000\n",
              "25%     365.750000    20.000000  ...  2007.000000  129975.000000\n",
              "50%     730.500000    50.000000  ...  2008.000000  163000.000000\n",
              "75%    1095.250000    70.000000  ...  2009.000000  214000.000000\n",
              "max    1460.000000   190.000000  ...  2010.000000  755000.000000\n",
              "\n",
              "[8 rows x 38 columns]"
            ]
          },
          "metadata": {
            "tags": []
          },
          "execution_count": 29
        }
      ]
    },
    {
      "cell_type": "markdown",
      "metadata": {
        "id": "jzy5V_gj2bnQ"
      },
      "source": [
        "問題4 欠損値への対応"
      ]
    },
    {
      "cell_type": "code",
      "metadata": {
        "id": "svpvLieTwVXa"
      },
      "source": [
        "import missingno as msno"
      ],
      "execution_count": 30,
      "outputs": []
    },
    {
      "cell_type": "code",
      "metadata": {
        "colab": {
          "base_uri": "https://localhost:8080/",
          "height": 584
        },
        "id": "Q2PrEbJ024o7",
        "outputId": "c43c9df4-4f25-4f9b-ec43-fc68aaff9479"
      },
      "source": [
        "msno.bar(train);"
      ],
      "execution_count": 31,
      "outputs": [
        {
          "output_type": "display_data",
          "data": {
            "image/png": "[encoded data removed]",
            "text/plain": [
              "<Figure size 1728x720 with 2 Axes>"
            ]
          },
          "metadata": {
            "tags": [],
            "needs_background": "light"
          }
        }
      ]
    },
    {
      "cell_type": "code",
      "metadata": {
        "colab": {
          "base_uri": "https://localhost:8080/",
          "height": 610
        },
        "id": "BTUaWhD12-xF",
        "outputId": "bc75f1e6-ec29-42a2-d482-eefc3f4e0973"
      },
      "source": [
        "def null_check(train):\r\n",
        "    in_t=[]\r\n",
        "    total=[]\r\n",
        "    missing_ratio=[]\r\n",
        "    for i in train.columns:\r\n",
        "      in_t.append(i)\r\n",
        "      total.append(train[i].isnull().sum())\r\n",
        "      missing_ratio.append(train[i].isnull().sum()/len(train)*100)\r\n",
        "    matrix=np.array([total,missing_ratio]).T\r\n",
        "    col=['total','missing_ratio']\r\n",
        "    df = pd.DataFrame(matrix,columns=col, index=in_t)\r\n",
        "    df1=df[df.total>0]\r\n",
        "    return df1\r\n",
        "null_check(train)"
      ],
      "execution_count": 9,
      "outputs": [
        {
          "output_type": "execute_result",
          "data": {
            "text/html": [
              "<div>\n",
              "<style scoped>\n",
              "    .dataframe tbody tr th:only-of-type {\n",
              "        vertical-align: middle;\n",
              "    }\n",
              "\n",
              "    .dataframe tbody tr th {\n",
              "        vertical-align: top;\n",
              "    }\n",
              "\n",
              "    .dataframe thead th {\n",
              "        text-align: right;\n",
              "    }\n",
              "</style>\n",
              "<table border=\"1\" class=\"dataframe\">\n",
              "  <thead>\n",
              "    <tr style=\"text-align: right;\">\n",
              "      <th></th>\n",
              "      <th>total</th>\n",
              "      <th>missing_ratio</th>\n",
              "    </tr>\n",
              "  </thead>\n",
              "  <tbody>\n",
              "    <tr>\n",
              "      <th>LotFrontage</th>\n",
              "      <td>259.0</td>\n",
              "      <td>17.739726</td>\n",
              "    </tr>\n",
              "    <tr>\n",
              "      <th>Alley</th>\n",
              "      <td>1369.0</td>\n",
              "      <td>93.767123</td>\n",
              "    </tr>\n",
              "    <tr>\n",
              "      <th>MasVnrType</th>\n",
              "      <td>8.0</td>\n",
              "      <td>0.547945</td>\n",
              "    </tr>\n",
              "    <tr>\n",
              "      <th>MasVnrArea</th>\n",
              "      <td>8.0</td>\n",
              "      <td>0.547945</td>\n",
              "    </tr>\n",
              "    <tr>\n",
              "      <th>BsmtQual</th>\n",
              "      <td>37.0</td>\n",
              "      <td>2.534247</td>\n",
              "    </tr>\n",
              "    <tr>\n",
              "      <th>BsmtCond</th>\n",
              "      <td>37.0</td>\n",
              "      <td>2.534247</td>\n",
              "    </tr>\n",
              "    <tr>\n",
              "      <th>BsmtExposure</th>\n",
              "      <td>38.0</td>\n",
              "      <td>2.602740</td>\n",
              "    </tr>\n",
              "    <tr>\n",
              "      <th>BsmtFinType1</th>\n",
              "      <td>37.0</td>\n",
              "      <td>2.534247</td>\n",
              "    </tr>\n",
              "    <tr>\n",
              "      <th>BsmtFinType2</th>\n",
              "      <td>38.0</td>\n",
              "      <td>2.602740</td>\n",
              "    </tr>\n",
              "    <tr>\n",
              "      <th>Electrical</th>\n",
              "      <td>1.0</td>\n",
              "      <td>0.068493</td>\n",
              "    </tr>\n",
              "    <tr>\n",
              "      <th>FireplaceQu</th>\n",
              "      <td>690.0</td>\n",
              "      <td>47.260274</td>\n",
              "    </tr>\n",
              "    <tr>\n",
              "      <th>GarageType</th>\n",
              "      <td>81.0</td>\n",
              "      <td>5.547945</td>\n",
              "    </tr>\n",
              "    <tr>\n",
              "      <th>GarageYrBlt</th>\n",
              "      <td>81.0</td>\n",
              "      <td>5.547945</td>\n",
              "    </tr>\n",
              "    <tr>\n",
              "      <th>GarageFinish</th>\n",
              "      <td>81.0</td>\n",
              "      <td>5.547945</td>\n",
              "    </tr>\n",
              "    <tr>\n",
              "      <th>GarageQual</th>\n",
              "      <td>81.0</td>\n",
              "      <td>5.547945</td>\n",
              "    </tr>\n",
              "    <tr>\n",
              "      <th>GarageCond</th>\n",
              "      <td>81.0</td>\n",
              "      <td>5.547945</td>\n",
              "    </tr>\n",
              "    <tr>\n",
              "      <th>PoolQC</th>\n",
              "      <td>1453.0</td>\n",
              "      <td>99.520548</td>\n",
              "    </tr>\n",
              "    <tr>\n",
              "      <th>Fence</th>\n",
              "      <td>1179.0</td>\n",
              "      <td>80.753425</td>\n",
              "    </tr>\n",
              "    <tr>\n",
              "      <th>MiscFeature</th>\n",
              "      <td>1406.0</td>\n",
              "      <td>96.301370</td>\n",
              "    </tr>\n",
              "  </tbody>\n",
              "</table>\n",
              "</div>"
            ],
            "text/plain": [
              "               total  missing_ratio\n",
              "LotFrontage    259.0      17.739726\n",
              "Alley         1369.0      93.767123\n",
              "MasVnrType       8.0       0.547945\n",
              "MasVnrArea       8.0       0.547945\n",
              "BsmtQual        37.0       2.534247\n",
              "BsmtCond        37.0       2.534247\n",
              "BsmtExposure    38.0       2.602740\n",
              "BsmtFinType1    37.0       2.534247\n",
              "BsmtFinType2    38.0       2.602740\n",
              "Electrical       1.0       0.068493\n",
              "FireplaceQu    690.0      47.260274\n",
              "GarageType      81.0       5.547945\n",
              "GarageYrBlt     81.0       5.547945\n",
              "GarageFinish    81.0       5.547945\n",
              "GarageQual      81.0       5.547945\n",
              "GarageCond      81.0       5.547945\n",
              "PoolQC        1453.0      99.520548\n",
              "Fence         1179.0      80.753425\n",
              "MiscFeature   1406.0      96.301370"
            ]
          },
          "metadata": {
            "tags": []
          },
          "execution_count": 9
        }
      ]
    },
    {
      "cell_type": "code",
      "metadata": {
        "id": "HY1hQGvt4GJz",
        "colab": {
          "base_uri": "https://localhost:8080/"
        },
        "outputId": "188b4677-42b8-4d44-9ace-bf96f358cd54"
      },
      "source": [
        "#5つ以上欠損値がある特徴量（列）は削除\r\n",
        "train2=train.dropna(thresh=1455, axis=1)\r\n",
        "#欠損値があるサンプル（行）は削除する\r\n",
        "train3=train2.dropna(how='any',axis=1)\r\n",
        "print(train3.shape)"
      ],
      "execution_count": 10,
      "outputs": [
        {
          "output_type": "stream",
          "text": [
            "(1460, 62)\n"
          ],
          "name": "stdout"
        }
      ]
    },
    {
      "cell_type": "code",
      "metadata": {
        "colab": {
          "base_uri": "https://localhost:8080/",
          "height": 47
        },
        "id": "YpXzt4VnxBG3",
        "outputId": "0cd3c8c7-4e62-4b1e-9d8d-d67d01bca32b"
      },
      "source": [
        "#欠損値が削除できているか確認\r\n",
        "null_check(train3)"
      ],
      "execution_count": 11,
      "outputs": [
        {
          "output_type": "execute_result",
          "data": {
            "text/html": [
              "<div>\n",
              "<style scoped>\n",
              "    .dataframe tbody tr th:only-of-type {\n",
              "        vertical-align: middle;\n",
              "    }\n",
              "\n",
              "    .dataframe tbody tr th {\n",
              "        vertical-align: top;\n",
              "    }\n",
              "\n",
              "    .dataframe thead th {\n",
              "        text-align: right;\n",
              "    }\n",
              "</style>\n",
              "<table border=\"1\" class=\"dataframe\">\n",
              "  <thead>\n",
              "    <tr style=\"text-align: right;\">\n",
              "      <th></th>\n",
              "      <th>total</th>\n",
              "      <th>missing_ratio</th>\n",
              "    </tr>\n",
              "  </thead>\n",
              "  <tbody>\n",
              "  </tbody>\n",
              "</table>\n",
              "</div>"
            ],
            "text/plain": [
              "Empty DataFrame\n",
              "Columns: [total, missing_ratio]\n",
              "Index: []"
            ]
          },
          "metadata": {
            "tags": []
          },
          "execution_count": 11
        }
      ]
    },
    {
      "cell_type": "markdown",
      "metadata": {
        "id": "OgRqnghczr9d"
      },
      "source": [
        "問題5 用語の調査"
      ]
    },
    {
      "cell_type": "code",
      "metadata": {
        "colab": {
          "base_uri": "https://localhost:8080/",
          "height": 35
        },
        "id": "8VQjxmT3xYcd",
        "outputId": "731c2939-3ec9-4eb4-a649-1f74c72e93f6"
      },
      "source": [
        "\"\"\"\r\n",
        "尖度=分布の尖り度合いを示すもの。尖度が大きいほど尖った分布をしている\r\n",
        "歪度=分布が正規分布からどれだけ歪んでいるかを表す統計量で、左右対称性を示す指標のこと\r\n",
        "\"\"\""
      ],
      "execution_count": 12,
      "outputs": [
        {
          "output_type": "execute_result",
          "data": {
            "application/vnd.google.colaboratory.intrinsic+json": {
              "type": "string"
            },
            "text/plain": [
              "'\\n尖度=分布の尖り度合いを示すもの。尖度が大きいほど尖った分布をしている\\n歪度=分布が正規分布からどれだけ歪んでいるかを表す統計量で、左右対称性を示す指標のこと\\n'"
            ]
          },
          "metadata": {
            "tags": []
          },
          "execution_count": 12
        }
      ]
    },
    {
      "cell_type": "markdown",
      "metadata": {
        "id": "FvD5-f-y0QZq"
      },
      "source": [
        "問題6 分布の確認"
      ]
    },
    {
      "cell_type": "code",
      "metadata": {
        "colab": {
          "base_uri": "https://localhost:8080/",
          "height": 381
        },
        "id": "aZ0xnoVL0NQr",
        "outputId": "4ee5016d-348e-4e4e-b4f7-84da992fedcb"
      },
      "source": [
        "#seabornのsns.distplot()を使い目的変数の分布を表示し、「尖度」と「歪度」も算出する\r\n",
        "import seaborn as ns\r\n",
        "ns.distplot(train3['SalePrice'])\r\n",
        "\r\n",
        "\r\n",
        "#尖度・歪度\r\n",
        "var='SalePrice'\r\n",
        "print(\"Skewness :\", train3[var].skew()) #歪度\r\n",
        "print(\"Kurtosis :\", train3[var].kurt()) #尖度"
      ],
      "execution_count": 13,
      "outputs": [
        {
          "output_type": "stream",
          "text": [
            "Skewness : 1.8828757597682129\n",
            "Kurtosis : 6.536281860064529\n"
          ],
          "name": "stdout"
        },
        {
          "output_type": "stream",
          "text": [
            "/usr/local/lib/python3.6/dist-packages/seaborn/distributions.py:2557: FutureWarning: `distplot` is a deprecated function and will be removed in a future version. Please adapt your code to use either `displot` (a figure-level function with similar flexibility) or `histplot` (an axes-level function for histograms).\n",
            "  warnings.warn(msg, FutureWarning)\n"
          ],
          "name": "stderr"
        },
        {
          "output_type": "display_data",
          "data": {
            "image/png": "[encoded data removed]",
            "text/plain": [
              "<Figure size 432x288 with 1 Axes>"
            ]
          },
          "metadata": {
            "tags": [],
            "needs_background": "light"
          }
        }
      ]
    },
    {
      "cell_type": "code",
      "metadata": {
        "colab": {
          "base_uri": "https://localhost:8080/",
          "height": 355
        },
        "id": "OV-M1GxV1D-M",
        "outputId": "21b3c8ce-43a6-49be-ef96-0bf0669e21a8"
      },
      "source": [
        "#対数変換\r\n",
        "train_y=train3['SalePrice'].values\r\n",
        "\r\n",
        "change=np.log(train_y)#対数変換\r\n",
        "\r\n",
        "ns.distplot(change)\r\n",
        "\r\n",
        "import scipy\r\n",
        "\r\n",
        "skew = scipy.stats.skew(change)\r\n",
        "# 尖度\r\n",
        "kurtosis = scipy.stats.kurtosis(change)\r\n",
        "\r\n",
        "\r\n",
        "print(\"Skewness :\", skew) #歪度\r\n",
        "print(\"Kurtosis :\", kurtosis) #尖度\r\n",
        "\r\n",
        "#対数変換後は正規分布に沿う形になり、歪度が減少している\r\n"
      ],
      "execution_count": 14,
      "outputs": [
        {
          "output_type": "stream",
          "text": [
            "/usr/local/lib/python3.6/dist-packages/seaborn/distributions.py:2557: FutureWarning: `distplot` is a deprecated function and will be removed in a future version. Please adapt your code to use either `displot` (a figure-level function with similar flexibility) or `histplot` (an axes-level function for histograms).\n",
            "  warnings.warn(msg, FutureWarning)\n"
          ],
          "name": "stderr"
        },
        {
          "output_type": "stream",
          "text": [
            "Skewness : 0.1212103673013655\n",
            "Kurtosis : 0.8026555069117713\n"
          ],
          "name": "stdout"
        },
        {
          "output_type": "display_data",
          "data": {
            "image/png": "[encoded data removed]",
            "text/plain": [
              "<Figure size 432x288 with 1 Axes>"
            ]
          },
          "metadata": {
            "tags": [],
            "needs_background": "light"
          }
        }
      ]
    },
    {
      "cell_type": "markdown",
      "metadata": {
        "id": "JNyFJdO437_K"
      },
      "source": [
        "問題7 相関係数の確認"
      ]
    },
    {
      "cell_type": "code",
      "metadata": {
        "colab": {
          "base_uri": "https://localhost:8080/",
          "height": 353
        },
        "id": "ROEHerR_22zx",
        "outputId": "f600ab77-a9fc-4b3f-86a6-9937afd058c7"
      },
      "source": [
        "#相関係数行列\r\n",
        "cor=train3.corr()\r\n",
        "#print(cor)\r\n",
        "\r\n",
        "#ヒートマップ\r\n",
        "ns.heatmap(cor,\r\n",
        "            square=True,\r\n",
        "            xticklabels=cor.columns.values,\r\n",
        "            yticklabels=cor.columns.values)"
      ],
      "execution_count": 15,
      "outputs": [
        {
          "output_type": "execute_result",
          "data": {
            "text/plain": [
              "<matplotlib.axes._subplots.AxesSubplot at 0x7f5eda6a4400>"
            ]
          },
          "metadata": {
            "tags": []
          },
          "execution_count": 15
        },
        {
          "output_type": "display_data",
          "data": {
            "image/png": "[encoded data removed]",
            "text/plain": [
              "<Figure size 432x288 with 2 Axes>"
            ]
          },
          "metadata": {
            "tags": [],
            "needs_background": "light"
          }
        }
      ]
    },
    {
      "cell_type": "code",
      "metadata": {
        "colab": {
          "base_uri": "https://localhost:8080/",
          "height": 1000
        },
        "id": "5XbD8ZNF4rdR",
        "outputId": "4f65f752-642a-4a8c-975f-4b8697c8b34d"
      },
      "source": [
        "#yとの相関\r\n",
        "corr_y = pd.DataFrame({\"corr_y\":cor['SalePrice']},index=None)  #corでは文字列の列は削除されている\r\n",
        "#corr_y = corr_y.reset_index(drop=True)\r\n",
        "#print(corr_y)\r\n",
        "\r\n",
        "#±0.5以上の特徴量を抽出→10個\r\n",
        "select_cols = corr_y[corr_y[\"corr_y\"].abs()>0.5]\r\n",
        "print(select_cols)\r\n",
        "\r\n",
        "#相関が±0.5以上のヒートマップ\r\n",
        "ns.heatmap(select_cols,\r\n",
        "            square=True,\r\n",
        "            xticklabels=select_cols.columns.values,\r\n",
        "            yticklabels=select_cols.index.values)\r\n"
      ],
      "execution_count": 62,
      "outputs": [
        {
          "output_type": "stream",
          "text": [
            "                 corr_y\n",
            "Id            -0.021917\n",
            "MSSubClass    -0.084284\n",
            "LotArea        0.263843\n",
            "OverallQual    0.790982\n",
            "OverallCond   -0.077856\n",
            "YearBuilt      0.522897\n",
            "YearRemodAdd   0.507101\n",
            "BsmtFinSF1     0.386420\n",
            "BsmtFinSF2    -0.011378\n",
            "BsmtUnfSF      0.214479\n",
            "TotalBsmtSF    0.613581\n",
            "1stFlrSF       0.605852\n",
            "2ndFlrSF       0.319334\n",
            "LowQualFinSF  -0.025606\n",
            "GrLivArea      0.708624\n",
            "BsmtFullBath   0.227122\n",
            "BsmtHalfBath  -0.016844\n",
            "FullBath       0.560664\n",
            "HalfBath       0.284108\n",
            "BedroomAbvGr   0.168213\n",
            "KitchenAbvGr  -0.135907\n",
            "TotRmsAbvGrd   0.533723\n",
            "Fireplaces     0.466929\n",
            "GarageCars     0.640409\n",
            "GarageArea     0.623431\n",
            "WoodDeckSF     0.324413\n",
            "OpenPorchSF    0.315856\n",
            "EnclosedPorch -0.128578\n",
            "3SsnPorch      0.044584\n",
            "ScreenPorch    0.111447\n",
            "PoolArea       0.092404\n",
            "MiscVal       -0.021190\n",
            "MoSold         0.046432\n",
            "YrSold        -0.028923\n",
            "SalePrice      1.000000\n",
            "                corr_y\n",
            "OverallQual   0.790982\n",
            "YearBuilt     0.522897\n",
            "YearRemodAdd  0.507101\n",
            "TotalBsmtSF   0.613581\n",
            "1stFlrSF      0.605852\n",
            "GrLivArea     0.708624\n",
            "FullBath      0.560664\n",
            "TotRmsAbvGrd  0.533723\n",
            "GarageCars    0.640409\n",
            "GarageArea    0.623431\n",
            "SalePrice     1.000000\n"
          ],
          "name": "stdout"
        },
        {
          "output_type": "execute_result",
          "data": {
            "text/plain": [
              "<matplotlib.axes._subplots.AxesSubplot at 0x7f5ed2229be0>"
            ]
          },
          "metadata": {
            "tags": []
          },
          "execution_count": 62
        },
        {
          "output_type": "display_data",
          "data": {
            "image/png": "[encoded data removed]",
            "text/plain": [
              "<Figure size 432x288 with 2 Axes>"
            ]
          },
          "metadata": {
            "tags": [],
            "needs_background": "light"
          }
        }
      ]
    },
    {
      "cell_type": "code",
      "metadata": {
        "colab": {
          "base_uri": "https://localhost:8080/",
          "height": 70
        },
        "id": "ioM1XDQa6e7k",
        "outputId": "1468d27f-036e-46d9-b83f-b6f474fa165c"
      },
      "source": [
        "#10個の特徴量が何を表しているかの記述\r\n",
        "\"\"\"\r\n",
        "OverallQual   家に備わる諸々の素材と仕上げの全体的な具合\r\n",
        "YearBuilt     建築完了日\r\n",
        "YearRemodAdd  リモデルの完了日\r\n",
        "TotalBsmtSF   基本エリアの平方フィート\r\n",
        "1stFlrSF      1Fの平方フィート\r\n",
        "GrLivArea     地上の住居エリアの平方フィート\r\n",
        "FullBath      バスルームのグレード\r\n",
        "TotRmsAbvGrd  全部屋のグレード\r\n",
        "GarageCars    ガレージのキャパシティ（車庫）\r\n",
        "GarageArea    ガレージの平方フィート\r\n",
        "\"\"\""
      ],
      "execution_count": 51,
      "outputs": [
        {
          "output_type": "execute_result",
          "data": {
            "application/vnd.google.colaboratory.intrinsic+json": {
              "type": "string"
            },
            "text/plain": [
              "'\\nOverallQual   家に備わる諸々の素材と仕上げの全体的な具合\\nYearBuilt     建築完了日\\nYearRemodAdd  リモデルの完了日\\nTotalBsmtSF   基本エリアの平方フィート\\n1stFlrSF      1Fの平方フィート\\nGrLivArea     地上の住居エリアの平方フィート\\nFullBath      バスルームのグレード\\nTotRmsAbvGrd  全部屋のグレード\\nGarageCars    ガレージのキャパシティ（車庫）\\nGarageArea    ガレージの平方フィート\\n'"
            ]
          },
          "metadata": {
            "tags": []
          },
          "execution_count": 51
        }
      ]
    },
    {
      "cell_type": "code",
      "metadata": {
        "colab": {
          "base_uri": "https://localhost:8080/",
          "height": 581
        },
        "id": "jW3dJ7mW-JNg",
        "outputId": "c90f855a-a0cd-472f-81be-128228e178db"
      },
      "source": [
        "#選んだ10個の特徴量の中でお互いの相関係数が高い組み合わせを3つ探し出す\r\n",
        "\r\n",
        "new=pd.DataFrame({\"OverallQual\":cor['OverallQual'],\"YearBuilt\":cor['YearBuilt'],\"YearRemodAdd\":cor['YearRemodAdd'],\"TotalBsmtSF\":cor['TotalBsmtSF'],\r\n",
        "                  \"1stFlrSF\":cor['1stFlrSF'],\"GrLivArea\":cor['GrLivArea'],\"FullBath\":cor['FullBath'],\"TotRmsAbvGrd\":cor['TotRmsAbvGrd']\r\n",
        "                  ,\"GarageCars\":cor['GarageCars'],\"GarageArea\":cor['GarageArea']},\r\n",
        "                 #以下は行\r\n",
        "                 {\"OverallQual\":cor['OverallQual'],\"YearBuilt\":cor['YearBuilt'],\"YearRemodAdd\":cor['YearRemodAdd'],\"TotalBsmtSF\":cor['TotalBsmtSF'],\r\n",
        "                  \"1stFlrSF\":cor['1stFlrSF'],\"GrLivArea\":cor['GrLivArea'],\"FullBath\":cor['FullBath'],\"TotRmsAbvGrd\":cor['TotRmsAbvGrd']\r\n",
        "                  ,\"GarageCars\":cor['GarageCars'],\"GarageArea\":cor['GarageArea']})\r\n",
        "print(new)\r\n",
        "\r\n",
        "\r\n",
        "#ヒートマップ\r\n",
        "ns.heatmap(new,annot=True,fmt='.2f',cmap='Blues',\r\n",
        "            square=True,\r\n",
        "            xticklabels=new.columns.values,\r\n",
        "            yticklabels=new.index.values)\r\n",
        "\r\n",
        "#相関の高い組み合わせを3つ抽出\r\n",
        "\"\"\"\r\n",
        "1位　GarageAreaとGarageCars：0.88\r\n",
        "2位　TotRmsAbvGrdとGrLivArea:0.83\r\n",
        "3位　TotalBsmtSFと1stFlrSF :0.82"
      ],
      "execution_count": 67,
      "outputs": [
        {
          "output_type": "stream",
          "text": [
            "              OverallQual  YearBuilt  ...  GarageCars  GarageArea\n",
            "OverallQual      1.000000   0.572323  ...    0.600671    0.562022\n",
            "YearBuilt        0.572323   1.000000  ...    0.537850    0.478954\n",
            "YearRemodAdd     0.550684   0.592855  ...    0.420622    0.371600\n",
            "TotalBsmtSF      0.537808   0.391452  ...    0.434585    0.486665\n",
            "1stFlrSF         0.476224   0.281986  ...    0.439317    0.489782\n",
            "GrLivArea        0.593007   0.199010  ...    0.467247    0.468997\n",
            "FullBath         0.550600   0.468271  ...    0.469672    0.405656\n",
            "TotRmsAbvGrd     0.427452   0.095589  ...    0.362289    0.337822\n",
            "GarageCars       0.600671   0.537850  ...    1.000000    0.882475\n",
            "GarageArea       0.562022   0.478954  ...    0.882475    1.000000\n",
            "\n",
            "[10 rows x 10 columns]\n"
          ],
          "name": "stdout"
        },
        {
          "output_type": "execute_result",
          "data": {
            "text/plain": [
              "<matplotlib.axes._subplots.AxesSubplot at 0x7f5ed256ebe0>"
            ]
          },
          "metadata": {
            "tags": []
          },
          "execution_count": 67
        },
        {
          "output_type": "display_data",
          "data": {
            "image/png": "[encoded data removed]",
            "text/plain": [
              "<Figure size 432x288 with 2 Axes>"
            ]
          },
          "metadata": {
            "tags": [],
            "needs_background": "light"
          }
        }
      ]
    },
    {
      "cell_type": "code",
      "metadata": {
        "id": "GjbyVkNl-Xpe"
      },
      "source": [
        ""
      ],
      "execution_count": null,
      "outputs": []
    }
  ]
}