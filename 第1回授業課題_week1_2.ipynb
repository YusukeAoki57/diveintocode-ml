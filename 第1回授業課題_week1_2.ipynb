{
  "nbformat": 4,
  "nbformat_minor": 0,
  "metadata": {
    "colab": {
      "name": "第1回授業課題_week1_2.ipynb",
      "provenance": [],
      "collapsed_sections": [],
      "authorship_tag": "ABX9TyP2kxaPloG9XOG4ouMNFYZc",
      "include_colab_link": true
    },
    "kernelspec": {
      "name": "python3",
      "display_name": "Python 3"
    }
  },
  "cells": [
    {
      "cell_type": "markdown",
      "metadata": {
        "id": "view-in-github",
        "colab_type": "text"
      },
      "source": [
        "<a href=\"https://colab.research.google.com/github/YusukeAoki57/diveintocode-ml/blob/master/%E7%AC%AC1%E5%9B%9E%E6%8E%88%E6%A5%AD%E8%AA%B2%E9%A1%8C_week1_2.ipynb\" target=\"_parent\"><img src=\"https://colab.research.google.com/assets/colab-badge.svg\" alt=\"Open In Colab\"/></a>"
      ]
    },
    {
      "cell_type": "markdown",
      "metadata": {
        "id": "2Yq28lMGkmoQ"
      },
      "source": [
        "問題1　富士山を超える最小の折る回数"
      ]
    },
    {
      "cell_type": "code",
      "metadata": {
        "id": "O7NdRIIbkkr6"
      },
      "source": [
        "THICKNESS=0.00008"
      ],
      "execution_count": null,
      "outputs": []
    },
    {
      "cell_type": "code",
      "metadata": {
        "id": "aE9qVK7AX90Y"
      },
      "source": [
        "FUJI_HIGHT=3376"
      ],
      "execution_count": null,
      "outputs": []
    },
    {
      "cell_type": "code",
      "metadata": {
        "id": "vANdoeZoX1F3"
      },
      "source": [
        "list=[THICKNESS]"
      ],
      "execution_count": null,
      "outputs": []
    },
    {
      "cell_type": "code",
      "metadata": {
        "id": "o_4cNC1XZO_m"
      },
      "source": [
        "num=[0]"
      ],
      "execution_count": null,
      "outputs": []
    },
    {
      "cell_type": "code",
      "metadata": {
        "id": "FZzbFd9-Yc_k"
      },
      "source": [
        "paper_hight=THICKNESS"
      ],
      "execution_count": null,
      "outputs": []
    },
    {
      "cell_type": "code",
      "metadata": {
        "id": "qUf1RqfKIL1o"
      },
      "source": [
        "count=0"
      ],
      "execution_count": null,
      "outputs": []
    },
    {
      "cell_type": "code",
      "metadata": {
        "colab": {
          "base_uri": "https://localhost:8080/"
        },
        "id": "wmfdPoeDX8F3",
        "outputId": "14eb3f02-3782-4c90-f37e-287066fc2674"
      },
      "source": [
        "while FUJI_HIGHT>list[-1]:\r\n",
        "  paper_hight=paper_hight*2\r\n",
        "  count =count+1\r\n",
        "  list.append(paper_hight)\r\n",
        "  num.append(count)\r\n",
        "\r\n",
        "\r\n",
        "print('{}回紙を追った時に{}mとなり、富士山の高さを超える'.format(num[-1],list[-1]))\r\n"
      ],
      "execution_count": null,
      "outputs": [
        {
          "output_type": "stream",
          "text": [
            "26回紙を追った時に5368.70912mとなり、富士山の高さを超える\n"
          ],
          "name": "stdout"
        }
      ]
    },
    {
      "cell_type": "code",
      "metadata": {
        "id": "f0IJ9z0sYsh8"
      },
      "source": [
        ""
      ],
      "execution_count": null,
      "outputs": []
    },
    {
      "cell_type": "markdown",
      "metadata": {
        "id": "aTIpRNT8dIPn"
      },
      "source": [
        "問題2 任意の厚さに対応した関数を作成 "
      ]
    },
    {
      "cell_type": "code",
      "metadata": {
        "colab": {
          "base_uri": "https://localhost:8080/"
        },
        "id": "szIOgc6-dKyv",
        "outputId": "5506dff7-2257-42ff-c04c-49eedfd73bf6"
      },
      "source": [
        "def compute_distance(distance, thickness):\r\n",
        "  list=[thickness]\r\n",
        "  paper_hight=thickness\r\n",
        "  num=[]\r\n",
        "  count=0\r\n",
        "  while distance>list[-1]:\r\n",
        "    paper_hight=paper_hight*2\r\n",
        "    count =count+1\r\n",
        "    list.append(paper_hight)\r\n",
        "    num.append(count)\r\n",
        "  return num[-1],list[-1]\r\n",
        "\r\n",
        "\r\n",
        "thickness=0.00008\r\n",
        "\r\n",
        "distance=3776 #富士山までの距離\r\n",
        "num1,hight1=compute_distance(distance,thickness)\r\n",
        "print('{}回紙を追った時に{}mとなり、富士山の高さを超える'.format(num1,hight1))\r\n",
        "\r\n",
        "moon_distance=384400000\r\n",
        "num2,hight2=compute_distance(moon_distance,thickness)\r\n",
        "print('{}回紙を追った時に{}mとなり、月の高さを超える'.format(num2,hight2))\r\n",
        "\r\n",
        "\r\n"
      ],
      "execution_count": null,
      "outputs": [
        {
          "output_type": "stream",
          "text": [
            "26回紙を追った時に5368.70912mとなり、富士山の高さを超える\n",
            "43回紙を追った時に703687441.77664mとなり、月の高さを超える\n"
          ],
          "name": "stdout"
        }
      ]
    },
    {
      "cell_type": "code",
      "metadata": {
        "id": "t76O4iLxdv-I"
      },
      "source": [
        ""
      ],
      "execution_count": null,
      "outputs": []
    },
    {
      "cell_type": "markdown",
      "metadata": {
        "id": "cIv8U5g0V1uK"
      },
      "source": [
        "問題3 必要な紙の長さ"
      ]
    },
    {
      "cell_type": "markdown",
      "metadata": {
        "id": "cQXV02SxekRB"
      },
      "source": [
        "**問題3　必要な紙の長さ**"
      ]
    },
    {
      "cell_type": "code",
      "metadata": {
        "id": "UEpIjumoWjJU"
      },
      "source": [
        "import math"
      ],
      "execution_count": null,
      "outputs": []
    },
    {
      "cell_type": "code",
      "metadata": {
        "colab": {
          "base_uri": "https://localhost:8080/"
        },
        "id": "I2Wth0r5eoHQ",
        "outputId": "b3dd5dad-70c8-4e22-e021-779708011709"
      },
      "source": [
        "def need_leng(distance, thickness):\r\n",
        "  list=[thickness]\r\n",
        "  paper_hight=thickness\r\n",
        "  num=[]\r\n",
        "  count=0\r\n",
        "  while distance>list[-1]:\r\n",
        "    paper_hight=paper_hight*2\r\n",
        "    count =count+1\r\n",
        "    list.append(paper_hight)\r\n",
        "    num.append(count)\r\n",
        "  l=math.pi*thickness/6*(2**num[-1]+4)*(2**num[-1]-1)\r\n",
        "  return num[-1],list[-1],l\r\n",
        "\r\n",
        "\r\n",
        "thickness=0.00008\r\n",
        "\r\n",
        "fuji_distance=3776 #富士山までの距離\r\n",
        "num1,hight1,leng1=need_leng(fuji_distance,thickness)\r\n",
        "print('{}回紙を追った時に{}mとなり、富士山の高さを超え、紙の長さは{}mになる'.format(num1,hight1,leng1))\r\n",
        "\r\n",
        "moon_distance=384400000\r\n",
        "num2,hight2,leng2=need_leng(moon_distance,thickness)\r\n",
        "print('{}回紙を追った時に{}mとなり、月の高さを超え、紙の長さは{}mになる'.format(num2,hight2,leng2))\r\n",
        "\r\n",
        "pro_distance=4243*9460730472580800 #プロキシマケンタウリ　地球から最も近い太陽以外の恒星　4243光年 \r\n",
        "num2,hight2,leng2=need_leng(pro_distance,thickness)\r\n",
        "print('{}回紙を追った時に{}mとなり、プロキシマケンタウリの高さを超え、紙の長さは{}mになる'.format(num2,hight2,leng2))"
      ],
      "execution_count": null,
      "outputs": [
        {
          "output_type": "stream",
          "text": [
            "26回紙を追った時に5368.70912mとなり、富士山の高さを超え、紙の長さは188646348487.24017mになる\n",
            "43回紙を追った時に703687441.77664mとなり、月の高さを超え、紙の長さは3.240919444170781e+21mになる\n",
            "79回紙を追った時に4.835703278458517e+19mとなり、プロキシマケンタウリの高さを超え、紙の長さは1.5304809356827398e+43mになる\n"
          ],
          "name": "stdout"
        }
      ]
    },
    {
      "cell_type": "code",
      "metadata": {
        "id": "vSNN4wSJgKFW"
      },
      "source": [
        ""
      ],
      "execution_count": null,
      "outputs": []
    }
  ]
}