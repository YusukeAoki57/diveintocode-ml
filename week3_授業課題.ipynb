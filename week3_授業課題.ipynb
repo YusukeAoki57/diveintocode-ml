{
  "nbformat": 4,
  "nbformat_minor": 0,
  "metadata": {
    "colab": {
      "name": "week3_授業課題.ipynb",
      "provenance": [],
      "collapsed_sections": [],
      "authorship_tag": "ABX9TyPe5kEKcG2wEkbt540Qn+KS",
      "include_colab_link": true
    },
    "kernelspec": {
      "name": "python3",
      "display_name": "Python 3"
    }
  },
  "cells": [
    {
      "cell_type": "markdown",
      "metadata": {
        "id": "view-in-github",
        "colab_type": "text"
      },
      "source": [
        "<a href=\"https://colab.research.google.com/github/YusukeAoki57/diveintocode-ml/blob/master/week3_%E6%8E%88%E6%A5%AD%E8%AA%B2%E9%A1%8C.ipynb\" target=\"_parent\"><img src=\"https://colab.research.google.com/assets/colab-badge.svg\" alt=\"Open In Colab\"/></a>"
      ]
    },
    {
      "cell_type": "code",
      "metadata": {
        "colab": {
          "base_uri": "https://localhost:8080/"
        },
        "id": "Dr6hz0Hr-g5V",
        "outputId": "60fef9b1-b27f-4055-eb77-ad1e3a308efa"
      },
      "source": [
        "from google.colab import drive\r\n",
        "drive.mount('/content/drive')"
      ],
      "execution_count": 1,
      "outputs": [
        {
          "output_type": "stream",
          "text": [
            "Mounted at /content/drive\n"
          ],
          "name": "stdout"
        }
      ]
    },
    {
      "cell_type": "code",
      "metadata": {
        "id": "G85EQRC4Kpxr"
      },
      "source": [
        "import numpy as np"
      ],
      "execution_count": 2,
      "outputs": []
    },
    {
      "cell_type": "markdown",
      "metadata": {
        "id": "NbBfIFBaGpO4"
      },
      "source": [
        "問題1 コンペテション内容の把握"
      ]
    },
    {
      "cell_type": "code",
      "metadata": {
        "colab": {
          "base_uri": "https://localhost:8080/",
          "height": 53
        },
        "id": "u4TI--yCGumZ",
        "outputId": "ee017a5a-62f6-4b6f-a26d-5c858d6c7964"
      },
      "source": [
        "\"\"\"\r\n",
        "1.Home Creditはどのような企業か\r\n",
        "→前向きで安全な借入体験を提供することにより、銀行口座を持たない人々の金融包摂を拡大する企業\r\n",
        "2.このコンペテションでは何を予測するか\r\n",
        "→電話会社や取引情報などのさまざまな代替データを利用して、クライアントの返済能力を予測する\r\n",
        "3.それを予測することで企業が得られるメリットは\r\n",
        "→元本が返済される確率が高まる\r\n",
        "\"\"\"\r\n"
      ],
      "execution_count": 3,
      "outputs": [
        {
          "output_type": "execute_result",
          "data": {
            "application/vnd.google.colaboratory.intrinsic+json": {
              "type": "string"
            },
            "text/plain": [
              "'\\n1.Home Creditはどのような企業か\\n→前向きで安全な借入体験を提供することにより、銀行口座を持たない人々の金融包摂を拡大する企業\\n2.このコンペテションでは何を予測するか\\n→電話会社や取引情報などのさまざまな代替データを利用して、クライアントの返済能力を予測する\\n3.それを予測することで企業が得られるメリットは\\n→元本が返済される確率が高まる\\n'"
            ]
          },
          "metadata": {
            "tags": []
          },
          "execution_count": 3
        }
      ]
    },
    {
      "cell_type": "code",
      "metadata": {
        "colab": {
          "base_uri": "https://localhost:8080/"
        },
        "id": "0EYZsk0oHd-8",
        "outputId": "eb501e44-7583-4b48-8334-1e2880662ef3"
      },
      "source": [
        "#データセットの準備\r\n",
        "import pandas as pd \r\n",
        "train= pd.read_csv('drive/My Drive/DIVE INTO CODE/0_課題/2_week3/授業課題/data/application_train.csv')\r\n",
        "print(train)"
      ],
      "execution_count": 4,
      "outputs": [
        {
          "output_type": "stream",
          "text": [
            "        SK_ID_CURR  ...  AMT_REQ_CREDIT_BUREAU_YEAR\n",
            "0           100002  ...                         1.0\n",
            "1           100003  ...                         0.0\n",
            "2           100004  ...                         0.0\n",
            "3           100006  ...                         NaN\n",
            "4           100007  ...                         0.0\n",
            "...            ...  ...                         ...\n",
            "307506      456251  ...                         NaN\n",
            "307507      456252  ...                         NaN\n",
            "307508      456253  ...                         1.0\n",
            "307509      456254  ...                         0.0\n",
            "307510      456255  ...                         1.0\n",
            "\n",
            "[307511 rows x 122 columns]\n"
          ],
          "name": "stdout"
        }
      ]
    },
    {
      "cell_type": "markdown",
      "metadata": {
        "id": "nWj0qib8HYYi"
      },
      "source": [
        "問題2 データ概観の把握"
      ]
    },
    {
      "cell_type": "code",
      "metadata": {
        "colab": {
          "base_uri": "https://localhost:8080/"
        },
        "id": "cmOefVRVIXRc",
        "outputId": "75863049-39b2-434a-de7a-ab660809f35c"
      },
      "source": [
        "#先頭5行の内容把握\r\n",
        "print(train.head())"
      ],
      "execution_count": 5,
      "outputs": [
        {
          "output_type": "stream",
          "text": [
            "   SK_ID_CURR  TARGET  ... AMT_REQ_CREDIT_BUREAU_QRT AMT_REQ_CREDIT_BUREAU_YEAR\n",
            "0      100002       1  ...                       0.0                        1.0\n",
            "1      100003       0  ...                       0.0                        0.0\n",
            "2      100004       0  ...                       0.0                        0.0\n",
            "3      100006       0  ...                       NaN                        NaN\n",
            "4      100007       0  ...                       0.0                        0.0\n",
            "\n",
            "[5 rows x 122 columns]\n"
          ],
          "name": "stdout"
        }
      ]
    },
    {
      "cell_type": "code",
      "metadata": {
        "colab": {
          "base_uri": "https://localhost:8080/"
        },
        "id": "HfjSiN7NHdWl",
        "outputId": "a11b1ec2-aad9-416e-a5f6-7e5f5e5bc701"
      },
      "source": [
        "#情報の把握\r\n",
        "print(train.info())"
      ],
      "execution_count": 6,
      "outputs": [
        {
          "output_type": "stream",
          "text": [
            "<class 'pandas.core.frame.DataFrame'>\n",
            "RangeIndex: 307511 entries, 0 to 307510\n",
            "Columns: 122 entries, SK_ID_CURR to AMT_REQ_CREDIT_BUREAU_YEAR\n",
            "dtypes: float64(65), int64(41), object(16)\n",
            "memory usage: 286.2+ MB\n",
            "None\n"
          ],
          "name": "stdout"
        }
      ]
    },
    {
      "cell_type": "code",
      "metadata": {
        "colab": {
          "base_uri": "https://localhost:8080/",
          "height": 333
        },
        "id": "faY6F7PyIha0",
        "outputId": "d4b0a927-a0e8-4597-c50d-60390cd21b93"
      },
      "source": [
        "#統計情報の把握\r\n",
        "train.describe()"
      ],
      "execution_count": 7,
      "outputs": [
        {
          "output_type": "execute_result",
          "data": {
            "text/html": [
              "<div>\n",
              "<style scoped>\n",
              "    .dataframe tbody tr th:only-of-type {\n",
              "        vertical-align: middle;\n",
              "    }\n",
              "\n",
              "    .dataframe tbody tr th {\n",
              "        vertical-align: top;\n",
              "    }\n",
              "\n",
              "    .dataframe thead th {\n",
              "        text-align: right;\n",
              "    }\n",
              "</style>\n",
              "<table border=\"1\" class=\"dataframe\">\n",
              "  <thead>\n",
              "    <tr style=\"text-align: right;\">\n",
              "      <th></th>\n",
              "      <th>SK_ID_CURR</th>\n",
              "      <th>TARGET</th>\n",
              "      <th>CNT_CHILDREN</th>\n",
              "      <th>AMT_INCOME_TOTAL</th>\n",
              "      <th>AMT_CREDIT</th>\n",
              "      <th>AMT_ANNUITY</th>\n",
              "      <th>AMT_GOODS_PRICE</th>\n",
              "      <th>REGION_POPULATION_RELATIVE</th>\n",
              "      <th>DAYS_BIRTH</th>\n",
              "      <th>DAYS_EMPLOYED</th>\n",
              "      <th>DAYS_REGISTRATION</th>\n",
              "      <th>DAYS_ID_PUBLISH</th>\n",
              "      <th>OWN_CAR_AGE</th>\n",
              "      <th>FLAG_MOBIL</th>\n",
              "      <th>FLAG_EMP_PHONE</th>\n",
              "      <th>FLAG_WORK_PHONE</th>\n",
              "      <th>FLAG_CONT_MOBILE</th>\n",
              "      <th>FLAG_PHONE</th>\n",
              "      <th>FLAG_EMAIL</th>\n",
              "      <th>CNT_FAM_MEMBERS</th>\n",
              "      <th>REGION_RATING_CLIENT</th>\n",
              "      <th>REGION_RATING_CLIENT_W_CITY</th>\n",
              "      <th>HOUR_APPR_PROCESS_START</th>\n",
              "      <th>REG_REGION_NOT_LIVE_REGION</th>\n",
              "      <th>REG_REGION_NOT_WORK_REGION</th>\n",
              "      <th>LIVE_REGION_NOT_WORK_REGION</th>\n",
              "      <th>REG_CITY_NOT_LIVE_CITY</th>\n",
              "      <th>REG_CITY_NOT_WORK_CITY</th>\n",
              "      <th>LIVE_CITY_NOT_WORK_CITY</th>\n",
              "      <th>EXT_SOURCE_1</th>\n",
              "      <th>EXT_SOURCE_2</th>\n",
              "      <th>EXT_SOURCE_3</th>\n",
              "      <th>APARTMENTS_AVG</th>\n",
              "      <th>BASEMENTAREA_AVG</th>\n",
              "      <th>YEARS_BEGINEXPLUATATION_AVG</th>\n",
              "      <th>YEARS_BUILD_AVG</th>\n",
              "      <th>COMMONAREA_AVG</th>\n",
              "      <th>ELEVATORS_AVG</th>\n",
              "      <th>ENTRANCES_AVG</th>\n",
              "      <th>FLOORSMAX_AVG</th>\n",
              "      <th>...</th>\n",
              "      <th>ENTRANCES_MEDI</th>\n",
              "      <th>FLOORSMAX_MEDI</th>\n",
              "      <th>FLOORSMIN_MEDI</th>\n",
              "      <th>LANDAREA_MEDI</th>\n",
              "      <th>LIVINGAPARTMENTS_MEDI</th>\n",
              "      <th>LIVINGAREA_MEDI</th>\n",
              "      <th>NONLIVINGAPARTMENTS_MEDI</th>\n",
              "      <th>NONLIVINGAREA_MEDI</th>\n",
              "      <th>TOTALAREA_MODE</th>\n",
              "      <th>OBS_30_CNT_SOCIAL_CIRCLE</th>\n",
              "      <th>DEF_30_CNT_SOCIAL_CIRCLE</th>\n",
              "      <th>OBS_60_CNT_SOCIAL_CIRCLE</th>\n",
              "      <th>DEF_60_CNT_SOCIAL_CIRCLE</th>\n",
              "      <th>DAYS_LAST_PHONE_CHANGE</th>\n",
              "      <th>FLAG_DOCUMENT_2</th>\n",
              "      <th>FLAG_DOCUMENT_3</th>\n",
              "      <th>FLAG_DOCUMENT_4</th>\n",
              "      <th>FLAG_DOCUMENT_5</th>\n",
              "      <th>FLAG_DOCUMENT_6</th>\n",
              "      <th>FLAG_DOCUMENT_7</th>\n",
              "      <th>FLAG_DOCUMENT_8</th>\n",
              "      <th>FLAG_DOCUMENT_9</th>\n",
              "      <th>FLAG_DOCUMENT_10</th>\n",
              "      <th>FLAG_DOCUMENT_11</th>\n",
              "      <th>FLAG_DOCUMENT_12</th>\n",
              "      <th>FLAG_DOCUMENT_13</th>\n",
              "      <th>FLAG_DOCUMENT_14</th>\n",
              "      <th>FLAG_DOCUMENT_15</th>\n",
              "      <th>FLAG_DOCUMENT_16</th>\n",
              "      <th>FLAG_DOCUMENT_17</th>\n",
              "      <th>FLAG_DOCUMENT_18</th>\n",
              "      <th>FLAG_DOCUMENT_19</th>\n",
              "      <th>FLAG_DOCUMENT_20</th>\n",
              "      <th>FLAG_DOCUMENT_21</th>\n",
              "      <th>AMT_REQ_CREDIT_BUREAU_HOUR</th>\n",
              "      <th>AMT_REQ_CREDIT_BUREAU_DAY</th>\n",
              "      <th>AMT_REQ_CREDIT_BUREAU_WEEK</th>\n",
              "      <th>AMT_REQ_CREDIT_BUREAU_MON</th>\n",
              "      <th>AMT_REQ_CREDIT_BUREAU_QRT</th>\n",
              "      <th>AMT_REQ_CREDIT_BUREAU_YEAR</th>\n",
              "    </tr>\n",
              "  </thead>\n",
              "  <tbody>\n",
              "    <tr>\n",
              "      <th>count</th>\n",
              "      <td>307511.000000</td>\n",
              "      <td>307511.000000</td>\n",
              "      <td>307511.000000</td>\n",
              "      <td>3.075110e+05</td>\n",
              "      <td>3.075110e+05</td>\n",
              "      <td>307499.000000</td>\n",
              "      <td>3.072330e+05</td>\n",
              "      <td>307511.000000</td>\n",
              "      <td>307511.000000</td>\n",
              "      <td>307511.000000</td>\n",
              "      <td>307511.000000</td>\n",
              "      <td>307511.000000</td>\n",
              "      <td>104582.000000</td>\n",
              "      <td>307511.000000</td>\n",
              "      <td>307511.000000</td>\n",
              "      <td>307511.000000</td>\n",
              "      <td>307511.000000</td>\n",
              "      <td>307511.000000</td>\n",
              "      <td>307511.000000</td>\n",
              "      <td>307509.000000</td>\n",
              "      <td>307511.000000</td>\n",
              "      <td>307511.000000</td>\n",
              "      <td>307511.000000</td>\n",
              "      <td>307511.000000</td>\n",
              "      <td>307511.000000</td>\n",
              "      <td>307511.000000</td>\n",
              "      <td>307511.000000</td>\n",
              "      <td>307511.000000</td>\n",
              "      <td>307511.000000</td>\n",
              "      <td>134133.000000</td>\n",
              "      <td>3.068510e+05</td>\n",
              "      <td>246546.000000</td>\n",
              "      <td>151450.00000</td>\n",
              "      <td>127568.000000</td>\n",
              "      <td>157504.000000</td>\n",
              "      <td>103023.000000</td>\n",
              "      <td>92646.000000</td>\n",
              "      <td>143620.000000</td>\n",
              "      <td>152683.000000</td>\n",
              "      <td>154491.000000</td>\n",
              "      <td>...</td>\n",
              "      <td>152683.000000</td>\n",
              "      <td>154491.000000</td>\n",
              "      <td>98869.000000</td>\n",
              "      <td>124921.000000</td>\n",
              "      <td>97312.000000</td>\n",
              "      <td>153161.000000</td>\n",
              "      <td>93997.000000</td>\n",
              "      <td>137829.000000</td>\n",
              "      <td>159080.000000</td>\n",
              "      <td>306490.000000</td>\n",
              "      <td>306490.000000</td>\n",
              "      <td>306490.000000</td>\n",
              "      <td>306490.000000</td>\n",
              "      <td>307510.000000</td>\n",
              "      <td>307511.000000</td>\n",
              "      <td>307511.000000</td>\n",
              "      <td>307511.000000</td>\n",
              "      <td>307511.000000</td>\n",
              "      <td>307511.000000</td>\n",
              "      <td>307511.000000</td>\n",
              "      <td>307511.000000</td>\n",
              "      <td>307511.000000</td>\n",
              "      <td>307511.000000</td>\n",
              "      <td>307511.000000</td>\n",
              "      <td>307511.000000</td>\n",
              "      <td>307511.000000</td>\n",
              "      <td>307511.000000</td>\n",
              "      <td>307511.00000</td>\n",
              "      <td>307511.000000</td>\n",
              "      <td>307511.000000</td>\n",
              "      <td>307511.000000</td>\n",
              "      <td>307511.000000</td>\n",
              "      <td>307511.000000</td>\n",
              "      <td>307511.000000</td>\n",
              "      <td>265992.000000</td>\n",
              "      <td>265992.000000</td>\n",
              "      <td>265992.000000</td>\n",
              "      <td>265992.000000</td>\n",
              "      <td>265992.000000</td>\n",
              "      <td>265992.000000</td>\n",
              "    </tr>\n",
              "    <tr>\n",
              "      <th>mean</th>\n",
              "      <td>278180.518577</td>\n",
              "      <td>0.080729</td>\n",
              "      <td>0.417052</td>\n",
              "      <td>1.687979e+05</td>\n",
              "      <td>5.990260e+05</td>\n",
              "      <td>27108.573909</td>\n",
              "      <td>5.383962e+05</td>\n",
              "      <td>0.020868</td>\n",
              "      <td>-16036.995067</td>\n",
              "      <td>63815.045904</td>\n",
              "      <td>-4986.120328</td>\n",
              "      <td>-2994.202373</td>\n",
              "      <td>12.061091</td>\n",
              "      <td>0.999997</td>\n",
              "      <td>0.819889</td>\n",
              "      <td>0.199368</td>\n",
              "      <td>0.998133</td>\n",
              "      <td>0.281066</td>\n",
              "      <td>0.056720</td>\n",
              "      <td>2.152665</td>\n",
              "      <td>2.052463</td>\n",
              "      <td>2.031521</td>\n",
              "      <td>12.063419</td>\n",
              "      <td>0.015144</td>\n",
              "      <td>0.050769</td>\n",
              "      <td>0.040659</td>\n",
              "      <td>0.078173</td>\n",
              "      <td>0.230454</td>\n",
              "      <td>0.179555</td>\n",
              "      <td>0.502130</td>\n",
              "      <td>5.143927e-01</td>\n",
              "      <td>0.510853</td>\n",
              "      <td>0.11744</td>\n",
              "      <td>0.088442</td>\n",
              "      <td>0.977735</td>\n",
              "      <td>0.752471</td>\n",
              "      <td>0.044621</td>\n",
              "      <td>0.078942</td>\n",
              "      <td>0.149725</td>\n",
              "      <td>0.226282</td>\n",
              "      <td>...</td>\n",
              "      <td>0.149213</td>\n",
              "      <td>0.225897</td>\n",
              "      <td>0.231625</td>\n",
              "      <td>0.067169</td>\n",
              "      <td>0.101954</td>\n",
              "      <td>0.108607</td>\n",
              "      <td>0.008651</td>\n",
              "      <td>0.028236</td>\n",
              "      <td>0.102547</td>\n",
              "      <td>1.422245</td>\n",
              "      <td>0.143421</td>\n",
              "      <td>1.405292</td>\n",
              "      <td>0.100049</td>\n",
              "      <td>-962.858788</td>\n",
              "      <td>0.000042</td>\n",
              "      <td>0.710023</td>\n",
              "      <td>0.000081</td>\n",
              "      <td>0.015115</td>\n",
              "      <td>0.088055</td>\n",
              "      <td>0.000192</td>\n",
              "      <td>0.081376</td>\n",
              "      <td>0.003896</td>\n",
              "      <td>0.000023</td>\n",
              "      <td>0.003912</td>\n",
              "      <td>0.000007</td>\n",
              "      <td>0.003525</td>\n",
              "      <td>0.002936</td>\n",
              "      <td>0.00121</td>\n",
              "      <td>0.009928</td>\n",
              "      <td>0.000267</td>\n",
              "      <td>0.008130</td>\n",
              "      <td>0.000595</td>\n",
              "      <td>0.000507</td>\n",
              "      <td>0.000335</td>\n",
              "      <td>0.006402</td>\n",
              "      <td>0.007000</td>\n",
              "      <td>0.034362</td>\n",
              "      <td>0.267395</td>\n",
              "      <td>0.265474</td>\n",
              "      <td>1.899974</td>\n",
              "    </tr>\n",
              "    <tr>\n",
              "      <th>std</th>\n",
              "      <td>102790.175348</td>\n",
              "      <td>0.272419</td>\n",
              "      <td>0.722121</td>\n",
              "      <td>2.371231e+05</td>\n",
              "      <td>4.024908e+05</td>\n",
              "      <td>14493.737315</td>\n",
              "      <td>3.694465e+05</td>\n",
              "      <td>0.013831</td>\n",
              "      <td>4363.988632</td>\n",
              "      <td>141275.766519</td>\n",
              "      <td>3522.886321</td>\n",
              "      <td>1509.450419</td>\n",
              "      <td>11.944812</td>\n",
              "      <td>0.001803</td>\n",
              "      <td>0.384280</td>\n",
              "      <td>0.399526</td>\n",
              "      <td>0.043164</td>\n",
              "      <td>0.449521</td>\n",
              "      <td>0.231307</td>\n",
              "      <td>0.910682</td>\n",
              "      <td>0.509034</td>\n",
              "      <td>0.502737</td>\n",
              "      <td>3.265832</td>\n",
              "      <td>0.122126</td>\n",
              "      <td>0.219526</td>\n",
              "      <td>0.197499</td>\n",
              "      <td>0.268444</td>\n",
              "      <td>0.421124</td>\n",
              "      <td>0.383817</td>\n",
              "      <td>0.211062</td>\n",
              "      <td>1.910602e-01</td>\n",
              "      <td>0.194844</td>\n",
              "      <td>0.10824</td>\n",
              "      <td>0.082438</td>\n",
              "      <td>0.059223</td>\n",
              "      <td>0.113280</td>\n",
              "      <td>0.076036</td>\n",
              "      <td>0.134576</td>\n",
              "      <td>0.100049</td>\n",
              "      <td>0.144641</td>\n",
              "      <td>...</td>\n",
              "      <td>0.100368</td>\n",
              "      <td>0.145067</td>\n",
              "      <td>0.161934</td>\n",
              "      <td>0.082167</td>\n",
              "      <td>0.093642</td>\n",
              "      <td>0.112260</td>\n",
              "      <td>0.047415</td>\n",
              "      <td>0.070166</td>\n",
              "      <td>0.107462</td>\n",
              "      <td>2.400989</td>\n",
              "      <td>0.446698</td>\n",
              "      <td>2.379803</td>\n",
              "      <td>0.362291</td>\n",
              "      <td>826.808487</td>\n",
              "      <td>0.006502</td>\n",
              "      <td>0.453752</td>\n",
              "      <td>0.009016</td>\n",
              "      <td>0.122010</td>\n",
              "      <td>0.283376</td>\n",
              "      <td>0.013850</td>\n",
              "      <td>0.273412</td>\n",
              "      <td>0.062295</td>\n",
              "      <td>0.004771</td>\n",
              "      <td>0.062424</td>\n",
              "      <td>0.002550</td>\n",
              "      <td>0.059268</td>\n",
              "      <td>0.054110</td>\n",
              "      <td>0.03476</td>\n",
              "      <td>0.099144</td>\n",
              "      <td>0.016327</td>\n",
              "      <td>0.089798</td>\n",
              "      <td>0.024387</td>\n",
              "      <td>0.022518</td>\n",
              "      <td>0.018299</td>\n",
              "      <td>0.083849</td>\n",
              "      <td>0.110757</td>\n",
              "      <td>0.204685</td>\n",
              "      <td>0.916002</td>\n",
              "      <td>0.794056</td>\n",
              "      <td>1.869295</td>\n",
              "    </tr>\n",
              "    <tr>\n",
              "      <th>min</th>\n",
              "      <td>100002.000000</td>\n",
              "      <td>0.000000</td>\n",
              "      <td>0.000000</td>\n",
              "      <td>2.565000e+04</td>\n",
              "      <td>4.500000e+04</td>\n",
              "      <td>1615.500000</td>\n",
              "      <td>4.050000e+04</td>\n",
              "      <td>0.000290</td>\n",
              "      <td>-25229.000000</td>\n",
              "      <td>-17912.000000</td>\n",
              "      <td>-24672.000000</td>\n",
              "      <td>-7197.000000</td>\n",
              "      <td>0.000000</td>\n",
              "      <td>0.000000</td>\n",
              "      <td>0.000000</td>\n",
              "      <td>0.000000</td>\n",
              "      <td>0.000000</td>\n",
              "      <td>0.000000</td>\n",
              "      <td>0.000000</td>\n",
              "      <td>1.000000</td>\n",
              "      <td>1.000000</td>\n",
              "      <td>1.000000</td>\n",
              "      <td>0.000000</td>\n",
              "      <td>0.000000</td>\n",
              "      <td>0.000000</td>\n",
              "      <td>0.000000</td>\n",
              "      <td>0.000000</td>\n",
              "      <td>0.000000</td>\n",
              "      <td>0.000000</td>\n",
              "      <td>0.014568</td>\n",
              "      <td>8.173617e-08</td>\n",
              "      <td>0.000527</td>\n",
              "      <td>0.00000</td>\n",
              "      <td>0.000000</td>\n",
              "      <td>0.000000</td>\n",
              "      <td>0.000000</td>\n",
              "      <td>0.000000</td>\n",
              "      <td>0.000000</td>\n",
              "      <td>0.000000</td>\n",
              "      <td>0.000000</td>\n",
              "      <td>...</td>\n",
              "      <td>0.000000</td>\n",
              "      <td>0.000000</td>\n",
              "      <td>0.000000</td>\n",
              "      <td>0.000000</td>\n",
              "      <td>0.000000</td>\n",
              "      <td>0.000000</td>\n",
              "      <td>0.000000</td>\n",
              "      <td>0.000000</td>\n",
              "      <td>0.000000</td>\n",
              "      <td>0.000000</td>\n",
              "      <td>0.000000</td>\n",
              "      <td>0.000000</td>\n",
              "      <td>0.000000</td>\n",
              "      <td>-4292.000000</td>\n",
              "      <td>0.000000</td>\n",
              "      <td>0.000000</td>\n",
              "      <td>0.000000</td>\n",
              "      <td>0.000000</td>\n",
              "      <td>0.000000</td>\n",
              "      <td>0.000000</td>\n",
              "      <td>0.000000</td>\n",
              "      <td>0.000000</td>\n",
              "      <td>0.000000</td>\n",
              "      <td>0.000000</td>\n",
              "      <td>0.000000</td>\n",
              "      <td>0.000000</td>\n",
              "      <td>0.000000</td>\n",
              "      <td>0.00000</td>\n",
              "      <td>0.000000</td>\n",
              "      <td>0.000000</td>\n",
              "      <td>0.000000</td>\n",
              "      <td>0.000000</td>\n",
              "      <td>0.000000</td>\n",
              "      <td>0.000000</td>\n",
              "      <td>0.000000</td>\n",
              "      <td>0.000000</td>\n",
              "      <td>0.000000</td>\n",
              "      <td>0.000000</td>\n",
              "      <td>0.000000</td>\n",
              "      <td>0.000000</td>\n",
              "    </tr>\n",
              "    <tr>\n",
              "      <th>25%</th>\n",
              "      <td>189145.500000</td>\n",
              "      <td>0.000000</td>\n",
              "      <td>0.000000</td>\n",
              "      <td>1.125000e+05</td>\n",
              "      <td>2.700000e+05</td>\n",
              "      <td>16524.000000</td>\n",
              "      <td>2.385000e+05</td>\n",
              "      <td>0.010006</td>\n",
              "      <td>-19682.000000</td>\n",
              "      <td>-2760.000000</td>\n",
              "      <td>-7479.500000</td>\n",
              "      <td>-4299.000000</td>\n",
              "      <td>5.000000</td>\n",
              "      <td>1.000000</td>\n",
              "      <td>1.000000</td>\n",
              "      <td>0.000000</td>\n",
              "      <td>1.000000</td>\n",
              "      <td>0.000000</td>\n",
              "      <td>0.000000</td>\n",
              "      <td>2.000000</td>\n",
              "      <td>2.000000</td>\n",
              "      <td>2.000000</td>\n",
              "      <td>10.000000</td>\n",
              "      <td>0.000000</td>\n",
              "      <td>0.000000</td>\n",
              "      <td>0.000000</td>\n",
              "      <td>0.000000</td>\n",
              "      <td>0.000000</td>\n",
              "      <td>0.000000</td>\n",
              "      <td>0.334007</td>\n",
              "      <td>3.924574e-01</td>\n",
              "      <td>0.370650</td>\n",
              "      <td>0.05770</td>\n",
              "      <td>0.044200</td>\n",
              "      <td>0.976700</td>\n",
              "      <td>0.687200</td>\n",
              "      <td>0.007800</td>\n",
              "      <td>0.000000</td>\n",
              "      <td>0.069000</td>\n",
              "      <td>0.166700</td>\n",
              "      <td>...</td>\n",
              "      <td>0.069000</td>\n",
              "      <td>0.166700</td>\n",
              "      <td>0.083300</td>\n",
              "      <td>0.018700</td>\n",
              "      <td>0.051300</td>\n",
              "      <td>0.045700</td>\n",
              "      <td>0.000000</td>\n",
              "      <td>0.000000</td>\n",
              "      <td>0.041200</td>\n",
              "      <td>0.000000</td>\n",
              "      <td>0.000000</td>\n",
              "      <td>0.000000</td>\n",
              "      <td>0.000000</td>\n",
              "      <td>-1570.000000</td>\n",
              "      <td>0.000000</td>\n",
              "      <td>0.000000</td>\n",
              "      <td>0.000000</td>\n",
              "      <td>0.000000</td>\n",
              "      <td>0.000000</td>\n",
              "      <td>0.000000</td>\n",
              "      <td>0.000000</td>\n",
              "      <td>0.000000</td>\n",
              "      <td>0.000000</td>\n",
              "      <td>0.000000</td>\n",
              "      <td>0.000000</td>\n",
              "      <td>0.000000</td>\n",
              "      <td>0.000000</td>\n",
              "      <td>0.00000</td>\n",
              "      <td>0.000000</td>\n",
              "      <td>0.000000</td>\n",
              "      <td>0.000000</td>\n",
              "      <td>0.000000</td>\n",
              "      <td>0.000000</td>\n",
              "      <td>0.000000</td>\n",
              "      <td>0.000000</td>\n",
              "      <td>0.000000</td>\n",
              "      <td>0.000000</td>\n",
              "      <td>0.000000</td>\n",
              "      <td>0.000000</td>\n",
              "      <td>0.000000</td>\n",
              "    </tr>\n",
              "    <tr>\n",
              "      <th>50%</th>\n",
              "      <td>278202.000000</td>\n",
              "      <td>0.000000</td>\n",
              "      <td>0.000000</td>\n",
              "      <td>1.471500e+05</td>\n",
              "      <td>5.135310e+05</td>\n",
              "      <td>24903.000000</td>\n",
              "      <td>4.500000e+05</td>\n",
              "      <td>0.018850</td>\n",
              "      <td>-15750.000000</td>\n",
              "      <td>-1213.000000</td>\n",
              "      <td>-4504.000000</td>\n",
              "      <td>-3254.000000</td>\n",
              "      <td>9.000000</td>\n",
              "      <td>1.000000</td>\n",
              "      <td>1.000000</td>\n",
              "      <td>0.000000</td>\n",
              "      <td>1.000000</td>\n",
              "      <td>0.000000</td>\n",
              "      <td>0.000000</td>\n",
              "      <td>2.000000</td>\n",
              "      <td>2.000000</td>\n",
              "      <td>2.000000</td>\n",
              "      <td>12.000000</td>\n",
              "      <td>0.000000</td>\n",
              "      <td>0.000000</td>\n",
              "      <td>0.000000</td>\n",
              "      <td>0.000000</td>\n",
              "      <td>0.000000</td>\n",
              "      <td>0.000000</td>\n",
              "      <td>0.505998</td>\n",
              "      <td>5.659614e-01</td>\n",
              "      <td>0.535276</td>\n",
              "      <td>0.08760</td>\n",
              "      <td>0.076300</td>\n",
              "      <td>0.981600</td>\n",
              "      <td>0.755200</td>\n",
              "      <td>0.021100</td>\n",
              "      <td>0.000000</td>\n",
              "      <td>0.137900</td>\n",
              "      <td>0.166700</td>\n",
              "      <td>...</td>\n",
              "      <td>0.137900</td>\n",
              "      <td>0.166700</td>\n",
              "      <td>0.208300</td>\n",
              "      <td>0.048700</td>\n",
              "      <td>0.076100</td>\n",
              "      <td>0.074900</td>\n",
              "      <td>0.000000</td>\n",
              "      <td>0.003100</td>\n",
              "      <td>0.068800</td>\n",
              "      <td>0.000000</td>\n",
              "      <td>0.000000</td>\n",
              "      <td>0.000000</td>\n",
              "      <td>0.000000</td>\n",
              "      <td>-757.000000</td>\n",
              "      <td>0.000000</td>\n",
              "      <td>1.000000</td>\n",
              "      <td>0.000000</td>\n",
              "      <td>0.000000</td>\n",
              "      <td>0.000000</td>\n",
              "      <td>0.000000</td>\n",
              "      <td>0.000000</td>\n",
              "      <td>0.000000</td>\n",
              "      <td>0.000000</td>\n",
              "      <td>0.000000</td>\n",
              "      <td>0.000000</td>\n",
              "      <td>0.000000</td>\n",
              "      <td>0.000000</td>\n",
              "      <td>0.00000</td>\n",
              "      <td>0.000000</td>\n",
              "      <td>0.000000</td>\n",
              "      <td>0.000000</td>\n",
              "      <td>0.000000</td>\n",
              "      <td>0.000000</td>\n",
              "      <td>0.000000</td>\n",
              "      <td>0.000000</td>\n",
              "      <td>0.000000</td>\n",
              "      <td>0.000000</td>\n",
              "      <td>0.000000</td>\n",
              "      <td>0.000000</td>\n",
              "      <td>1.000000</td>\n",
              "    </tr>\n",
              "    <tr>\n",
              "      <th>75%</th>\n",
              "      <td>367142.500000</td>\n",
              "      <td>0.000000</td>\n",
              "      <td>1.000000</td>\n",
              "      <td>2.025000e+05</td>\n",
              "      <td>8.086500e+05</td>\n",
              "      <td>34596.000000</td>\n",
              "      <td>6.795000e+05</td>\n",
              "      <td>0.028663</td>\n",
              "      <td>-12413.000000</td>\n",
              "      <td>-289.000000</td>\n",
              "      <td>-2010.000000</td>\n",
              "      <td>-1720.000000</td>\n",
              "      <td>15.000000</td>\n",
              "      <td>1.000000</td>\n",
              "      <td>1.000000</td>\n",
              "      <td>0.000000</td>\n",
              "      <td>1.000000</td>\n",
              "      <td>1.000000</td>\n",
              "      <td>0.000000</td>\n",
              "      <td>3.000000</td>\n",
              "      <td>2.000000</td>\n",
              "      <td>2.000000</td>\n",
              "      <td>14.000000</td>\n",
              "      <td>0.000000</td>\n",
              "      <td>0.000000</td>\n",
              "      <td>0.000000</td>\n",
              "      <td>0.000000</td>\n",
              "      <td>0.000000</td>\n",
              "      <td>0.000000</td>\n",
              "      <td>0.675053</td>\n",
              "      <td>6.636171e-01</td>\n",
              "      <td>0.669057</td>\n",
              "      <td>0.14850</td>\n",
              "      <td>0.112200</td>\n",
              "      <td>0.986600</td>\n",
              "      <td>0.823200</td>\n",
              "      <td>0.051500</td>\n",
              "      <td>0.120000</td>\n",
              "      <td>0.206900</td>\n",
              "      <td>0.333300</td>\n",
              "      <td>...</td>\n",
              "      <td>0.206900</td>\n",
              "      <td>0.333300</td>\n",
              "      <td>0.375000</td>\n",
              "      <td>0.086800</td>\n",
              "      <td>0.123100</td>\n",
              "      <td>0.130300</td>\n",
              "      <td>0.003900</td>\n",
              "      <td>0.026600</td>\n",
              "      <td>0.127600</td>\n",
              "      <td>2.000000</td>\n",
              "      <td>0.000000</td>\n",
              "      <td>2.000000</td>\n",
              "      <td>0.000000</td>\n",
              "      <td>-274.000000</td>\n",
              "      <td>0.000000</td>\n",
              "      <td>1.000000</td>\n",
              "      <td>0.000000</td>\n",
              "      <td>0.000000</td>\n",
              "      <td>0.000000</td>\n",
              "      <td>0.000000</td>\n",
              "      <td>0.000000</td>\n",
              "      <td>0.000000</td>\n",
              "      <td>0.000000</td>\n",
              "      <td>0.000000</td>\n",
              "      <td>0.000000</td>\n",
              "      <td>0.000000</td>\n",
              "      <td>0.000000</td>\n",
              "      <td>0.00000</td>\n",
              "      <td>0.000000</td>\n",
              "      <td>0.000000</td>\n",
              "      <td>0.000000</td>\n",
              "      <td>0.000000</td>\n",
              "      <td>0.000000</td>\n",
              "      <td>0.000000</td>\n",
              "      <td>0.000000</td>\n",
              "      <td>0.000000</td>\n",
              "      <td>0.000000</td>\n",
              "      <td>0.000000</td>\n",
              "      <td>0.000000</td>\n",
              "      <td>3.000000</td>\n",
              "    </tr>\n",
              "    <tr>\n",
              "      <th>max</th>\n",
              "      <td>456255.000000</td>\n",
              "      <td>1.000000</td>\n",
              "      <td>19.000000</td>\n",
              "      <td>1.170000e+08</td>\n",
              "      <td>4.050000e+06</td>\n",
              "      <td>258025.500000</td>\n",
              "      <td>4.050000e+06</td>\n",
              "      <td>0.072508</td>\n",
              "      <td>-7489.000000</td>\n",
              "      <td>365243.000000</td>\n",
              "      <td>0.000000</td>\n",
              "      <td>0.000000</td>\n",
              "      <td>91.000000</td>\n",
              "      <td>1.000000</td>\n",
              "      <td>1.000000</td>\n",
              "      <td>1.000000</td>\n",
              "      <td>1.000000</td>\n",
              "      <td>1.000000</td>\n",
              "      <td>1.000000</td>\n",
              "      <td>20.000000</td>\n",
              "      <td>3.000000</td>\n",
              "      <td>3.000000</td>\n",
              "      <td>23.000000</td>\n",
              "      <td>1.000000</td>\n",
              "      <td>1.000000</td>\n",
              "      <td>1.000000</td>\n",
              "      <td>1.000000</td>\n",
              "      <td>1.000000</td>\n",
              "      <td>1.000000</td>\n",
              "      <td>0.962693</td>\n",
              "      <td>8.549997e-01</td>\n",
              "      <td>0.896010</td>\n",
              "      <td>1.00000</td>\n",
              "      <td>1.000000</td>\n",
              "      <td>1.000000</td>\n",
              "      <td>1.000000</td>\n",
              "      <td>1.000000</td>\n",
              "      <td>1.000000</td>\n",
              "      <td>1.000000</td>\n",
              "      <td>1.000000</td>\n",
              "      <td>...</td>\n",
              "      <td>1.000000</td>\n",
              "      <td>1.000000</td>\n",
              "      <td>1.000000</td>\n",
              "      <td>1.000000</td>\n",
              "      <td>1.000000</td>\n",
              "      <td>1.000000</td>\n",
              "      <td>1.000000</td>\n",
              "      <td>1.000000</td>\n",
              "      <td>1.000000</td>\n",
              "      <td>348.000000</td>\n",
              "      <td>34.000000</td>\n",
              "      <td>344.000000</td>\n",
              "      <td>24.000000</td>\n",
              "      <td>0.000000</td>\n",
              "      <td>1.000000</td>\n",
              "      <td>1.000000</td>\n",
              "      <td>1.000000</td>\n",
              "      <td>1.000000</td>\n",
              "      <td>1.000000</td>\n",
              "      <td>1.000000</td>\n",
              "      <td>1.000000</td>\n",
              "      <td>1.000000</td>\n",
              "      <td>1.000000</td>\n",
              "      <td>1.000000</td>\n",
              "      <td>1.000000</td>\n",
              "      <td>1.000000</td>\n",
              "      <td>1.000000</td>\n",
              "      <td>1.00000</td>\n",
              "      <td>1.000000</td>\n",
              "      <td>1.000000</td>\n",
              "      <td>1.000000</td>\n",
              "      <td>1.000000</td>\n",
              "      <td>1.000000</td>\n",
              "      <td>1.000000</td>\n",
              "      <td>4.000000</td>\n",
              "      <td>9.000000</td>\n",
              "      <td>8.000000</td>\n",
              "      <td>27.000000</td>\n",
              "      <td>261.000000</td>\n",
              "      <td>25.000000</td>\n",
              "    </tr>\n",
              "  </tbody>\n",
              "</table>\n",
              "<p>8 rows × 106 columns</p>\n",
              "</div>"
            ],
            "text/plain": [
              "          SK_ID_CURR  ...  AMT_REQ_CREDIT_BUREAU_YEAR\n",
              "count  307511.000000  ...               265992.000000\n",
              "mean   278180.518577  ...                    1.899974\n",
              "std    102790.175348  ...                    1.869295\n",
              "min    100002.000000  ...                    0.000000\n",
              "25%    189145.500000  ...                    0.000000\n",
              "50%    278202.000000  ...                    1.000000\n",
              "75%    367142.500000  ...                    3.000000\n",
              "max    456255.000000  ...                   25.000000\n",
              "\n",
              "[8 rows x 106 columns]"
            ]
          },
          "metadata": {
            "tags": []
          },
          "execution_count": 7
        }
      ]
    },
    {
      "cell_type": "code",
      "metadata": {
        "colab": {
          "base_uri": "https://localhost:8080/",
          "height": 402
        },
        "id": "pzLEYIDZIqo2",
        "outputId": "63e67c17-ec84-45ee-aac1-9098463e9f8c"
      },
      "source": [
        "#欠損値の有無の確認\r\n",
        "\r\n",
        "def null_check(train):\r\n",
        "    in_t=[]\r\n",
        "    total=[]\r\n",
        "    missing_ratio=[]\r\n",
        "    for i in train.columns:\r\n",
        "      in_t.append(i)\r\n",
        "      total.append(train[i].isnull().sum())\r\n",
        "      missing_ratio.append(train[i].isnull().sum()/len(train)*100)\r\n",
        "    matrix=np.array([total,missing_ratio]).T\r\n",
        "    col=['total','missing_ratio']\r\n",
        "    df = pd.DataFrame(matrix,columns=col, index=in_t)\r\n",
        "    df1=df[df.total>0]\r\n",
        "    return df1\r\n",
        "null_check(train)"
      ],
      "execution_count": 8,
      "outputs": [
        {
          "output_type": "execute_result",
          "data": {
            "text/html": [
              "<div>\n",
              "<style scoped>\n",
              "    .dataframe tbody tr th:only-of-type {\n",
              "        vertical-align: middle;\n",
              "    }\n",
              "\n",
              "    .dataframe tbody tr th {\n",
              "        vertical-align: top;\n",
              "    }\n",
              "\n",
              "    .dataframe thead th {\n",
              "        text-align: right;\n",
              "    }\n",
              "</style>\n",
              "<table border=\"1\" class=\"dataframe\">\n",
              "  <thead>\n",
              "    <tr style=\"text-align: right;\">\n",
              "      <th></th>\n",
              "      <th>total</th>\n",
              "      <th>missing_ratio</th>\n",
              "    </tr>\n",
              "  </thead>\n",
              "  <tbody>\n",
              "    <tr>\n",
              "      <th>AMT_ANNUITY</th>\n",
              "      <td>12.0</td>\n",
              "      <td>0.003902</td>\n",
              "    </tr>\n",
              "    <tr>\n",
              "      <th>AMT_GOODS_PRICE</th>\n",
              "      <td>278.0</td>\n",
              "      <td>0.090403</td>\n",
              "    </tr>\n",
              "    <tr>\n",
              "      <th>NAME_TYPE_SUITE</th>\n",
              "      <td>1292.0</td>\n",
              "      <td>0.420148</td>\n",
              "    </tr>\n",
              "    <tr>\n",
              "      <th>OWN_CAR_AGE</th>\n",
              "      <td>202929.0</td>\n",
              "      <td>65.990810</td>\n",
              "    </tr>\n",
              "    <tr>\n",
              "      <th>OCCUPATION_TYPE</th>\n",
              "      <td>96391.0</td>\n",
              "      <td>31.345545</td>\n",
              "    </tr>\n",
              "    <tr>\n",
              "      <th>...</th>\n",
              "      <td>...</td>\n",
              "      <td>...</td>\n",
              "    </tr>\n",
              "    <tr>\n",
              "      <th>AMT_REQ_CREDIT_BUREAU_DAY</th>\n",
              "      <td>41519.0</td>\n",
              "      <td>13.501631</td>\n",
              "    </tr>\n",
              "    <tr>\n",
              "      <th>AMT_REQ_CREDIT_BUREAU_WEEK</th>\n",
              "      <td>41519.0</td>\n",
              "      <td>13.501631</td>\n",
              "    </tr>\n",
              "    <tr>\n",
              "      <th>AMT_REQ_CREDIT_BUREAU_MON</th>\n",
              "      <td>41519.0</td>\n",
              "      <td>13.501631</td>\n",
              "    </tr>\n",
              "    <tr>\n",
              "      <th>AMT_REQ_CREDIT_BUREAU_QRT</th>\n",
              "      <td>41519.0</td>\n",
              "      <td>13.501631</td>\n",
              "    </tr>\n",
              "    <tr>\n",
              "      <th>AMT_REQ_CREDIT_BUREAU_YEAR</th>\n",
              "      <td>41519.0</td>\n",
              "      <td>13.501631</td>\n",
              "    </tr>\n",
              "  </tbody>\n",
              "</table>\n",
              "<p>67 rows × 2 columns</p>\n",
              "</div>"
            ],
            "text/plain": [
              "                               total  missing_ratio\n",
              "AMT_ANNUITY                     12.0       0.003902\n",
              "AMT_GOODS_PRICE                278.0       0.090403\n",
              "NAME_TYPE_SUITE               1292.0       0.420148\n",
              "OWN_CAR_AGE                 202929.0      65.990810\n",
              "OCCUPATION_TYPE              96391.0      31.345545\n",
              "...                              ...            ...\n",
              "AMT_REQ_CREDIT_BUREAU_DAY    41519.0      13.501631\n",
              "AMT_REQ_CREDIT_BUREAU_WEEK   41519.0      13.501631\n",
              "AMT_REQ_CREDIT_BUREAU_MON    41519.0      13.501631\n",
              "AMT_REQ_CREDIT_BUREAU_QRT    41519.0      13.501631\n",
              "AMT_REQ_CREDIT_BUREAU_YEAR   41519.0      13.501631\n",
              "\n",
              "[67 rows x 2 columns]"
            ]
          },
          "metadata": {
            "tags": []
          },
          "execution_count": 8
        }
      ]
    },
    {
      "cell_type": "code",
      "metadata": {
        "id": "9YhcziILKjd6",
        "colab": {
          "base_uri": "https://localhost:8080/",
          "height": 371
        },
        "outputId": "f0350c3f-23ce-413b-fb59-d284ed80a028"
      },
      "source": [
        "#クラスの割合が分かるグラフを記載\r\n",
        "import matplotlib.pyplot as plt\r\n",
        "\r\n",
        "#ラベル毎の個数\r\n",
        "target_0=(train['TARGET']==0).sum()\r\n",
        "target_1=(train['TARGET']==1).sum()\r\n",
        "\r\n",
        "#割合\r\n",
        "target_0_par=target_0/train.shape[0]\r\n",
        "target_1_par=target_1/train.shape[0]\r\n",
        "\r\n",
        "print(target_0)\r\n",
        "\r\n",
        "plt.pie([target_0_par,target_1_par],labels=['target_0','target_1'],autopct=\"%1.1f%%\")"
      ],
      "execution_count": 10,
      "outputs": [
        {
          "output_type": "stream",
          "text": [
            "282686\n"
          ],
          "name": "stdout"
        },
        {
          "output_type": "execute_result",
          "data": {
            "text/plain": [
              "([<matplotlib.patches.Wedge at 0x7f4ad34cd2b0>,\n",
              "  <matplotlib.patches.Wedge at 0x7f4ad34cda20>],\n",
              " [Text(-1.0648123216659293, 0.27599768047650985, 'target_0'),\n",
              "  Text(1.0648123152057372, -0.27599770540024077, 'target_1')],\n",
              " [Text(-0.5808067209086887, 0.15054418935082356, '91.9%'),\n",
              "  Text(0.5808067173849475, -0.15054420294558588, '8.1%')])"
            ]
          },
          "metadata": {
            "tags": []
          },
          "execution_count": 10
        },
        {
          "output_type": "display_data",
          "data": {
            "image/png": "[encoded data removed]",
            "text/plain": [
              "<Figure size 432x288 with 1 Axes>"
            ]
          },
          "metadata": {
            "tags": []
          }
        }
      ]
    },
    {
      "cell_type": "markdown",
      "metadata": {
        "id": "7wHbDlcMLl5h"
      },
      "source": [
        "問題3 課題設定"
      ]
    },
    {
      "cell_type": "code",
      "metadata": {
        "colab": {
          "base_uri": "https://localhost:8080/",
          "height": 35
        },
        "id": "AhC_Bdh3LpHU",
        "outputId": "55784664-719f-4246-ec3f-25a6ef5b9dbe"
      },
      "source": [
        "\"\"\"\r\n",
        "課題1 目的変数に対して強く相関のある説明変数は何か。信用度を高める主要な要因が何か\r\n",
        "\r\n",
        "疑問1 DAYS_BIRTH, DAYS_EMPLOYEE,DAYS_LAST_PHONE_CHANGEはなぜマイナス値なのか\r\n",
        " \r\n",
        "\"\"\"\r\n"
      ],
      "execution_count": 27,
      "outputs": [
        {
          "output_type": "execute_result",
          "data": {
            "application/vnd.google.colaboratory.intrinsic+json": {
              "type": "string"
            },
            "text/plain": [
              "'\\n課題1 目的変数に対して強く相関のある説明変数は何か。信用度を高める主要な要因が何か\\n\\n疑問1 DAYS_BIRTH, DAYS_EMPLOYEE,DAYS_LAST_PHONE_CHANGEはなぜマイナス値なのか\\n \\n'"
            ]
          },
          "metadata": {
            "tags": []
          },
          "execution_count": 27
        }
      ]
    },
    {
      "cell_type": "markdown",
      "metadata": {
        "id": "MYtwLXQGPBAA"
      },
      "source": [
        "問題4 データ探索"
      ]
    },
    {
      "cell_type": "code",
      "metadata": {
        "colab": {
          "base_uri": "https://localhost:8080/",
          "height": 53
        },
        "id": "cIdLbsDJOwJY",
        "outputId": "1b089dfa-3066-46ff-f1bc-61f0b9a27890"
      },
      "source": [
        "\"\"\"\r\n",
        "#欠損値の削除\r\n",
        "\r\n",
        "#5つ以上欠損値がある特徴量（列）は削除\r\n",
        "train2=train.dropna(thresh=200000, axis=1)\r\n",
        "#欠損値があるサンプル（行）は削除する\r\n",
        "train3=train2.dropna(how='any',axis=0)\r\n",
        "print(train3)\r\n",
        "\r\n",
        "train3.info()\r\n",
        "\r\n",
        "\"\"\""
      ],
      "execution_count": 28,
      "outputs": [
        {
          "output_type": "execute_result",
          "data": {
            "application/vnd.google.colaboratory.intrinsic+json": {
              "type": "string"
            },
            "text/plain": [
              "\"\\n#欠損値の削除\\n\\n#5つ以上欠損値がある特徴量（列）は削除\\ntrain2=train.dropna(thresh=200000, axis=1)\\n#欠損値があるサンプル（行）は削除する\\ntrain3=train2.dropna(how='any',axis=0)\\nprint(train3)\\n\\ntrain3.info()\\n\\n\""
            ]
          },
          "metadata": {
            "tags": []
          },
          "execution_count": 28
        }
      ]
    },
    {
      "cell_type": "code",
      "metadata": {
        "id": "hS5ZHLMgRqY4",
        "colab": {
          "base_uri": "https://localhost:8080/",
          "height": 410
        },
        "outputId": "eccc11bf-0c80-42ab-c009-5d3d44515948"
      },
      "source": [
        "#各説明変数と目的変数との関係\r\n",
        "import seaborn as ns\r\n",
        "\r\n",
        "train3=train\r\n",
        "#相関行列の作成\r\n",
        "cor=train3.corr()\r\n",
        "corr_y = pd.DataFrame({\"corr_y\":cor['TARGET']},index=None) #corでは文字列の列は削除されている\r\n",
        "#print(corr_y)\r\n",
        "\r\n",
        "#±0.5以上の特徴量を抽出→10個\r\n",
        "select_cols = corr_y[corr_y[\"corr_y\"].abs()>0.06]\r\n",
        "print(select_cols)\r\n",
        "\r\n",
        "#相関が±0.5以上のヒートマップ\r\n",
        "ns.heatmap(select_cols,\r\n",
        "            square=True,\r\n",
        "            xticklabels=select_cols.columns.values,\r\n",
        "            yticklabels=select_cols.index.values)\r\n"
      ],
      "execution_count": 32,
      "outputs": [
        {
          "output_type": "stream",
          "text": [
            "                               corr_y\n",
            "TARGET                       1.000000\n",
            "DAYS_BIRTH                   0.078239\n",
            "REGION_RATING_CLIENT_W_CITY  0.060893\n",
            "EXT_SOURCE_1                -0.155317\n",
            "EXT_SOURCE_2                -0.160472\n",
            "EXT_SOURCE_3                -0.178919\n"
          ],
          "name": "stdout"
        },
        {
          "output_type": "execute_result",
          "data": {
            "text/plain": [
              "<matplotlib.axes._subplots.AxesSubplot at 0x7f4776c5fc18>"
            ]
          },
          "metadata": {
            "tags": []
          },
          "execution_count": 32
        },
        {
          "output_type": "display_data",
          "data": {
            "image/png": "[encoded data removed]",
            "text/plain": [
              "<Figure size 432x288 with 2 Axes>"
            ]
          },
          "metadata": {
            "tags": [],
            "needs_background": "light"
          }
        }
      ]
    },
    {
      "cell_type": "code",
      "metadata": {
        "colab": {
          "base_uri": "https://localhost:8080/",
          "height": 463
        },
        "id": "4_b4el3_M1hP",
        "outputId": "e0a060da-9f18-4c44-bffa-8f4090ac0143"
      },
      "source": [
        "#Targetが0と1の数を1に併せて相関行列を作成:0の数が多いので、数の影響を取り除いてみる\r\n",
        "\r\n",
        "y1=train3[train3['TARGET']==1]\r\n",
        "num=y1.shape[0]\r\n",
        "\r\n",
        "#print(y1.shape)\r\n",
        "\r\n",
        "#y1の数に併せて0を抽出する\r\n",
        "y0_before=train3[train3['TARGET']==0]\r\n",
        "y0=y0_before.iloc[:num,:]\r\n",
        "#print(y0.shape)\r\n",
        "\r\n",
        "marge=pd.concat([y1,y0])\r\n",
        "\r\n",
        "cor2=marge.corr()\r\n",
        "\r\n",
        "#print(cor2)\r\n",
        "\r\n",
        "corr_y2 = pd.DataFrame({\"corr_y\":cor2['TARGET']},index=None) #corでは文字列の列は削除されている\r\n",
        "#print(corr_y)\r\n",
        "\r\n",
        "#±0.5以上の特徴量を抽出→10個\r\n",
        "select_cols2 = corr_y2[corr_y2[\"corr_y\"].abs()>0.1]\r\n",
        "print(select_cols2)\r\n",
        "\r\n",
        "#相関が±0.5以上のヒートマップ\r\n",
        "ns.heatmap(select_cols2,\r\n",
        "            square=True,\r\n",
        "            xticklabels=select_cols2.columns.values,\r\n",
        "            yticklabels=select_cols2.index.values)\r\n",
        "\"\"\"\r\n",
        "【考察】\r\n",
        "相関係数が若干改善された\r\n",
        "\"\"\""
      ],
      "execution_count": 34,
      "outputs": [
        {
          "output_type": "stream",
          "text": [
            "                               corr_y\n",
            "SK_ID_CURR                   0.743804\n",
            "TARGET                       1.000000\n",
            "DAYS_BIRTH                   0.145222\n",
            "REGION_RATING_CLIENT         0.112218\n",
            "REGION_RATING_CLIENT_W_CITY  0.115207\n",
            "EXT_SOURCE_1                -0.291715\n",
            "EXT_SOURCE_2                -0.271615\n",
            "EXT_SOURCE_3                -0.315436\n",
            "DAYS_LAST_PHONE_CHANGE       0.105134\n"
          ],
          "name": "stdout"
        },
        {
          "output_type": "execute_result",
          "data": {
            "application/vnd.google.colaboratory.intrinsic+json": {
              "type": "string"
            },
            "text/plain": [
              "'\\n【考察】\\n相関係数が若干改善された\\n'"
            ]
          },
          "metadata": {
            "tags": []
          },
          "execution_count": 34
        },
        {
          "output_type": "display_data",
          "data": {
            "image/png": "[encoded data removed]",
            "text/plain": [
              "<Figure size 432x288 with 2 Axes>"
            ]
          },
          "metadata": {
            "tags": [],
            "needs_background": "light"
          }
        }
      ]
    },
    {
      "cell_type": "code",
      "metadata": {
        "colab": {
          "base_uri": "https://localhost:8080/",
          "height": 322
        },
        "id": "qLBgByKdybNk",
        "outputId": "e4e95d46-2364-4118-b670-8c419c75909b"
      },
      "source": [
        "#TRARGETの0と1毎の説明変数の平均値を棒グラフを可視化\r\n",
        "#target0と1であまり差はない\r\n",
        "\r\n",
        "import matplotlib.pyplot as plt\r\n",
        "\r\n",
        "#DAYS_BIRTH\r\n",
        "name='DAYS_BIRTH'\r\n",
        "y0_1=y0.loc[:,name].mean()\r\n",
        "y1_1=y1.loc[:,name].mean()\r\n",
        "\r\n",
        "print(y0_1)\r\n",
        "print(y1_1)\r\n",
        "\r\n",
        "x=['target:0','target:1']\r\n",
        "y=[y0_1,y1_1]\r\n",
        "\r\n",
        "plt.bar(x,y)\r\n"
      ],
      "execution_count": 35,
      "outputs": [
        {
          "output_type": "stream",
          "text": [
            "-16140.312104733131\n",
            "-14884.82807653575\n"
          ],
          "name": "stdout"
        },
        {
          "output_type": "execute_result",
          "data": {
            "text/plain": [
              "<BarContainer object of 2 artists>"
            ]
          },
          "metadata": {
            "tags": []
          },
          "execution_count": 35
        },
        {
          "output_type": "display_data",
          "data": {
            "image/png": "[encoded data removed]",
            "text/plain": [
              "<Figure size 432x288 with 1 Axes>"
            ]
          },
          "metadata": {
            "tags": [],
            "needs_background": "light"
          }
        }
      ]
    },
    {
      "cell_type": "code",
      "metadata": {
        "colab": {
          "base_uri": "https://localhost:8080/",
          "height": 318
        },
        "id": "RmOLLXcVA8mE",
        "outputId": "4d45eb9f-1652-4670-ee60-6b541f427101"
      },
      "source": [
        "#REGION_RATING_CLIENT\r\n",
        "#住地域の評価が高い程、若干、貸し倒れになりやすい傾向\r\n",
        "\r\n",
        "name='REGION_RATING_CLIENT'\r\n",
        "y0_3=y0.loc[:,name].mean()\r\n",
        "y1_3=y1.loc[:,name].mean()\r\n",
        "\r\n",
        "print(y0_3)\r\n",
        "print(y1_3)\r\n",
        "\r\n",
        "x=['target:0','target:1']\r\n",
        "y=[y0_3,y1_3]\r\n",
        "\r\n",
        "plt.bar(x,y)"
      ],
      "execution_count": 38,
      "outputs": [
        {
          "output_type": "stream",
          "text": [
            "2.039274924471299\n",
            "2.1536354481369586\n"
          ],
          "name": "stdout"
        },
        {
          "output_type": "execute_result",
          "data": {
            "text/plain": [
              "<BarContainer object of 2 artists>"
            ]
          },
          "metadata": {
            "tags": []
          },
          "execution_count": 38
        },
        {
          "output_type": "display_data",
          "data": {
            "image/png": "[encoded data removed]",
            "text/plain": [
              "<Figure size 432x288 with 1 Axes>"
            ]
          },
          "metadata": {
            "tags": [],
            "needs_background": "light"
          }
        }
      ]
    },
    {
      "cell_type": "code",
      "metadata": {
        "colab": {
          "base_uri": "https://localhost:8080/",
          "height": 318
        },
        "id": "NPM6uTO4BIus",
        "outputId": "8b059c4c-09ee-4680-ad3f-3d6c14d8c822"
      },
      "source": [
        "#REGION_RATING_CLIENT_W_CITY\r\n",
        "\r\n",
        "name='REGION_RATING_CLIENT_W_CITY'\r\n",
        "y0_4=y0.loc[:,name].mean()\r\n",
        "y1_4=y1.loc[:,name].mean()\r\n",
        "\r\n",
        "print(y0_4)\r\n",
        "print(y1_4)\r\n",
        "\r\n",
        "x=['target:0','target:1']\r\n",
        "y=[y0_4,y1_4]\r\n",
        "\r\n",
        "plt.bar(x,y)"
      ],
      "execution_count": 39,
      "outputs": [
        {
          "output_type": "stream",
          "text": [
            "2.0186505538771398\n",
            "2.1348237663645517\n"
          ],
          "name": "stdout"
        },
        {
          "output_type": "execute_result",
          "data": {
            "text/plain": [
              "<BarContainer object of 2 artists>"
            ]
          },
          "metadata": {
            "tags": []
          },
          "execution_count": 39
        },
        {
          "output_type": "display_data",
          "data": {
            "image/png": "[encoded data removed]",
            "text/plain": [
              "<Figure size 432x288 with 1 Axes>"
            ]
          },
          "metadata": {
            "tags": [],
            "needs_background": "light"
          }
        }
      ]
    },
    {
      "cell_type": "code",
      "metadata": {
        "colab": {
          "base_uri": "https://localhost:8080/",
          "height": 318
        },
        "id": "lTSxCVnBCijM",
        "outputId": "15888373-2bfb-4718-b798-f9fa3205c016"
      },
      "source": [
        "#EXT_SOURCE_1\r\n",
        "#本説明変数が高いと、target0の割合が高い\r\n",
        "\r\n",
        "import matplotlib.pyplot as plt\r\n",
        "\r\n",
        "#EXT_SOURCE_1\r\n",
        "name='EXT_SOURCE_1'\r\n",
        "y0_5=y0.loc[:,name].mean()\r\n",
        "y1_5=y1.loc[:,name].mean()\r\n",
        "\r\n",
        "print(y0_5)\r\n",
        "print(y1_5)\r\n",
        "\r\n",
        "x=['target:0','target:1']\r\n",
        "y=[y0_5,y1_5]\r\n",
        "\r\n",
        "plt.bar(x,y)"
      ],
      "execution_count": 42,
      "outputs": [
        {
          "output_type": "stream",
          "text": [
            "0.513057928455802\n",
            "0.3869681258823662\n"
          ],
          "name": "stdout"
        },
        {
          "output_type": "execute_result",
          "data": {
            "text/plain": [
              "<BarContainer object of 2 artists>"
            ]
          },
          "metadata": {
            "tags": []
          },
          "execution_count": 42
        },
        {
          "output_type": "display_data",
          "data": {
            "image/png": "[encoded data removed]",
            "text/plain": [
              "<Figure size 432x288 with 1 Axes>"
            ]
          },
          "metadata": {
            "tags": [],
            "needs_background": "light"
          }
        }
      ]
    },
    {
      "cell_type": "code",
      "metadata": {
        "colab": {
          "base_uri": "https://localhost:8080/",
          "height": 318
        },
        "id": "nxa20OvvB16W",
        "outputId": "8d2ee33e-b956-4b77-bd37-ac7bc55c6546"
      },
      "source": [
        "#EXT_SOURCE_2\r\n",
        "#外部データソースのスコアが高い程貸し倒れリスクは低い傾向\r\n",
        "\r\n",
        "name='EXT_SOURCE_2'\r\n",
        "y0_6=y0.loc[:,name].mean()\r\n",
        "y1_6=y1.loc[:,name].mean()\r\n",
        "\r\n",
        "print(y0_6)\r\n",
        "print(y1_6)\r\n",
        "\r\n",
        "x=['target:0','target:1']\r\n",
        "y=[y0_6,y1_6]\r\n",
        "\r\n",
        "plt.bar(x,y)"
      ],
      "execution_count": 43,
      "outputs": [
        {
          "output_type": "stream",
          "text": [
            "0.5237220409369434\n",
            "0.4109349069691106\n"
          ],
          "name": "stdout"
        },
        {
          "output_type": "execute_result",
          "data": {
            "text/plain": [
              "<BarContainer object of 2 artists>"
            ]
          },
          "metadata": {
            "tags": []
          },
          "execution_count": 43
        },
        {
          "output_type": "display_data",
          "data": {
            "image/png": "[encoded data removed]",
            "text/plain": [
              "<Figure size 432x288 with 1 Axes>"
            ]
          },
          "metadata": {
            "tags": [],
            "needs_background": "light"
          }
        }
      ]
    },
    {
      "cell_type": "code",
      "metadata": {
        "colab": {
          "base_uri": "https://localhost:8080/",
          "height": 318
        },
        "id": "imrm3CNACMMU",
        "outputId": "68f6864b-99a7-4720-9f90-1f20edab9aef"
      },
      "source": [
        "#EXT_SOURCE_3\r\n",
        "#外部データソースのスコアが高い程貸し倒れリスクは低い傾向\r\n",
        "\r\n",
        "name='EXT_SOURCE_3'\r\n",
        "y0_7=y0.loc[:,name].mean()\r\n",
        "y1_7=y1.loc[:,name].mean()\r\n",
        "\r\n",
        "print(y0_7)\r\n",
        "print(y1_7)\r\n",
        "\r\n",
        "x=['target:0','target:1']\r\n",
        "y=[y0_7,y1_7]\r\n",
        "\r\n",
        "plt.bar(x,y)"
      ],
      "execution_count": 44,
      "outputs": [
        {
          "output_type": "stream",
          "text": [
            "0.5221881298170749\n",
            "0.39071659090048283\n"
          ],
          "name": "stdout"
        },
        {
          "output_type": "execute_result",
          "data": {
            "text/plain": [
              "<BarContainer object of 2 artists>"
            ]
          },
          "metadata": {
            "tags": []
          },
          "execution_count": 44
        },
        {
          "output_type": "display_data",
          "data": {
            "image/png": "[encoded data removed]",
            "text/plain": [
              "<Figure size 432x288 with 1 Axes>"
            ]
          },
          "metadata": {
            "tags": [],
            "needs_background": "light"
          }
        }
      ]
    },
    {
      "cell_type": "code",
      "metadata": {
        "colab": {
          "base_uri": "https://localhost:8080/",
          "height": 322
        },
        "id": "9RSk6bJ6CaaG",
        "outputId": "7bc68188-bddf-4165-acc2-2e3eda8f0551"
      },
      "source": [
        "#DAYS_LAST_PHONE_CHANGE \r\n",
        "#日数が多い程、貸し倒れリスクは低くなる傾向\r\n",
        "name='DAYS_LAST_PHONE_CHANGE'\r\n",
        "y0_8=y0.loc[:,name].mean()\r\n",
        "y1_8=y1.loc[:,name].mean()\r\n",
        "\r\n",
        "print(y0_8)\r\n",
        "print(y1_8)\r\n",
        "\r\n",
        "x=['target:0','target:1']\r\n",
        "y=[y0_8,y1_8]\r\n",
        "\r\n",
        "plt.bar(x,y)"
      ],
      "execution_count": 45,
      "outputs": [
        {
          "output_type": "stream",
          "text": [
            "-976.973171124718\n",
            "-808.7968177240684\n"
          ],
          "name": "stdout"
        },
        {
          "output_type": "execute_result",
          "data": {
            "text/plain": [
              "<BarContainer object of 2 artists>"
            ]
          },
          "metadata": {
            "tags": []
          },
          "execution_count": 45
        },
        {
          "output_type": "display_data",
          "data": {
            "image/png": "[encoded data removed]",
            "text/plain": [
              "<Figure size 432x288 with 1 Axes>"
            ]
          },
          "metadata": {
            "tags": [],
            "needs_background": "light"
          }
        }
      ]
    },
    {
      "cell_type": "code",
      "metadata": {
        "id": "VDurzCtcCpcH"
      },
      "source": [
        "\r\n",
        "#異常値の除去　上記DAYS_BIRTH,DAYS_EMPLOYED,DAYS_LAST_PHONE_CHANGE はマイナス、且つ桁がおかしいのではと思い、外れ値があれば修正する\r\n",
        "\r\n",
        "\r\n",
        "def fix(df,i):\r\n",
        "  col = df.loc[:,i]\r\n",
        "\r\n",
        "          # 四分位数\r\n",
        "  q1 = col.describe()['25%']\r\n",
        "  q3 = col.describe()['75%']\r\n",
        "  iqr = q3 - q1 #四分位範囲\r\n",
        "\r\n",
        "  # 外れ値の基準点\r\n",
        "  outlier_min = q1 - (iqr) * 1.5\r\n",
        "  outlier_max = q3 + (iqr) * 1.5\r\n",
        "\r\n",
        "  # 範囲から外れている値を除く\r\n",
        "  col[col < outlier_min] = None\r\n",
        "  col[col > outlier_max] = None\r\n",
        "  return df\r\n",
        "\r\n",
        "\r\n"
      ],
      "execution_count": 15,
      "outputs": []
    },
    {
      "cell_type": "code",
      "metadata": {
        "id": "lkAZgA5xF-RK"
      },
      "source": [
        "#異常値除去後のグラフ"
      ],
      "execution_count": 16,
      "outputs": []
    },
    {
      "cell_type": "code",
      "metadata": {
        "colab": {
          "base_uri": "https://localhost:8080/",
          "height": 955
        },
        "id": "nmQL56bJRrqL",
        "outputId": "f8ad1e21-4e04-4b8d-8916-75745ff4edcd"
      },
      "source": [
        "i='DAYS_BIRTH'\r\n",
        "#異常値除去前と変化なし\r\n",
        "\r\n",
        "y1_new=fix(y1,i=i)\r\n",
        "y0_new=fix(y0,i=i)\r\n",
        "y1_mean1=y1_new.loc[:,i].mean()\r\n",
        "y0_mean1=y0_new.loc[:,i].mean()\r\n",
        "\r\n",
        "print(y0_mean1)\r\n",
        "print(y1_mean1)\r\n",
        "\r\n",
        "x_new=['target:0','target:1']\r\n",
        "y_new=[y0_mean1,y1_mean1]\r\n",
        "\r\n",
        "plt.bar(x_new,y_new)"
      ],
      "execution_count": 51,
      "outputs": [
        {
          "output_type": "stream",
          "text": [
            "-16140.312104733131\n",
            "-14884.82807653575\n"
          ],
          "name": "stdout"
        },
        {
          "output_type": "stream",
          "text": [
            "/usr/local/lib/python3.6/dist-packages/ipykernel_launcher.py:18: SettingWithCopyWarning: \n",
            "A value is trying to be set on a copy of a slice from a DataFrame\n",
            "\n",
            "See the caveats in the documentation: https://pandas.pydata.org/pandas-docs/stable/user_guide/indexing.html#returning-a-view-versus-a-copy\n",
            "/usr/local/lib/python3.6/dist-packages/pandas/core/series.py:1021: SettingWithCopyWarning: \n",
            "A value is trying to be set on a copy of a slice from a DataFrame\n",
            "\n",
            "See the caveats in the documentation: https://pandas.pydata.org/pandas-docs/stable/user_guide/indexing.html#returning-a-view-versus-a-copy\n",
            "  self._where(~key, value, inplace=True)\n",
            "/usr/local/lib/python3.6/dist-packages/ipykernel_launcher.py:19: SettingWithCopyWarning: \n",
            "A value is trying to be set on a copy of a slice from a DataFrame\n",
            "\n",
            "See the caveats in the documentation: https://pandas.pydata.org/pandas-docs/stable/user_guide/indexing.html#returning-a-view-versus-a-copy\n",
            "/usr/local/lib/python3.6/dist-packages/pandas/core/series.py:1021: SettingWithCopyWarning: \n",
            "A value is trying to be set on a copy of a slice from a DataFrame\n",
            "\n",
            "See the caveats in the documentation: https://pandas.pydata.org/pandas-docs/stable/user_guide/indexing.html#returning-a-view-versus-a-copy\n",
            "  self._where(~key, value, inplace=True)\n",
            "/usr/local/lib/python3.6/dist-packages/ipykernel_launcher.py:18: SettingWithCopyWarning: \n",
            "A value is trying to be set on a copy of a slice from a DataFrame\n",
            "\n",
            "See the caveats in the documentation: https://pandas.pydata.org/pandas-docs/stable/user_guide/indexing.html#returning-a-view-versus-a-copy\n",
            "/usr/local/lib/python3.6/dist-packages/pandas/core/series.py:1021: SettingWithCopyWarning: \n",
            "A value is trying to be set on a copy of a slice from a DataFrame\n",
            "\n",
            "See the caveats in the documentation: https://pandas.pydata.org/pandas-docs/stable/user_guide/indexing.html#returning-a-view-versus-a-copy\n",
            "  self._where(~key, value, inplace=True)\n",
            "/usr/local/lib/python3.6/dist-packages/ipykernel_launcher.py:19: SettingWithCopyWarning: \n",
            "A value is trying to be set on a copy of a slice from a DataFrame\n",
            "\n",
            "See the caveats in the documentation: https://pandas.pydata.org/pandas-docs/stable/user_guide/indexing.html#returning-a-view-versus-a-copy\n",
            "/usr/local/lib/python3.6/dist-packages/pandas/core/series.py:1021: SettingWithCopyWarning: \n",
            "A value is trying to be set on a copy of a slice from a DataFrame\n",
            "\n",
            "See the caveats in the documentation: https://pandas.pydata.org/pandas-docs/stable/user_guide/indexing.html#returning-a-view-versus-a-copy\n",
            "  self._where(~key, value, inplace=True)\n"
          ],
          "name": "stderr"
        },
        {
          "output_type": "execute_result",
          "data": {
            "text/plain": [
              "<BarContainer object of 2 artists>"
            ]
          },
          "metadata": {
            "tags": []
          },
          "execution_count": 51
        },
        {
          "output_type": "display_data",
          "data": {
            "image/png": "[encoded data removed]",
            "text/plain": [
              "<Figure size 432x288 with 1 Axes>"
            ]
          },
          "metadata": {
            "tags": [],
            "needs_background": "light"
          }
        }
      ]
    },
    {
      "cell_type": "code",
      "metadata": {
        "colab": {
          "base_uri": "https://localhost:8080/",
          "height": 951
        },
        "id": "L_NUgnnqA-fY",
        "outputId": "ed0c1b63-3f12-42cb-998b-af979fdd84a7"
      },
      "source": [
        "i='REGION_RATING_CLIENT'\r\n",
        "#異常値除去するとtarget0と1で傾向が変わらなくなる\r\n",
        "\r\n",
        "y1_new2=fix(y1,i=i)\r\n",
        "y0_new2=fix(y0,i=i)\r\n",
        "y1_mean2=y1_new2.loc[:,i].mean()\r\n",
        "y0_mean2=y0_new2.loc[:,i].mean()\r\n",
        "\r\n",
        "print(y0_mean2)\r\n",
        "print(y1_mean2)\r\n",
        "\r\n",
        "x_new=['target:0','target:1']\r\n",
        "y_new=[y0_mean2,y1_mean2]\r\n",
        "\r\n",
        "plt.bar(x_new,y_new)"
      ],
      "execution_count": 52,
      "outputs": [
        {
          "output_type": "stream",
          "text": [
            "2.0\n",
            "2.0\n"
          ],
          "name": "stdout"
        },
        {
          "output_type": "stream",
          "text": [
            "/usr/local/lib/python3.6/dist-packages/ipykernel_launcher.py:18: SettingWithCopyWarning: \n",
            "A value is trying to be set on a copy of a slice from a DataFrame\n",
            "\n",
            "See the caveats in the documentation: https://pandas.pydata.org/pandas-docs/stable/user_guide/indexing.html#returning-a-view-versus-a-copy\n",
            "/usr/local/lib/python3.6/dist-packages/pandas/core/series.py:1021: SettingWithCopyWarning: \n",
            "A value is trying to be set on a copy of a slice from a DataFrame\n",
            "\n",
            "See the caveats in the documentation: https://pandas.pydata.org/pandas-docs/stable/user_guide/indexing.html#returning-a-view-versus-a-copy\n",
            "  self._where(~key, value, inplace=True)\n",
            "/usr/local/lib/python3.6/dist-packages/ipykernel_launcher.py:19: SettingWithCopyWarning: \n",
            "A value is trying to be set on a copy of a slice from a DataFrame\n",
            "\n",
            "See the caveats in the documentation: https://pandas.pydata.org/pandas-docs/stable/user_guide/indexing.html#returning-a-view-versus-a-copy\n",
            "/usr/local/lib/python3.6/dist-packages/pandas/core/series.py:1021: SettingWithCopyWarning: \n",
            "A value is trying to be set on a copy of a slice from a DataFrame\n",
            "\n",
            "See the caveats in the documentation: https://pandas.pydata.org/pandas-docs/stable/user_guide/indexing.html#returning-a-view-versus-a-copy\n",
            "  self._where(~key, value, inplace=True)\n",
            "/usr/local/lib/python3.6/dist-packages/ipykernel_launcher.py:18: SettingWithCopyWarning: \n",
            "A value is trying to be set on a copy of a slice from a DataFrame\n",
            "\n",
            "See the caveats in the documentation: https://pandas.pydata.org/pandas-docs/stable/user_guide/indexing.html#returning-a-view-versus-a-copy\n",
            "/usr/local/lib/python3.6/dist-packages/pandas/core/series.py:1021: SettingWithCopyWarning: \n",
            "A value is trying to be set on a copy of a slice from a DataFrame\n",
            "\n",
            "See the caveats in the documentation: https://pandas.pydata.org/pandas-docs/stable/user_guide/indexing.html#returning-a-view-versus-a-copy\n",
            "  self._where(~key, value, inplace=True)\n",
            "/usr/local/lib/python3.6/dist-packages/ipykernel_launcher.py:19: SettingWithCopyWarning: \n",
            "A value is trying to be set on a copy of a slice from a DataFrame\n",
            "\n",
            "See the caveats in the documentation: https://pandas.pydata.org/pandas-docs/stable/user_guide/indexing.html#returning-a-view-versus-a-copy\n",
            "/usr/local/lib/python3.6/dist-packages/pandas/core/series.py:1021: SettingWithCopyWarning: \n",
            "A value is trying to be set on a copy of a slice from a DataFrame\n",
            "\n",
            "See the caveats in the documentation: https://pandas.pydata.org/pandas-docs/stable/user_guide/indexing.html#returning-a-view-versus-a-copy\n",
            "  self._where(~key, value, inplace=True)\n"
          ],
          "name": "stderr"
        },
        {
          "output_type": "execute_result",
          "data": {
            "text/plain": [
              "<BarContainer object of 2 artists>"
            ]
          },
          "metadata": {
            "tags": []
          },
          "execution_count": 52
        },
        {
          "output_type": "display_data",
          "data": {
            "image/png": "[encoded data removed]",
            "text/plain": [
              "<Figure size 432x288 with 1 Axes>"
            ]
          },
          "metadata": {
            "tags": [],
            "needs_background": "light"
          }
        }
      ]
    },
    {
      "cell_type": "code",
      "metadata": {
        "colab": {
          "base_uri": "https://localhost:8080/",
          "height": 951
        },
        "id": "rgsPFZeVEwmp",
        "outputId": "874f1ee9-ad13-44aa-d019-b8b98c4af216"
      },
      "source": [
        "i='REGION_RATING_CLIENT_W_CITY'\r\n",
        "#異常値除去するとtarget0と1で傾向が変わらなくなる\r\n",
        "\r\n",
        "y1_new3=fix(y1,i=i)\r\n",
        "y0_new3=fix(y0,i=i)\r\n",
        "y1_mean3=y1_new3.loc[:,i].mean()\r\n",
        "y0_mean3=y0_new3.loc[:,i].mean()\r\n",
        "\r\n",
        "print(y0_mean3)\r\n",
        "print(y1_mean3)\r\n",
        "\r\n",
        "x_new=['target:0','target:1']\r\n",
        "y_new=[y0_mean3,y1_mean3]\r\n",
        "\r\n",
        "plt.bar(x_new,y_new)"
      ],
      "execution_count": 53,
      "outputs": [
        {
          "output_type": "stream",
          "text": [
            "2.0\n",
            "2.0\n"
          ],
          "name": "stdout"
        },
        {
          "output_type": "stream",
          "text": [
            "/usr/local/lib/python3.6/dist-packages/ipykernel_launcher.py:18: SettingWithCopyWarning: \n",
            "A value is trying to be set on a copy of a slice from a DataFrame\n",
            "\n",
            "See the caveats in the documentation: https://pandas.pydata.org/pandas-docs/stable/user_guide/indexing.html#returning-a-view-versus-a-copy\n",
            "/usr/local/lib/python3.6/dist-packages/pandas/core/series.py:1021: SettingWithCopyWarning: \n",
            "A value is trying to be set on a copy of a slice from a DataFrame\n",
            "\n",
            "See the caveats in the documentation: https://pandas.pydata.org/pandas-docs/stable/user_guide/indexing.html#returning-a-view-versus-a-copy\n",
            "  self._where(~key, value, inplace=True)\n",
            "/usr/local/lib/python3.6/dist-packages/ipykernel_launcher.py:19: SettingWithCopyWarning: \n",
            "A value is trying to be set on a copy of a slice from a DataFrame\n",
            "\n",
            "See the caveats in the documentation: https://pandas.pydata.org/pandas-docs/stable/user_guide/indexing.html#returning-a-view-versus-a-copy\n",
            "/usr/local/lib/python3.6/dist-packages/pandas/core/series.py:1021: SettingWithCopyWarning: \n",
            "A value is trying to be set on a copy of a slice from a DataFrame\n",
            "\n",
            "See the caveats in the documentation: https://pandas.pydata.org/pandas-docs/stable/user_guide/indexing.html#returning-a-view-versus-a-copy\n",
            "  self._where(~key, value, inplace=True)\n",
            "/usr/local/lib/python3.6/dist-packages/ipykernel_launcher.py:18: SettingWithCopyWarning: \n",
            "A value is trying to be set on a copy of a slice from a DataFrame\n",
            "\n",
            "See the caveats in the documentation: https://pandas.pydata.org/pandas-docs/stable/user_guide/indexing.html#returning-a-view-versus-a-copy\n",
            "/usr/local/lib/python3.6/dist-packages/pandas/core/series.py:1021: SettingWithCopyWarning: \n",
            "A value is trying to be set on a copy of a slice from a DataFrame\n",
            "\n",
            "See the caveats in the documentation: https://pandas.pydata.org/pandas-docs/stable/user_guide/indexing.html#returning-a-view-versus-a-copy\n",
            "  self._where(~key, value, inplace=True)\n",
            "/usr/local/lib/python3.6/dist-packages/ipykernel_launcher.py:19: SettingWithCopyWarning: \n",
            "A value is trying to be set on a copy of a slice from a DataFrame\n",
            "\n",
            "See the caveats in the documentation: https://pandas.pydata.org/pandas-docs/stable/user_guide/indexing.html#returning-a-view-versus-a-copy\n",
            "/usr/local/lib/python3.6/dist-packages/pandas/core/series.py:1021: SettingWithCopyWarning: \n",
            "A value is trying to be set on a copy of a slice from a DataFrame\n",
            "\n",
            "See the caveats in the documentation: https://pandas.pydata.org/pandas-docs/stable/user_guide/indexing.html#returning-a-view-versus-a-copy\n",
            "  self._where(~key, value, inplace=True)\n"
          ],
          "name": "stderr"
        },
        {
          "output_type": "execute_result",
          "data": {
            "text/plain": [
              "<BarContainer object of 2 artists>"
            ]
          },
          "metadata": {
            "tags": []
          },
          "execution_count": 53
        },
        {
          "output_type": "display_data",
          "data": {
            "image/png": "[encoded data removed]",
            "text/plain": [
              "<Figure size 432x288 with 1 Axes>"
            ]
          },
          "metadata": {
            "tags": [],
            "needs_background": "light"
          }
        }
      ]
    },
    {
      "cell_type": "code",
      "metadata": {
        "colab": {
          "base_uri": "https://localhost:8080/",
          "height": 951
        },
        "id": "4QFMgEbOFHWn",
        "outputId": "2bf923cb-3a90-46af-f9c6-f4299b4f24bf"
      },
      "source": [
        "i='EXT_SOURCE_1'\r\n",
        "#異常値除去前と傾向は変わらない\r\n",
        "\r\n",
        "y1_new4=fix(y1,i=i)\r\n",
        "y0_new4=fix(y0,i=i)\r\n",
        "y1_mean4=y1_new4.loc[:,i].mean()\r\n",
        "y0_mean4=y0_new4.loc[:,i].mean()\r\n",
        "\r\n",
        "print(y0_mean4)\r\n",
        "print(y1_mean4)\r\n",
        "\r\n",
        "x_new=['target:0','target:1']\r\n",
        "y_new=[y0_mean4,y1_mean4]\r\n",
        "\r\n",
        "plt.bar(x_new,y_new)"
      ],
      "execution_count": 54,
      "outputs": [
        {
          "output_type": "stream",
          "text": [
            "0.513057928455802\n",
            "0.3869681258823662\n"
          ],
          "name": "stdout"
        },
        {
          "output_type": "stream",
          "text": [
            "/usr/local/lib/python3.6/dist-packages/ipykernel_launcher.py:18: SettingWithCopyWarning: \n",
            "A value is trying to be set on a copy of a slice from a DataFrame\n",
            "\n",
            "See the caveats in the documentation: https://pandas.pydata.org/pandas-docs/stable/user_guide/indexing.html#returning-a-view-versus-a-copy\n",
            "/usr/local/lib/python3.6/dist-packages/pandas/core/series.py:1021: SettingWithCopyWarning: \n",
            "A value is trying to be set on a copy of a slice from a DataFrame\n",
            "\n",
            "See the caveats in the documentation: https://pandas.pydata.org/pandas-docs/stable/user_guide/indexing.html#returning-a-view-versus-a-copy\n",
            "  self._where(~key, value, inplace=True)\n",
            "/usr/local/lib/python3.6/dist-packages/ipykernel_launcher.py:19: SettingWithCopyWarning: \n",
            "A value is trying to be set on a copy of a slice from a DataFrame\n",
            "\n",
            "See the caveats in the documentation: https://pandas.pydata.org/pandas-docs/stable/user_guide/indexing.html#returning-a-view-versus-a-copy\n",
            "/usr/local/lib/python3.6/dist-packages/pandas/core/series.py:1021: SettingWithCopyWarning: \n",
            "A value is trying to be set on a copy of a slice from a DataFrame\n",
            "\n",
            "See the caveats in the documentation: https://pandas.pydata.org/pandas-docs/stable/user_guide/indexing.html#returning-a-view-versus-a-copy\n",
            "  self._where(~key, value, inplace=True)\n",
            "/usr/local/lib/python3.6/dist-packages/ipykernel_launcher.py:18: SettingWithCopyWarning: \n",
            "A value is trying to be set on a copy of a slice from a DataFrame\n",
            "\n",
            "See the caveats in the documentation: https://pandas.pydata.org/pandas-docs/stable/user_guide/indexing.html#returning-a-view-versus-a-copy\n",
            "/usr/local/lib/python3.6/dist-packages/pandas/core/series.py:1021: SettingWithCopyWarning: \n",
            "A value is trying to be set on a copy of a slice from a DataFrame\n",
            "\n",
            "See the caveats in the documentation: https://pandas.pydata.org/pandas-docs/stable/user_guide/indexing.html#returning-a-view-versus-a-copy\n",
            "  self._where(~key, value, inplace=True)\n",
            "/usr/local/lib/python3.6/dist-packages/ipykernel_launcher.py:19: SettingWithCopyWarning: \n",
            "A value is trying to be set on a copy of a slice from a DataFrame\n",
            "\n",
            "See the caveats in the documentation: https://pandas.pydata.org/pandas-docs/stable/user_guide/indexing.html#returning-a-view-versus-a-copy\n",
            "/usr/local/lib/python3.6/dist-packages/pandas/core/series.py:1021: SettingWithCopyWarning: \n",
            "A value is trying to be set on a copy of a slice from a DataFrame\n",
            "\n",
            "See the caveats in the documentation: https://pandas.pydata.org/pandas-docs/stable/user_guide/indexing.html#returning-a-view-versus-a-copy\n",
            "  self._where(~key, value, inplace=True)\n"
          ],
          "name": "stderr"
        },
        {
          "output_type": "execute_result",
          "data": {
            "text/plain": [
              "<BarContainer object of 2 artists>"
            ]
          },
          "metadata": {
            "tags": []
          },
          "execution_count": 54
        },
        {
          "output_type": "display_data",
          "data": {
            "image/png": "[encoded data removed]",
            "text/plain": [
              "<Figure size 432x288 with 1 Axes>"
            ]
          },
          "metadata": {
            "tags": [],
            "needs_background": "light"
          }
        }
      ]
    },
    {
      "cell_type": "code",
      "metadata": {
        "colab": {
          "base_uri": "https://localhost:8080/",
          "height": 951
        },
        "id": "c8IM59uHFTlm",
        "outputId": "d98f6a14-efb7-43ef-d4df-7a1fdce67223"
      },
      "source": [
        "i='EXT_SOURCE_2'\r\n",
        "#異常値除去前と傾向は変わらない\r\n",
        "\r\n",
        "y1_new5=fix(y1,i=i)\r\n",
        "y0_new5=fix(y0,i=i)\r\n",
        "y1_mean5=y1_new5.loc[:,i].mean()\r\n",
        "y0_mean5=y0_new5.loc[:,i].mean()\r\n",
        "\r\n",
        "print(y0_mean5)\r\n",
        "print(y1_mean5)\r\n",
        "\r\n",
        "x_new=['target:0','target:1']\r\n",
        "y_new=[y0_mean5,y1_mean5]\r\n",
        "\r\n",
        "plt.bar(x_new,y_new)"
      ],
      "execution_count": 55,
      "outputs": [
        {
          "output_type": "stream",
          "text": [
            "0.5268306275933621\n",
            "0.4109349069691106\n"
          ],
          "name": "stdout"
        },
        {
          "output_type": "stream",
          "text": [
            "/usr/local/lib/python3.6/dist-packages/ipykernel_launcher.py:18: SettingWithCopyWarning: \n",
            "A value is trying to be set on a copy of a slice from a DataFrame\n",
            "\n",
            "See the caveats in the documentation: https://pandas.pydata.org/pandas-docs/stable/user_guide/indexing.html#returning-a-view-versus-a-copy\n",
            "/usr/local/lib/python3.6/dist-packages/pandas/core/series.py:1021: SettingWithCopyWarning: \n",
            "A value is trying to be set on a copy of a slice from a DataFrame\n",
            "\n",
            "See the caveats in the documentation: https://pandas.pydata.org/pandas-docs/stable/user_guide/indexing.html#returning-a-view-versus-a-copy\n",
            "  self._where(~key, value, inplace=True)\n",
            "/usr/local/lib/python3.6/dist-packages/ipykernel_launcher.py:19: SettingWithCopyWarning: \n",
            "A value is trying to be set on a copy of a slice from a DataFrame\n",
            "\n",
            "See the caveats in the documentation: https://pandas.pydata.org/pandas-docs/stable/user_guide/indexing.html#returning-a-view-versus-a-copy\n",
            "/usr/local/lib/python3.6/dist-packages/pandas/core/series.py:1021: SettingWithCopyWarning: \n",
            "A value is trying to be set on a copy of a slice from a DataFrame\n",
            "\n",
            "See the caveats in the documentation: https://pandas.pydata.org/pandas-docs/stable/user_guide/indexing.html#returning-a-view-versus-a-copy\n",
            "  self._where(~key, value, inplace=True)\n",
            "/usr/local/lib/python3.6/dist-packages/ipykernel_launcher.py:18: SettingWithCopyWarning: \n",
            "A value is trying to be set on a copy of a slice from a DataFrame\n",
            "\n",
            "See the caveats in the documentation: https://pandas.pydata.org/pandas-docs/stable/user_guide/indexing.html#returning-a-view-versus-a-copy\n",
            "/usr/local/lib/python3.6/dist-packages/pandas/core/series.py:1021: SettingWithCopyWarning: \n",
            "A value is trying to be set on a copy of a slice from a DataFrame\n",
            "\n",
            "See the caveats in the documentation: https://pandas.pydata.org/pandas-docs/stable/user_guide/indexing.html#returning-a-view-versus-a-copy\n",
            "  self._where(~key, value, inplace=True)\n",
            "/usr/local/lib/python3.6/dist-packages/ipykernel_launcher.py:19: SettingWithCopyWarning: \n",
            "A value is trying to be set on a copy of a slice from a DataFrame\n",
            "\n",
            "See the caveats in the documentation: https://pandas.pydata.org/pandas-docs/stable/user_guide/indexing.html#returning-a-view-versus-a-copy\n",
            "/usr/local/lib/python3.6/dist-packages/pandas/core/series.py:1021: SettingWithCopyWarning: \n",
            "A value is trying to be set on a copy of a slice from a DataFrame\n",
            "\n",
            "See the caveats in the documentation: https://pandas.pydata.org/pandas-docs/stable/user_guide/indexing.html#returning-a-view-versus-a-copy\n",
            "  self._where(~key, value, inplace=True)\n"
          ],
          "name": "stderr"
        },
        {
          "output_type": "execute_result",
          "data": {
            "text/plain": [
              "<BarContainer object of 2 artists>"
            ]
          },
          "metadata": {
            "tags": []
          },
          "execution_count": 55
        },
        {
          "output_type": "display_data",
          "data": {
            "image/png": "[encoded data removed]",
            "text/plain": [
              "<Figure size 432x288 with 1 Axes>"
            ]
          },
          "metadata": {
            "tags": [],
            "needs_background": "light"
          }
        }
      ]
    },
    {
      "cell_type": "code",
      "metadata": {
        "colab": {
          "base_uri": "https://localhost:8080/",
          "height": 951
        },
        "id": "7guszfK2Fdv9",
        "outputId": "9a5cd62c-a621-4373-839e-de4e1b4b4321"
      },
      "source": [
        "i='EXT_SOURCE_3'\r\n",
        "#異常値除去前と傾向は変わらない\r\n",
        "\r\n",
        "y1_new6=fix(y1,i=i)\r\n",
        "y0_new6=fix(y0,i=i)\r\n",
        "y1_mean6=y1_new6.loc[:,i].mean()\r\n",
        "y0_mean6=y0_new6.loc[:,i].mean()\r\n",
        "\r\n",
        "print(y0_mean6)\r\n",
        "print(y1_mean6)\r\n",
        "\r\n",
        "x_new=['target:0','target:1']\r\n",
        "y_new=[y0_mean6,y1_mean6]\r\n",
        "\r\n",
        "plt.bar(x_new,y_new)"
      ],
      "execution_count": 56,
      "outputs": [
        {
          "output_type": "stream",
          "text": [
            "0.5221881298170749\n",
            "0.39071659090048283\n"
          ],
          "name": "stdout"
        },
        {
          "output_type": "stream",
          "text": [
            "/usr/local/lib/python3.6/dist-packages/ipykernel_launcher.py:18: SettingWithCopyWarning: \n",
            "A value is trying to be set on a copy of a slice from a DataFrame\n",
            "\n",
            "See the caveats in the documentation: https://pandas.pydata.org/pandas-docs/stable/user_guide/indexing.html#returning-a-view-versus-a-copy\n",
            "/usr/local/lib/python3.6/dist-packages/pandas/core/series.py:1021: SettingWithCopyWarning: \n",
            "A value is trying to be set on a copy of a slice from a DataFrame\n",
            "\n",
            "See the caveats in the documentation: https://pandas.pydata.org/pandas-docs/stable/user_guide/indexing.html#returning-a-view-versus-a-copy\n",
            "  self._where(~key, value, inplace=True)\n",
            "/usr/local/lib/python3.6/dist-packages/ipykernel_launcher.py:19: SettingWithCopyWarning: \n",
            "A value is trying to be set on a copy of a slice from a DataFrame\n",
            "\n",
            "See the caveats in the documentation: https://pandas.pydata.org/pandas-docs/stable/user_guide/indexing.html#returning-a-view-versus-a-copy\n",
            "/usr/local/lib/python3.6/dist-packages/pandas/core/series.py:1021: SettingWithCopyWarning: \n",
            "A value is trying to be set on a copy of a slice from a DataFrame\n",
            "\n",
            "See the caveats in the documentation: https://pandas.pydata.org/pandas-docs/stable/user_guide/indexing.html#returning-a-view-versus-a-copy\n",
            "  self._where(~key, value, inplace=True)\n",
            "/usr/local/lib/python3.6/dist-packages/ipykernel_launcher.py:18: SettingWithCopyWarning: \n",
            "A value is trying to be set on a copy of a slice from a DataFrame\n",
            "\n",
            "See the caveats in the documentation: https://pandas.pydata.org/pandas-docs/stable/user_guide/indexing.html#returning-a-view-versus-a-copy\n",
            "/usr/local/lib/python3.6/dist-packages/pandas/core/series.py:1021: SettingWithCopyWarning: \n",
            "A value is trying to be set on a copy of a slice from a DataFrame\n",
            "\n",
            "See the caveats in the documentation: https://pandas.pydata.org/pandas-docs/stable/user_guide/indexing.html#returning-a-view-versus-a-copy\n",
            "  self._where(~key, value, inplace=True)\n",
            "/usr/local/lib/python3.6/dist-packages/ipykernel_launcher.py:19: SettingWithCopyWarning: \n",
            "A value is trying to be set on a copy of a slice from a DataFrame\n",
            "\n",
            "See the caveats in the documentation: https://pandas.pydata.org/pandas-docs/stable/user_guide/indexing.html#returning-a-view-versus-a-copy\n",
            "/usr/local/lib/python3.6/dist-packages/pandas/core/series.py:1021: SettingWithCopyWarning: \n",
            "A value is trying to be set on a copy of a slice from a DataFrame\n",
            "\n",
            "See the caveats in the documentation: https://pandas.pydata.org/pandas-docs/stable/user_guide/indexing.html#returning-a-view-versus-a-copy\n",
            "  self._where(~key, value, inplace=True)\n"
          ],
          "name": "stderr"
        },
        {
          "output_type": "execute_result",
          "data": {
            "text/plain": [
              "<BarContainer object of 2 artists>"
            ]
          },
          "metadata": {
            "tags": []
          },
          "execution_count": 56
        },
        {
          "output_type": "display_data",
          "data": {
            "image/png": "[encoded data removed]",
            "text/plain": [
              "<Figure size 432x288 with 1 Axes>"
            ]
          },
          "metadata": {
            "tags": [],
            "needs_background": "light"
          }
        }
      ]
    },
    {
      "cell_type": "code",
      "metadata": {
        "colab": {
          "base_uri": "https://localhost:8080/",
          "height": 955
        },
        "id": "y9wDkQHYFm03",
        "outputId": "bd679119-506f-4d66-da4f-9afab72f9c69"
      },
      "source": [
        "i='DAYS_LAST_PHONE_CHANGE'\r\n",
        "#異常値除去前と傾向は変わらない\r\n",
        "\r\n",
        "y1_new7=fix(y1,i=i)\r\n",
        "y0_new7=fix(y0,i=i)\r\n",
        "y1_mean7=y1_new7.loc[:,i].mean()\r\n",
        "y0_mean7=y0_new7.loc[:,i].mean()\r\n",
        "\r\n",
        "print(y0_mean7)\r\n",
        "print(y1_mean7)\r\n",
        "\r\n",
        "x_new=['target:0','target:1']\r\n",
        "y_new=[y0_mean7,y1_mean7]\r\n",
        "\r\n",
        "plt.bar(x_new,y_new)"
      ],
      "execution_count": 57,
      "outputs": [
        {
          "output_type": "stream",
          "text": [
            "-973.8038314176246\n",
            "-778.8768308106564\n"
          ],
          "name": "stdout"
        },
        {
          "output_type": "stream",
          "text": [
            "/usr/local/lib/python3.6/dist-packages/ipykernel_launcher.py:18: SettingWithCopyWarning: \n",
            "A value is trying to be set on a copy of a slice from a DataFrame\n",
            "\n",
            "See the caveats in the documentation: https://pandas.pydata.org/pandas-docs/stable/user_guide/indexing.html#returning-a-view-versus-a-copy\n",
            "/usr/local/lib/python3.6/dist-packages/pandas/core/series.py:1021: SettingWithCopyWarning: \n",
            "A value is trying to be set on a copy of a slice from a DataFrame\n",
            "\n",
            "See the caveats in the documentation: https://pandas.pydata.org/pandas-docs/stable/user_guide/indexing.html#returning-a-view-versus-a-copy\n",
            "  self._where(~key, value, inplace=True)\n",
            "/usr/local/lib/python3.6/dist-packages/ipykernel_launcher.py:19: SettingWithCopyWarning: \n",
            "A value is trying to be set on a copy of a slice from a DataFrame\n",
            "\n",
            "See the caveats in the documentation: https://pandas.pydata.org/pandas-docs/stable/user_guide/indexing.html#returning-a-view-versus-a-copy\n",
            "/usr/local/lib/python3.6/dist-packages/pandas/core/series.py:1021: SettingWithCopyWarning: \n",
            "A value is trying to be set on a copy of a slice from a DataFrame\n",
            "\n",
            "See the caveats in the documentation: https://pandas.pydata.org/pandas-docs/stable/user_guide/indexing.html#returning-a-view-versus-a-copy\n",
            "  self._where(~key, value, inplace=True)\n",
            "/usr/local/lib/python3.6/dist-packages/ipykernel_launcher.py:18: SettingWithCopyWarning: \n",
            "A value is trying to be set on a copy of a slice from a DataFrame\n",
            "\n",
            "See the caveats in the documentation: https://pandas.pydata.org/pandas-docs/stable/user_guide/indexing.html#returning-a-view-versus-a-copy\n",
            "/usr/local/lib/python3.6/dist-packages/pandas/core/series.py:1021: SettingWithCopyWarning: \n",
            "A value is trying to be set on a copy of a slice from a DataFrame\n",
            "\n",
            "See the caveats in the documentation: https://pandas.pydata.org/pandas-docs/stable/user_guide/indexing.html#returning-a-view-versus-a-copy\n",
            "  self._where(~key, value, inplace=True)\n",
            "/usr/local/lib/python3.6/dist-packages/ipykernel_launcher.py:19: SettingWithCopyWarning: \n",
            "A value is trying to be set on a copy of a slice from a DataFrame\n",
            "\n",
            "See the caveats in the documentation: https://pandas.pydata.org/pandas-docs/stable/user_guide/indexing.html#returning-a-view-versus-a-copy\n",
            "/usr/local/lib/python3.6/dist-packages/pandas/core/series.py:1021: SettingWithCopyWarning: \n",
            "A value is trying to be set on a copy of a slice from a DataFrame\n",
            "\n",
            "See the caveats in the documentation: https://pandas.pydata.org/pandas-docs/stable/user_guide/indexing.html#returning-a-view-versus-a-copy\n",
            "  self._where(~key, value, inplace=True)\n"
          ],
          "name": "stderr"
        },
        {
          "output_type": "execute_result",
          "data": {
            "text/plain": [
              "<BarContainer object of 2 artists>"
            ]
          },
          "metadata": {
            "tags": []
          },
          "execution_count": 57
        },
        {
          "output_type": "display_data",
          "data": {
            "image/png": "[encoded data removed]",
            "text/plain": [
              "<Figure size 432x288 with 1 Axes>"
            ]
          },
          "metadata": {
            "tags": [],
            "needs_background": "light"
          }
        }
      ]
    },
    {
      "cell_type": "markdown",
      "metadata": {
        "id": "WR-PLdXuF7lH"
      },
      "source": [
        "＜課題に対する手続き＞\r\n",
        "1.相関係数において、target1とtarget0の母数を揃えると、説明変数との相関がやや高く出たため、これを採用\r\n",
        "2.説明変数の異常値を除去した後、説明変数の各targetのラベル毎の平均を算出して棒グラフで可視化\r\n",
        "\r\n",
        "＜結論＞\r\n",
        "1.貸し倒れリスクが低い要因はEXT_SOURCE_1～3とDAYS_LAST_PHONE_CHANGEの高さであると考えられる。\r\n",
        "2.逆に貸し倒れリスクが高い（Target=1）の要因はつかめなかった"
      ]
    },
    {
      "cell_type": "code",
      "metadata": {
        "id": "rQG90waSF1YB"
      },
      "source": [
        ""
      ],
      "execution_count": null,
      "outputs": []
    }
  ]
}