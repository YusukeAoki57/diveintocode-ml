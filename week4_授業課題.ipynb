{
  "nbformat": 4,
  "nbformat_minor": 0,
  "metadata": {
    "colab": {
      "name": "week4_授業課題.ipynb",
      "provenance": [],
      "collapsed_sections": [],
      "authorship_tag": "ABX9TyPNOork/pqYu5ueBJCsSBmP",
      "include_colab_link": true
    },
    "kernelspec": {
      "name": "python3",
      "display_name": "Python 3"
    }
  },
  "cells": [
    {
      "cell_type": "markdown",
      "metadata": {
        "id": "view-in-github",
        "colab_type": "text"
      },
      "source": [
        "<a href=\"https://colab.research.google.com/github/YusukeAoki57/diveintocode-ml/blob/master/week4_%E6%8E%88%E6%A5%AD%E8%AA%B2%E9%A1%8C.ipynb\" target=\"_parent\"><img src=\"https://colab.research.google.com/assets/colab-badge.svg\" alt=\"Open In Colab\"/></a>"
      ]
    },
    {
      "cell_type": "code",
      "metadata": {
        "id": "E-jRyjmQVYWC"
      },
      "source": [
        ""
      ],
      "execution_count": null,
      "outputs": []
    },
    {
      "cell_type": "markdown",
      "metadata": {
        "id": "drXQXsSCVpmh"
      },
      "source": [
        "問題1コンペティション内容の把握"
      ]
    },
    {
      "cell_type": "code",
      "metadata": {
        "colab": {
          "base_uri": "https://localhost:8080/",
          "height": 53
        },
        "id": "zFRgT3dZVsfV",
        "outputId": "24e87418-bd1c-4935-a13c-6056967ebe04"
      },
      "source": [
        "\"\"\"\r\n",
        "何を学習し何を予測するのか：電話会社や取引情報などのさまざまな代替データを利用して、クライアントの返済能力を予測\r\n",
        "どのようなファイルを作りkaggleに提出するか：testデータのIDと予測値（確率）を新規ファイルにて提出する\r\n",
        "提出されたものはどういった指標値で評価されるのか：ROC\r\n",
        "\"\"\""
      ],
      "execution_count": 1,
      "outputs": [
        {
          "output_type": "execute_result",
          "data": {
            "application/vnd.google.colaboratory.intrinsic+json": {
              "type": "string"
            },
            "text/plain": [
              "'\\n何を学習し何を予測するのか：電話会社や取引情報などのさまざまな代替データを利用して、クライアントの返済能力を予測\\nどのようなファイルを作りkaggleに提出するか：testデータのIDと予測値（確率）を新規ファイルにて提出する\\n提出されたものはどういった指標値で評価されるのか：ROC\\n'"
            ]
          },
          "metadata": {
            "tags": []
          },
          "execution_count": 1
        }
      ]
    },
    {
      "cell_type": "code",
      "metadata": {
        "colab": {
          "base_uri": "https://localhost:8080/"
        },
        "id": "ihl3x96BXuFJ",
        "outputId": "5d542b38-dccc-46c0-ea75-909aff9eda18"
      },
      "source": [
        "from google.colab import drive\r\n",
        "drive.mount('/content/drive')"
      ],
      "execution_count": 2,
      "outputs": [
        {
          "output_type": "stream",
          "text": [
            "Mounted at /content/drive\n"
          ],
          "name": "stdout"
        }
      ]
    },
    {
      "cell_type": "code",
      "metadata": {
        "id": "4id0w3kpYQAi"
      },
      "source": [
        "#pd.set_option('max_columns', None)\r\n",
        "#pd.set_option('max_rows', None)"
      ],
      "execution_count": 3,
      "outputs": []
    },
    {
      "cell_type": "code",
      "metadata": {
        "id": "DBbvhlsuYe9R"
      },
      "source": [
        "import numpy as np\r\n",
        "import matplotlib.pyplot as plt"
      ],
      "execution_count": 4,
      "outputs": []
    },
    {
      "cell_type": "markdown",
      "metadata": {
        "id": "JbhlHi01Wtho"
      },
      "source": [
        "問題2&問題3 "
      ]
    },
    {
      "cell_type": "code",
      "metadata": {
        "colab": {
          "base_uri": "https://localhost:8080/"
        },
        "id": "BYSz9WrKWrKx",
        "outputId": "1c1cfb7b-b107-4fb3-ef55-92cd2bf88dba"
      },
      "source": [
        "#データセットの準備\r\n",
        "import pandas as pd \r\n",
        "train= pd.read_csv('drive/My Drive/DIVE INTO CODE/0_課題/2_week3/授業課題/data/application_train.csv')\r\n",
        "test=pd.read_csv('drive/My Drive/DIVE INTO CODE/0_課題/2_week3/授業課題/data/application_test.csv')\r\n",
        "print(train.shape)\r\n",
        "print(test.shape)"
      ],
      "execution_count": 49,
      "outputs": [
        {
          "output_type": "stream",
          "text": [
            "(307511, 122)\n",
            "(48744, 121)\n"
          ],
          "name": "stdout"
        }
      ]
    },
    {
      "cell_type": "code",
      "metadata": {
        "colab": {
          "base_uri": "https://localhost:8080/"
        },
        "id": "g-xPC6fuXLvo",
        "outputId": "afb5f196-2d86-460b-8910-43a57499ff75"
      },
      "source": [
        "#欠損値の確認\r\n",
        "def null_check(train,test):\r\n",
        "    in_t=[]\r\n",
        "    in_t2=[]\r\n",
        "    total1=[]\r\n",
        "    total2=[]\r\n",
        "    missing_ratio1=[]\r\n",
        "    missing_ratio2=[]\r\n",
        "    for i in train.columns:\r\n",
        "      if i=='TARGET':\r\n",
        "        continue\r\n",
        "      else:\r\n",
        "        in_t.append(i)\r\n",
        "        total1.append(train[i].isnull().sum())\r\n",
        "        missing_ratio1.append(train[i].isnull().sum()/len(train)*100)\r\n",
        "      \r\n",
        "    for i in test.columns:\r\n",
        "      in_t2.append(i)\r\n",
        "      total2.append(test[i].isnull().sum())\r\n",
        "      missing_ratio2.append(test[i].isnull().sum()/len(train)*100)\r\n",
        "   \r\n",
        "    matrix=np.array([total1,missing_ratio1,total2, missing_ratio2]).T\r\n",
        "    col=['total_train','missing_ratio_train','total_test','missing_ratio_test']\r\n",
        "    df = pd.DataFrame(matrix, columns=col, index=in_t)\r\n",
        "    df1=df[df.total_train>0]\r\n",
        "    return df1\r\n",
        "df=null_check(train,test)\r\n",
        "print(df)"
      ],
      "execution_count": 50,
      "outputs": [
        {
          "output_type": "stream",
          "text": [
            "                            total_train  ...  missing_ratio_test\n",
            "AMT_ANNUITY                        12.0  ...            0.007805\n",
            "AMT_GOODS_PRICE                   278.0  ...            0.000000\n",
            "NAME_TYPE_SUITE                  1292.0  ...            0.296250\n",
            "OWN_CAR_AGE                    202929.0  ...           10.507592\n",
            "OCCUPATION_TYPE                 96391.0  ...            5.074615\n",
            "...                                 ...  ...                 ...\n",
            "AMT_REQ_CREDIT_BUREAU_DAY       41519.0  ...            1.967084\n",
            "AMT_REQ_CREDIT_BUREAU_WEEK      41519.0  ...            1.967084\n",
            "AMT_REQ_CREDIT_BUREAU_MON       41519.0  ...            1.967084\n",
            "AMT_REQ_CREDIT_BUREAU_QRT       41519.0  ...            1.967084\n",
            "AMT_REQ_CREDIT_BUREAU_YEAR      41519.0  ...            1.967084\n",
            "\n",
            "[67 rows x 4 columns]\n"
          ],
          "name": "stdout"
        }
      ]
    },
    {
      "cell_type": "code",
      "metadata": {
        "colab": {
          "base_uri": "https://localhost:8080/"
        },
        "id": "xMW7BIO-YXlx",
        "outputId": "61986251-c9fc-437f-d221-d9f27da34e7b"
      },
      "source": [
        "#欠損値削除(train目線での削除)：trainとtestで共通且つtrainで50,000以上欠損値があるカラムを削除\r\n",
        "\r\n",
        "drop_index = df[df['total_train']>=40000].index.tolist()\r\n",
        "\r\n",
        "train_new=train.drop(drop_index, axis=1)\r\n",
        "test_new=test.drop(drop_index, axis=1)\r\n",
        "\r\n",
        "print(train_new.shape)\r\n",
        "train_new2=train_new.dropna(how='any',axis=0)\r\n",
        "print(train_new2)\r\n",
        "print(test_new)"
      ],
      "execution_count": 51,
      "outputs": [
        {
          "output_type": "stream",
          "text": [
            "(307511, 65)\n",
            "        SK_ID_CURR  TARGET  ... FLAG_DOCUMENT_20 FLAG_DOCUMENT_21\n",
            "0           100002       1  ...                0                0\n",
            "1           100003       0  ...                0                0\n",
            "2           100004       0  ...                0                0\n",
            "3           100006       0  ...                0                0\n",
            "4           100007       0  ...                0                0\n",
            "...            ...     ...  ...              ...              ...\n",
            "307506      456251       0  ...                0                0\n",
            "307507      456252       0  ...                0                0\n",
            "307508      456253       0  ...                0                0\n",
            "307509      456254       1  ...                0                0\n",
            "307510      456255       0  ...                0                0\n",
            "\n",
            "[304531 rows x 65 columns]\n",
            "       SK_ID_CURR NAME_CONTRACT_TYPE  ... FLAG_DOCUMENT_20 FLAG_DOCUMENT_21\n",
            "0          100001         Cash loans  ...                0                0\n",
            "1          100005         Cash loans  ...                0                0\n",
            "2          100013         Cash loans  ...                0                0\n",
            "3          100028         Cash loans  ...                0                0\n",
            "4          100038         Cash loans  ...                0                0\n",
            "...           ...                ...  ...              ...              ...\n",
            "48739      456221         Cash loans  ...                0                0\n",
            "48740      456222         Cash loans  ...                0                0\n",
            "48741      456223         Cash loans  ...                0                0\n",
            "48742      456224         Cash loans  ...                0                0\n",
            "48743      456250         Cash loans  ...                0                0\n",
            "\n",
            "[48744 rows x 64 columns]\n"
          ],
          "name": "stdout"
        }
      ]
    },
    {
      "cell_type": "code",
      "metadata": {
        "colab": {
          "base_uri": "https://localhost:8080/"
        },
        "id": "QYIpbolAkQS5",
        "outputId": "2d4674df-05db-4fc4-8fb3-ccf73083b9bd"
      },
      "source": [
        "#欠損値削除(test目線での削除)：trainとtestで共通且つtrainで50,000以上欠損値があるカラムを削除\r\n",
        "\r\n",
        "#欠損値の確認\r\n",
        "def null_check(train,test):\r\n",
        "    in_t=[]\r\n",
        "    in_t2=[]\r\n",
        "    total1=[]\r\n",
        "    total2=[]\r\n",
        "    missing_ratio1=[]\r\n",
        "    missing_ratio2=[]\r\n",
        "    for i in train.columns:\r\n",
        "      if i=='TARGET':\r\n",
        "        continue\r\n",
        "      else:\r\n",
        "        in_t.append(i)\r\n",
        "        total1.append(train[i].isnull().sum())\r\n",
        "        missing_ratio1.append(train[i].isnull().sum()/len(train)*100)\r\n",
        "      \r\n",
        "    for i in test.columns:\r\n",
        "      in_t2.append(i)\r\n",
        "      total2.append(test[i].isnull().sum())\r\n",
        "      missing_ratio2.append(test[i].isnull().sum()/len(train)*100)\r\n",
        "   \r\n",
        "    matrix=np.array([total1,missing_ratio1,total2, missing_ratio2]).T\r\n",
        "    col=['total_train','missing_ratio_train','total_test','missing_ratio_test']\r\n",
        "    df = pd.DataFrame(matrix, columns=col, index=in_t)\r\n",
        "    df1=df[df.total_test>0]\r\n",
        "    return df1\r\n",
        "df=null_check(train_new2,test_new)\r\n",
        "print(df)\r\n",
        "\r\n"
      ],
      "execution_count": 52,
      "outputs": [
        {
          "output_type": "stream",
          "text": [
            "                          total_train  ...  missing_ratio_test\n",
            "AMT_ANNUITY                       0.0  ...            0.007881\n",
            "NAME_TYPE_SUITE                   0.0  ...            0.299149\n",
            "EXT_SOURCE_2                      0.0  ...            0.002627\n",
            "OBS_30_CNT_SOCIAL_CIRCLE          0.0  ...            0.009523\n",
            "DEF_30_CNT_SOCIAL_CIRCLE          0.0  ...            0.009523\n",
            "OBS_60_CNT_SOCIAL_CIRCLE          0.0  ...            0.009523\n",
            "DEF_60_CNT_SOCIAL_CIRCLE          0.0  ...            0.009523\n",
            "\n",
            "[7 rows x 4 columns]\n"
          ],
          "name": "stdout"
        }
      ]
    },
    {
      "cell_type": "code",
      "metadata": {
        "colab": {
          "base_uri": "https://localhost:8080/"
        },
        "id": "vaFY632aqbu2",
        "outputId": "09f98b38-4eee-4d50-ea62-7e0a0b36a4f4"
      },
      "source": [
        "#欠損値の削除（test目線）\r\n",
        "drop_index = df[df['total_test']>=20].index.tolist()\r\n",
        "\r\n",
        "train_new3=train_new2.drop(drop_index, axis=1)\r\n",
        "test_new2=test_new.drop(drop_index, axis=1)\r\n",
        "print(train_new3.shape)\r\n",
        "print(test_new2.shape)\r\n",
        "\r\n",
        "test_new3=test_new2.dropna(how='any',axis=0)\r\n",
        "\r\n",
        "#欠損値の確認\r\n",
        "df=null_check(train_new3,test_new3)\r\n",
        "print(df)"
      ],
      "execution_count": 53,
      "outputs": [
        {
          "output_type": "stream",
          "text": [
            "(304531, 59)\n",
            "(48744, 58)\n",
            "Empty DataFrame\n",
            "Columns: [total_train, missing_ratio_train, total_test, missing_ratio_test]\n",
            "Index: []\n"
          ],
          "name": "stdout"
        }
      ]
    },
    {
      "cell_type": "code",
      "metadata": {
        "colab": {
          "base_uri": "https://localhost:8080/"
        },
        "id": "odAzqBm16kKm",
        "outputId": "2f88ad89-164b-4d56-cb89-4b20670f34d4"
      },
      "source": [
        "#文字列を含むカラムの確認\r\n",
        "train_new3.dtypes\r\n",
        "print(train_new3.dtypes)\r\n",
        "#u = train_new3['ORGANIZATION_TYPE'].unique()\r\n",
        "print(u)\r\n",
        "#文字列→数値型へ変換\r\n",
        "\r\n",
        "#NAME_CONTRACT_TYPE\r\n",
        "train_new3['NAME_CONTRACT_TYPE']=train_new3.loc[:,'NAME_CONTRACT_TYPE'].map({'Cash loans':1,'Revolving loans':2})\r\n",
        "test_new3['NAME_CONTRACT_TYPE']=test_new3.loc[:,'NAME_CONTRACT_TYPE'].map({'Cash loans':1,'Revolving loans':2})\r\n",
        "#print(train_new3.shape)\r\n",
        "\r\n",
        "#CODE_GENDER\r\n",
        "train_new3['CODE_GENDER']=train_new3.loc[:,'CODE_GENDER'].map({'F':1,'M':2,'XNA':3})\r\n",
        "test_new3['CODE_GENDER']=test_new3.loc[:,'CODE_GENDER'].map({'F':1,'M':2,'XNA':3})\r\n",
        "#print(train_new3.loc[:100,'CODE_GENDER'])\r\n",
        "\r\n",
        "#FLAG_OWN_CAR\r\n",
        "train_new3['FLAG_OWN_CAR']=train_new3.loc[:,'FLAG_OWN_CAR'].map({'N':1,'Y':2})\r\n",
        "test_new3['FLAG_OWN_CAR']=test_new3.loc[:,'FLAG_OWN_CAR'].map({'N':1,'Y':2})\r\n",
        "#print(train_new3.loc[:100,'FLAG_OWN_CAR'])\r\n",
        "\r\n",
        "#FLAG_OWN_REALTY\r\n",
        "train_new3['FLAG_OWN_REALTY']=train_new3.loc[:,'FLAG_OWN_REALTY'].map({'Y':1,'N':2})\r\n",
        "test_new3['FLAG_OWN_REALTY']=test_new3.loc[:,'FLAG_OWN_REALTY'].map({'Y':1,'N':2})\r\n",
        "#print(train_new3.loc[:100,'FLAG_OWN_REALTY'])\r\n",
        "\r\n",
        "#NAME_INCOME_TYPE\r\n",
        "train_new3['NAME_INCOME_TYPE']=train_new3.loc[:,'NAME_INCOME_TYPE'].map({'Working':1,'State servant':2,'Commercial associate':3,'Pensioner':4,'Unemployed':5,\r\n",
        "                                                                         'Student':6,'Businessman':7,'Maternity leave':8})\r\n",
        "test_new3['NAME_INCOME_TYPE']=test_new3.loc[:,'NAME_INCOME_TYPE'].map({'Working':1,'State servant':2,'Commercial associate':3,'Pensioner':4,'Unemployed':5,\r\n",
        "                                                                         'Student':6,'Businessman':7,'Maternity leave':8})\r\n",
        "#print(train_new3.loc[:100,'NAME_INCOME_TYPE'])\r\n",
        "\r\n",
        "#NAME_EDUCATION_TYPE\r\n",
        "train_new3['NAME_EDUCATION_TYPE']=train_new3.loc[:,'NAME_EDUCATION_TYPE'].map({'Secondary / secondary special':1,'Higher education':2,'Incomplete higher':3,\r\n",
        "                                                                               'Lower secondary':4,'Academic degree':5})\r\n",
        "test_new3['NAME_EDUCATION_TYPE']=test_new3.loc[:,'NAME_EDUCATION_TYPE'].map({'Secondary / secondary special':1,'Higher education':2,'Incomplete higher':3,\r\n",
        "                                                                             'Lower secondary':4,'Academic degree':5})\r\n",
        "#print(train_new3.loc[:100,'NAME_EDUCATION_TYPE'])\r\n",
        "\r\n",
        "#NAME_FAMILY_STATUS\r\n",
        "train_new3['NAME_FAMILY_STATUS']=train_new3.loc[:,'NAME_FAMILY_STATUS'].map({'Single / not married':1,'Married':2,'Civil marriage':3,'Widow':4,'Separated':5})\r\n",
        "test_new3['NAME_FAMILY_STATUS']=test_new3.loc[:,'NAME_FAMILY_STATUS'].map({'Single / not married':1,'Married':2,'Civil marriage':3,'Widow':4,'Separated':5})\r\n",
        "#print(train_new3.loc[:100,'NAME_FAMILY_STATUS'])\r\n",
        "\r\n",
        "\r\n",
        "#NAME_HOUSING_TYPE\r\n",
        "train_new3['NAME_HOUSING_TYPE']=train_new3.loc[:,'NAME_HOUSING_TYPE'].map({'House / apartment':1,'Rented apartment':2,'With parents':3,\r\n",
        "                                                                             'Municipal apartment':4,'Office apartment':5,'Co-op apartment':6})\r\n",
        "test_new3['NAME_HOUSING_TYPE']=test_new3.loc[:,'NAME_HOUSING_TYPE'].map({'House / apartment':1,'Rented apartment':2,'With parents':3,\r\n",
        "                                                                             'Municipal apartment':4,'Office apartment':5,'Co-op apartment':6})\r\n",
        "#print(train_new3.loc[:100,'NAME_HOUSING_TYPE'])\r\n",
        "\r\n",
        "#WEEKDAY_APPR_PROCESS_START\r\n",
        "train_new3=train_new3.drop('WEEKDAY_APPR_PROCESS_START', axis=1)\r\n",
        "test_new3=test_new3.drop('WEEKDAY_APPR_PROCESS_START', axis=1)\r\n",
        "\r\n",
        "#'ORGANIZATION_TYPE'\r\n",
        "train_new3=train_new3.drop('ORGANIZATION_TYPE', axis=1)\r\n",
        "test_new3=test_new3.drop('ORGANIZATION_TYPE', axis=1)\r\n"
      ],
      "execution_count": 54,
      "outputs": [
        {
          "output_type": "stream",
          "text": [
            "SK_ID_CURR                       int64\n",
            "TARGET                           int64\n",
            "NAME_CONTRACT_TYPE              object\n",
            "CODE_GENDER                     object\n",
            "FLAG_OWN_CAR                    object\n",
            "FLAG_OWN_REALTY                 object\n",
            "CNT_CHILDREN                     int64\n",
            "AMT_INCOME_TOTAL               float64\n",
            "AMT_CREDIT                     float64\n",
            "AMT_GOODS_PRICE                float64\n",
            "NAME_INCOME_TYPE                object\n",
            "NAME_EDUCATION_TYPE             object\n",
            "NAME_FAMILY_STATUS              object\n",
            "NAME_HOUSING_TYPE               object\n",
            "REGION_POPULATION_RELATIVE     float64\n",
            "DAYS_BIRTH                       int64\n",
            "DAYS_EMPLOYED                    int64\n",
            "DAYS_REGISTRATION              float64\n",
            "DAYS_ID_PUBLISH                  int64\n",
            "FLAG_MOBIL                       int64\n",
            "FLAG_EMP_PHONE                   int64\n",
            "FLAG_WORK_PHONE                  int64\n",
            "FLAG_CONT_MOBILE                 int64\n",
            "FLAG_PHONE                       int64\n",
            "FLAG_EMAIL                       int64\n",
            "CNT_FAM_MEMBERS                float64\n",
            "REGION_RATING_CLIENT             int64\n",
            "REGION_RATING_CLIENT_W_CITY      int64\n",
            "WEEKDAY_APPR_PROCESS_START      object\n",
            "HOUR_APPR_PROCESS_START          int64\n",
            "REG_REGION_NOT_LIVE_REGION       int64\n",
            "REG_REGION_NOT_WORK_REGION       int64\n",
            "LIVE_REGION_NOT_WORK_REGION      int64\n",
            "REG_CITY_NOT_LIVE_CITY           int64\n",
            "REG_CITY_NOT_WORK_CITY           int64\n",
            "LIVE_CITY_NOT_WORK_CITY          int64\n",
            "ORGANIZATION_TYPE               object\n",
            "EXT_SOURCE_2                   float64\n",
            "DAYS_LAST_PHONE_CHANGE         float64\n",
            "FLAG_DOCUMENT_2                  int64\n",
            "FLAG_DOCUMENT_3                  int64\n",
            "FLAG_DOCUMENT_4                  int64\n",
            "FLAG_DOCUMENT_5                  int64\n",
            "FLAG_DOCUMENT_6                  int64\n",
            "FLAG_DOCUMENT_7                  int64\n",
            "FLAG_DOCUMENT_8                  int64\n",
            "FLAG_DOCUMENT_9                  int64\n",
            "FLAG_DOCUMENT_10                 int64\n",
            "FLAG_DOCUMENT_11                 int64\n",
            "FLAG_DOCUMENT_12                 int64\n",
            "FLAG_DOCUMENT_13                 int64\n",
            "FLAG_DOCUMENT_14                 int64\n",
            "FLAG_DOCUMENT_15                 int64\n",
            "FLAG_DOCUMENT_16                 int64\n",
            "FLAG_DOCUMENT_17                 int64\n",
            "FLAG_DOCUMENT_18                 int64\n",
            "FLAG_DOCUMENT_19                 int64\n",
            "FLAG_DOCUMENT_20                 int64\n",
            "FLAG_DOCUMENT_21                 int64\n",
            "dtype: object\n",
            "['Business Entity Type 3' 'School' 'Government' 'Religion' 'Other' 'XNA'\n",
            " 'Electricity' 'Medicine' 'Business Entity Type 2' 'Self-employed'\n",
            " 'Transport: type 2' 'Construction' 'Housing' 'Kindergarten'\n",
            " 'Trade: type 7' 'Industry: type 11' 'Military' 'Services'\n",
            " 'Security Ministries' 'Transport: type 4' 'Industry: type 1' 'Emergency'\n",
            " 'Security' 'Trade: type 2' 'University' 'Police' 'Business Entity Type 1'\n",
            " 'Postal' 'Transport: type 3' 'Industry: type 4' 'Agriculture'\n",
            " 'Restaurant' 'Culture' 'Hotel' 'Industry: type 7' 'Trade: type 3'\n",
            " 'Industry: type 3' 'Bank' 'Industry: type 9' 'Insurance' 'Trade: type 6'\n",
            " 'Industry: type 2' 'Transport: type 1' 'Industry: type 12' 'Mobile'\n",
            " 'Trade: type 1' 'Industry: type 5' 'Industry: type 10' 'Legal Services'\n",
            " 'Advertising' 'Trade: type 5' 'Cleaning' 'Industry: type 13'\n",
            " 'Trade: type 4' 'Telecom' 'Industry: type 8' 'Realtor' 'Industry: type 6']\n"
          ],
          "name": "stdout"
        },
        {
          "output_type": "stream",
          "text": [
            "/usr/local/lib/python3.6/dist-packages/ipykernel_launcher.py:10: SettingWithCopyWarning: \n",
            "A value is trying to be set on a copy of a slice from a DataFrame.\n",
            "Try using .loc[row_indexer,col_indexer] = value instead\n",
            "\n",
            "See the caveats in the documentation: https://pandas.pydata.org/pandas-docs/stable/user_guide/indexing.html#returning-a-view-versus-a-copy\n",
            "  # Remove the CWD from sys.path while we load stuff.\n",
            "/usr/local/lib/python3.6/dist-packages/ipykernel_launcher.py:15: SettingWithCopyWarning: \n",
            "A value is trying to be set on a copy of a slice from a DataFrame.\n",
            "Try using .loc[row_indexer,col_indexer] = value instead\n",
            "\n",
            "See the caveats in the documentation: https://pandas.pydata.org/pandas-docs/stable/user_guide/indexing.html#returning-a-view-versus-a-copy\n",
            "  from ipykernel import kernelapp as app\n",
            "/usr/local/lib/python3.6/dist-packages/ipykernel_launcher.py:20: SettingWithCopyWarning: \n",
            "A value is trying to be set on a copy of a slice from a DataFrame.\n",
            "Try using .loc[row_indexer,col_indexer] = value instead\n",
            "\n",
            "See the caveats in the documentation: https://pandas.pydata.org/pandas-docs/stable/user_guide/indexing.html#returning-a-view-versus-a-copy\n",
            "/usr/local/lib/python3.6/dist-packages/ipykernel_launcher.py:25: SettingWithCopyWarning: \n",
            "A value is trying to be set on a copy of a slice from a DataFrame.\n",
            "Try using .loc[row_indexer,col_indexer] = value instead\n",
            "\n",
            "See the caveats in the documentation: https://pandas.pydata.org/pandas-docs/stable/user_guide/indexing.html#returning-a-view-versus-a-copy\n",
            "/usr/local/lib/python3.6/dist-packages/ipykernel_launcher.py:32: SettingWithCopyWarning: \n",
            "A value is trying to be set on a copy of a slice from a DataFrame.\n",
            "Try using .loc[row_indexer,col_indexer] = value instead\n",
            "\n",
            "See the caveats in the documentation: https://pandas.pydata.org/pandas-docs/stable/user_guide/indexing.html#returning-a-view-versus-a-copy\n",
            "/usr/local/lib/python3.6/dist-packages/ipykernel_launcher.py:39: SettingWithCopyWarning: \n",
            "A value is trying to be set on a copy of a slice from a DataFrame.\n",
            "Try using .loc[row_indexer,col_indexer] = value instead\n",
            "\n",
            "See the caveats in the documentation: https://pandas.pydata.org/pandas-docs/stable/user_guide/indexing.html#returning-a-view-versus-a-copy\n",
            "/usr/local/lib/python3.6/dist-packages/ipykernel_launcher.py:44: SettingWithCopyWarning: \n",
            "A value is trying to be set on a copy of a slice from a DataFrame.\n",
            "Try using .loc[row_indexer,col_indexer] = value instead\n",
            "\n",
            "See the caveats in the documentation: https://pandas.pydata.org/pandas-docs/stable/user_guide/indexing.html#returning-a-view-versus-a-copy\n",
            "/usr/local/lib/python3.6/dist-packages/ipykernel_launcher.py:52: SettingWithCopyWarning: \n",
            "A value is trying to be set on a copy of a slice from a DataFrame.\n",
            "Try using .loc[row_indexer,col_indexer] = value instead\n",
            "\n",
            "See the caveats in the documentation: https://pandas.pydata.org/pandas-docs/stable/user_guide/indexing.html#returning-a-view-versus-a-copy\n"
          ],
          "name": "stderr"
        }
      ]
    },
    {
      "cell_type": "code",
      "metadata": {
        "colab": {
          "base_uri": "https://localhost:8080/"
        },
        "id": "V4wbBxHQUASl",
        "outputId": "1832dcaf-a18c-408b-e14c-1a7f5b19d0fa"
      },
      "source": [
        "train_new3.dtypes\r\n",
        "print(train_new3.dtypes)\r\n"
      ],
      "execution_count": 55,
      "outputs": [
        {
          "output_type": "stream",
          "text": [
            "SK_ID_CURR                       int64\n",
            "TARGET                           int64\n",
            "NAME_CONTRACT_TYPE               int64\n",
            "CODE_GENDER                      int64\n",
            "FLAG_OWN_CAR                     int64\n",
            "FLAG_OWN_REALTY                  int64\n",
            "CNT_CHILDREN                     int64\n",
            "AMT_INCOME_TOTAL               float64\n",
            "AMT_CREDIT                     float64\n",
            "AMT_GOODS_PRICE                float64\n",
            "NAME_INCOME_TYPE                 int64\n",
            "NAME_EDUCATION_TYPE              int64\n",
            "NAME_FAMILY_STATUS               int64\n",
            "NAME_HOUSING_TYPE                int64\n",
            "REGION_POPULATION_RELATIVE     float64\n",
            "DAYS_BIRTH                       int64\n",
            "DAYS_EMPLOYED                    int64\n",
            "DAYS_REGISTRATION              float64\n",
            "DAYS_ID_PUBLISH                  int64\n",
            "FLAG_MOBIL                       int64\n",
            "FLAG_EMP_PHONE                   int64\n",
            "FLAG_WORK_PHONE                  int64\n",
            "FLAG_CONT_MOBILE                 int64\n",
            "FLAG_PHONE                       int64\n",
            "FLAG_EMAIL                       int64\n",
            "CNT_FAM_MEMBERS                float64\n",
            "REGION_RATING_CLIENT             int64\n",
            "REGION_RATING_CLIENT_W_CITY      int64\n",
            "HOUR_APPR_PROCESS_START          int64\n",
            "REG_REGION_NOT_LIVE_REGION       int64\n",
            "REG_REGION_NOT_WORK_REGION       int64\n",
            "LIVE_REGION_NOT_WORK_REGION      int64\n",
            "REG_CITY_NOT_LIVE_CITY           int64\n",
            "REG_CITY_NOT_WORK_CITY           int64\n",
            "LIVE_CITY_NOT_WORK_CITY          int64\n",
            "EXT_SOURCE_2                   float64\n",
            "DAYS_LAST_PHONE_CHANGE         float64\n",
            "FLAG_DOCUMENT_2                  int64\n",
            "FLAG_DOCUMENT_3                  int64\n",
            "FLAG_DOCUMENT_4                  int64\n",
            "FLAG_DOCUMENT_5                  int64\n",
            "FLAG_DOCUMENT_6                  int64\n",
            "FLAG_DOCUMENT_7                  int64\n",
            "FLAG_DOCUMENT_8                  int64\n",
            "FLAG_DOCUMENT_9                  int64\n",
            "FLAG_DOCUMENT_10                 int64\n",
            "FLAG_DOCUMENT_11                 int64\n",
            "FLAG_DOCUMENT_12                 int64\n",
            "FLAG_DOCUMENT_13                 int64\n",
            "FLAG_DOCUMENT_14                 int64\n",
            "FLAG_DOCUMENT_15                 int64\n",
            "FLAG_DOCUMENT_16                 int64\n",
            "FLAG_DOCUMENT_17                 int64\n",
            "FLAG_DOCUMENT_18                 int64\n",
            "FLAG_DOCUMENT_19                 int64\n",
            "FLAG_DOCUMENT_20                 int64\n",
            "FLAG_DOCUMENT_21                 int64\n",
            "dtype: object\n"
          ],
          "name": "stdout"
        }
      ]
    },
    {
      "cell_type": "code",
      "metadata": {
        "colab": {
          "base_uri": "https://localhost:8080/",
          "height": 446
        },
        "id": "gssdUzUBrUUZ",
        "outputId": "5afba3c8-7a40-4aaf-e64a-637e3fbab8c8"
      },
      "source": [
        "#相関係数\r\n",
        "import seaborn as sns\r\n",
        "#相関行列の作成\r\n",
        "cor=train_new3.corr()\r\n",
        "corr_y = pd.DataFrame({\"corr_y\":cor['TARGET']},index=None) #corでは文字列の列は削除されている\r\n",
        "#print(corr_y)\r\n",
        "\r\n",
        "#±0.5以上の特徴量を抽出→10個\r\n",
        "select_cols = corr_y[corr_y[\"corr_y\"].abs()>0.055]\r\n",
        "print(select_cols)\r\n",
        "\r\n",
        "#相関が±0.5以上のヒートマップ\r\n",
        "sns.heatmap(select_cols,\r\n",
        "            square=True,\r\n",
        "            xticklabels=select_cols.columns.values,\r\n",
        "            yticklabels=select_cols.index.values)\r\n",
        "\r\n",
        "\"\"\"\r\n",
        "EXIT_SORCE_2、DAYS_BIRTH、REGION_RATING_CLIENT_W_CITYでまずは推定\r\n",
        "\r\n",
        "\"\"\""
      ],
      "execution_count": 136,
      "outputs": [
        {
          "output_type": "stream",
          "text": [
            "                               corr_y\n",
            "TARGET                       1.000000\n",
            "CODE_GENDER                  0.055210\n",
            "NAME_INCOME_TYPE            -0.057163\n",
            "DAYS_BIRTH                   0.078636\n",
            "REGION_RATING_CLIENT         0.058904\n",
            "REGION_RATING_CLIENT_W_CITY  0.060900\n",
            "EXT_SOURCE_2                -0.160819\n",
            "DAYS_LAST_PHONE_CHANGE       0.055887\n"
          ],
          "name": "stdout"
        },
        {
          "output_type": "execute_result",
          "data": {
            "application/vnd.google.colaboratory.intrinsic+json": {
              "type": "string"
            },
            "text/plain": [
              "'\\nEXIT_SORCE_2、DAYS_BIRTH、REGION_RATING_CLIENT_W_CITYでまずは推定\\n\\n'"
            ]
          },
          "metadata": {
            "tags": []
          },
          "execution_count": 136
        },
        {
          "output_type": "display_data",
          "data": {
            "image/png": "[encoded data removed]",
            "text/plain": [
              "<Figure size 432x288 with 2 Axes>"
            ]
          },
          "metadata": {
            "tags": [],
            "needs_background": "light"
          }
        }
      ]
    },
    {
      "cell_type": "code",
      "metadata": {
        "colab": {
          "base_uri": "https://localhost:8080/"
        },
        "id": "5llv_Z4dsswS",
        "outputId": "6a35e30f-ed02-401d-e8ce-a5e9bb9bed62"
      },
      "source": [
        "#説明変数をEXIT_SORCE_2として推定\r\n",
        "\r\n",
        "from sklearn.linear_model import LogisticRegression\r\n",
        "from sklearn.model_selection import train_test_split\r\n",
        "\r\n",
        "\r\n",
        "#訓練データとテストデータに分割\r\n",
        "\r\n",
        "x_train, x_test, y_train, y_test = train_test_split(train_new3.loc[:,'EXT_SOURCE_2'], train_new3.loc[:, \"TARGET\"], test_size=0.05, random_state=42)\r\n",
        "\r\n",
        "ntest_y=y_test.shape[0]\r\n",
        "x_test2=test_new3.loc[:ntest_y+1,'EXT_SOURCE_2']\r\n",
        "print(x_test2.shape)\r\n",
        "print(y_test.shape)\r\n",
        "\r\n",
        "#np化\r\n",
        "x_train1=np.array(x_train).reshape(-1,1)\r\n",
        "y_train1=np.array(y_train)\r\n",
        "x_test1=np.array(x_test2).reshape(-1,1)\r\n",
        "y_test1=np.array(y_test)\r\n",
        "\r\n",
        "def Linear(x_train,x_test,y_train):\r\n",
        "  lg = LogisticRegression(random_state=0, class_weight='balanced', C=500)\r\n",
        "  lg.fit(x_train, y_train)\r\n",
        "  lg.fit(x_train, y_train)\r\n",
        "  y_pred = lg.predict_proba(x_test)[:,1]\r\n",
        "  return y_pred\r\n",
        "\r\n",
        "y_pred1=Linear(x_train1,x_test1,y_train1)\r\n"
      ],
      "execution_count": 93,
      "outputs": [
        {
          "output_type": "stream",
          "text": [
            "(15227,)\n",
            "(15227,)\n"
          ],
          "name": "stdout"
        }
      ]
    },
    {
      "cell_type": "code",
      "metadata": {
        "id": "w_wmDIFn5KEW",
        "colab": {
          "base_uri": "https://localhost:8080/"
        },
        "outputId": "e67a640c-401f-48b2-c3e8-60f8ca3a9c42"
      },
      "source": [
        "#評価\r\n",
        "from sklearn.metrics import roc_auc_score\r\n",
        "print(\"ROC\",  roc_auc_score(y_test1,y_pred1))"
      ],
      "execution_count": 94,
      "outputs": [
        {
          "output_type": "stream",
          "text": [
            "ROC 0.5107155012098298\n"
          ],
          "name": "stdout"
        }
      ]
    },
    {
      "cell_type": "markdown",
      "metadata": {
        "id": "917xuntbg-t6"
      },
      "source": [
        "問題4 特徴量エンジニアリング"
      ]
    },
    {
      "cell_type": "code",
      "metadata": {
        "colab": {
          "base_uri": "https://localhost:8080/"
        },
        "id": "Q7lZawz6bYSd",
        "outputId": "732561da-972e-41ef-cda2-43d0ccfef3ba"
      },
      "source": [
        "#EXT_SOURCE_2とDAYS_BIRTHの組み合わせ\r\n",
        "\r\n",
        "x1=pd.concat([train_new3.loc[:,'EXT_SOURCE_2'],train_new3.loc[:,'CODE_GENDER'],],axis=1)\r\n",
        "#print(x1.shape)\r\n",
        "\r\n",
        "x_train1, x_test1, y_train1, y_test1 = train_test_split(x1,train_new3.loc[:, \"TARGET\"], test_size=0.05, random_state=42)\r\n",
        "\r\n",
        "\r\n",
        "ntest_y=y_test1.shape[0]\r\n",
        "x_test3=pd.concat([test_new3.loc[:,'EXT_SOURCE_2'],test_new3.loc[:,'DAYS_BIRTH']],axis=1)\r\n",
        "x_test4=x_test3.iloc[:ntest_y,0:]\r\n",
        "#print(x_test4.shape)\r\n",
        "#print(y_test1.shape)\r\n",
        "\r\n",
        "#np化\r\n",
        "x_train3=np.array(x_train1)\r\n",
        "y_train3=np.array(y_train1)\r\n",
        "print(x_train3.shape)\r\n",
        "print(y_train3.shape)\r\n",
        "x_test5=np.array(x_test4)\r\n",
        "y_test4=np.array(y_test1)\r\n",
        "\r\n",
        "def Linear(x_train,x_test,y_train):\r\n",
        "  lg = LogisticRegression(random_state=0, class_weight='balanced', C=500)\r\n",
        "  lg.fit(x_train, y_train)\r\n",
        "  lg.fit(x_train, y_train)\r\n",
        "  y_pred = lg.predict_proba(x_test)[:,1]\r\n",
        "  return y_pred\r\n",
        "\r\n",
        "y_pred2=Linear(x_train3,x_test5,y_train3)\r\n",
        "print(y_pred2.shape)\r\n",
        "print(y_test4.shape)"
      ],
      "execution_count": 134,
      "outputs": [
        {
          "output_type": "stream",
          "text": [
            "(289304, 2)\n",
            "(289304,)\n",
            "(15227,)\n",
            "(15227,)\n"
          ],
          "name": "stdout"
        }
      ]
    },
    {
      "cell_type": "code",
      "metadata": {
        "colab": {
          "base_uri": "https://localhost:8080/"
        },
        "id": "uG1KAkcgeIyM",
        "outputId": "fa8fecd8-1199-4c50-f5b7-c922196cd2a5"
      },
      "source": [
        "#評価1\r\n",
        "from sklearn.metrics import roc_auc_score\r\n",
        "print(\"ROC\",  roc_auc_score(y_test4,y_pred2))"
      ],
      "execution_count": 135,
      "outputs": [
        {
          "output_type": "stream",
          "text": [
            "ROC 0.49024014785978676\n"
          ],
          "name": "stdout"
        }
      ]
    },
    {
      "cell_type": "code",
      "metadata": {
        "colab": {
          "base_uri": "https://localhost:8080/"
        },
        "id": "zee5XculjLaX",
        "outputId": "1aee9c7f-a440-4b2b-c17b-e0adcf058329"
      },
      "source": [
        "#相関係数0.55以上の組み合わせ\r\n",
        "\"\"\"\r\n",
        "CODE_GENDER                  0.055210\r\n",
        "NAME_INCOME_TYPE            -0.057163\r\n",
        "DAYS_BIRTH                   0.078636\r\n",
        "REGION_RATING_CLIENT         0.058904\r\n",
        "REGION_RATING_CLIENT_W_CITY  0.060900\r\n",
        "EXT_SOURCE_2                -0.160819\r\n",
        "DAYS_LAST_PHONE_CHANGE       0.055887\r\n",
        "\"\"\"\r\n",
        "\r\n",
        "x2=pd.concat([train_new3.loc[:,'EXT_SOURCE_2'],train_new3.loc[:,'DAYS_BIRTH'],train_new3.loc[:,'CODE_GENDER'],train_new3.loc[:,'REGION_RATING_CLIENT'],train_new3.loc[:,'REGION_RATING_CLIENT_W_CITY'],\r\n",
        "             train_new3.loc[:,'DAYS_LAST_PHONE_CHANGE']],axis=1)\r\n",
        "#print(x1.shape)\r\n",
        "\r\n",
        "x_train10, x_test10, y_train10, y_test10 = train_test_split(x2,train_new3.loc[:, \"TARGET\"], test_size=0.05, random_state=42)\r\n",
        "\r\n",
        "\r\n",
        "ntest_y=y_test10.shape[0]\r\n",
        "x_test11=pd.concat([test_new3.loc[:,'EXT_SOURCE_2'],test_new3.loc[:,'DAYS_BIRTH'],test_new3.loc[:,'CODE_GENDER'],test_new3.loc[:,'REGION_RATING_CLIENT'],test_new3.loc[:,'REGION_RATING_CLIENT_W_CITY'],\r\n",
        "             test_new3.loc[:,'DAYS_LAST_PHONE_CHANGE']],axis=1)\r\n",
        "x_test12=x_test11.iloc[:ntest_y,0:]\r\n",
        "#print(x_test4.shape)\r\n",
        "#print(y_test1.shape)\r\n",
        "\r\n",
        "#np化\r\n",
        "x_train13=np.array(x_train10)\r\n",
        "y_train13=np.array(y_train10)\r\n",
        "print(x_train13.shape)\r\n",
        "print(y_train13.shape)\r\n",
        "x_test13=np.array(x_test12)\r\n",
        "y_test13=np.array(y_test10)\r\n",
        "\r\n",
        "def Linear(x_train,x_test,y_train):\r\n",
        "  lg = LogisticRegression(random_state=0, class_weight='balanced', C=500)\r\n",
        "  lg.fit(x_train, y_train)\r\n",
        "  lg.fit(x_train, y_train)\r\n",
        "  y_pred = lg.predict_proba(x_test)[:,1]\r\n",
        "  return y_pred\r\n",
        "\r\n",
        "y_pred3=Linear(x_train13,x_test13,y_train13)\r\n",
        "print(y_pred3.shape)\r\n",
        "print(y_test13.shape)"
      ],
      "execution_count": 138,
      "outputs": [
        {
          "output_type": "stream",
          "text": [
            "(289304, 6)\n",
            "(289304,)\n",
            "(15227,)\n",
            "(15227,)\n"
          ],
          "name": "stdout"
        }
      ]
    },
    {
      "cell_type": "code",
      "metadata": {
        "colab": {
          "base_uri": "https://localhost:8080/"
        },
        "id": "ZC-EtPDYlG3b",
        "outputId": "a817830b-07a2-4c79-c72d-95f234d8a724"
      },
      "source": [
        "#評価2\r\n",
        "from sklearn.metrics import roc_auc_score\r\n",
        "print(\"ROC\",  roc_auc_score(y_test13,y_pred3))"
      ],
      "execution_count": 139,
      "outputs": [
        {
          "output_type": "stream",
          "text": [
            "ROC 0.5091101068180067\n"
          ],
          "name": "stdout"
        }
      ]
    },
    {
      "cell_type": "code",
      "metadata": {
        "colab": {
          "base_uri": "https://localhost:8080/"
        },
        "id": "f7U41svJlQTF",
        "outputId": "6bfb2c55-e51c-4c05-d3d4-4addf0139e0a"
      },
      "source": [
        "#相関係数がマイナスのものだけ\r\n",
        "#EXT_SOURCE_2とNAME_INCOME_TYPEの組み合わせ\r\n",
        "\r\n",
        "x3=pd.concat([train_new3.loc[:,'EXT_SOURCE_2'],train_new3.loc[:,'NAME_INCOME_TYPE'],],axis=1)\r\n",
        "#print(x1.shape)\r\n",
        "\r\n",
        "x_train20, x_test20, y_train20, y_test20 = train_test_split(x3,train_new3.loc[:, \"TARGET\"], test_size=0.05, random_state=42)\r\n",
        "\r\n",
        "\r\n",
        "ntest_y=y_test20.shape[0]\r\n",
        "x_test21=pd.concat([test_new3.loc[:,'EXT_SOURCE_2'],test_new3.loc[:,'NAME_INCOME_TYPE']],axis=1)\r\n",
        "x_test22=x_test21.iloc[:ntest_y,0:]\r\n",
        "#print(x_test4.shape)\r\n",
        "#print(y_test1.shape)\r\n",
        "\r\n",
        "#np化\r\n",
        "x_train23=np.array(x_train20)\r\n",
        "y_train23=np.array(y_train20)\r\n",
        "print(x_train3.shape)\r\n",
        "print(y_train3.shape)\r\n",
        "x_test23=np.array(x_test22)\r\n",
        "y_test23=np.array(y_test20)\r\n",
        "\r\n",
        "def Linear(x_train,x_test,y_train):\r\n",
        "  lg = LogisticRegression(random_state=0, class_weight='balanced', C=500)\r\n",
        "  lg.fit(x_train, y_train)\r\n",
        "  lg.fit(x_train, y_train)\r\n",
        "  y_pred = lg.predict_proba(x_test)[:,1]\r\n",
        "  return y_pred\r\n",
        "\r\n",
        "y_pred4=Linear(x_train23,x_test23,y_train23)\r\n",
        "print(y_pred4.shape)\r\n",
        "print(y_test23.shape)"
      ],
      "execution_count": 142,
      "outputs": [
        {
          "output_type": "stream",
          "text": [
            "(289304, 2)\n",
            "(289304,)\n",
            "(15227,)\n",
            "(15227,)\n"
          ],
          "name": "stdout"
        }
      ]
    },
    {
      "cell_type": "code",
      "metadata": {
        "colab": {
          "base_uri": "https://localhost:8080/"
        },
        "id": "xncYnsBSlneX",
        "outputId": "e26e728d-6d17-4080-b249-948d8872f385"
      },
      "source": [
        "#評価3\r\n",
        "from sklearn.metrics import roc_auc_score\r\n",
        "print(\"ROC\",  roc_auc_score(y_test23,y_pred4))"
      ],
      "execution_count": 143,
      "outputs": [
        {
          "output_type": "stream",
          "text": [
            "ROC 0.505233188542471\n"
          ],
          "name": "stdout"
        }
      ]
    },
    {
      "cell_type": "code",
      "metadata": {
        "colab": {
          "base_uri": "https://localhost:8080/"
        },
        "id": "w3JofnQnl_to",
        "outputId": "dd79dd54-ac54-4694-cadd-9f789b20b149"
      },
      "source": [
        "#相関係数が0.06以上のものだけ\r\n",
        "\r\n",
        "\"\"\"\r\n",
        "DAYS_BIRTH                   0.078636\r\n",
        "REGION_RATING_CLIENT_W_CITY  0.060900\r\n",
        "EXT_SOURCE_2                -0.160819\r\n",
        "\"\"\"\r\n",
        "\r\n",
        "\r\n",
        "x5=pd.concat([train_new3.loc[:,'EXT_SOURCE_2'],train_new3.loc[:,'DAYS_BIRTH'],train_new3.loc[:,'REGION_RATING_CLIENT']],axis=1)\r\n",
        "#print(x1.shape)\r\n",
        "\r\n",
        "x_train30, x_test30, y_train30, y_test30 = train_test_split(x5,train_new3.loc[:, \"TARGET\"], test_size=0.05, random_state=42)\r\n",
        "\r\n",
        "\r\n",
        "ntest_y=y_test30.shape[0]\r\n",
        "x_test31=pd.concat([test_new3.loc[:,'EXT_SOURCE_2'],test_new3.loc[:,'DAYS_BIRTH'],test_new3.loc[:,'REGION_RATING_CLIENT']],axis=1)\r\n",
        "x_test32=x_test31.iloc[:ntest_y,0:]\r\n",
        "#print(x_test4.shape)\r\n",
        "#print(y_test1.shape)\r\n",
        "\r\n",
        "#np化\r\n",
        "x_train33=np.array(x_train30)\r\n",
        "y_train33=np.array(y_train30)\r\n",
        "print(x_train33.shape)\r\n",
        "print(y_train33.shape)\r\n",
        "x_test33=np.array(x_test32)\r\n",
        "y_test33=np.array(y_test30)\r\n",
        "\r\n",
        "def Linear(x_train,x_test,y_train):\r\n",
        "  lg = LogisticRegression(random_state=0, class_weight='balanced', C=500)\r\n",
        "  lg.fit(x_train, y_train)\r\n",
        "  lg.fit(x_train, y_train)\r\n",
        "  y_pred = lg.predict_proba(x_test)[:,1]\r\n",
        "  return y_pred\r\n",
        "\r\n",
        "y_pred5=Linear(x_train33,x_test33,y_train33)\r\n",
        "print(y_pred5.shape)\r\n",
        "print(y_test33.shape)"
      ],
      "execution_count": 147,
      "outputs": [
        {
          "output_type": "stream",
          "text": [
            "(289304, 3)\n",
            "(289304,)\n",
            "(15227,)\n",
            "(15227,)\n"
          ],
          "name": "stdout"
        }
      ]
    },
    {
      "cell_type": "code",
      "metadata": {
        "colab": {
          "base_uri": "https://localhost:8080/"
        },
        "id": "nMSwt68HmpY8",
        "outputId": "02c833ce-e051-498c-9f37-7de42e6624bc"
      },
      "source": [
        "#評価4\r\n",
        "from sklearn.metrics import roc_auc_score\r\n",
        "print(\"ROC\",  roc_auc_score(y_test33,y_pred5))"
      ],
      "execution_count": 148,
      "outputs": [
        {
          "output_type": "stream",
          "text": [
            "ROC 0.49024082582542877\n"
          ],
          "name": "stdout"
        }
      ]
    },
    {
      "cell_type": "code",
      "metadata": {
        "colab": {
          "base_uri": "https://localhost:8080/",
          "height": 392
        },
        "id": "Z8JlqW74ms2V",
        "outputId": "2cee3a68-f5a5-46d1-d6f2-199defc0a887"
      },
      "source": [
        "#EXT_SORCE_2と相関が強い特徴量の抽出\r\n",
        "#相関行列の作成\r\n",
        "cor=train_new3.corr()\r\n",
        "corr_y = pd.DataFrame({\"corr_y\":cor['EXT_SOURCE_2']},index=None) #corでは文字列の列は削除されている\r\n",
        "#print(corr_y)\r\n",
        "\r\n",
        "#±0.5以上の特徴量を抽出→10個\r\n",
        "select_cols = corr_y[corr_y[\"corr_y\"].abs()>0.19]\r\n",
        "print(select_cols)\r\n",
        "\r\n",
        "#相関が±0.5以上のヒートマップ\r\n",
        "sns.heatmap(select_cols,\r\n",
        "            square=True,\r\n",
        "            xticklabels=select_cols.columns.values,\r\n",
        "            yticklabels=select_cols.index.values)\r\n"
      ],
      "execution_count": 154,
      "outputs": [
        {
          "output_type": "stream",
          "text": [
            "                               corr_y\n",
            "REGION_POPULATION_RELATIVE   0.198651\n",
            "REGION_RATING_CLIENT        -0.292444\n",
            "REGION_RATING_CLIENT_W_CITY -0.287918\n",
            "EXT_SOURCE_2                 1.000000\n",
            "DAYS_LAST_PHONE_CHANGE      -0.196644\n"
          ],
          "name": "stdout"
        },
        {
          "output_type": "execute_result",
          "data": {
            "text/plain": [
              "<matplotlib.axes._subplots.AxesSubplot at 0x7fdade543588>"
            ]
          },
          "metadata": {
            "tags": []
          },
          "execution_count": 154
        },
        {
          "output_type": "display_data",
          "data": {
            "image/png": "[encoded data removed]",
            "text/plain": [
              "<Figure size 432x288 with 2 Axes>"
            ]
          },
          "metadata": {
            "tags": [],
            "needs_background": "light"
          }
        }
      ]
    },
    {
      "cell_type": "code",
      "metadata": {
        "colab": {
          "base_uri": "https://localhost:8080/"
        },
        "id": "zAuv6v6EpHNq",
        "outputId": "8a223052-0dc3-458d-b71e-62ddcd4d3d9c"
      },
      "source": [
        "#EXT_SOURCE_2と相関が0.19以上のもの且つTARGETと相関が強いもので推定・評価\r\n",
        "\r\n",
        "x10=pd.concat([train_new3.loc[:,'EXT_SOURCE_2'],train_new3.loc[:,'REGION_RATING_CLIENT'],train_new3.loc[:,'REGION_RATING_CLIENT_W_CITY'],\r\n",
        "             train_new3.loc[:,'DAYS_LAST_PHONE_CHANGE']],axis=1)\r\n",
        "#print(x1.shape)\r\n",
        "\r\n",
        "x_train40, x_test40, y_train40, y_test40 = train_test_split(x10,train_new3.loc[:, \"TARGET\"], test_size=0.05, random_state=42)\r\n",
        "\r\n",
        "\r\n",
        "ntest_y=y_test40.shape[0]\r\n",
        "x_test41=pd.concat([test_new3.loc[:,'EXT_SOURCE_2'],test_new3.loc[:,'REGION_RATING_CLIENT'],test_new3.loc[:,'REGION_RATING_CLIENT_W_CITY'],\r\n",
        "             test_new3.loc[:,'DAYS_LAST_PHONE_CHANGE']],axis=1)\r\n",
        "x_test42=x_test41.iloc[:ntest_y,0:]\r\n",
        "#print(x_test4.shape)\r\n",
        "#print(y_test1.shape)\r\n",
        "\r\n",
        "#np化\r\n",
        "x_train43=np.array(x_train40)\r\n",
        "y_train43=np.array(y_train40)\r\n",
        "print(x_train43.shape)\r\n",
        "print(y_train43.shape)\r\n",
        "x_test43=np.array(x_test42)\r\n",
        "y_test43=np.array(y_test40)\r\n",
        "\r\n",
        "def Linear(x_train,x_test,y_train):\r\n",
        "  lg = LogisticRegression(random_state=0, class_weight='balanced', C=500)\r\n",
        "  lg.fit(x_train, y_train)\r\n",
        "  lg.fit(x_train, y_train)\r\n",
        "  y_pred = lg.predict_proba(x_test)[:,1]\r\n",
        "  return y_pred\r\n",
        "\r\n",
        "y_pred20=Linear(x_train43,x_test43,y_train43)\r\n",
        "print(y_pred3.shape)\r\n",
        "print(y_test13.shape)"
      ],
      "execution_count": 158,
      "outputs": [
        {
          "output_type": "stream",
          "text": [
            "(289304, 4)\n",
            "(289304,)\n",
            "(15227,)\n",
            "(15227,)\n"
          ],
          "name": "stdout"
        }
      ]
    },
    {
      "cell_type": "code",
      "metadata": {
        "colab": {
          "base_uri": "https://localhost:8080/"
        },
        "id": "JaqSbjF8qMBI",
        "outputId": "6927ea07-c1d1-474e-c8a1-c181bb216205"
      },
      "source": [
        "#評価4\r\n",
        "from sklearn.metrics import roc_auc_score\r\n",
        "print(\"ROC\",  roc_auc_score(y_test43,y_pred20))"
      ],
      "execution_count": 159,
      "outputs": [
        {
          "output_type": "stream",
          "text": [
            "ROC 0.512294087710223\n"
          ],
          "name": "stdout"
        }
      ]
    },
    {
      "cell_type": "markdown",
      "metadata": {
        "id": "ZYJY350hqlh0"
      },
      "source": [
        "考察　EXT_SOURCE_2と相関があり、且つTARGETとも相関があるものが最も数値が良いが、そもそも欠損値の削除を最初にしてしまったため、欠損値の中にTARGETと相関が強いものが他にもあったかもしれない。従い、手順としてまずは相関係数を調査、相関が高いものを前処理することを今後実施することとする"
      ]
    },
    {
      "cell_type": "code",
      "metadata": {
        "id": "5BuntefKqN8J"
      },
      "source": [
        "#提出ファイルの作成"
      ],
      "execution_count": 160,
      "outputs": []
    },
    {
      "cell_type": "code",
      "metadata": {
        "id": "2qNNW140q-rJ"
      },
      "source": [
        "out_df=pd.DataFrame({'SK_ID_CURR':test_new3.loc[:ntest_y+1,'SK_ID_CURR'],'TARGET':y_pred20})\r\n",
        "out_df.to_csv('submission.csv',index=False)"
      ],
      "execution_count": 168,
      "outputs": []
    },
    {
      "cell_type": "code",
      "metadata": {
        "id": "0w7E32CgrwyQ"
      },
      "source": [
        ""
      ],
      "execution_count": null,
      "outputs": []
    }
  ]
}