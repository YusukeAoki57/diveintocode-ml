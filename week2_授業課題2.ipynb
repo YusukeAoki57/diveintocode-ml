{
  "nbformat": 4,
  "nbformat_minor": 0,
  "metadata": {
    "colab": {
      "name": "week2_授業課題2.ipynb",
      "provenance": [],
      "collapsed_sections": [],
      "authorship_tag": "ABX9TyMoPVW+cB4ohaPkT2DeKnNo",
      "include_colab_link": true
    },
    "kernelspec": {
      "name": "python3",
      "display_name": "Python 3"
    }
  },
  "cells": [
    {
      "cell_type": "markdown",
      "metadata": {
        "id": "view-in-github",
        "colab_type": "text"
      },
      "source": [
        "<a href=\"https://colab.research.google.com/github/YusukeAoki57/diveintocode-ml/blob/master/week2_%E6%8E%88%E6%A5%AD%E8%AA%B2%E9%A1%8C2.ipynb\" target=\"_parent\"><img src=\"https://colab.research.google.com/assets/colab-badge.svg\" alt=\"Open In Colab\"/></a>"
      ]
    },
    {
      "cell_type": "code",
      "metadata": {
        "colab": {
          "base_uri": "https://localhost:8080/"
        },
        "id": "VbO542gvcaLl",
        "outputId": "15b9d044-7389-4990-aa7c-d6612267cdfd"
      },
      "source": [
        "from google.colab import drive\r\n",
        "drive.mount('/content/drive')"
      ],
      "execution_count": 1,
      "outputs": [
        {
          "output_type": "stream",
          "text": [
            "Mounted at /content/drive\n"
          ],
          "name": "stdout"
        }
      ]
    },
    {
      "cell_type": "code",
      "metadata": {
        "id": "a4bT8-QEe6ut"
      },
      "source": [
        "import numpy as np"
      ],
      "execution_count": 2,
      "outputs": []
    },
    {
      "cell_type": "code",
      "metadata": {
        "id": "u2Ww21RQjg1i"
      },
      "source": [
        "import pandas as pd \r\n",
        "data= pd.read_csv('drive/My Drive/mtfuji_data.csv')"
      ],
      "execution_count": 3,
      "outputs": []
    },
    {
      "cell_type": "code",
      "metadata": {
        "colab": {
          "base_uri": "https://localhost:8080/"
        },
        "id": "SzAbGG9NjhA1",
        "outputId": "368fd65d-4d8b-4e66-8f6f-e42c1e601b8f"
      },
      "source": [
        "\r\n",
        "ndarray=np.array(data)\r\n",
        "print(ndarray)"
      ],
      "execution_count": 4,
      "outputs": [
        {
          "output_type": "stream",
          "text": [
            "[[0.00000000e+00 3.51341410e+01 1.39132082e+02 0.00000000e+00\n",
            "  0.00000000e+00]\n",
            " [1.00000000e+00 3.51358260e+01 1.39129202e+02 0.00000000e+00\n",
            "  3.22000000e+02]\n",
            " [2.00000000e+00 3.51375100e+01 1.39126322e+02 0.00000000e+00\n",
            "  6.44000000e+02]\n",
            " ...\n",
            " [2.97000000e+02 3.56312840e+01 1.38271368e+02 1.97399000e+03\n",
            "  9.56980000e+04]\n",
            " [2.98000000e+02 3.56329470e+01 1.38268452e+02 1.84136000e+03\n",
            "  9.60200000e+04]\n",
            " [2.99000000e+02 3.56346100e+01 1.38265536e+02 1.72580000e+03\n",
            "  9.63430000e+04]]\n"
          ],
          "name": "stdout"
        }
      ]
    },
    {
      "cell_type": "markdown",
      "metadata": {
        "id": "m2tGfHYMmrzm"
      },
      "source": [
        ""
      ]
    },
    {
      "cell_type": "code",
      "metadata": {
        "id": "OavFPyAGcgYb"
      },
      "source": [
        ""
      ],
      "execution_count": 4,
      "outputs": []
    },
    {
      "cell_type": "markdown",
      "metadata": {
        "id": "HVF0qI_CfsSl"
      },
      "source": [
        "問題1　断面図の作成"
      ]
    },
    {
      "cell_type": "code",
      "metadata": {
        "colab": {
          "base_uri": "https://localhost:8080/",
          "height": 297
        },
        "id": "24N2oV3QeZr1",
        "outputId": "95e4a79c-9094-47f7-9e68-032fe02c56bc"
      },
      "source": [
        "y=ndarray[0:,3:4]\r\n",
        "#print(elevation)\r\n",
        "\r\n",
        "x=ndarray[0:,0:1]\r\n",
        "\r\n",
        "import matplotlib.pyplot as plt\r\n",
        "\r\n",
        "\r\n",
        "plt.xlabel('point')\r\n",
        "plt.ylabel('hight')\r\n",
        "plt.plot(x,y)"
      ],
      "execution_count": 22,
      "outputs": [
        {
          "output_type": "execute_result",
          "data": {
            "text/plain": [
              "[<matplotlib.lines.Line2D at 0x7f69e2f6c240>]"
            ]
          },
          "metadata": {
            "tags": []
          },
          "execution_count": 22
        },
        {
          "output_type": "display_data",
          "data": {
            "image/png": "[encoded data removed]",
            "text/plain": [
              "<Figure size 432x288 with 1 Axes>"
            ]
          },
          "metadata": {
            "tags": [],
            "needs_background": "light"
          }
        }
      ]
    },
    {
      "cell_type": "markdown",
      "metadata": {
        "id": "GFLe7Tadnzhn"
      },
      "source": [
        "問題2 ある地点の勾配を計算する関数の作成"
      ]
    },
    {
      "cell_type": "code",
      "metadata": {
        "id": "zQ1CKSTtgL0F"
      },
      "source": [
        "def slope(now_point):\r\n",
        "  x_slope1=x[now_point]\r\n",
        "  x_slope2=x[now_point+1]\r\n",
        "\r\n",
        "  y_slope1=y[now_point]\r\n",
        "  y_slope2=y[now_point+1]\r\n",
        "\r\n",
        "  #x,yの差分算出\r\n",
        "  dif_x=x_slope1-x_slope2\r\n",
        "  dif_y=y_slope1-y_slope2\r\n",
        "\r\n",
        "  dv=dif_y/dif_x\r\n",
        "  return (dv[0],dif_x[0])"
      ],
      "execution_count": 6,
      "outputs": []
    },
    {
      "cell_type": "markdown",
      "metadata": {
        "id": "HWhed-DuofJ9"
      },
      "source": [
        "問題3 移動先の地点を計算する関数を作成"
      ]
    },
    {
      "cell_type": "code",
      "metadata": {
        "colab": {
          "base_uri": "https://localhost:8080/"
        },
        "id": "AHOIYInWoHz5",
        "outputId": "4a6bf6eb-d5cf-45b9-b236-1734fa7edb43"
      },
      "source": [
        "def next_point(now_point):\r\n",
        "  a=0.2\r\n",
        "  #移動先の高さを算出\r\n",
        "  y_df,x_df=slope(now_point)\r\n",
        "  nx_point_y=y[now_point]-a*y_df\r\n",
        "  #移動先の地点を算出\r\n",
        "  nx_point_x=now_point+x_df\r\n",
        "  return (round(nx_point_y[0]),round(nx_point_x))\r\n",
        "\r\n",
        "print(next_point(136))"
      ],
      "execution_count": 9,
      "outputs": [
        {
          "output_type": "stream",
          "text": [
            "(3401, 135)\n"
          ],
          "name": "stdout"
        }
      ]
    },
    {
      "cell_type": "markdown",
      "metadata": {
        "id": "b5UsPIq1-rJP"
      },
      "source": [
        "問題4 山を下る関数を作成"
      ]
    },
    {
      "cell_type": "code",
      "metadata": {
        "colab": {
          "base_uri": "https://localhost:8080/"
        },
        "id": "zHu4hE2wpJPL",
        "outputId": "b69c2817-1690-4169-f604-3052d7fd0dd9"
      },
      "source": [
        "def go_to(now_point):\r\n",
        "\r\n",
        "  y_list=[y[now_point]] #初期値設定\r\n",
        "  x_list=[now_point] #初期値設定\r\n",
        "  isTrue=True\r\n",
        " \r\n",
        "  #下山\r\n",
        "  while isTrue:\r\n",
        "    num_y,num_x=next_point(now_point)\r\n",
        "    y_list.append(num_y) #一歩下山した高さ\r\n",
        "    x_list.append(num_x) #一歩下山した地点\r\n",
        "    \r\n",
        "    if y_list[-1]==y_list[-2]:\r\n",
        "      isTrue=False\r\n",
        "    else:\r\n",
        "      now_point=num_x\r\n",
        "  return (y_list,x_list)  \r\n",
        "\r\n",
        "print(go_to(136))"
      ],
      "execution_count": 15,
      "outputs": [
        {
          "output_type": "stream",
          "text": [
            "([array([3434.59]), 3401, 3233, 3052, 2944, 2797, 2679, 2535, 2399, 2283, 2174, 2052, 1929, 1829, 1768, 1715, 1646, 1586, 1555, 1496, 1414, 1346, 1279, 1229, 1216, 1156, 1094, 1050, 1029, 993, 968, 925, 906, 879, 854, 809, 791, 768, 750, 739, 723, 695, 667, 658, 626, 609, 600, 586, 572, 549, 533, 516, 502, 485, 469, 456, 440, 416, 418, 384, 386, 376, 370, 371, 368, 353, 364, 422, 463, 425, 478, 461, 511, 569, 485, 563, 566, 694, 749, 739, 871, 717, 800, 840, 853, 976, 866, 821, 855, 852, 699, 724, 724], [136, 135, 134, 133, 132, 131, 130, 129, 128, 127, 126, 125, 124, 123, 122, 121, 120, 119, 118, 117, 116, 115, 114, 113, 112, 111, 110, 109, 108, 107, 106, 105, 104, 103, 102, 101, 100, 99, 98, 97, 96, 95, 94, 93, 92, 91, 90, 89, 88, 87, 86, 85, 84, 83, 82, 81, 80, 79, 78, 77, 76, 75, 74, 73, 72, 71, 70, 69, 68, 67, 66, 65, 64, 63, 62, 61, 60, 59, 58, 57, 56, 55, 54, 53, 52, 51, 50, 49, 48, 47, 46, 45, 44])\n"
          ],
          "name": "stdout"
        }
      ]
    },
    {
      "cell_type": "markdown",
      "metadata": {
        "id": "Hr5XIoLJI6Om"
      },
      "source": [
        "問題5 下山過程の可視化"
      ]
    },
    {
      "cell_type": "code",
      "metadata": {
        "colab": {
          "base_uri": "https://localhost:8080/",
          "height": 352
        },
        "id": "LKh6lRo9FuiD",
        "outputId": "e055303c-7dff-4baa-8fa7-1dc41c53b579"
      },
      "source": [
        "hight,point=go_to(136)\r\n",
        "\r\n",
        "plt.xlabel('point')\r\n",
        "plt.ylabel('hight')\r\n",
        "plt.plot(point,hight)\r\n",
        "\r\n"
      ],
      "execution_count": 21,
      "outputs": [
        {
          "output_type": "stream",
          "text": [
            "/usr/local/lib/python3.6/dist-packages/numpy/core/_asarray.py:136: VisibleDeprecationWarning: Creating an ndarray from ragged nested sequences (which is a list-or-tuple of lists-or-tuples-or ndarrays with different lengths or shapes) is deprecated. If you meant to do this, you must specify 'dtype=object' when creating the ndarray\n",
            "  return array(a, dtype, copy=False, order=order, subok=True)\n"
          ],
          "name": "stderr"
        },
        {
          "output_type": "execute_result",
          "data": {
            "text/plain": [
              "[<matplotlib.lines.Line2D at 0x7f69e3004470>]"
            ]
          },
          "metadata": {
            "tags": []
          },
          "execution_count": 21
        },
        {
          "output_type": "display_data",
          "data": {
            "image/png": "[encoded data removed]",
            "text/plain": [
              "<Figure size 432x288 with 1 Axes>"
            ]
          },
          "metadata": {
            "tags": [],
            "needs_background": "light"
          }
        }
      ]
    },
    {
      "cell_type": "markdown",
      "metadata": {
        "id": "792gGCQUJfhI"
      },
      "source": [
        "問題6 初期値の変更"
      ]
    },
    {
      "cell_type": "code",
      "metadata": {
        "id": "snYshxwyJMFY"
      },
      "source": [
        "def set_initial_num():\r\n",
        "  \"\"\"\r\n",
        "  全初期値を生成して下山過程を取得\r\n",
        "  \"\"\"\r\n",
        "  ini_num=[]\r\n",
        "  height_list=[]\r\n",
        "  point_list=[]\r\n",
        "  for i in x[:,0]-1:\r\n",
        "    height,point=go_to(int(i))\r\n",
        "    height_list.append(height)\r\n",
        "    point_list.append(point)\r\n",
        "  return (height_list, point_list)\r\n",
        "\r\n",
        "h_list,p_list=set_initial_num()"
      ],
      "execution_count": 45,
      "outputs": []
    },
    {
      "cell_type": "code",
      "metadata": {
        "colab": {
          "base_uri": "https://localhost:8080/",
          "height": 352
        },
        "id": "FHhJWnH5M7Yx",
        "outputId": "6136d311-aef5-4ff6-df8d-5a6ebd4dc727"
      },
      "source": [
        "plt.xlabel('point')\r\n",
        "plt.ylabel('hight')\r\n",
        "plt.plot(p_list[30],h_list[30]) #例グラフ1\r\n"
      ],
      "execution_count": 50,
      "outputs": [
        {
          "output_type": "stream",
          "text": [
            "/usr/local/lib/python3.6/dist-packages/numpy/core/_asarray.py:136: VisibleDeprecationWarning: Creating an ndarray from ragged nested sequences (which is a list-or-tuple of lists-or-tuples-or ndarrays with different lengths or shapes) is deprecated. If you meant to do this, you must specify 'dtype=object' when creating the ndarray\n",
            "  return array(a, dtype, copy=False, order=order, subok=True)\n"
          ],
          "name": "stderr"
        },
        {
          "output_type": "execute_result",
          "data": {
            "text/plain": [
              "[<matplotlib.lines.Line2D at 0x7f69e128b358>]"
            ]
          },
          "metadata": {
            "tags": []
          },
          "execution_count": 50
        },
        {
          "output_type": "display_data",
          "data": {
            "image/png": "[encoded data removed]",
            "text/plain": [
              "<Figure size 432x288 with 1 Axes>"
            ]
          },
          "metadata": {
            "tags": [],
            "needs_background": "light"
          }
        }
      ]
    },
    {
      "cell_type": "code",
      "metadata": {
        "colab": {
          "base_uri": "https://localhost:8080/",
          "height": 352
        },
        "id": "loWfJCyUOVOG",
        "outputId": "f96f12f5-f012-430e-db42-2b5b1292243e"
      },
      "source": [
        "plt.xlabel('point')\r\n",
        "plt.ylabel('hight')\r\n",
        "plt.plot(p_list[136],h_list[136])#例グラフ2"
      ],
      "execution_count": 51,
      "outputs": [
        {
          "output_type": "stream",
          "text": [
            "/usr/local/lib/python3.6/dist-packages/numpy/core/_asarray.py:136: VisibleDeprecationWarning: Creating an ndarray from ragged nested sequences (which is a list-or-tuple of lists-or-tuples-or ndarrays with different lengths or shapes) is deprecated. If you meant to do this, you must specify 'dtype=object' when creating the ndarray\n",
            "  return array(a, dtype, copy=False, order=order, subok=True)\n"
          ],
          "name": "stderr"
        },
        {
          "output_type": "execute_result",
          "data": {
            "text/plain": [
              "[<matplotlib.lines.Line2D at 0x7f69e11676a0>]"
            ]
          },
          "metadata": {
            "tags": []
          },
          "execution_count": 51
        },
        {
          "output_type": "display_data",
          "data": {
            "image/png": "[encoded data removed]",
            "text/plain": [
              "<Figure size 432x288 with 1 Axes>"
            ]
          },
          "metadata": {
            "tags": [],
            "needs_background": "light"
          }
        }
      ]
    },
    {
      "cell_type": "code",
      "metadata": {
        "colab": {
          "base_uri": "https://localhost:8080/",
          "height": 352
        },
        "id": "p3S6tEpYOWNt",
        "outputId": "88d3e87c-6edc-4012-97b2-de46314305f8"
      },
      "source": [
        "plt.xlabel('point')\r\n",
        "plt.ylabel('hight')\r\n",
        "plt.plot(p_list[10],h_list[10])#例グラフ3"
      ],
      "execution_count": 52,
      "outputs": [
        {
          "output_type": "stream",
          "text": [
            "/usr/local/lib/python3.6/dist-packages/numpy/core/_asarray.py:136: VisibleDeprecationWarning: Creating an ndarray from ragged nested sequences (which is a list-or-tuple of lists-or-tuples-or ndarrays with different lengths or shapes) is deprecated. If you meant to do this, you must specify 'dtype=object' when creating the ndarray\n",
            "  return array(a, dtype, copy=False, order=order, subok=True)\n"
          ],
          "name": "stderr"
        },
        {
          "output_type": "execute_result",
          "data": {
            "text/plain": [
              "[<matplotlib.lines.Line2D at 0x7f69e1144438>]"
            ]
          },
          "metadata": {
            "tags": []
          },
          "execution_count": 52
        },
        {
          "output_type": "display_data",
          "data": {
            "image/png": "[encoded data removed]",
            "text/plain": [
              "<Figure size 432x288 with 1 Axes>"
            ]
          },
          "metadata": {
            "tags": [],
            "needs_background": "light"
          }
        }
      ]
    },
    {
      "cell_type": "code",
      "metadata": {
        "id": "MOz9V9kQOct0"
      },
      "source": [
        ""
      ],
      "execution_count": null,
      "outputs": []
    }
  ]
}