{
  "nbformat": 4,
  "nbformat_minor": 0,
  "metadata": {
    "colab": {
      "name": "Ｓprint6_決定木.ipynb",
      "provenance": [],
      "collapsed_sections": [],
      "authorship_tag": "ABX9TyOWkCuR1rXT09kr7KI7IHPy",
      "include_colab_link": true
    },
    "kernelspec": {
      "name": "python3",
      "display_name": "Python 3"
    }
  },
  "cells": [
    {
      "cell_type": "markdown",
      "metadata": {
        "id": "view-in-github",
        "colab_type": "text"
      },
      "source": [
        "<a href=\"https://colab.research.google.com/github/YusukeAoki57/diveintocode-ml/blob/master/%EF%BC%B3print6_%E6%B1%BA%E5%AE%9A%E6%9C%A8.ipynb\" target=\"_parent\"><img src=\"https://colab.research.google.com/assets/colab-badge.svg\" alt=\"Open In Colab\"/></a>"
      ]
    },
    {
      "cell_type": "code",
      "metadata": {
        "id": "dhDJU_6d1VvS"
      },
      "source": [
        "import numpy as np\r\n",
        "import matplotlib.pyplot as plt\r\n",
        "from sklearn.datasets import load_iris\r\n",
        "from sklearn.preprocessing import StandardScaler\r\n",
        "import pandas as pd\r\n",
        "import matplotlib.pyplot as plt"
      ],
      "execution_count": null,
      "outputs": []
    },
    {
      "cell_type": "code",
      "metadata": {
        "id": "RUSzhyk0d3Sy"
      },
      "source": [
        "#アルゴリズムの整理\r\n",
        "#1.再帰関数を定義\r\n",
        "#2.再帰で呼び出す最小のジニ係数時の特徴量と閾値と最小のジニ係数を実装\r\n",
        "#3.ジニ係数の計算をするメソッドの実装\r\n"
      ],
      "execution_count": null,
      "outputs": []
    },
    {
      "cell_type": "code",
      "metadata": {
        "id": "qu7wxW7F2-SK"
      },
      "source": [
        "\r\n",
        "#現在の最大表示行数の出力\r\n",
        "pd.set_option('display.max_rows', 150)\r\n"
      ],
      "execution_count": null,
      "outputs": []
    },
    {
      "cell_type": "code",
      "metadata": {
        "colab": {
          "base_uri": "https://localhost:8080/"
        },
        "id": "_9y1AroVJRGQ",
        "outputId": "84aaa7b4-3390-4ef6-aef5-62ca03ae3dfc"
      },
      "source": [
        "iris=load_iris()\r\n",
        "iris_data=pd.DataFrame(iris.data,columns=iris.feature_names)\r\n",
        "print(iris_data)"
      ],
      "execution_count": null,
      "outputs": [
        {
          "output_type": "stream",
          "text": [
            "     sepal length (cm)  sepal width (cm)  petal length (cm)  petal width (cm)\n",
            "0                  5.1               3.5                1.4               0.2\n",
            "1                  4.9               3.0                1.4               0.2\n",
            "2                  4.7               3.2                1.3               0.2\n",
            "3                  4.6               3.1                1.5               0.2\n",
            "4                  5.0               3.6                1.4               0.2\n",
            "5                  5.4               3.9                1.7               0.4\n",
            "6                  4.6               3.4                1.4               0.3\n",
            "7                  5.0               3.4                1.5               0.2\n",
            "8                  4.4               2.9                1.4               0.2\n",
            "9                  4.9               3.1                1.5               0.1\n",
            "10                 5.4               3.7                1.5               0.2\n",
            "11                 4.8               3.4                1.6               0.2\n",
            "12                 4.8               3.0                1.4               0.1\n",
            "13                 4.3               3.0                1.1               0.1\n",
            "14                 5.8               4.0                1.2               0.2\n",
            "15                 5.7               4.4                1.5               0.4\n",
            "16                 5.4               3.9                1.3               0.4\n",
            "17                 5.1               3.5                1.4               0.3\n",
            "18                 5.7               3.8                1.7               0.3\n",
            "19                 5.1               3.8                1.5               0.3\n",
            "20                 5.4               3.4                1.7               0.2\n",
            "21                 5.1               3.7                1.5               0.4\n",
            "22                 4.6               3.6                1.0               0.2\n",
            "23                 5.1               3.3                1.7               0.5\n",
            "24                 4.8               3.4                1.9               0.2\n",
            "25                 5.0               3.0                1.6               0.2\n",
            "26                 5.0               3.4                1.6               0.4\n",
            "27                 5.2               3.5                1.5               0.2\n",
            "28                 5.2               3.4                1.4               0.2\n",
            "29                 4.7               3.2                1.6               0.2\n",
            "30                 4.8               3.1                1.6               0.2\n",
            "31                 5.4               3.4                1.5               0.4\n",
            "32                 5.2               4.1                1.5               0.1\n",
            "33                 5.5               4.2                1.4               0.2\n",
            "34                 4.9               3.1                1.5               0.2\n",
            "35                 5.0               3.2                1.2               0.2\n",
            "36                 5.5               3.5                1.3               0.2\n",
            "37                 4.9               3.6                1.4               0.1\n",
            "38                 4.4               3.0                1.3               0.2\n",
            "39                 5.1               3.4                1.5               0.2\n",
            "40                 5.0               3.5                1.3               0.3\n",
            "41                 4.5               2.3                1.3               0.3\n",
            "42                 4.4               3.2                1.3               0.2\n",
            "43                 5.0               3.5                1.6               0.6\n",
            "44                 5.1               3.8                1.9               0.4\n",
            "45                 4.8               3.0                1.4               0.3\n",
            "46                 5.1               3.8                1.6               0.2\n",
            "47                 4.6               3.2                1.4               0.2\n",
            "48                 5.3               3.7                1.5               0.2\n",
            "49                 5.0               3.3                1.4               0.2\n",
            "50                 7.0               3.2                4.7               1.4\n",
            "51                 6.4               3.2                4.5               1.5\n",
            "52                 6.9               3.1                4.9               1.5\n",
            "53                 5.5               2.3                4.0               1.3\n",
            "54                 6.5               2.8                4.6               1.5\n",
            "55                 5.7               2.8                4.5               1.3\n",
            "56                 6.3               3.3                4.7               1.6\n",
            "57                 4.9               2.4                3.3               1.0\n",
            "58                 6.6               2.9                4.6               1.3\n",
            "59                 5.2               2.7                3.9               1.4\n",
            "60                 5.0               2.0                3.5               1.0\n",
            "61                 5.9               3.0                4.2               1.5\n",
            "62                 6.0               2.2                4.0               1.0\n",
            "63                 6.1               2.9                4.7               1.4\n",
            "64                 5.6               2.9                3.6               1.3\n",
            "65                 6.7               3.1                4.4               1.4\n",
            "66                 5.6               3.0                4.5               1.5\n",
            "67                 5.8               2.7                4.1               1.0\n",
            "68                 6.2               2.2                4.5               1.5\n",
            "69                 5.6               2.5                3.9               1.1\n",
            "70                 5.9               3.2                4.8               1.8\n",
            "71                 6.1               2.8                4.0               1.3\n",
            "72                 6.3               2.5                4.9               1.5\n",
            "73                 6.1               2.8                4.7               1.2\n",
            "74                 6.4               2.9                4.3               1.3\n",
            "75                 6.6               3.0                4.4               1.4\n",
            "76                 6.8               2.8                4.8               1.4\n",
            "77                 6.7               3.0                5.0               1.7\n",
            "78                 6.0               2.9                4.5               1.5\n",
            "79                 5.7               2.6                3.5               1.0\n",
            "80                 5.5               2.4                3.8               1.1\n",
            "81                 5.5               2.4                3.7               1.0\n",
            "82                 5.8               2.7                3.9               1.2\n",
            "83                 6.0               2.7                5.1               1.6\n",
            "84                 5.4               3.0                4.5               1.5\n",
            "85                 6.0               3.4                4.5               1.6\n",
            "86                 6.7               3.1                4.7               1.5\n",
            "87                 6.3               2.3                4.4               1.3\n",
            "88                 5.6               3.0                4.1               1.3\n",
            "89                 5.5               2.5                4.0               1.3\n",
            "90                 5.5               2.6                4.4               1.2\n",
            "91                 6.1               3.0                4.6               1.4\n",
            "92                 5.8               2.6                4.0               1.2\n",
            "93                 5.0               2.3                3.3               1.0\n",
            "94                 5.6               2.7                4.2               1.3\n",
            "95                 5.7               3.0                4.2               1.2\n",
            "96                 5.7               2.9                4.2               1.3\n",
            "97                 6.2               2.9                4.3               1.3\n",
            "98                 5.1               2.5                3.0               1.1\n",
            "99                 5.7               2.8                4.1               1.3\n",
            "100                6.3               3.3                6.0               2.5\n",
            "101                5.8               2.7                5.1               1.9\n",
            "102                7.1               3.0                5.9               2.1\n",
            "103                6.3               2.9                5.6               1.8\n",
            "104                6.5               3.0                5.8               2.2\n",
            "105                7.6               3.0                6.6               2.1\n",
            "106                4.9               2.5                4.5               1.7\n",
            "107                7.3               2.9                6.3               1.8\n",
            "108                6.7               2.5                5.8               1.8\n",
            "109                7.2               3.6                6.1               2.5\n",
            "110                6.5               3.2                5.1               2.0\n",
            "111                6.4               2.7                5.3               1.9\n",
            "112                6.8               3.0                5.5               2.1\n",
            "113                5.7               2.5                5.0               2.0\n",
            "114                5.8               2.8                5.1               2.4\n",
            "115                6.4               3.2                5.3               2.3\n",
            "116                6.5               3.0                5.5               1.8\n",
            "117                7.7               3.8                6.7               2.2\n",
            "118                7.7               2.6                6.9               2.3\n",
            "119                6.0               2.2                5.0               1.5\n",
            "120                6.9               3.2                5.7               2.3\n",
            "121                5.6               2.8                4.9               2.0\n",
            "122                7.7               2.8                6.7               2.0\n",
            "123                6.3               2.7                4.9               1.8\n",
            "124                6.7               3.3                5.7               2.1\n",
            "125                7.2               3.2                6.0               1.8\n",
            "126                6.2               2.8                4.8               1.8\n",
            "127                6.1               3.0                4.9               1.8\n",
            "128                6.4               2.8                5.6               2.1\n",
            "129                7.2               3.0                5.8               1.6\n",
            "130                7.4               2.8                6.1               1.9\n",
            "131                7.9               3.8                6.4               2.0\n",
            "132                6.4               2.8                5.6               2.2\n",
            "133                6.3               2.8                5.1               1.5\n",
            "134                6.1               2.6                5.6               1.4\n",
            "135                7.7               3.0                6.1               2.3\n",
            "136                6.3               3.4                5.6               2.4\n",
            "137                6.4               3.1                5.5               1.8\n",
            "138                6.0               3.0                4.8               1.8\n",
            "139                6.9               3.1                5.4               2.1\n",
            "140                6.7               3.1                5.6               2.4\n",
            "141                6.9               3.1                5.1               2.3\n",
            "142                5.8               2.7                5.1               1.9\n",
            "143                6.8               3.2                5.9               2.3\n",
            "144                6.7               3.3                5.7               2.5\n",
            "145                6.7               3.0                5.2               2.3\n",
            "146                6.3               2.5                5.0               1.9\n",
            "147                6.5               3.0                5.2               2.0\n",
            "148                6.2               3.4                5.4               2.3\n",
            "149                5.9               3.0                5.1               1.8\n"
          ],
          "name": "stdout"
        }
      ]
    },
    {
      "cell_type": "code",
      "metadata": {
        "id": "bwPKcM8qwwZx"
      },
      "source": [
        "#targetの生成\r\n",
        "all_y=pd.DataFrame(iris.target)\r\n",
        "all_y.columns=['Species']\r\n",
        "\r\n",
        "#特徴量との結合\r\n",
        "all_xy=pd.merge(iris_data,all_y,left_index=True, right_index=True)\r\n",
        "\r\n",
        "\r\n",
        "#sepal_lengthとpetal_lengthのみのデータの生成\r\n",
        "part_all1=part_columns.drop('sepal width (cm)', axis=1)\r\n",
        "part_all=part_all1.drop('petal width (cm)', axis=1)"
      ],
      "execution_count": null,
      "outputs": []
    },
    {
      "cell_type": "code",
      "metadata": {
        "id": "9fkLlb1PJa3c"
      },
      "source": [
        "#numpyに変換\r\n",
        "x=part_all.drop('Species', axis=1).values\r\n",
        "y=part_all.iloc[:,-1].values\r\n",
        "\r\n",
        "#分割 4特徴量\r\n",
        "from sklearn.model_selection import train_test_split\r\n",
        "x_train, x_test, y_train, y_test = train_test_split(x, y, test_size=0.25, random_state=0)\r\n"
      ],
      "execution_count": null,
      "outputs": []
    },
    {
      "cell_type": "code",
      "metadata": {
        "id": "D654AC791i4t"
      },
      "source": [
        "class NodeConstruction():\r\n",
        "  def __init__(self,X,y,max_depth=2):\r\n",
        "    self.X=X\r\n",
        "    self.y=y\r\n",
        "    self.max_depth=max_depth\r\n",
        "    self.feature=None\r\n",
        "    self.threshold=None\r\n",
        "    self.gini=None\r\n",
        "    self.label=np.argmax(np.bincount(y))\r\n",
        "    self.depth=None\r\n",
        "    self.left=None\r\n",
        "    self.right=None\r\n",
        "\r\n",
        "  def _best(self, X,y):\r\n",
        "    best_feature=None\r\n",
        "    best_threshold=None\r\n",
        "    best_gini=None\r\n",
        "    #ジニ係数を計算し取得\r\n",
        "\r\n",
        "    #ジニ係数の計算\r\n",
        "\r\n",
        "    profit_max=0.0 #ジニ最小値の初期値設定 \r\n",
        "\r\n",
        "    #ジニ係数を取得しながら、それが最小となる親ノードの特徴量と閾値を探す、その時の閾値と特徴量とジニ係数を返す\r\n",
        "    \r\n",
        "    for i in range(self.X.shape[1]):\r\n",
        "      for j in self.X[:,i]:\r\n",
        "        profit,best_gini=self._ginicul(self.X,self.y,i,j)\r\n",
        "\r\n",
        "        if profit_max<profit:\r\n",
        "          profit_max=profit\r\n",
        "          best_threshold=j\r\n",
        "          best_feature=i\r\n",
        "          #print(profit)\r\n",
        "    return (best_feature,best_threshold,best_gini)\r\n",
        "\r\n",
        "  def _ginicul(self, X,y,i,j):\r\n",
        "    feature=i\r\n",
        "    threshold=j\r\n",
        "    div_target=[self.y[self.X[:,feature]>=threshold],self.y[self.X[:,feature]<threshold]]    \r\n",
        "    gini = 0\r\n",
        "    sample_num = len(self.y) \r\n",
        "\r\n",
        "    #情報利得の計算\r\n",
        "    #親ノード\r\n",
        "    gini1=0\r\n",
        "    score1 = 0\r\n",
        "    parents_class=np.unique(self.y)\r\n",
        "    for cls_p in parents_class:\r\n",
        "      p1=np.sum(self.y==cls_p)/len(self.y)\r\n",
        "      score1 +=p1*p1\r\n",
        "      gini1=(1-score1)\r\n",
        "\r\n",
        "    #子ノード\r\n",
        "    for group in div_target:\r\n",
        "      score = 0\r\n",
        "      classes = np.unique(group)\r\n",
        "      for cls in classes:\r\n",
        "        p = np.sum(group == cls)/len(group)\r\n",
        "        score += p * p\r\n",
        "      gini += (1- score) * (len(group)/sample_num)\r\n",
        "    profit=gini1-gini\r\n",
        "    #print(profit)\r\n",
        "    return profit,gini1\r\n",
        "    \r\n",
        "  def split(self,depth):\r\n",
        "    self.depth=depth\r\n",
        "    self.feature,self.threshold,self.gini=self._best(self.X,self.y) #特徴量、閾値、ジニ係数を取得\r\n",
        "    print('Depth: {}, Sep at Feature: {},Threshold: {},Gini: {}, Label: {}'.format(self.depth, self.feature, self.threshold, self.gini,self.label))\r\n",
        "    if self.max_depth==self.depth or self.gini==0: \r\n",
        "      return \r\n",
        "    x_left,x_right=[self.X[self.X[:,self.feature]>=self.threshold],self.X[self.X[:,self.feature]<self.threshold]] #indexで分岐\r\n",
        "    y_left,y_right=[self.y[self.X[:,self.feature]>=self.threshold],self.y[self.X[:,self.feature]<self.threshold]] #indexで分岐\r\n",
        "\r\n",
        "    #ノードを再帰関数で生成\r\n",
        "    self.left=NodeConstruction(x_left,y_left,self.max_depth)\r\n",
        "    self.right=NodeConstruction(x_right,y_right,self.max_depth)\r\n",
        "    \r\n",
        "    #ノードの深さを更新\r\n",
        "    self.left.split(self.depth+1)\r\n",
        "    self.right.split(self.depth+1)\r\n",
        "\r\n",
        "  def predict(self,data):\r\n",
        "    if self.gini== 0.0 or self.depth == self.max_depth:\r\n",
        "      return self.label\r\n",
        "    else:\r\n",
        "        if data[self.feature] > self.threshold:\r\n",
        "          return self.left.predict(data)\r\n",
        "        else:\r\n",
        "            return self.right.predict(data)\r\n",
        "\r\n",
        "class ScratchDecesionTreeClassifierDepth1():\r\n",
        "  def __init__(self, verbose=False, max_depth=4):\r\n",
        "    # ハイパーパラメータを属性として記録\r\n",
        "    self.verbose = verbose\r\n",
        "    self.left = None\r\n",
        "    self.right = None\r\n",
        "    self.max_depth = max_depth\r\n",
        "    self.depth = None\r\n",
        "    self.threshold = None\r\n",
        "    self.feature = None\r\n",
        "    self.gini_min = None\r\n",
        "    self.label = None\r\n",
        "\r\n",
        "  def fit(self, X, y):\r\n",
        "    initinal_depth=0\r\n",
        "    self.tree = NodeConstruction(X, y, self.max_depth)\r\n",
        "    self.tree.split(initinal_depth)\r\n",
        "\r\n",
        "    if self.verbose:\r\n",
        "      #verboseをTrueにした際は学習過程を出力\r\n",
        "      print()\r\n",
        "      pass\r\n",
        "  def predict(self, X):\r\n",
        "    y_pred=[]\r\n",
        "    for i in X:\r\n",
        "      y_pred.append(self.tree.predict(i))\r\n",
        "    return np.array(y_pred)\r\n",
        "\r\n"
      ],
      "execution_count": null,
      "outputs": []
    },
    {
      "cell_type": "code",
      "metadata": {
        "id": "yzSMcS5Ex1Cs",
        "colab": {
          "base_uri": "https://localhost:8080/"
        },
        "outputId": "c834f58a-a845-43b7-980c-458ac81cb0f8"
      },
      "source": [
        "tr=ScratchDecesionTreeClassifierDepth1(max_depth=4)\r\n",
        "tr.fit(x_train,y_train)"
      ],
      "execution_count": null,
      "outputs": [
        {
          "output_type": "stream",
          "text": [
            "Depth: 0, Sep at Feature: 1,Threshold: 4.8,Gini: 0.499911111111111, Label: 2\n",
            "Depth: 1, Sep at Feature: 1,Threshold: 5.1,Gini: 0.09730440499671267, Label: 2\n",
            "Depth: 2, Sep at Feature: None,Threshold: None,Gini: 0.0, Label: 2\n",
            "Depth: 2, Sep at Feature: 0,Threshold: 6.7,Gini: 0.375, Label: 2\n",
            "Depth: 3, Sep at Feature: None,Threshold: None,Gini: 0.0, Label: 1\n",
            "Depth: 3, Sep at Feature: 0,Threshold: 6.0,Gini: 0.24489795918367352, Label: 2\n",
            "Depth: 4, Sep at Feature: None,Threshold: None,Gini: 0.0, Label: 2\n",
            "Depth: 4, Sep at Feature: 0,Threshold: 5.9,Gini: 0.5, Label: 1\n",
            "Depth: 1, Sep at Feature: 0,Threshold: 5.0,Gini: 0.054012345679012475, Label: 1\n",
            "Depth: 2, Sep at Feature: None,Threshold: None,Gini: 0.0, Label: 1\n",
            "Depth: 2, Sep at Feature: None,Threshold: None,Gini: 0.0, Label: 2\n"
          ],
          "name": "stdout"
        }
      ]
    },
    {
      "cell_type": "code",
      "metadata": {
        "id": "IhkEfPBF8q8i",
        "colab": {
          "base_uri": "https://localhost:8080/"
        },
        "outputId": "4b438d1a-6dd9-49e5-f23a-b2d53c2d6db0"
      },
      "source": [
        "y_pred1=tr.predict(x_test)\r\n",
        "y_pred1"
      ],
      "execution_count": null,
      "outputs": [
        {
          "output_type": "execute_result",
          "data": {
            "text/plain": [
              "array([1, 2, 1, 2, 2, 2, 1, 2, 2, 2, 2, 1, 2, 1, 2, 1, 2, 1, 1, 1, 2, 2,\n",
              "       1, 1, 1])"
            ]
          },
          "metadata": {
            "tags": []
          },
          "execution_count": 246
        }
      ]
    },
    {
      "cell_type": "code",
      "metadata": {
        "id": "oBNNoaobxVJS"
      },
      "source": [
        "#Sk-learn\r\n",
        "from sklearn import tree\r\n",
        "clf = tree.DecisionTreeClassifier(max_depth=2)\r\n",
        "clf = clf.fit(x_train,y_train)\r\n",
        "y_pred2=clf.predict(x_test)"
      ],
      "execution_count": null,
      "outputs": []
    },
    {
      "cell_type": "code",
      "metadata": {
        "id": "n0DXPh5U8q_4",
        "colab": {
          "base_uri": "https://localhost:8080/"
        },
        "outputId": "255c2579-df9e-427f-c61a-3aa3f968b83b"
      },
      "source": [
        "#Accuracy\r\n",
        "from sklearn.metrics import accuracy_score\r\n",
        "#スクラッチ\r\n",
        "print(accuracy_score(y_test, y_pred1))\r\n",
        "#SC-learn\r\n",
        "print(accuracy_score(y_test, y_pred2))"
      ],
      "execution_count": null,
      "outputs": [
        {
          "output_type": "stream",
          "text": [
            "0.8\n",
            "0.8\n"
          ],
          "name": "stdout"
        }
      ]
    },
    {
      "cell_type": "code",
      "metadata": {
        "id": "IS9wULYDjvAz"
      },
      "source": [
        "import matplotlib.pyplot as plt\r\n",
        "from matplotlib.colors import ListedColormap\r\n",
        "import matplotlib.patches as mpatches\r\n",
        "\r\n",
        "def decision_region(X, y, model, step=0.01, title='decision region', xlabel='xlabel', ylabel='ylabel', target_names=['versicolor', 'virginica']):\r\n",
        "    \"\"\"\r\n",
        "    2値分類を2次元の特徴量で学習したモデルの決定領域を描く。\r\n",
        "    背景の色が学習したモデルによる推定値から描画される。\r\n",
        "    散布図の点は訓練データまたは検証データである。\r\n",
        "    Parameters\r\n",
        "    ----------------\r\n",
        "    X : ndarray, shape(n_samples, 2)\r\n",
        "        特徴量\r\n",
        "    y : ndarray, shape(n_samples,)\r\n",
        "        ラベル\r\n",
        "    model : object\r\n",
        "        学習したモデルのインスンタスを入れる\r\n",
        "    step : float, (default : 0.1)\r\n",
        "        推定値を計算する間隔を設定する\r\n",
        "    title : str\r\n",
        "        グラフのタイトルの文章を与える\r\n",
        "    xlabel, ylabel : str\r\n",
        "        軸ラベルの文章を与える\r\n",
        "    target_names= : list of str\r\n",
        "        凡例の一覧を与える\r\n",
        "    \"\"\"\r\n",
        "    # setting\r\n",
        "    scatter_color = ['red', 'blue']\r\n",
        "    contourf_color = ['pink', 'skyblue']\r\n",
        "    n_class = 2\r\n",
        "    # pred\r\n",
        "    mesh_f0, mesh_f1  = np.meshgrid(np.arange(np.min(X[:,0])-0.5, np.max(X[:,0])+0.5, step), np.arange(np.min(X[:,1])-0.5, np.max(X[:,1])+0.5, step))\r\n",
        "    mesh = np.c_[np.ravel(mesh_f0),np.ravel(mesh_f1)]\r\n",
        "    print(mesh.shape)\r\n",
        "    y_pred = model.predict(mesh).reshape(mesh_f0.shape)\r\n",
        "    # plot\r\n",
        "    plt.title(title)\r\n",
        "    plt.xlabel(xlabel)\r\n",
        "    plt.ylabel(ylabel)\r\n",
        "    plt.contourf(mesh_f0, mesh_f1, y_pred, n_class-1, cmap=ListedColormap(contourf_color))\r\n",
        "    plt.contour(mesh_f0, mesh_f1, y_pred, n_class-1, colors='y', linewidths=3, alpha=0.5)\r\n",
        "    for i, target in enumerate(set(y)):\r\n",
        "        plt.scatter(X[y==target][:, 0], X[y==target][:, 1], s=80, color=scatter_color[i], label=target_names[i], marker='o')\r\n",
        "    patches = [mpatches.Patch(color=scatter_color[i], label=target_names[i]) for i in range(n_class)]\r\n",
        "    plt.legend(handles=patches)\r\n",
        "    plt.legend()\r\n",
        "    plt.show()\r\n",
        "\r\n"
      ],
      "execution_count": null,
      "outputs": []
    },
    {
      "cell_type": "code",
      "metadata": {
        "colab": {
          "base_uri": "https://localhost:8080/",
          "height": 313
        },
        "id": "xkfMb2Z3x8m8",
        "outputId": "5c413f36-c184-4619-8a68-3f2c8c9cc246"
      },
      "source": [
        "decision_region(x_test,y_test, model=tr)"
      ],
      "execution_count": null,
      "outputs": [
        {
          "output_type": "stream",
          "text": [
            "(159100, 2)\n"
          ],
          "name": "stdout"
        },
        {
          "output_type": "display_data",
          "data": {
            "image/png": "[encoded data removed]",
            "text/plain": [
              "<Figure size 432x288 with 1 Axes>"
            ]
          },
          "metadata": {
            "tags": [],
            "needs_background": "light"
          }
        }
      ]
    },
    {
      "cell_type": "code",
      "metadata": {
        "id": "PbnqJpz_x_PM"
      },
      "source": [
        "#アディショナル"
      ],
      "execution_count": null,
      "outputs": []
    },
    {
      "cell_type": "code",
      "metadata": {
        "id": "7z_x0lDXyDrx"
      },
      "source": [
        "#深さ6"
      ],
      "execution_count": null,
      "outputs": []
    },
    {
      "cell_type": "code",
      "metadata": {
        "colab": {
          "base_uri": "https://localhost:8080/"
        },
        "id": "RuNmDQjJyFIH",
        "outputId": "46ab0859-72b8-486e-99d4-5535adede5d9"
      },
      "source": [
        "tr=ScratchDecesionTreeClassifierDepth1(max_depth=6)\r\n",
        "tr.fit(x_train,y_train)\r\n",
        "y_pred3=tr.predict(x_test)\r\n",
        "y_pred3"
      ],
      "execution_count": null,
      "outputs": [
        {
          "output_type": "stream",
          "text": [
            "Depth: 0, Sep at Feature: 1,Threshold: 4.8,Gini: 0.499911111111111, Label: 2\n",
            "Depth: 1, Sep at Feature: 1,Threshold: 5.1,Gini: 0.09730440499671267, Label: 2\n",
            "Depth: 2, Sep at Feature: None,Threshold: None,Gini: 0.0, Label: 2\n",
            "Depth: 2, Sep at Feature: 0,Threshold: 6.7,Gini: 0.375, Label: 2\n",
            "Depth: 3, Sep at Feature: None,Threshold: None,Gini: 0.0, Label: 1\n",
            "Depth: 3, Sep at Feature: 0,Threshold: 6.0,Gini: 0.24489795918367352, Label: 2\n",
            "Depth: 4, Sep at Feature: None,Threshold: None,Gini: 0.0, Label: 2\n",
            "Depth: 4, Sep at Feature: 0,Threshold: 5.9,Gini: 0.5, Label: 1\n",
            "Depth: 5, Sep at Feature: None,Threshold: None,Gini: 0.0, Label: 1\n",
            "Depth: 5, Sep at Feature: None,Threshold: None,Gini: 0.0, Label: 2\n",
            "Depth: 1, Sep at Feature: 0,Threshold: 5.0,Gini: 0.054012345679012475, Label: 1\n",
            "Depth: 2, Sep at Feature: None,Threshold: None,Gini: 0.0, Label: 1\n",
            "Depth: 2, Sep at Feature: None,Threshold: None,Gini: 0.0, Label: 2\n"
          ],
          "name": "stdout"
        },
        {
          "output_type": "execute_result",
          "data": {
            "text/plain": [
              "array([1, 2, 1, 2, 2, 2, 1, 2, 2, 2, 2, 2, 2, 1, 2, 1, 2, 1, 1, 1, 2, 2,\n",
              "       1, 2, 1])"
            ]
          },
          "metadata": {
            "tags": []
          },
          "execution_count": 258
        }
      ]
    },
    {
      "cell_type": "code",
      "metadata": {
        "id": "Re1QGMNbyOCa"
      },
      "source": [
        "#深さ2"
      ],
      "execution_count": null,
      "outputs": []
    },
    {
      "cell_type": "code",
      "metadata": {
        "id": "NI2nCN_MyUqN",
        "colab": {
          "base_uri": "https://localhost:8080/"
        },
        "outputId": "afcc2cdd-c28e-4266-921c-50ebede65e84"
      },
      "source": [
        "tr=ScratchDecesionTreeClassifierDepth1(max_depth=2)\r\n",
        "tr.fit(x_train,y_train)\r\n",
        "y_pred3=tr.predict(x_test)\r\n",
        "y_pred3"
      ],
      "execution_count": null,
      "outputs": [
        {
          "output_type": "stream",
          "text": [
            "Depth: 0, Sep at Feature: 1,Threshold: 4.8,Gini: 0.499911111111111, Label: 2\n",
            "Depth: 1, Sep at Feature: 1,Threshold: 5.1,Gini: 0.09730440499671267, Label: 2\n",
            "Depth: 2, Sep at Feature: None,Threshold: None,Gini: 0.0, Label: 2\n",
            "Depth: 2, Sep at Feature: 0,Threshold: 6.7,Gini: 0.375, Label: 2\n",
            "Depth: 1, Sep at Feature: 0,Threshold: 5.0,Gini: 0.054012345679012475, Label: 1\n",
            "Depth: 2, Sep at Feature: None,Threshold: None,Gini: 0.0, Label: 1\n",
            "Depth: 2, Sep at Feature: None,Threshold: None,Gini: 0.0, Label: 2\n"
          ],
          "name": "stdout"
        },
        {
          "output_type": "execute_result",
          "data": {
            "text/plain": [
              "array([1, 2, 2, 2, 2, 2, 1, 2, 2, 2, 2, 2, 2, 1, 2, 1, 2, 1, 2, 1, 2, 2,\n",
              "       1, 2, 1])"
            ]
          },
          "metadata": {
            "tags": []
          },
          "execution_count": 260
        }
      ]
    },
    {
      "cell_type": "code",
      "metadata": {
        "id": "jmo0qy1CyVhX"
      },
      "source": [
        ""
      ],
      "execution_count": null,
      "outputs": []
    }
  ]
}