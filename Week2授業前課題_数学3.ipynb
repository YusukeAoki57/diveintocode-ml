{
  "nbformat": 4,
  "nbformat_minor": 0,
  "metadata": {
    "colab": {
      "name": "Week2授業前課題_数学3.ipynb",
      "provenance": [],
      "collapsed_sections": [],
      "authorship_tag": "ABX9TyNob0E9GvP0WQbDasx3s1O0",
      "include_colab_link": true
    },
    "kernelspec": {
      "name": "python3",
      "display_name": "Python 3"
    }
  },
  "cells": [
    {
      "cell_type": "markdown",
      "metadata": {
        "id": "view-in-github",
        "colab_type": "text"
      },
      "source": [
        "<a href=\"https://colab.research.google.com/github/YusukeAoki57/diveintocode-ml/blob/master/Week2%E6%8E%88%E6%A5%AD%E5%89%8D%E8%AA%B2%E9%A1%8C_%E6%95%B0%E5%AD%A63.ipynb\" target=\"_parent\"><img src=\"https://colab.research.google.com/assets/colab-badge.svg\" alt=\"Open In Colab\"/></a>"
      ]
    },
    {
      "cell_type": "code",
      "metadata": {
        "id": "MOsKmXSYae3P"
      },
      "source": [
        "import numpy as np"
      ],
      "execution_count": null,
      "outputs": []
    },
    {
      "cell_type": "markdown",
      "metadata": {
        "id": "hIxtmtAEau_x"
      },
      "source": [
        "問題1&問題2 行列積を手計算する/Numpyによる計算"
      ]
    },
    {
      "cell_type": "code",
      "metadata": {
        "colab": {
          "base_uri": "https://localhost:8080/"
        },
        "id": "2Txx4mp0axOd",
        "outputId": "074b79a7-a081-4532-cc7b-73b8b39aa2df"
      },
      "source": [
        "a_ndarray = np.array([[-1, 2, 3], [4, -5, 6], [7, 8, -9]])\r\n",
        "b_ndarray = np.array([[0, 2, 1], [0, 2, -8], [2, 9, -1]])\r\n",
        "\r\n",
        "ans=np.matmul(a_ndarray,b_ndarray)\r\n",
        "print(ans)\r\n"
      ],
      "execution_count": null,
      "outputs": [
        {
          "output_type": "stream",
          "text": [
            "[[  6  29 -20]\n",
            " [ 12  52  38]\n",
            " [-18 -51 -48]]\n"
          ],
          "name": "stdout"
        }
      ]
    },
    {
      "cell_type": "markdown",
      "metadata": {
        "id": "N3ZMzJ5ddLLn"
      },
      "source": [
        "行列の手計算の方法\r\n",
        "左の行列の行×右の行列の列を要素ごとに掛け、足し合わせていく"
      ]
    },
    {
      "cell_type": "markdown",
      "metadata": {
        "id": "AhC6hLVXehwa"
      },
      "source": [
        "問題3　ある要素の計算を実装"
      ]
    },
    {
      "cell_type": "code",
      "metadata": {
        "colab": {
          "base_uri": "https://localhost:8080/"
        },
        "id": "Wj56WeGhdcGo",
        "outputId": "52c9b812-da62-4017-f087-606922cf061c"
      },
      "source": [
        "cal=[]\r\n",
        "sum=0\r\n",
        "for i in range(len(a_ndarray)):\r\n",
        "  for k in range(len(b_ndarray)):\r\n",
        "    for z in range(len(b_ndarray)):\r\n",
        "      sum=sum+(a_ndarray[k][z]*b_ndarray[z][i])\r\n",
        "      #print(sum)\r\n",
        "      if z==len(b_ndarray)-1:\r\n",
        "        cal.append(sum)\r\n",
        "        result=np.array(cal)\r\n",
        "        sum=0       \r\n",
        "print(result.reshape(3,3).T)"
      ],
      "execution_count": null,
      "outputs": [
        {
          "output_type": "stream",
          "text": [
            "[[  6  29 -20]\n",
            " [ 12  52  38]\n",
            " [-18 -51 -48]]\n"
          ],
          "name": "stdout"
        }
      ]
    },
    {
      "cell_type": "markdown",
      "metadata": {
        "id": "9oQzrKGnurRR"
      },
      "source": [
        "問題4&5&6　行列積を行う関数の作成/計算が定義されない入力を判定する/転置"
      ]
    },
    {
      "cell_type": "code",
      "metadata": {
        "id": "xRLXsIu-mmDZ",
        "colab": {
          "base_uri": "https://localhost:8080/"
        },
        "outputId": "7f901914-477b-4460-8ffb-9ece0c236231"
      },
      "source": [
        "def queue_multi(a,b):\r\n",
        "  cal=[]\r\n",
        "  sum=0\r\n",
        "  for i in range(b.shape[1]):\r\n",
        "    for k in range(a.shape[0]):\r\n",
        "      for z in range(a.shape[1]):\r\n",
        "        sum=sum+(a[k][z]*b[z][i])\r\n",
        "        #print(sum)\r\n",
        "        if z==a.shape[1]-1:\r\n",
        "          cal.append(sum)\r\n",
        "          result=np.array(cal)\r\n",
        "          sum=0\r\n",
        "  return result.reshape(a.shape[0],b.shape[1]).T\r\n",
        "\r\n",
        "d= np.array([[-1, 2, 3], [4, -5, 6]])\r\n",
        "e= np.array([[-9, 8, 7], [6, -5, 4]])\r\n",
        "\r\n",
        "if d.shape[1]==e.shape[0]:\r\n",
        "  e=e\r\n",
        "else:\r\n",
        "  print(\"計算が成り立ちません。転置等により計算ができるか確認してください\") \r\n",
        "print(queue_multi(d,e.T))"
      ],
      "execution_count": null,
      "outputs": [
        {
          "output_type": "stream",
          "text": [
            "計算が成り立ちません。転置等により計算ができるか確認してください\n",
            "[[ 46  -4]\n",
            " [-34  73]]\n"
          ],
          "name": "stdout"
        }
      ]
    },
    {
      "cell_type": "code",
      "metadata": {
        "id": "GLRGDAACz-Xb"
      },
      "source": [
        ""
      ],
      "execution_count": null,
      "outputs": []
    }
  ]
}