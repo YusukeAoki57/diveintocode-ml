{
  "nbformat": 4,
  "nbformat_minor": 0,
  "metadata": {
    "colab": {
      "name": "Spring5_svm.ipynb",
      "provenance": [],
      "collapsed_sections": [],
      "authorship_tag": "ABX9TyNEwYyjSaHdbSNPECSsWv3C",
      "include_colab_link": true
    },
    "kernelspec": {
      "name": "python3",
      "display_name": "Python 3"
    }
  },
  "cells": [
    {
      "cell_type": "markdown",
      "metadata": {
        "id": "view-in-github",
        "colab_type": "text"
      },
      "source": [
        "<a href=\"https://colab.research.google.com/github/YusukeAoki57/diveintocode-ml/blob/master/Spring5_svm.ipynb\" target=\"_parent\"><img src=\"https://colab.research.google.com/assets/colab-badge.svg\" alt=\"Open In Colab\"/></a>"
      ]
    },
    {
      "cell_type": "code",
      "metadata": {
        "id": "XnEKvU8FFtdx"
      },
      "source": [
        "import numpy as np\r\n",
        "import matplotlib.pyplot as plt\r\n",
        "from sklearn.datasets import load_iris\r\n",
        "from sklearn.preprocessing import StandardScaler\r\n",
        "import pandas as pd\r\n",
        "import matplotlib.pyplot as plt"
      ],
      "execution_count": null,
      "outputs": []
    },
    {
      "cell_type": "code",
      "metadata": {
        "colab": {
          "base_uri": "https://localhost:8080/"
        },
        "id": "EJbU-lFcF7Sb",
        "outputId": "2e0353bd-0a0b-4102-b362-e2fc90ad0e5e"
      },
      "source": [
        "iris=load_iris()\r\n",
        "iris_data=pd.DataFrame(iris.data,columns=iris.feature_names)\r\n",
        "print(iris_data)"
      ],
      "execution_count": null,
      "outputs": [
        {
          "output_type": "stream",
          "text": [
            "     sepal length (cm)  sepal width (cm)  petal length (cm)  petal width (cm)\n",
            "0                  5.1               3.5                1.4               0.2\n",
            "1                  4.9               3.0                1.4               0.2\n",
            "2                  4.7               3.2                1.3               0.2\n",
            "3                  4.6               3.1                1.5               0.2\n",
            "4                  5.0               3.6                1.4               0.2\n",
            "..                 ...               ...                ...               ...\n",
            "145                6.7               3.0                5.2               2.3\n",
            "146                6.3               2.5                5.0               1.9\n",
            "147                6.5               3.0                5.2               2.0\n",
            "148                6.2               3.4                5.4               2.3\n",
            "149                5.9               3.0                5.1               1.8\n",
            "\n",
            "[150 rows x 4 columns]\n"
          ],
          "name": "stdout"
        }
      ]
    },
    {
      "cell_type": "code",
      "metadata": {
        "colab": {
          "base_uri": "https://localhost:8080/"
        },
        "id": "iVV7qZazF8vH",
        "outputId": "9bb33530-0ad9-480f-d2da-723134d26cd0"
      },
      "source": [
        "#targetの生成\r\n",
        "all_y=pd.DataFrame(iris.target)\r\n",
        "all_y.columns=['Species']\r\n",
        "\r\n",
        "#特徴量との結合\r\n",
        "all_xy=pd.merge(iris_data,all_y,left_index=True, right_index=True)\r\n",
        "\r\n",
        "#Targetのvirgicolorとvirginicaのみのデータの生成\r\n",
        "part_columns=all_xy[all_xy['Species'] != 0]\r\n",
        "print(part_columns)\r\n",
        "\r\n",
        "#sepal_lengthとpetal_lengthのみのデータの生成\r\n",
        "part_all1=part_columns.drop('sepal width (cm)', axis=1)\r\n",
        "part_all=part_all1.drop('petal width (cm)', axis=1)\r\n",
        "\r\n"
      ],
      "execution_count": 448,
      "outputs": [
        {
          "output_type": "stream",
          "text": [
            "     sepal length (cm)  sepal width (cm)  ...  petal width (cm)  Species\n",
            "50                 7.0               3.2  ...               1.4        1\n",
            "51                 6.4               3.2  ...               1.5        1\n",
            "52                 6.9               3.1  ...               1.5        1\n",
            "53                 5.5               2.3  ...               1.3        1\n",
            "54                 6.5               2.8  ...               1.5        1\n",
            "..                 ...               ...  ...               ...      ...\n",
            "145                6.7               3.0  ...               2.3        2\n",
            "146                6.3               2.5  ...               1.9        2\n",
            "147                6.5               3.0  ...               2.0        2\n",
            "148                6.2               3.4  ...               2.3        2\n",
            "149                5.9               3.0  ...               1.8        2\n",
            "\n",
            "[100 rows x 5 columns]\n"
          ],
          "name": "stdout"
        }
      ]
    },
    {
      "cell_type": "code",
      "metadata": {
        "colab": {
          "base_uri": "https://localhost:8080/"
        },
        "id": "LMVBoV3HF-mv",
        "outputId": "dde7033a-9032-41be-db43-26b17366ccda"
      },
      "source": [
        "#numpyに変換\r\n",
        "x=part_columns.drop('Species', axis=1).values\r\n",
        "y=part_columns.iloc[:,-1].values\r\n",
        "\r\n",
        "x2=part_all.drop('Species', axis=1).values\r\n",
        "y2=part_columns.iloc[:,-1].values\r\n",
        "\r\n",
        "\r\n",
        "#分割 4特徴量\r\n",
        "from sklearn.model_selection import train_test_split\r\n",
        "x_train, x_test, y_train, y_test = train_test_split(x, y, test_size=0.5, random_state=0)\r\n",
        "\r\n",
        "#分割　2特徴量→グラフ用\r\n",
        "x_train2, x_test2, y_train2, y_test2 = train_test_split(x2, y2, test_size=0.5, random_state=0)\r\n",
        "print(x_test2.shape)\r\n",
        "print(y_test2.shape)\r\n",
        "print(type(x_test2))\r\n",
        "print(type(y_test2))\r\n",
        "\r\n",
        "#訓練データの説明変数をfit（平均・分散を計算）\r\n",
        "sc = StandardScaler()\r\n",
        "sc.fit(x_train2)\r\n",
        "#print(x_train_fit.var_)\r\n",
        "\r\n",
        "#訓練データの説明変数をtransformで標準化\r\n",
        "x_train3=sc.transform(x_train2)\r\n",
        "#print(x_train_trf)\r\n",
        "\r\n",
        "#テストデータの説明変数をtransformで標準化：fitについては訓練データで計算済であり、それがテストデータに使用される\r\n",
        "x_test3=sc.transform(x_test2)\r\n"
      ],
      "execution_count": 449,
      "outputs": [
        {
          "output_type": "stream",
          "text": [
            "(50, 2)\n",
            "(50,)\n",
            "<class 'numpy.ndarray'>\n",
            "<class 'numpy.ndarray'>\n"
          ],
          "name": "stdout"
        }
      ]
    },
    {
      "cell_type": "code",
      "metadata": {
        "id": "yBGlDe06GBPZ"
      },
      "source": [
        "class ScratchSVMClassifier():\r\n",
        "  def __init__(self, num_iter=5000, lr=1e-20, kernel='linear', threshold=0.70, verbose=False):\r\n",
        "    # ハイパーパラメータを属性として記録\r\n",
        "    self.iter = num_iter\r\n",
        "    self.lr = lr\r\n",
        "    self.kernel = kernel\r\n",
        "    self.threshold = threshold\r\n",
        "    self.verbose = verbose\r\n",
        "  def _karnel(self,X):\r\n",
        "    k=np.dot(X,X.T) #(n,j)*(j,n)=(n,n)\r\n",
        "    return k\r\n",
        "\r\n",
        "  def _gradient(self, X,y,lamd):\r\n",
        "    \r\n",
        "    for k in range(self.iter):   \r\n",
        "    \r\n",
        "    #微分\r\n",
        "      y1=np.dot(y,y.T)\r\n",
        "      k=self._karnel(X)\r\n",
        "      yx=np.dot(y1,k) #(n,n)\r\n",
        "      lamd=lamd+self.lr*(1-np.dot(lamd.T,yx).T) #(1,n)*(n,n)=(1,n).T\r\n",
        "      np.where(lamd<0,0,lamd)\r\n",
        "    print(lamd)\r\n",
        "\r\n",
        "    xyl=np.concatenate([X,y,lamd],axis=1)    \r\n",
        "      \r\n",
        "    return lamd,xyl\r\n",
        "\r\n",
        "  def fit(self, X, y, X_val=None, y_val=None):\r\n",
        "    #yの加工\r\n",
        "    y1,y2=np.unique(y)\r\n",
        "    if y1>y2:\r\n",
        "      self.large_y=y1\r\n",
        "      self.small_y=y2\r\n",
        "    elif y1<y2:\r\n",
        "      self.large_y=y2\r\n",
        "      self.small_y=y1\r\n",
        "    print(self.large_y)\r\n",
        "    y=np.where(y>np.mean(y),1,-1)\r\n",
        "    y=y.reshape(y.shape[0],1)\r\n",
        "    \r\n",
        "    \r\n",
        "    #lamdaの初期生成\r\n",
        "    lamd=np.random.rand(X.shape[0],1) #(n,1)\r\n",
        "   \r\n",
        "    #微分計算\r\n",
        "    lamd,xyl=self._gradient(X,y,lamd)\r\n",
        "    \r\n",
        "    #閾値超えのx,y,lの抽出\r\n",
        "    self.xyl2=xyl[xyl[:,-1]>self.threshold]\r\n",
        "   \r\n",
        "    \r\n",
        "\r\n",
        "    \"\"\"\r\n",
        "    SVM分類器を学習する。検証データが入力された場合はそれに対する精度もイテレーションごとに計算する。\r\n",
        "    Parameters\r\n",
        "     ----------\r\n",
        "    X : 次の形のndarray, shape (n_samples, n_features)\r\n",
        "        訓練データの特徴量\r\n",
        "    y : 次の形のndarray, shape (n_samples, )\r\n",
        "        訓練データの正解値\r\n",
        "    X_val : 次の形のndarray, shape (n_samples, n_features)\r\n",
        "        検証データの特徴量\r\n",
        "    y_val : 次の形のndarray, shape (n_samples, )\r\n",
        "        検証データの正解値\r\n",
        "    \"\"\"\r\n",
        "    \"\"\"\r\n",
        "    if self.verbose:\r\n",
        "      #verboseをTrueにした際は学習過程を出力\r\n",
        "      print()\r\n",
        "      pass\r\n",
        "    \"\"\"\r\n",
        "  def predict(self, X):\r\n",
        "\r\n",
        "    self.sv=self.xyl2[:,0:X.shape[1]] #(z,j)\r\n",
        "    self.sv=self.sv.reshape(self.sv.shape[0],self.sv.shape[1])\r\n",
        "    y=self.xyl2[:,-2] #(z,1)\r\n",
        "    y=y.reshape(y.shape[0],1)\r\n",
        "    print(y)\r\n",
        "    lamd2=self.xyl2[:,-1] #(z,1)\r\n",
        "    lamd2=lamd2.reshape(lamd2.shape[0],1)\r\n",
        "    k=np.dot(self.sv,X.T) #(z,j)*(j,n)→(z,n)\r\n",
        "    #print(k)\r\n",
        "    a=lamd2*y #(z,1)\r\n",
        "    print(a.shape)\r\n",
        "    a=a.reshape(a.shape[0],1)\r\n",
        "    #print(np.dot(k.T,a)) #(n,z)*(z,1)=(n,1) \r\n",
        "    y_pred=np.sign(np.dot(k.T,a)) #(n,z)*(z,1)→(n,1)\r\n",
        "    print(y_pred.shape)\r\n",
        "\r\n",
        "    for i in range(y_pred.shape[0]):\r\n",
        "      if y_pred[i,0]==1:\r\n",
        "        y_pred[i,0]=self.large_y\r\n",
        "      elif y_pred[i,0]==-1:\r\n",
        "        y_pred[i,0]=self.small_y\r\n",
        "    y_pred2=np.array(y_pred)\r\n",
        "    print(y_pred2.shape)\r\n",
        "    return y_pred2\r\n",
        "  def SV(self):\r\n",
        "    return self.sv\r\n"
      ],
      "execution_count": 450,
      "outputs": []
    },
    {
      "cell_type": "code",
      "metadata": {
        "colab": {
          "base_uri": "https://localhost:8080/"
        },
        "id": "mag9IqTYGEtH",
        "outputId": "36de0742-7e8a-45f6-e1c8-dc446006c1ad"
      },
      "source": [
        "ssvm=ScratchSVMClassifier()\r\n",
        "ssvm.fit(x_train3,y_train2)"
      ],
      "execution_count": 451,
      "outputs": [
        {
          "output_type": "stream",
          "text": [
            "2\n",
            "[[0.79437312]\n",
            " [0.56346371]\n",
            " [0.91923625]\n",
            " [0.69066808]\n",
            " [0.40711924]\n",
            " [0.79002752]\n",
            " [0.13120448]\n",
            " [0.66458458]\n",
            " [0.42943335]\n",
            " [0.17334181]\n",
            " [0.23923136]\n",
            " [0.38696246]\n",
            " [0.2256496 ]\n",
            " [0.42741306]\n",
            " [0.10924557]\n",
            " [0.87181274]\n",
            " [0.27740454]\n",
            " [0.32929152]\n",
            " [0.47572346]\n",
            " [0.72823479]\n",
            " [0.23750488]\n",
            " [0.24964494]\n",
            " [0.37134192]\n",
            " [0.33552053]\n",
            " [0.62779188]\n",
            " [0.17301323]\n",
            " [0.0577129 ]\n",
            " [0.2949529 ]\n",
            " [0.70335633]\n",
            " [0.09741633]\n",
            " [0.76182963]\n",
            " [0.40235435]\n",
            " [0.10289764]\n",
            " [0.24616059]\n",
            " [0.51720798]\n",
            " [0.25995787]\n",
            " [0.46176862]\n",
            " [0.37217752]\n",
            " [0.5887726 ]\n",
            " [0.32447507]\n",
            " [0.04898175]\n",
            " [0.93736428]\n",
            " [0.13534696]\n",
            " [0.08643051]\n",
            " [0.54705081]\n",
            " [0.69886975]\n",
            " [0.42585706]\n",
            " [0.44927308]\n",
            " [0.67505129]\n",
            " [0.64604731]]\n"
          ],
          "name": "stdout"
        }
      ]
    },
    {
      "cell_type": "code",
      "metadata": {
        "id": "yxs6qenArjoY",
        "colab": {
          "base_uri": "https://localhost:8080/"
        },
        "outputId": "7dc5f113-fbb9-46ca-8efe-c5b30a140a58"
      },
      "source": [
        "y_pred=ssvm.predict(x_test3)"
      ],
      "execution_count": 459,
      "outputs": [
        {
          "output_type": "stream",
          "text": [
            "[[ 1.]\n",
            " [-1.]\n",
            " [ 1.]\n",
            " [ 1.]\n",
            " [ 1.]\n",
            " [ 1.]\n",
            " [-1.]\n",
            " [-1.]]\n",
            "(8, 1)\n",
            "(50, 1)\n",
            "(50, 1)\n"
          ],
          "name": "stdout"
        }
      ]
    },
    {
      "cell_type": "code",
      "metadata": {
        "id": "l6mB-DKT78zN"
      },
      "source": [
        "import matplotlib.pyplot as plt\r\n",
        "from matplotlib.colors import ListedColormap\r\n",
        "import matplotlib.patches as mpatches\r\n",
        "\r\n",
        "def decision_region(X, y, model, step=0.01, title='decision region', xlabel='xlabel', ylabel='ylabel', target_names=['versicolor', 'virginica']):\r\n",
        "    \"\"\"\r\n",
        "    2値分類を2次元の特徴量で学習したモデルの決定領域を描く。\r\n",
        "    背景の色が学習したモデルによる推定値から描画される。\r\n",
        "    散布図の点は訓練データまたは検証データである。\r\n",
        "    Parameters\r\n",
        "    ----------------\r\n",
        "    X : ndarray, shape(n_samples, 2)\r\n",
        "        特徴量\r\n",
        "    y : ndarray, shape(n_samples,)\r\n",
        "        ラベル\r\n",
        "    model : object\r\n",
        "        学習したモデルのインスンタスを入れる\r\n",
        "    step : float, (default : 0.1)\r\n",
        "        推定値を計算する間隔を設定する\r\n",
        "    title : str\r\n",
        "        グラフのタイトルの文章を与える\r\n",
        "    xlabel, ylabel : str\r\n",
        "        軸ラベルの文章を与える\r\n",
        "    target_names= : list of str\r\n",
        "        凡例の一覧を与える\r\n",
        "    \"\"\"\r\n",
        "    # setting\r\n",
        "    scatter_color = ['red', 'blue']\r\n",
        "    contourf_color = ['pink', 'skyblue']\r\n",
        "    n_class = 2\r\n",
        "    # pred\r\n",
        "    mesh_f0, mesh_f1  = np.meshgrid(np.arange(np.min(X[:,0])-0.5, np.max(X[:,0])+0.5, step), np.arange(np.min(X[:,1])-0.5, np.max(X[:,1])+0.5, step))\r\n",
        "    mesh = np.c_[np.ravel(mesh_f0),np.ravel(mesh_f1)]\r\n",
        "    print(mesh.shape)\r\n",
        "    y_pred = model.predict(mesh).reshape(mesh_f0.shape)\r\n",
        "    # plot\r\n",
        "    plt.title(title)\r\n",
        "    plt.xlabel(xlabel)\r\n",
        "    plt.ylabel(ylabel)\r\n",
        "    plt.contourf(mesh_f0, mesh_f1, y_pred, n_class-1, cmap=ListedColormap(contourf_color))\r\n",
        "    plt.contour(mesh_f0, mesh_f1, y_pred, n_class-1, colors='y', linewidths=3, alpha=0.5)\r\n",
        "    for i, target in enumerate(set(y)):\r\n",
        "        plt.scatter(X[y==target][:, 0], X[y==target][:, 1], s=80, color=scatter_color[i], label=target_names[i], marker='o')\r\n",
        "    SV=model.SV()\r\n",
        "    plt.scatter(SV[:,0], SV[:,1], c='yellow', linewidths=1.0, edgecolors='yellow')\r\n",
        "    patches = [mpatches.Patch(color=scatter_color[i], label=target_names[i]) for i in range(n_class)]\r\n",
        "    plt.legend(handles=patches)\r\n",
        "    plt.legend()\r\n",
        "    plt.show()"
      ],
      "execution_count": 453,
      "outputs": []
    },
    {
      "cell_type": "code",
      "metadata": {
        "colab": {
          "base_uri": "https://localhost:8080/",
          "height": 506
        },
        "id": "4HyBsQECAEz-",
        "outputId": "66a1b0fd-f53d-4e2d-ee5f-2fb1ab330a5e"
      },
      "source": [
        "#y_test2=y_test2.reshape(y_test2.shape[0],1)\r\n",
        "decision_region(x_test3,y_test2, model=ssvm)"
      ],
      "execution_count": 454,
      "outputs": [
        {
          "output_type": "stream",
          "text": [
            "(285270, 2)\n",
            "[[ 1.]\n",
            " [-1.]\n",
            " [ 1.]\n",
            " [ 1.]\n",
            " [ 1.]\n",
            " [ 1.]\n",
            " [-1.]\n",
            " [-1.]]\n",
            "(8, 1)\n",
            "(285270, 1)\n",
            "(285270, 1)\n"
          ],
          "name": "stdout"
        },
        {
          "output_type": "display_data",
          "data": {
            "image/png": "[encoded data removed]",
            "text/plain": [
              "<Figure size 432x288 with 1 Axes>"
            ]
          },
          "metadata": {
            "tags": [],
            "needs_background": "light"
          }
        }
      ]
    },
    {
      "cell_type": "code",
      "metadata": {
        "colab": {
          "base_uri": "https://localhost:8080/"
        },
        "id": "X4Ehx1FaTpRF",
        "outputId": "0a30ed2a-0054-4393-95c8-ba9a56d54039"
      },
      "source": [
        "#sk-learn\r\n",
        "from sklearn import svm\r\n",
        "clf = svm.SVC()\r\n",
        "clf.fit(x_train2, y_train2)"
      ],
      "execution_count": 455,
      "outputs": [
        {
          "output_type": "execute_result",
          "data": {
            "text/plain": [
              "SVC(C=1.0, break_ties=False, cache_size=200, class_weight=None, coef0=0.0,\n",
              "    decision_function_shape='ovr', degree=3, gamma='scale', kernel='rbf',\n",
              "    max_iter=-1, probability=False, random_state=None, shrinking=True,\n",
              "    tol=0.001, verbose=False)"
            ]
          },
          "metadata": {
            "tags": []
          },
          "execution_count": 455
        }
      ]
    },
    {
      "cell_type": "code",
      "metadata": {
        "id": "bp3GuMufUDZ0"
      },
      "source": [
        "y_pred2=clf.predict(x_test3)"
      ],
      "execution_count": 456,
      "outputs": []
    },
    {
      "cell_type": "code",
      "metadata": {
        "id": "m64cqP2-AHuq",
        "colab": {
          "base_uri": "https://localhost:8080/"
        },
        "outputId": "017daea0-c935-494a-b7e0-5d178dd7dcf8"
      },
      "source": [
        "#Accuracy\r\n",
        "from sklearn.metrics import accuracy_score\r\n",
        "#スクラッチ\r\n",
        "print(accuracy_score(y_test, y_pred))\r\n",
        "#SC-learn\r\n",
        "print(accuracy_score(y_test, y_pred2))"
      ],
      "execution_count": 460,
      "outputs": [
        {
          "output_type": "stream",
          "text": [
            "0.78\n",
            "0.48\n"
          ],
          "name": "stdout"
        }
      ]
    },
    {
      "cell_type": "code",
      "metadata": {
        "colab": {
          "base_uri": "https://localhost:8080/"
        },
        "id": "cCNc9eTnUIjR",
        "outputId": "69dc6c8f-d746-44b7-8726-fc8fb7ba59e2"
      },
      "source": [
        "#Prececion\r\n",
        "from sklearn.metrics import precision_score\r\n",
        "print(precision_score(y_test, y_pred))\r\n",
        "print(precision_score(y_test, y_pred2))\r\n"
      ],
      "execution_count": 461,
      "outputs": [
        {
          "output_type": "stream",
          "text": [
            "0.7419354838709677\n",
            "0.0\n"
          ],
          "name": "stdout"
        },
        {
          "output_type": "stream",
          "text": [
            "/usr/local/lib/python3.6/dist-packages/sklearn/metrics/_classification.py:1272: UndefinedMetricWarning: Precision is ill-defined and being set to 0.0 due to no predicted samples. Use `zero_division` parameter to control this behavior.\n",
            "  _warn_prf(average, modifier, msg_start, len(result))\n"
          ],
          "name": "stderr"
        }
      ]
    },
    {
      "cell_type": "code",
      "metadata": {
        "colab": {
          "base_uri": "https://localhost:8080/"
        },
        "id": "iZU1XmTzUQF2",
        "outputId": "b9a54330-1301-446d-af6c-631bf10f2b27"
      },
      "source": [
        "#recall\r\n",
        "from sklearn.metrics import recall_score\r\n",
        "print(recall_score(y_test, y_pred))\r\n",
        "print(recall_score(y_test, y_pred2))"
      ],
      "execution_count": 463,
      "outputs": [
        {
          "output_type": "stream",
          "text": [
            "0.8846153846153846\n",
            "0.0\n"
          ],
          "name": "stdout"
        }
      ]
    },
    {
      "cell_type": "code",
      "metadata": {
        "id": "6YDC-eEsUTDm"
      },
      "source": [
        ""
      ],
      "execution_count": null,
      "outputs": []
    }
  ]
}