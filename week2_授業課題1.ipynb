{
  "nbformat": 4,
  "nbformat_minor": 0,
  "metadata": {
    "colab": {
      "name": "week2_授業課題1.ipynb",
      "provenance": [],
      "collapsed_sections": [],
      "authorship_tag": "ABX9TyO7FhKkZDnagunrKCXONy6I",
      "include_colab_link": true
    },
    "kernelspec": {
      "name": "python3",
      "display_name": "Python 3"
    }
  },
  "cells": [
    {
      "cell_type": "markdown",
      "metadata": {
        "id": "view-in-github",
        "colab_type": "text"
      },
      "source": [
        "<a href=\"https://colab.research.google.com/github/YusukeAoki57/diveintocode-ml/blob/master/week2_%E6%8E%88%E6%A5%AD%E8%AA%B2%E9%A1%8C1.ipynb\" target=\"_parent\"><img src=\"https://colab.research.google.com/assets/colab-badge.svg\" alt=\"Open In Colab\"/></a>"
      ]
    },
    {
      "cell_type": "code",
      "metadata": {
        "id": "4YQF8ROM--cb"
      },
      "source": [
        "import numpy as np"
      ],
      "execution_count": 24,
      "outputs": []
    },
    {
      "cell_type": "markdown",
      "metadata": {
        "id": "vNxiJg0iG22l"
      },
      "source": [
        "問題1 1次関数"
      ]
    },
    {
      "cell_type": "code",
      "metadata": {
        "id": "xM7hn6fE-I0w"
      },
      "source": [
        "def compute_ndarray(start=-50,stop=50.1,step=0.1): \r\n",
        "  start=start\r\n",
        "  stop=stop\r\n",
        "  step=step\r\n",
        "  #xの生成\r\n",
        "  x=np.arange(start,stop,step)\r\n",
        "  return x"
      ],
      "execution_count": 29,
      "outputs": []
    },
    {
      "cell_type": "markdown",
      "metadata": {
        "id": "K9pvqpw-IWAo"
      },
      "source": [
        "問題2 配列の結合"
      ]
    },
    {
      "cell_type": "code",
      "metadata": {
        "id": "1KG9RlWeHVq3"
      },
      "source": [
        "def marge_xy(x,y):\r\n",
        "  marge=np.hstack((x,y))\r\n",
        "  return marge\r\n"
      ],
      "execution_count": 30,
      "outputs": []
    },
    {
      "cell_type": "markdown",
      "metadata": {
        "id": "WWQHab-cMc1e"
      },
      "source": [
        "問題3　勾配を求める"
      ]
    },
    {
      "cell_type": "code",
      "metadata": {
        "id": "vdgJPW4eJh5W"
      },
      "source": [
        "def slope(x,y):\r\n",
        "  x_slope1=x[1:]\r\n",
        "  x_slope2=x[:-1]\r\n",
        "\r\n",
        "  y_slope1=y[1:]\r\n",
        "  y_slope2=y[:-1]\r\n",
        "\r\n",
        "  #x,yの差分算出\r\n",
        "  dif_x=x_slope1-x_slope2\r\n",
        "  dif_y=y_slope1-y_slope2\r\n",
        "\r\n",
        "  dv=dif_y/dif_x\r\n",
        "  return dv"
      ],
      "execution_count": 31,
      "outputs": []
    },
    {
      "cell_type": "markdown",
      "metadata": {
        "id": "3NlBmvq_QGKc"
      },
      "source": [
        "問題4 グラフを描く"
      ]
    },
    {
      "cell_type": "code",
      "metadata": {
        "id": "7zUcOqQxM2e-"
      },
      "source": [
        "#一次関数のグラフ\r\n",
        "\r\n",
        "import matplotlib.pyplot as plt"
      ],
      "execution_count": 32,
      "outputs": []
    },
    {
      "cell_type": "code",
      "metadata": {
        "id": "A7fkfZH6RG-5"
      },
      "source": [
        "def graph(x,y):\r\n",
        "  plt.xlabel('x')\r\n",
        "  plt.ylabel('y')\r\n",
        "  plt.plot(x,y)"
      ],
      "execution_count": 37,
      "outputs": []
    },
    {
      "cell_type": "code",
      "metadata": {
        "id": "5Nv0Py9QRI_Q"
      },
      "source": [
        "def graph2(x,dv):\r\n",
        "  #勾配のグラフ\r\n",
        "  plt.xlabel('x')\r\n",
        "  plt.ylabel('differential_y')\r\n",
        "  plt.plot(x[1:,],dv)"
      ],
      "execution_count": 34,
      "outputs": []
    },
    {
      "cell_type": "markdown",
      "metadata": {
        "id": "5LB4h-Y2Qeby"
      },
      "source": [
        "問題5 Pythonの関数化"
      ]
    },
    {
      "cell_type": "code",
      "metadata": {
        "id": "zkopIBdvRaFd",
        "colab": {
          "base_uri": "https://localhost:8080/"
        },
        "outputId": "de4e883c-65e6-49d8-8896-3eee35b5a179"
      },
      "source": [
        "def compute_gradient(y, array_x):\r\n",
        "    \"\"\"\r\n",
        "    変化量を使い勾配を計算する。\r\n",
        "\r\n",
        "    Parameters\r\n",
        "    ----------------\r\n",
        "    function : function\r\n",
        "      求めたい関数、xのndarrayを入れるとyのndarrayを返すもの。\r\n",
        "    x_range : tuple\r\n",
        "      np.arange()の引数と同じ方法で範囲を指定する。\r\n",
        "\r\n",
        "    Returns\r\n",
        "    ----------------\r\n",
        "    array_xy : ndarray, shape(n, 2)\r\n",
        "      xとyを結合したもの。nはx_rangeに依存する。\r\n",
        "    gradient : ndarray, shape(n-1,)\r\n",
        "      関数の勾配。差をとるため要素は1つ減る\r\n",
        "    \"\"\"\r\n",
        "    #結合の生成\r\n",
        "    array_xy=marge_xy(array_x,y)\r\n",
        "     \r\n",
        "    #勾配の生成\r\n",
        "    gradient=slope(array_x,y)\r\n",
        "\r\n",
        "    return  gradient\r\n",
        "\r\n",
        "\r\n",
        "def y_function1(array_x):\r\n",
        "  #式パターン1を生成\r\n",
        "  y=(1/2)*array_x+1\r\n",
        "\r\n",
        "  return y\r\n",
        "\r\n",
        "def y_function2(array_x):\r\n",
        "  #式パターン2を生成\r\n",
        "  y=(array_x)**2\r\n",
        "  return y\r\n",
        "\r\n",
        "def y_function3(array_x):\r\n",
        "  #式パターン3を生成\r\n",
        "  y=2*(array_x)**2+2**(array_x)\r\n",
        "  return y\r\n",
        "\r\n",
        "def y_function4(array_x):\r\n",
        "  #式パターン4を生成\r\n",
        "  y=np.sin((array_x)**2)\r\n",
        "  return y\r\n",
        "\r\n",
        "\r\n",
        "case_y1=y_function1(compute_ndarray(-50,50.1,0.1))\r\n",
        "case_y2=y_function2(compute_ndarray(-50,50.1,0.1))\r\n",
        "case_y3=y_function3(compute_ndarray(-50,50.1,0.1))\r\n",
        "case_y4=y_function4(compute_ndarray(0,50.1,0.1))\r\n",
        "\r\n",
        "print(compute_gradient(case_y1,compute_ndarray(-50,50.1,0.1)))"
      ],
      "execution_count": 10,
      "outputs": [
        {
          "output_type": "stream",
          "text": [
            "[0.5 0.5 0.5 0.5 0.5 0.5 0.5 0.5 0.5 0.5 0.5 0.5 0.5 0.5 0.5 0.5 0.5 0.5\n",
            " 0.5 0.5 0.5 0.5 0.5 0.5 0.5 0.5 0.5 0.5 0.5 0.5 0.5 0.5 0.5 0.5 0.5 0.5\n",
            " 0.5 0.5 0.5 0.5 0.5 0.5 0.5 0.5 0.5 0.5 0.5 0.5 0.5 0.5 0.5 0.5 0.5 0.5\n",
            " 0.5 0.5 0.5 0.5 0.5 0.5 0.5 0.5 0.5 0.5 0.5 0.5 0.5 0.5 0.5 0.5 0.5 0.5\n",
            " 0.5 0.5 0.5 0.5 0.5 0.5 0.5 0.5 0.5 0.5 0.5 0.5 0.5 0.5 0.5 0.5 0.5 0.5\n",
            " 0.5 0.5 0.5 0.5 0.5 0.5 0.5 0.5 0.5 0.5 0.5 0.5 0.5 0.5 0.5 0.5 0.5 0.5\n",
            " 0.5 0.5 0.5 0.5 0.5 0.5 0.5 0.5 0.5 0.5 0.5 0.5 0.5 0.5 0.5 0.5 0.5 0.5\n",
            " 0.5 0.5 0.5 0.5 0.5 0.5 0.5 0.5 0.5 0.5 0.5 0.5 0.5 0.5 0.5 0.5 0.5 0.5\n",
            " 0.5 0.5 0.5 0.5 0.5 0.5 0.5 0.5 0.5 0.5 0.5 0.5 0.5 0.5 0.5 0.5 0.5 0.5\n",
            " 0.5 0.5 0.5 0.5 0.5 0.5 0.5 0.5 0.5 0.5 0.5 0.5 0.5 0.5 0.5 0.5 0.5 0.5\n",
            " 0.5 0.5 0.5 0.5 0.5 0.5 0.5 0.5 0.5 0.5 0.5 0.5 0.5 0.5 0.5 0.5 0.5 0.5\n",
            " 0.5 0.5 0.5 0.5 0.5 0.5 0.5 0.5 0.5 0.5 0.5 0.5 0.5 0.5 0.5 0.5 0.5 0.5\n",
            " 0.5 0.5 0.5 0.5 0.5 0.5 0.5 0.5 0.5 0.5 0.5 0.5 0.5 0.5 0.5 0.5 0.5 0.5\n",
            " 0.5 0.5 0.5 0.5 0.5 0.5 0.5 0.5 0.5 0.5 0.5 0.5 0.5 0.5 0.5 0.5 0.5 0.5\n",
            " 0.5 0.5 0.5 0.5 0.5 0.5 0.5 0.5 0.5 0.5 0.5 0.5 0.5 0.5 0.5 0.5 0.5 0.5\n",
            " 0.5 0.5 0.5 0.5 0.5 0.5 0.5 0.5 0.5 0.5 0.5 0.5 0.5 0.5 0.5 0.5 0.5 0.5\n",
            " 0.5 0.5 0.5 0.5 0.5 0.5 0.5 0.5 0.5 0.5 0.5 0.5 0.5 0.5 0.5 0.5 0.5 0.5\n",
            " 0.5 0.5 0.5 0.5 0.5 0.5 0.5 0.5 0.5 0.5 0.5 0.5 0.5 0.5 0.5 0.5 0.5 0.5\n",
            " 0.5 0.5 0.5 0.5 0.5 0.5 0.5 0.5 0.5 0.5 0.5 0.5 0.5 0.5 0.5 0.5 0.5 0.5\n",
            " 0.5 0.5 0.5 0.5 0.5 0.5 0.5 0.5 0.5 0.5 0.5 0.5 0.5 0.5 0.5 0.5 0.5 0.5\n",
            " 0.5 0.5 0.5 0.5 0.5 0.5 0.5 0.5 0.5 0.5 0.5 0.5 0.5 0.5 0.5 0.5 0.5 0.5\n",
            " 0.5 0.5 0.5 0.5 0.5 0.5 0.5 0.5 0.5 0.5 0.5 0.5 0.5 0.5 0.5 0.5 0.5 0.5\n",
            " 0.5 0.5 0.5 0.5 0.5 0.5 0.5 0.5 0.5 0.5 0.5 0.5 0.5 0.5 0.5 0.5 0.5 0.5\n",
            " 0.5 0.5 0.5 0.5 0.5 0.5 0.5 0.5 0.5 0.5 0.5 0.5 0.5 0.5 0.5 0.5 0.5 0.5\n",
            " 0.5 0.5 0.5 0.5 0.5 0.5 0.5 0.5 0.5 0.5 0.5 0.5 0.5 0.5 0.5 0.5 0.5 0.5\n",
            " 0.5 0.5 0.5 0.5 0.5 0.5 0.5 0.5 0.5 0.5 0.5 0.5 0.5 0.5 0.5 0.5 0.5 0.5\n",
            " 0.5 0.5 0.5 0.5 0.5 0.5 0.5 0.5 0.5 0.5 0.5 0.5 0.5 0.5 0.5 0.5 0.5 0.5\n",
            " 0.5 0.5 0.5 0.5 0.5 0.5 0.5 0.5 0.5 0.5 0.5 0.5 0.5 0.5 0.5 0.5 0.5 0.5\n",
            " 0.5 0.5 0.5 0.5 0.5 0.5 0.5 0.5 0.5 0.5 0.5 0.5 0.5 0.5 0.5 0.5 0.5 0.5\n",
            " 0.5 0.5 0.5 0.5 0.5 0.5 0.5 0.5 0.5 0.5 0.5 0.5 0.5 0.5 0.5 0.5 0.5 0.5\n",
            " 0.5 0.5 0.5 0.5 0.5 0.5 0.5 0.5 0.5 0.5 0.5 0.5 0.5 0.5 0.5 0.5 0.5 0.5\n",
            " 0.5 0.5 0.5 0.5 0.5 0.5 0.5 0.5 0.5 0.5 0.5 0.5 0.5 0.5 0.5 0.5 0.5 0.5\n",
            " 0.5 0.5 0.5 0.5 0.5 0.5 0.5 0.5 0.5 0.5 0.5 0.5 0.5 0.5 0.5 0.5 0.5 0.5\n",
            " 0.5 0.5 0.5 0.5 0.5 0.5 0.5 0.5 0.5 0.5 0.5 0.5 0.5 0.5 0.5 0.5 0.5 0.5\n",
            " 0.5 0.5 0.5 0.5 0.5 0.5 0.5 0.5 0.5 0.5 0.5 0.5 0.5 0.5 0.5 0.5 0.5 0.5\n",
            " 0.5 0.5 0.5 0.5 0.5 0.5 0.5 0.5 0.5 0.5 0.5 0.5 0.5 0.5 0.5 0.5 0.5 0.5\n",
            " 0.5 0.5 0.5 0.5 0.5 0.5 0.5 0.5 0.5 0.5 0.5 0.5 0.5 0.5 0.5 0.5 0.5 0.5\n",
            " 0.5 0.5 0.5 0.5 0.5 0.5 0.5 0.5 0.5 0.5 0.5 0.5 0.5 0.5 0.5 0.5 0.5 0.5\n",
            " 0.5 0.5 0.5 0.5 0.5 0.5 0.5 0.5 0.5 0.5 0.5 0.5 0.5 0.5 0.5 0.5 0.5 0.5\n",
            " 0.5 0.5 0.5 0.5 0.5 0.5 0.5 0.5 0.5 0.5 0.5 0.5 0.5 0.5 0.5 0.5 0.5 0.5\n",
            " 0.5 0.5 0.5 0.5 0.5 0.5 0.5 0.5 0.5 0.5 0.5 0.5 0.5 0.5 0.5 0.5 0.5 0.5\n",
            " 0.5 0.5 0.5 0.5 0.5 0.5 0.5 0.5 0.5 0.5 0.5 0.5 0.5 0.5 0.5 0.5 0.5 0.5\n",
            " 0.5 0.5 0.5 0.5 0.5 0.5 0.5 0.5 0.5 0.5 0.5 0.5 0.5 0.5 0.5 0.5 0.5 0.5\n",
            " 0.5 0.5 0.5 0.5 0.5 0.5 0.5 0.5 0.5 0.5 0.5 0.5 0.5 0.5 0.5 0.5 0.5 0.5\n",
            " 0.5 0.5 0.5 0.5 0.5 0.5 0.5 0.5 0.5 0.5 0.5 0.5 0.5 0.5 0.5 0.5 0.5 0.5\n",
            " 0.5 0.5 0.5 0.5 0.5 0.5 0.5 0.5 0.5 0.5 0.5 0.5 0.5 0.5 0.5 0.5 0.5 0.5\n",
            " 0.5 0.5 0.5 0.5 0.5 0.5 0.5 0.5 0.5 0.5 0.5 0.5 0.5 0.5 0.5 0.5 0.5 0.5\n",
            " 0.5 0.5 0.5 0.5 0.5 0.5 0.5 0.5 0.5 0.5 0.5 0.5 0.5 0.5 0.5 0.5 0.5 0.5\n",
            " 0.5 0.5 0.5 0.5 0.5 0.5 0.5 0.5 0.5 0.5 0.5 0.5 0.5 0.5 0.5 0.5 0.5 0.5\n",
            " 0.5 0.5 0.5 0.5 0.5 0.5 0.5 0.5 0.5 0.5 0.5 0.5 0.5 0.5 0.5 0.5 0.5 0.5\n",
            " 0.5 0.5 0.5 0.5 0.5 0.5 0.5 0.5 0.5 0.5 0.5 0.5 0.5 0.5 0.5 0.5 0.5 0.5\n",
            " 0.5 0.5 0.5 0.5 0.5 0.5 0.5 0.5 0.5 0.5 0.5 0.5 0.5 0.5 0.5 0.5 0.5 0.5\n",
            " 0.5 0.5 0.5 0.5 0.5 0.5 0.5 0.5 0.5 0.5 0.5 0.5 0.5 0.5 0.5 0.5 0.5 0.5\n",
            " 0.5 0.5 0.5 0.5 0.5 0.5 0.5 0.5 0.5 0.5 0.5 0.5 0.5 0.5 0.5 0.5 0.5 0.5\n",
            " 0.5 0.5 0.5 0.5 0.5 0.5 0.5 0.5 0.5 0.5 0.5 0.5 0.5 0.5 0.5 0.5 0.5 0.5\n",
            " 0.5 0.5 0.5 0.5 0.5 0.5 0.5 0.5 0.5 0.5]\n"
          ],
          "name": "stdout"
        }
      ]
    },
    {
      "cell_type": "code",
      "metadata": {
        "id": "U3ifBHgqKzEs",
        "colab": {
          "base_uri": "https://localhost:8080/",
          "height": 279
        },
        "outputId": "924dd79a-f436-4391-cea0-5addbfc121d6"
      },
      "source": [
        "#グラフ1 y=1/2x+1の勾配グラフ\r\n",
        "dv=compute_gradient(case_y1,compute_ndarray(-50,50.1,0.1))\r\n",
        "graph2(compute_ndarray(-50,50.1,0.1),dv)"
      ],
      "execution_count": 14,
      "outputs": [
        {
          "output_type": "display_data",
          "data": {
            "image/png": "[encoded data removed]",
            "text/plain": [
              "<Figure size 432x288 with 1 Axes>"
            ]
          },
          "metadata": {
            "tags": [],
            "needs_background": "light"
          }
        }
      ]
    },
    {
      "cell_type": "code",
      "metadata": {
        "id": "g6GtAg5B3o0m"
      },
      "source": [
        "#グラフ2 y=x**2の勾配グラフ\r\n",
        "dv=compute_gradient(case_y2,compute_ndarray(-50,50.1,0.1))\r\n",
        "graph2(compute_ndarray(-50,50.1,0.1),dv)"
      ],
      "execution_count": null,
      "outputs": []
    },
    {
      "cell_type": "code",
      "metadata": {
        "colab": {
          "base_uri": "https://localhost:8080/",
          "height": 290
        },
        "id": "mvQ8gHp_35JC",
        "outputId": "fc9bcf84-d600-4190-d2e1-a59e27022183"
      },
      "source": [
        "#グラフ3 y=2*(x)**2+2**(x)の勾配グラフ\r\n",
        "dv=compute_gradient(case_y3,compute_ndarray(-50,50.1,0.1))\r\n",
        "graph2(compute_ndarray(-50,50.1,0.1),dv)"
      ],
      "execution_count": 17,
      "outputs": [
        {
          "output_type": "display_data",
          "data": {
            "image/png": "[encoded data removed]",
            "text/plain": [
              "<Figure size 432x288 with 1 Axes>"
            ]
          },
          "metadata": {
            "tags": [],
            "needs_background": "light"
          }
        }
      ]
    },
    {
      "cell_type": "markdown",
      "metadata": {
        "id": "xXd3qb7r4Uno"
      },
      "source": [
        "問題6 最小値を求める"
      ]
    },
    {
      "cell_type": "code",
      "metadata": {
        "colab": {
          "base_uri": "https://localhost:8080/",
          "height": 350
        },
        "id": "52KKwulL6fJl",
        "outputId": "b57d0400-8488-439a-b33b-1865091ec50b"
      },
      "source": [
        "#yの最小値 y=x**2で試算\r\n",
        "min_y=min(y_function2(compute_ndarray(-50,50.1,0.1)))\r\n",
        "arg_y=np.argmin(case_y2)\r\n",
        "print(min_y)\r\n",
        "print(arg_y)\r\n",
        "\r\n",
        "#最小値の前後の後輩\r\n",
        "dv=compute_gradient(case_y2,compute_ndarray(-50,50.1,0.1))#勾配の取得\r\n",
        "dv_front=dv[498]#前の勾配\r\n",
        "dv_back=dv[500]#後ろの勾配\r\n",
        "print(dv_front)\r\n",
        "print(dv_back)\r\n",
        "\r\n",
        "#グラフ1 y=1/2x+1の勾配グラフ\r\n",
        "graph(compute_ndarray(-50,50.1,0.1),case_y2)\r\n"
      ],
      "execution_count": 50,
      "outputs": [
        {
          "output_type": "stream",
          "text": [
            "5.048709793414476e-25\n",
            "500\n",
            "-0.2999999999985832\n",
            "0.1000000000014225\n"
          ],
          "name": "stdout"
        },
        {
          "output_type": "display_data",
          "data": {
            "image/png": "[encoded data removed]",
            "text/plain": [
              "<Figure size 432x288 with 1 Axes>"
            ]
          },
          "metadata": {
            "tags": [],
            "needs_background": "light"
          }
        }
      ]
    },
    {
      "cell_type": "markdown",
      "metadata": {
        "id": "RwcUA0KF320w"
      },
      "source": [
        ""
      ]
    }
  ]
}