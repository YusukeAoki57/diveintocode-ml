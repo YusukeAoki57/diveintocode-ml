{
  "nbformat": 4,
  "nbformat_minor": 0,
  "metadata": {
    "colab": {
      "name": "week4_授業前課題2.ipynb",
      "provenance": [],
      "collapsed_sections": [],
      "authorship_tag": "ABX9TyNJqJJKSRzqAixtl3dokBIt",
      "include_colab_link": true
    },
    "kernelspec": {
      "name": "python3",
      "display_name": "Python 3"
    }
  },
  "cells": [
    {
      "cell_type": "markdown",
      "metadata": {
        "id": "view-in-github",
        "colab_type": "text"
      },
      "source": [
        "<a href=\"https://colab.research.google.com/github/YusukeAoki57/diveintocode-ml/blob/master/week4_%E6%8E%88%E6%A5%AD%E5%89%8D%E8%AA%B2%E9%A1%8C2.ipynb\" target=\"_parent\"><img src=\"https://colab.research.google.com/assets/colab-badge.svg\" alt=\"Open In Colab\"/></a>"
      ]
    },
    {
      "cell_type": "code",
      "metadata": {
        "colab": {
          "base_uri": "https://localhost:8080/"
        },
        "id": "_XWUangUm4cP",
        "outputId": "ee4c45b3-a1ff-4944-959a-e2a9a42e062c"
      },
      "source": [
        "from google.colab import drive\r\n",
        "drive.mount('/content/drive')"
      ],
      "execution_count": null,
      "outputs": [
        {
          "output_type": "stream",
          "text": [
            "Mounted at /content/drive\n"
          ],
          "name": "stdout"
        }
      ]
    },
    {
      "cell_type": "code",
      "metadata": {
        "colab": {
          "base_uri": "https://localhost:8080/"
        },
        "id": "hCuk1ArnnNya",
        "outputId": "826ed398-db69-4dfc-87a8-f2ba755a5c2d"
      },
      "source": [
        "import pandas as pd \r\n",
        "train= pd.read_csv('drive/My Drive/DIVE INTO CODE/0_課題/2_week3/授業前課題/data/train.csv',dtype = None)\r\n",
        "print(train)"
      ],
      "execution_count": null,
      "outputs": [
        {
          "output_type": "stream",
          "text": [
            "        Id  MSSubClass MSZoning  ...  SaleType  SaleCondition SalePrice\n",
            "0        1          60       RL  ...        WD         Normal    208500\n",
            "1        2          20       RL  ...        WD         Normal    181500\n",
            "2        3          60       RL  ...        WD         Normal    223500\n",
            "3        4          70       RL  ...        WD        Abnorml    140000\n",
            "4        5          60       RL  ...        WD         Normal    250000\n",
            "...    ...         ...      ...  ...       ...            ...       ...\n",
            "1455  1456          60       RL  ...        WD         Normal    175000\n",
            "1456  1457          20       RL  ...        WD         Normal    210000\n",
            "1457  1458          70       RL  ...        WD         Normal    266500\n",
            "1458  1459          20       RL  ...        WD         Normal    142125\n",
            "1459  1460          20       RL  ...        WD         Normal    147500\n",
            "\n",
            "[1460 rows x 81 columns]\n"
          ],
          "name": "stdout"
        }
      ]
    },
    {
      "cell_type": "code",
      "metadata": {
        "id": "THniIV_OnYA6"
      },
      "source": [
        "import numpy as np"
      ],
      "execution_count": null,
      "outputs": []
    },
    {
      "cell_type": "markdown",
      "metadata": {
        "id": "gjvl4puUnmVC"
      },
      "source": [
        "問題1 練習のための特徴量の選択"
      ]
    },
    {
      "cell_type": "code",
      "metadata": {
        "id": "nUoS6d2Gna6Z"
      },
      "source": [
        "x_1=train.loc[:,'GrLivArea']\r\n",
        "x_2=train.loc[:,'YearBuilt']\r\n",
        "\r\n",
        "x=pd.concat([x_1,x_2],axis=1)\r\n",
        "y=train.loc[:,'SalePrice']\r\n",
        "\r\n",
        "#前処理用の結合\r\n",
        "xy=pd.concat([x,y],axis=1)"
      ],
      "execution_count": null,
      "outputs": []
    },
    {
      "cell_type": "markdown",
      "metadata": {
        "id": "6a5CFEKtqwa8"
      },
      "source": [
        "問題2 線形回帰による推定と評価"
      ]
    },
    {
      "cell_type": "code",
      "metadata": {
        "colab": {
          "base_uri": "https://localhost:8080/"
        },
        "id": "F1FwhnKjoES7",
        "outputId": "d24cad20-9e41-4400-9dc1-4e82b6a396ff"
      },
      "source": [
        "#欠損値の確認・削除\r\n",
        "\r\n",
        "x1_mis_par=train.loc[:,'GrLivArea'].isnull().sum()/len(train)*100\r\n",
        "print(x1_mis_par)\r\n",
        "x2_mis_par=train.loc[:,'YearBuilt'].isnull().sum()/len(train)*100\r\n",
        "print(x2_mis_par)\r\n",
        "y_mis_par=train.loc[:,'SalePrice'].isnull().sum()/len(train)*100\r\n",
        "print(y_mis_par)\r\n",
        "\r\n",
        "#欠損値の削除\r\n",
        "xy.dropna(how='all')\r\n",
        "print(xy.isnull().sum()/len(train)*100)"
      ],
      "execution_count": null,
      "outputs": [
        {
          "output_type": "stream",
          "text": [
            "0.0\n",
            "0.0\n",
            "0.0\n",
            "GrLivArea    0.0\n",
            "YearBuilt    0.0\n",
            "SalePrice    0.0\n",
            "dtype: float64\n"
          ],
          "name": "stdout"
        }
      ]
    },
    {
      "cell_type": "code",
      "metadata": {
        "colab": {
          "base_uri": "https://localhost:8080/",
          "height": 335
        },
        "id": "NprH9vNtrawW",
        "outputId": "edb631ce-2417-4ee0-ecda-fb6c1edbdfc9"
      },
      "source": [
        "#線形回帰\r\n",
        "from sklearn.linear_model import LinearRegression\r\n",
        "from sklearn.model_selection import train_test_split\r\n",
        "\r\n",
        "#Numpy化\r\n",
        "X_1 = xy.iloc[:,0].values.reshape(-1,1)\r\n",
        "X_2 = xy.iloc[:,1].values.reshape(-1,1)\r\n",
        "Y = xy.iloc[:,2].values\r\n",
        "\r\n",
        "#訓練データとテストデータに分割\r\n",
        "y_train,y_test=train_test_split(Y, test_size=0.5,random_state=0)\r\n",
        "x_train_1,x_test_1=train_test_split(X_1, test_size=0.5,random_state=0)\r\n",
        "x_train_2,x_test_2=train_test_split(X_2, test_size=0.5,random_state=0)\r\n",
        "print(x_test_1.shape)\r\n",
        "print(y_test.shape)\r\n",
        "\r\n",
        "def Linear(x_train,x_test,y_train):\r\n",
        "  lr = LinearRegression()\r\n",
        "  lr.fit(x_train, y_train)\r\n",
        "  lr.fit(x_train, y_train)\r\n",
        "  y_pred = lr.predict(x_test)\r\n",
        "  return y_pred\r\n",
        "\r\n",
        "#単回帰\r\n",
        "y_pred1=Linear(x_train_1,x_test_1,y_train)\r\n",
        "print(y_pred1.shape)\r\n",
        "y_pred2=Linear(x_train_2,x_test_2,y_train)\r\n",
        "\r\n",
        "\r\n",
        "import matplotlib.pyplot as plt\r\n",
        "#可視化1\r\n",
        "plt.scatter(x_test_1,y_pred1,color='red') #予測値\r\n",
        "plt.scatter(x_test_1,y_test,color='blue') #実際"
      ],
      "execution_count": null,
      "outputs": [
        {
          "output_type": "stream",
          "text": [
            "(730, 1)\n",
            "(730,)\n",
            "(730,)\n"
          ],
          "name": "stdout"
        },
        {
          "output_type": "execute_result",
          "data": {
            "text/plain": [
              "<matplotlib.collections.PathCollection at 0x7f517646c780>"
            ]
          },
          "metadata": {
            "tags": []
          },
          "execution_count": 160
        },
        {
          "output_type": "display_data",
          "data": {
            "image/png": "[encoded data removed]",
            "text/plain": [
              "<Figure size 432x288 with 1 Axes>"
            ]
          },
          "metadata": {
            "tags": [],
            "needs_background": "light"
          }
        }
      ]
    },
    {
      "cell_type": "code",
      "metadata": {
        "colab": {
          "base_uri": "https://localhost:8080/",
          "height": 282
        },
        "id": "m5_FuFOW92X0",
        "outputId": "7df690f6-7b33-4120-f98b-38bb7a380d0e"
      },
      "source": [
        "#可視化2\r\n",
        "plt.scatter(x_test_2,y_pred2,color='red') #予測値\r\n",
        "plt.scatter(x_test_2,y_test,color='blue') #実際"
      ],
      "execution_count": null,
      "outputs": [
        {
          "output_type": "execute_result",
          "data": {
            "text/plain": [
              "<matplotlib.collections.PathCollection at 0x7f51763f9320>"
            ]
          },
          "metadata": {
            "tags": []
          },
          "execution_count": 161
        },
        {
          "output_type": "display_data",
          "data": {
            "image/png": "[encoded data removed]",
            "text/plain": [
              "<Figure size 432x288 with 1 Axes>"
            ]
          },
          "metadata": {
            "tags": [],
            "needs_background": "light"
          }
        }
      ]
    },
    {
      "cell_type": "code",
      "metadata": {
        "colab": {
          "base_uri": "https://localhost:8080/",
          "height": 70
        },
        "id": "FN9kM7DZy_Hy",
        "outputId": "574b346d-22a9-430f-ac79-1be0449430f6"
      },
      "source": [
        "#評価\r\n",
        "from sklearn.metrics import mean_absolute_error\r\n",
        "\r\n",
        "def evaluation(y_test,y_pred):\r\n",
        "  ev=mean_absolute_error(y_test, y_pred)\r\n",
        "  return ev\r\n",
        "\r\n",
        "print(evaluation(y_test, y_pred1)) \r\n",
        "print(evaluation(y_test, y_pred2)) \r\n",
        "\r\n",
        "ev1=evaluation(y_test, y_pred1)\r\n",
        "ev2=evaluation(y_test, y_pred2)\r\n",
        "\r\n",
        "\"\"\"y_pred1の方が精度が良い\"\"\""
      ],
      "execution_count": null,
      "outputs": [
        {
          "output_type": "stream",
          "text": [
            "37988.008711833565\n",
            "46049.54261802441\n"
          ],
          "name": "stdout"
        },
        {
          "output_type": "execute_result",
          "data": {
            "application/vnd.google.colaboratory.intrinsic+json": {
              "type": "string"
            },
            "text/plain": [
              "'y_pred1の方が精度が良い'"
            ]
          },
          "metadata": {
            "tags": []
          },
          "execution_count": 162
        }
      ]
    },
    {
      "cell_type": "markdown",
      "metadata": {
        "id": "V8JcMf9EBznp"
      },
      "source": [
        "問題4 他の手法"
      ]
    },
    {
      "cell_type": "code",
      "metadata": {
        "colab": {
          "base_uri": "https://localhost:8080/",
          "height": 282
        },
        "id": "-IY-1C8_4wCf",
        "outputId": "80f791b9-d40b-4d54-acf7-a8024e39e187"
      },
      "source": [
        "\"\"\"SVM\"\"\"\r\n",
        "from sklearn import svm\r\n",
        "\r\n",
        "def svr(x_train,x_test,y_train):\r\n",
        "  sv = svm.SVR(C=1.0, kernel='linear', epsilon=0.1)    # 正則化パラメータ=1, 線形カーネルを使用\r\n",
        "  sv.fit(x_train, y_train)\r\n",
        "  y_pred_sv = sv.predict(x_test) \r\n",
        "  return y_pred_sv\r\n",
        "\r\n",
        "#推定\r\n",
        "y_pred_sv1=svr(x_train_1,x_test_1,y_train)\r\n",
        "y_pred_sv2=svr(x_train_2,x_test_2,y_train)\r\n",
        "\r\n",
        "#図の作成\r\n",
        "#可視化1\r\n",
        "plt.scatter(x_test_1,y_pred_sv1,color='red') #予測値\r\n",
        "plt.scatter(x_test_1,y_test,color='blue') #実際"
      ],
      "execution_count": null,
      "outputs": [
        {
          "output_type": "execute_result",
          "data": {
            "text/plain": [
              "<matplotlib.collections.PathCollection at 0x7f51763382b0>"
            ]
          },
          "metadata": {
            "tags": []
          },
          "execution_count": 163
        },
        {
          "output_type": "display_data",
          "data": {
            "image/png": "[encoded data removed]",
            "text/plain": [
              "<Figure size 432x288 with 1 Axes>"
            ]
          },
          "metadata": {
            "tags": [],
            "needs_background": "light"
          }
        }
      ]
    },
    {
      "cell_type": "code",
      "metadata": {
        "colab": {
          "base_uri": "https://localhost:8080/",
          "height": 282
        },
        "id": "jNS0rlJkG8Ww",
        "outputId": "99afc760-22a7-4faa-b419-15357305d249"
      },
      "source": [
        "#SVMの可視化2\r\n",
        "plt.scatter(x_test_2,y_pred_sv2,color='red') #予測値\r\n",
        "plt.scatter(x_test_2,y_test,color='blue') #実際"
      ],
      "execution_count": null,
      "outputs": [
        {
          "output_type": "execute_result",
          "data": {
            "text/plain": [
              "<matplotlib.collections.PathCollection at 0x7f517632f2b0>"
            ]
          },
          "metadata": {
            "tags": []
          },
          "execution_count": 164
        },
        {
          "output_type": "display_data",
          "data": {
            "image/png": "[encoded data removed]",
            "text/plain": [
              "<Figure size 432x288 with 1 Axes>"
            ]
          },
          "metadata": {
            "tags": [],
            "needs_background": "light"
          }
        }
      ]
    },
    {
      "cell_type": "code",
      "metadata": {
        "id": "O3MDx95OCfDm"
      },
      "source": [
        "\"\"\"決定木\"\"\"\r\n",
        "from sklearn.tree import DecisionTreeRegressor # 回帰木モデルを作成するクラス\r\n",
        "def tree(x_train,x_test,y_train):\r\n",
        "  reg = DecisionTreeRegressor(max_leaf_nodes = 20)\r\n",
        "  tr = reg.fit(x_train, y_train)\r\n",
        "  y_pred_tr = tr.predict(x_test)\r\n",
        "  return y_pred_tr\r\n",
        "\r\n",
        "#推定\r\n",
        "y_pred_tr1=tree(x_train_1,x_test_1,y_train)\r\n",
        "y_pred_tr2=tree(x_train_2,x_test_2,y_train)\r\n",
        "\r\n",
        "#図の作成\r\n",
        "#可視化1\r\n",
        "plt.scatter(x_test_1,y_pred_tr1,color='red') #予測値\r\n",
        "plt.scatter(x_test_1,y_test,color='blue') #実際"
      ],
      "execution_count": null,
      "outputs": []
    },
    {
      "cell_type": "code",
      "metadata": {
        "colab": {
          "base_uri": "https://localhost:8080/",
          "height": 282
        },
        "id": "_ybQhsE_HqLb",
        "outputId": "618b281f-0217-4cb8-c76d-f6de33e95a12"
      },
      "source": [
        "#Treeの可視化2\r\n",
        "plt.scatter(x_test_2,y_pred_tr2,color='red') #予測値\r\n",
        "plt.scatter(x_test_2,y_test,color='blue') #実際"
      ],
      "execution_count": null,
      "outputs": [
        {
          "output_type": "execute_result",
          "data": {
            "text/plain": [
              "<matplotlib.collections.PathCollection at 0x7f517632f128>"
            ]
          },
          "metadata": {
            "tags": []
          },
          "execution_count": 165
        },
        {
          "output_type": "display_data",
          "data": {
            "image/png": "[encoded data removed]",
            "text/plain": [
              "<Figure size 432x288 with 1 Axes>"
            ]
          },
          "metadata": {
            "tags": [],
            "needs_background": "light"
          }
        }
      ]
    },
    {
      "cell_type": "code",
      "metadata": {
        "colab": {
          "base_uri": "https://localhost:8080/",
          "height": 282
        },
        "id": "X5nH9vziDSRp",
        "outputId": "faa0cabd-9ee0-46de-f134-cb35a796340e"
      },
      "source": [
        "\"\"\"ランダムフォレスト\"\"\"\r\n",
        "from sklearn.ensemble import RandomForestRegressor as RFR\r\n",
        "def rft():\r\n",
        "  rf = RFR(n_jobs=-1, random_state=2525)\r\n",
        "  rf.fit(x_train,y_train)\r\n",
        "  y_pred_rf=rf.predict(x_test)\r\n",
        "  return y_pred_rf\r\n",
        "\r\n",
        "#推定\r\n",
        "y_pred_rf1=tree(x_train_1,x_test_1,y_train)\r\n",
        "y_pred_rf2=tree(x_train_2,x_test_2,y_train)\r\n",
        "\r\n",
        "#図の作成\r\n",
        "#可視化1\r\n",
        "plt.scatter(x_test_1,y_pred_rf1,color='red') #予測値\r\n",
        "plt.scatter(x_test_1,y_test,color='blue') #実際"
      ],
      "execution_count": null,
      "outputs": [
        {
          "output_type": "execute_result",
          "data": {
            "text/plain": [
              "<matplotlib.collections.PathCollection at 0x7f51761f3a20>"
            ]
          },
          "metadata": {
            "tags": []
          },
          "execution_count": 166
        },
        {
          "output_type": "display_data",
          "data": {
            "image/png": "[encoded data removed]",
            "text/plain": [
              "<Figure size 432x288 with 1 Axes>"
            ]
          },
          "metadata": {
            "tags": [],
            "needs_background": "light"
          }
        }
      ]
    },
    {
      "cell_type": "code",
      "metadata": {
        "colab": {
          "base_uri": "https://localhost:8080/",
          "height": 282
        },
        "id": "M0GDL3SnH0iH",
        "outputId": "e834c562-ae09-45e7-aeaf-d4b58e2a61df"
      },
      "source": [
        "#RandomTreeの可視化2\r\n",
        "plt.scatter(x_test_2,y_pred_rf2,color='red') #予測値\r\n",
        "plt.scatter(x_test_2,y_test,color='blue') #実際"
      ],
      "execution_count": null,
      "outputs": [
        {
          "output_type": "execute_result",
          "data": {
            "text/plain": [
              "<matplotlib.collections.PathCollection at 0x7f51761fc518>"
            ]
          },
          "metadata": {
            "tags": []
          },
          "execution_count": 167
        },
        {
          "output_type": "display_data",
          "data": {
            "image/png": "[encoded data removed]",
            "text/plain": [
              "<Figure size 432x288 with 1 Axes>"
            ]
          },
          "metadata": {
            "tags": [],
            "needs_background": "light"
          }
        }
      ]
    },
    {
      "cell_type": "code",
      "metadata": {
        "id": "SRMITlO2ECJ6"
      },
      "source": [
        "\"\"\"各評価\"\"\"\r\n",
        "\r\n",
        "#線形回帰\r\n",
        "\r\n",
        "\r\n",
        "#SVM\r\n",
        "ev_sv_1=evaluation(y_test, y_pred_sv1)\r\n",
        "ev_sv_2=evaluation(y_test, y_pred_sv2)\r\n",
        "\r\n",
        "#tree\r\n",
        "ev_tr_1=evaluation(y_test, y_pred_tr1)\r\n",
        "ev_tr_2=evaluation(y_test, y_pred_tr2)\r\n",
        "\r\n",
        "\r\n",
        "#Randomtree\r\n",
        "ev_rf_1=evaluation(y_test, y_pred_rf1)\r\n",
        "ev_rf_2=evaluation(y_test, y_pred_rf2)"
      ],
      "execution_count": null,
      "outputs": []
    },
    {
      "cell_type": "code",
      "metadata": {
        "colab": {
          "base_uri": "https://localhost:8080/"
        },
        "id": "yXrspvRXEqz_",
        "outputId": "70818c5f-5d91-4d33-e7bf-212b206c1efa"
      },
      "source": [
        "#指標値を一つの表にまとめる\r\n",
        "list1=[[ev1,ev2],[ev_sv_1,ev_sv_2],[ev_tr_1,ev_tr_2],[ev_rf_1,ev_rf_2]]\r\n",
        "df = pd.DataFrame(list1)\r\n",
        "df.columns = ['GrLivArea','YearBuilt']\r\n",
        "df.index = ['LG','SVM','Tree','RandamTree']\r\n",
        "print(df)\r\n"
      ],
      "execution_count": null,
      "outputs": [
        {
          "output_type": "stream",
          "text": [
            "               GrLivArea     YearBuilt\n",
            "LG          37988.008712  46049.542618\n",
            "SVM         37808.016170  43655.143572\n",
            "Tree        41237.582576  44974.475988\n",
            "RandamTree  41237.582576  44974.475988\n"
          ],
          "name": "stdout"
        }
      ]
    },
    {
      "cell_type": "code",
      "metadata": {
        "id": "_RwH6jG6F9U7"
      },
      "source": [
        "\"\"\"考察\r\n",
        "線形回帰は比較的両特徴量に対して精度が良い。次に良いのはSVM。一方、決定木とランダムフォレストは比較的に精度が悪い。\r\n",
        "なお、グラフから読み取れることとして、ランダムフォレストの予測値グラフが直線ではなく、散布図的であったのが興味深かった\"\"\""
      ],
      "execution_count": null,
      "outputs": []
    }
  ]
}