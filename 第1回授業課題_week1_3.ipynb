{
  "nbformat": 4,
  "nbformat_minor": 0,
  "metadata": {
    "colab": {
      "name": "第1回授業課題_week1_3.ipynb",
      "provenance": [],
      "collapsed_sections": [],
      "authorship_tag": "ABX9TyMVbASNKMEL5VnCaGXM6Gfs",
      "include_colab_link": true
    },
    "kernelspec": {
      "name": "python3",
      "display_name": "Python 3"
    },
    "accelerator": "TPU"
  },
  "cells": [
    {
      "cell_type": "markdown",
      "metadata": {
        "id": "view-in-github",
        "colab_type": "text"
      },
      "source": [
        "<a href=\"https://colab.research.google.com/github/YusukeAoki57/diveintocode-ml/blob/master/%E7%AC%AC1%E5%9B%9E%E6%8E%88%E6%A5%AD%E8%AA%B2%E9%A1%8C_week1_3.ipynb\" target=\"_parent\"><img src=\"https://colab.research.google.com/assets/colab-badge.svg\" alt=\"Open In Colab\"/></a>"
      ]
    },
    {
      "cell_type": "markdown",
      "metadata": {
        "id": "jr400eQDchG2"
      },
      "source": [
        "問題　栗まんじゅうが太陽系を覆う日"
      ]
    },
    {
      "cell_type": "markdown",
      "metadata": {
        "id": "N04vHOx9cgAW"
      },
      "source": [
        ""
      ]
    },
    {
      "cell_type": "code",
      "metadata": {
        "id": "6CsjLJP8o33K"
      },
      "source": [
        "import math"
      ],
      "execution_count": null,
      "outputs": []
    },
    {
      "cell_type": "code",
      "metadata": {
        "id": "Nx4xexczePJN",
        "colab": {
          "base_uri": "https://localhost:8080/"
        },
        "outputId": "ed322eea-8fa7-4e24-def6-a1ad69e60c0d"
      },
      "source": [
        "def time_cal(ob,scope):\r\n",
        "  list=[ob]\r\n",
        "  time_count=0\r\n",
        "  time=[time_count]\r\n",
        "  while True:\r\n",
        "    if scope>list[-1]:\r\n",
        "      list.append(list[-1]*2)\r\n",
        "      time_count=time_count+5\r\n",
        "      time.append(time_count)\r\n",
        "    else:\r\n",
        "      break\r\n",
        "  return time[-1]\r\n",
        "\r\n",
        "object_vol2=(60*40*30)*0.000001 #栗饅頭体積；60mm×40mm×30mmと仮定　mm→0.000001km\r\n",
        "SOLAR_SYSTEM_DIA=7000*200000000 #直径は7000千天文単位（1天文単位＝2億キロと仮定）\r\n",
        "SOLAR_SYSTEM_VOLUME=SOLAR_SYSTEM_DIA**3 #正方形と仮定し体積を試算\r\n",
        "over_time=time_cal(object_vol2,SOLAR_SYSTEM_VOLUME)\r\n",
        "print('栗饅頭は太陽系を{}分後に超す'.format(over_time))\r\n",
        "\r\n",
        "object_vol1=0.05**3*4*math.pi/3  #野球ボール：半径5cmとし、体積=(半径の３乗)×4×(円周率)÷3\r\n",
        "doom_vol =1240000 #124万mmm\r\n",
        "over_time=time_cal(object_vol1,doom_vol)\r\n",
        "print('野球ボールは東京ドームを{}分後に超す'.format(over_time))\r\n",
        "\r\n",
        "\r\n"
      ],
      "execution_count": null,
      "outputs": [
        {
          "output_type": "stream",
          "text": [
            "栗饅頭は太陽系を625分後に超す\n",
            "野球ボールは東京ドームを160分後に超す\n"
          ],
          "name": "stdout"
        }
      ]
    },
    {
      "cell_type": "code",
      "metadata": {
        "id": "Agw1xYeOe0AU"
      },
      "source": [
        ""
      ],
      "execution_count": null,
      "outputs": []
    },
    {
      "cell_type": "code",
      "metadata": {
        "id": "W3ishfQ5qUU2"
      },
      "source": [
        ""
      ],
      "execution_count": null,
      "outputs": []
    }
  ]
}