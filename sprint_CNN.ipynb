{
  "nbformat": 4,
  "nbformat_minor": 0,
  "metadata": {
    "colab": {
      "name": "sprint_CNN.ipynb",
      "provenance": [],
      "collapsed_sections": [],
      "authorship_tag": "ABX9TyPDEzcm+qDfkrhhUOWvUUYG",
      "include_colab_link": true
    },
    "kernelspec": {
      "name": "python3",
      "display_name": "Python 3"
    },
    "accelerator": "GPU"
  },
  "cells": [
    {
      "cell_type": "markdown",
      "metadata": {
        "id": "view-in-github",
        "colab_type": "text"
      },
      "source": [
        "<a href=\"https://colab.research.google.com/github/YusukeAoki57/diveintocode-ml/blob/master/sprint_CNN.ipynb\" target=\"_parent\"><img src=\"https://colab.research.google.com/assets/colab-badge.svg\" alt=\"Open In Colab\"/></a>"
      ]
    },
    {
      "cell_type": "code",
      "metadata": {
        "id": "_PerxLp2TjNl",
        "colab": {
          "base_uri": "https://localhost:8080/"
        },
        "outputId": "9a1d2a0b-1b22-42db-89a3-979a075107cb"
      },
      "source": [
        "from keras.datasets import mnist\r\n",
        "(X_train, y_train), (X_test, y_test) = mnist.load_data()"
      ],
      "execution_count": 1,
      "outputs": [
        {
          "output_type": "stream",
          "text": [
            "Downloading data from https://storage.googleapis.com/tensorflow/tf-keras-datasets/mnist.npz\n",
            "11493376/11490434 [==============================] - 0s 0us/step\n"
          ],
          "name": "stdout"
        }
      ]
    },
    {
      "cell_type": "code",
      "metadata": {
        "id": "6FJK_QiMT7HL"
      },
      "source": [
        "import numpy as np\r\n",
        "import matplotlib.pyplot as plt"
      ],
      "execution_count": 2,
      "outputs": []
    },
    {
      "cell_type": "code",
      "metadata": {
        "id": "bvIam6rNT9AF"
      },
      "source": [
        "X_train = X_train.reshape(-1, 1,784)\r\n",
        "X_test = X_test.reshape(-1, 1,784)"
      ],
      "execution_count": 3,
      "outputs": []
    },
    {
      "cell_type": "code",
      "metadata": {
        "colab": {
          "base_uri": "https://localhost:8080/"
        },
        "id": "n3fGHhxDxp2j",
        "outputId": "086ea8de-236d-4367-9083-60a06b9018bb"
      },
      "source": [
        "\r\n",
        "x_train = X_train.astype(np.float)\r\n",
        "x_test = X_test.astype(np.float)\r\n",
        "x_train /= 255\r\n",
        "x_test /= 255\r\n",
        "print(x_train.max())  # 1.0\r\n",
        "print(x_train.min())  # 0.0"
      ],
      "execution_count": 4,
      "outputs": [
        {
          "output_type": "stream",
          "text": [
            "1.0\n",
            "0.0\n"
          ],
          "name": "stdout"
        }
      ]
    },
    {
      "cell_type": "code",
      "metadata": {
        "colab": {
          "base_uri": "https://localhost:8080/"
        },
        "id": "hbngvrp8x32L",
        "outputId": "b7f3ac71-f22e-4a30-8e9f-32771f64b218"
      },
      "source": [
        "def split_data(data, permutation, val_size_rate=0.2):\r\n",
        "    data = data[permutation]\r\n",
        "    val_size = int(len(data) * val_size_rate)\r\n",
        "    val = data[:val_size]\r\n",
        "    train = data[val_size:]\r\n",
        "    return train, val\r\n",
        "\r\n",
        "permutation = np.random.permutation(np.arange(len(x_train)))\r\n",
        "x_train, x_val = split_data(x_train, permutation)\r\n",
        "y_train, y_val = split_data(y_train, permutation)\r\n",
        "print(x_train.shape)  # (48000, 784)\r\n",
        "print(y_train.shape)  # (12000, 784)"
      ],
      "execution_count": 5,
      "outputs": [
        {
          "output_type": "stream",
          "text": [
            "(48000, 1, 784)\n",
            "(48000,)\n"
          ],
          "name": "stdout"
        }
      ]
    },
    {
      "cell_type": "code",
      "metadata": {
        "id": "x9iFJieZx80n"
      },
      "source": [
        "class GetMiniBatch:\r\n",
        "    \"\"\"\r\n",
        "    ミニバッチを取得するイテレータ\r\n",
        "    Parameters\r\n",
        "    ----------\r\n",
        "    X : 次の形のndarray, shape (n_samples, n_features)\r\n",
        "      訓練データ\r\n",
        "    y : 次の形のndarray, shape (n_samples, 1)\r\n",
        "      正解値\r\n",
        "    batch_size : int\r\n",
        "      バッチサイズ\r\n",
        "    seed : int\r\n",
        "      NumPyの乱数のシード\r\n",
        "    \"\"\"\r\n",
        "    def __init__(self, X, y, batch_size = 20, seed=0):\r\n",
        "        self.batch_size = batch_size\r\n",
        "        np.random.seed(seed)\r\n",
        "        shuffle_index = np.random.permutation(np.arange(X.shape[0]))\r\n",
        "        self._X = X[shuffle_index]\r\n",
        "        self._y = y[shuffle_index]\r\n",
        "        self._stop = np.ceil(X.shape[0]/self.batch_size).astype(np.int)\r\n",
        "    def __len__(self):\r\n",
        "        return self._stop\r\n",
        "    def __getitem__(self,item):\r\n",
        "        p0 = item*self.batch_size\r\n",
        "        p1 = item*self.batch_size + self.batch_size\r\n",
        "        return self._X[p0:p1], self._y[p0:p1]        \r\n",
        "    def __iter__(self):\r\n",
        "        self._counter = 0\r\n",
        "        return self\r\n",
        "    def __next__(self):\r\n",
        "        if self._counter >= self._stop:\r\n",
        "            raise StopIteration()\r\n",
        "        p0 = self._counter*self.batch_size\r\n",
        "        p1 = self._counter*self.batch_size + self.batch_size\r\n",
        "        self._counter += 1\r\n",
        "        return self._X[p0:p1], self._y[p0:p1]"
      ],
      "execution_count": 6,
      "outputs": []
    },
    {
      "cell_type": "code",
      "metadata": {
        "id": "yaNWBuCqT3Ii"
      },
      "source": [
        "class SimpleConv1d:\r\n",
        "  def __init__(self,optimizer,filter_size=3,stride=1,pading=0):\r\n",
        "    self.optimizer = optimizer\r\n",
        "    self.filter_size=filter_size\r\n",
        "    self.W = np.array([3, 5, 7])\r\n",
        "    self.B = np.array([1])\r\n",
        "    #self.W = initializer.W(self.filter_size1)\r\n",
        "    #self.B = initializer.B(self.filter_size1)\r\n",
        "    self.stride=stride\r\n",
        "    self.pading=pading\r\n",
        "    self.dW=np.zeros((self.filter_size))\r\n",
        "\r\n",
        "  def forward(self, X):\r\n",
        "    self.X = X\r\n",
        "    a_size=self._n_out(self.X)\r\n",
        "    self.a=np.zeros((a_size))\r\n",
        "    for i in range(a_size):\r\n",
        "      for s in range(self.filter_size):\r\n",
        "        if s==self.filter_size-1:\r\n",
        "          i=i+self.stride-1 #stride反映\r\n",
        "        self.a[i] =self.a[i]+self.X[i+s]*self.W[s]\r\n",
        "      self.a[i] =self.a[i]+self.B\r\n",
        "      print(self.a[i])\r\n",
        "    return self.a\r\n",
        "\r\n",
        "  def backward(self, dA,X):\r\n",
        "    \"\"\"\r\n",
        "    バックワード\r\n",
        "    Parameters\r\n",
        "    ----------\r\n",
        "    dA : 次の形のndarray, shape (batch_size, n_nodes2)\r\n",
        "        後ろから流れてきた勾配\r\n",
        "    Returns\r\n",
        "    ----------\r\n",
        "    dZ : 次の形のndarray, shape (batch_size, n_nodes1)\r\n",
        "        前に流す勾配\r\n",
        "    \"\"\"\r\n",
        "    self.X=X\r\n",
        "    n=self._n_out(self.X)\r\n",
        "    for s in range(self.filter_size): #outputsizeに要変更\r\n",
        "      for i in range(n):\r\n",
        "        if s==self.filter_size-1:\r\n",
        "          i=i+self.stride-1 #stride反映\r\n",
        "        self.dW[s] =self.dW[s]+dA[i]*self.X[i+s] #(1,3)\r\n",
        "    self.dB =np.sum(dA,axis=0)\r\n",
        "    \"\"\"\r\n",
        "    self.dX=np.zeros\r\n",
        "    for j in range(self.X.shape[0]):\r\n",
        "      for s in range(self.filter_size-1):\r\n",
        "        if (j-s)<0 or (j-s)>n:\r\n",
        "          dA=0 \r\n",
        "        self.dX=+ dA[j-s]*self.W[s]\r\n",
        "\r\n",
        "    self.optimizer.update(self)\r\n",
        "    return dX\r\n",
        "    \"\"\"\r\n",
        "    return self.dW,self.dB\r\n",
        "\r\n",
        "  def _n_out(self,X):\r\n",
        "    self.X=X\r\n",
        "    n_o=(self.X.shape[0]+2*self.pading-self.filter_size)/self.stride+1\r\n",
        "    return int(n_o)"
      ],
      "execution_count": 7,
      "outputs": []
    },
    {
      "cell_type": "code",
      "metadata": {
        "colab": {
          "base_uri": "https://localhost:8080/"
        },
        "id": "RcWHgr9ak1CY",
        "outputId": "c386e1c4-3c38-403f-a44d-50095487e976"
      },
      "source": [
        "#問題3 forward\r\n",
        "x = np.array([1,2,3,4])\r\n",
        "sc=SimpleConv1d(optimizer='SGD')\r\n",
        "a=sc.forward(x)\r\n",
        "a"
      ],
      "execution_count": 8,
      "outputs": [
        {
          "output_type": "stream",
          "text": [
            "35.0\n",
            "50.0\n"
          ],
          "name": "stdout"
        },
        {
          "output_type": "execute_result",
          "data": {
            "text/plain": [
              "array([35., 50.])"
            ]
          },
          "metadata": {
            "tags": []
          },
          "execution_count": 8
        }
      ]
    },
    {
      "cell_type": "code",
      "metadata": {
        "colab": {
          "base_uri": "https://localhost:8080/"
        },
        "id": "i1LQ0Ty6k4R5",
        "outputId": "3ca5e8ea-ec35-4693-eb94-ff4791cf18bb"
      },
      "source": [
        "#問題3 backward\r\n",
        "delta_a = np.array([10, 20])\r\n",
        "dw,db=sc.backward(delta_a,x)\r\n",
        "print(dw)\r\n",
        "print(db)"
      ],
      "execution_count": 9,
      "outputs": [
        {
          "output_type": "stream",
          "text": [
            "[ 50.  80. 110.]\n",
            "30\n"
          ],
          "name": "stdout"
        }
      ]
    },
    {
      "cell_type": "code",
      "metadata": {
        "id": "Z0tkw2AsRo3B"
      },
      "source": [
        ""
      ],
      "execution_count": 9,
      "outputs": []
    },
    {
      "cell_type": "code",
      "metadata": {
        "id": "0oRvUxMazu4w"
      },
      "source": [
        "#問4\r\n",
        "class Conv1d:\r\n",
        "  def __init__(self,optimizer,filter_size=3,stride=1,pading=0):\r\n",
        "    self.optimizer = optimizer\r\n",
        "    self.filter_size=filter_size\r\n",
        "    self.W = np.ones((3, 2, 3)) # 例の簡略化のため全て1とする。(出力チャンネル数、入力チャンネル数、フィルタサイズ)である。\r\n",
        "    self.B = np.array([1, 2, 3]) # （出力チャンネル数）\r\n",
        "    #self.W = initializer.W(self.filter_size1)\r\n",
        "    #self.B = initializer.B(self.filter_size1)\r\n",
        "    self.stride=stride\r\n",
        "    self.pading=pading\r\n",
        "    self.dW=np.zeros((self.filter_size))\r\n",
        "\r\n",
        "  def forward(self, X):\r\n",
        "    self.X = X\r\n",
        "    n=self._n_out(self.X)\r\n",
        "    self.a=np.zeros((self.W.shape[0],n))\r\n",
        "    for z in range(self.W.shape[0]):\r\n",
        "      for k in range(self.X.shape[0]):\r\n",
        "        for i in range(n):\r\n",
        "          for s in range(self.filter_size):\r\n",
        "            if s==self.filter_size-1:\r\n",
        "              i=i+self.stride-1 #stride反映\r\n",
        "            self.a[z][i] =self.a[z][i]+self.X[k,i+s]*self.W[z,k,s]\r\n",
        "      self.a[z,:] =self.a[z,:]+self.B[z]\r\n",
        "    return self.a\r\n",
        "\r\n",
        "  def backward(self, dA,X):\r\n",
        "    \"\"\"\r\n",
        "    バックワード\r\n",
        "    Parameters\r\n",
        "    ----------\r\n",
        "    dA : 次の形のndarray, shape (batch_size, n_nodes2)\r\n",
        "        後ろから流れてきた勾配\r\n",
        "    Returns\r\n",
        "    ----------\r\n",
        "    dZ : 次の形のndarray, shape (batch_size, n_nodes1)\r\n",
        "        前に流す勾配\r\n",
        "    \"\"\"\r\n",
        "    self.X=X\r\n",
        "    n=self._n_out(self.X)\r\n",
        "    for s in range(self.filter_size): #outputsizeに要変更\r\n",
        "      for i in range(n):\r\n",
        "        if s==self.filter_size-1:\r\n",
        "          i=i+self.stride-1 #stride反映\r\n",
        "        self.dW[s] =self.dW[s]+dA[i]*self.X[i+s] #(1,3)\r\n",
        "    self.dB =np.sum(dA,axis=0)\r\n",
        "    \"\"\"\r\n",
        "    self.dX=np.zeros\r\n",
        "    for j in range(self.X.shape[0]):\r\n",
        "      for s in range(self.filter_size-1):\r\n",
        "        if (j-s)<0 or (j-s)>n:\r\n",
        "          dA=0 \r\n",
        "        self.dX=+ dA[j-s]*self.W[s]\r\n",
        "\r\n",
        "    self.optimizer.update(self)\r\n",
        "    return dX\r\n",
        "    \"\"\"\r\n",
        "    return self.dW,self.dB\r\n",
        "\r\n",
        "  def _n_out(self,X):\r\n",
        "    self.X=X\r\n",
        "    n_o=(self.X.shape[1]+2*self.pading-self.filter_size)/self.stride+1\r\n",
        "    return int(n_o)"
      ],
      "execution_count": 10,
      "outputs": []
    },
    {
      "cell_type": "code",
      "metadata": {
        "colab": {
          "base_uri": "https://localhost:8080/"
        },
        "id": "rU3FX66TC8jG",
        "outputId": "703a76ce-da96-4c58-a61d-552db3cbeb85"
      },
      "source": [
        "#問題4\r\n",
        "x = np.array([[1, 2, 3, 4], [2, 3, 4, 5]]) \r\n",
        "c1=Conv1d(optimizer='SGD')\r\n",
        "a=c1.forward(x)\r\n",
        "print(a)"
      ],
      "execution_count": 11,
      "outputs": [
        {
          "output_type": "stream",
          "text": [
            "[[16. 22.]\n",
            " [17. 23.]\n",
            " [18. 24.]]\n"
          ],
          "name": "stdout"
        }
      ]
    },
    {
      "cell_type": "code",
      "metadata": {
        "id": "XlfodE9dC-Oz"
      },
      "source": [
        "#問題8\r\n",
        "class ScratchDeepNeuralNetrowkClassifier:\r\n",
        "    def __init__(self, batch_size = 20,init='Sinmple',ac='Tanh',opt='SGD', seed=0):\r\n",
        "        self.batch_size=batch_size\r\n",
        "        self.n_features=784\r\n",
        "        self.n_nodes1=400\r\n",
        "        self.n_nodes2=200\r\n",
        "        self.n_output=10\r\n",
        "        self.sigma=0.01\r\n",
        "        self.init=init\r\n",
        "        self.ac=ac\r\n",
        "        self.opt=opt\r\n",
        "        self.W1=None\r\n",
        "        self.W2=None\r\n",
        "        self.W3=None\r\n",
        "        self.B1=None\r\n",
        "        self.B2=None\r\n",
        "        self.B3=None\r\n",
        "        self.fanction=None\r\n",
        "        self.optimizer=None\r\n",
        "        self.filter_size=3\r\n",
        "        self.pading=0\r\n",
        "        self.stride=1\r\n",
        "        self.n_o=None\r\n",
        "\r\n",
        "    def _n_out(self,X):\r\n",
        "      self.n_o=(X.shape[2]+2*self.pading-self.filter_size)/self.stride+1\r\n",
        "      self.n_o=int(self.n_o)\r\n",
        "      return self.n_o\r\n",
        "    def _initializer(self,X):\r\n",
        "      if self.init=='Sinmple':\r\n",
        "        self.n_nodes1=self._n_out(X)\r\n",
        "        self.W1 = self.sigma * np.random.randn(self.filter_size)    \r\n",
        "        self.W2=SimpleInitializer(self.sigma).W(self.n_nodes1,self.n_nodes2)\r\n",
        "        self.W3=SimpleInitializer(self.sigma).W(self.n_nodes2,self.n_output)\r\n",
        "        self.B1=self.sigma * np.random.randn(1,)\r\n",
        "        self.B2=SimpleInitializer(self.sigma).B(self.n_nodes2)\r\n",
        "        self.B3=SimpleInitializer(self.sigma).B(self.n_output)\r\n",
        "        \r\n",
        "      elif self.init=='Xavier':\r\n",
        "        self.n_nodes1=self._n_out(X)\r\n",
        "        self.sigma = math.sqrt(1 / self.filter_size)\r\n",
        "        self.W1 = self.sigma * np.random.randn(self.filter_size)\r\n",
        "        self.W2=He().W(self.n_nodes1,self.n_nodes2)\r\n",
        "        self.W3=He().W(self.n_nodes2,self.n_output)\r\n",
        "        self.sigma = math.sqrt(1 / self.filter_size)\r\n",
        "        self.B1 = self.sigma * np.random.randn(1)\r\n",
        "        self.B2=He().B(self.n_nodes1,self.n_nodes2)\r\n",
        "        self.B3=He().B(self.n_nodes2,self.n_output)\r\n",
        "      \r\n",
        "      elif self.init=='He':\r\n",
        "        self.n_nodes1=self._n_out(X)\r\n",
        "        self.sigma = math.sqrt(2 / self.filter_size)\r\n",
        "        self.W1 = self.sigma * np.random.randn(self.filter_size)\r\n",
        "        self.W2=He().W(self.filter_size)\r\n",
        "        self.W3=He().W(self.filter_size)\r\n",
        "        self.sigma = math.sqrt(2 / self.filter_size)\r\n",
        "        self.B1 = self.sigma * np.random.randn(1)\r\n",
        "        self.B2=He().B(1)\r\n",
        "        self.B3=He().B(1)\r\n",
        "\r\n",
        "\r\n",
        "    def fit(self, X,y):\r\n",
        "        \r\n",
        "        if self.ac=='Tanh':\r\n",
        "          self.fanction=Tanh()\r\n",
        "        elif self.ac=='ReLU':\r\n",
        "          self.fanction=ReLU()\r\n",
        "        else:\r\n",
        "          self.fanction=Sigmoid()\r\n",
        "\r\n",
        "        if self.opt=='SGD':\r\n",
        "          self.optimizer=SGD()\r\n",
        "        else:\r\n",
        "          self.optimizer=AdaGrad()\r\n",
        "\r\n",
        "\r\n",
        "        n_epochs = 5\r\n",
        "        #n_step_iteration_report = 384\r\n",
        "        plot_data = []\r\n",
        "        Loss=[]\r\n",
        "        Val_loss=[]\r\n",
        "        Epoch=[]\r\n",
        "        self.X=X\r\n",
        "        self.y=y\r\n",
        "        new_loss=[]       \r\n",
        "        #y_val = y_val.reshape(-1, 1) == np.arange(10)\r\n",
        "        self._initializer(X)\r\n",
        "        self.n_o=self._n_out(X)\r\n",
        "        for epoch in range(n_epochs):\r\n",
        "            for i, (x, y) in enumerate(GetMiniBatch(self.X,self.y,self.batch_size)):\r\n",
        "            #forword\r\n",
        "              y = y.reshape(-1, 1) == np.arange(10)\r\n",
        "              y=y.reshape(y.shape[0],10)\r\n",
        "              self.Conv1,self.n_nodes1 = Conv(self.W1,self.B1,self.optimizer,self.n_o).forward(x) #(1,782)\r\n",
        "              self.activation1 = self.fanction.forward(self.Conv1)\r\n",
        "\r\n",
        "              self.FC2 = FC(self.W2,self.B2,self.optimizer).forward(self.activation1) #(20,200)\r\n",
        "              self.activation2 = self.fanction.forward(self.FC2) \r\n",
        "              #print(\"a2\"+str(self.activation2.shape))\r\n",
        "              self.FC3 = FC(self.W3,self.B3,self.optimizer).forward(self.activation2) #(1,10)\r\n",
        "              self.activation3 = Softmax(self.batch_size).forward(self.FC3) \r\n",
        "              self.loss=Softmax(self.batch_size).loss(self.activation3,y) \r\n",
        "              #backword\r\n",
        "              self.dloss=Softmax(self.batch_size).backward(self.activation3,y) #(20,10)\r\n",
        "              \r\n",
        "              self.W3,self.B3,self.dZ2 = FC(self.W3,self.B3,self.optimizer).backward(self.dloss,self.activation2) #(20,10)*(20,200)=()\r\n",
        "              self.dactivation2 = self.fanction.backward(self.dZ2, self.activation2)\r\n",
        "              self.W2,self.B2,self.dZ1 = FC(self.W2,self.B2,self.optimizer).backward(self.dactivation2,self.activation1) #(1,200)\r\n",
        "              self.dactivation1 = self.fanction.backward(self.dZ1,self.activation1)\r\n",
        "              self.W1,self.B1,self.dX = Conv(self.W1,self.B1,self.optimizer,self.n_o).backward(x,self.dactivation1) #(784,400) \r\n",
        "              Loss.append(self.loss)\r\n",
        "              \r\n",
        "            new_loss.append(np.mean(Loss))\r\n",
        "            Loss=[] \r\n",
        "            print(new_loss)\r\n",
        "            Epoch.append(epoch)\r\n",
        "        plt.plot(Epoch, new_loss, color='r', label='train_loss')\r\n",
        "        #plt.plot(Epoch, Val_loss, color='b', label='val_loss')\r\n",
        "        plt.xlabel('epoch')\r\n",
        "        plt.ylabel('loss')\r\n",
        "        plt.show()\r\n",
        "      \r\n",
        "    def predict(self,x):\r\n",
        "        self.Conv1,self.n_nodes1 = Conv(self.W1,self.B1,self.optimizer,self.n_o).forward(x) #(20,782)\r\n",
        "        self.activation1 = self.fanction.forward(self.Conv1)\r\n",
        "        self.FC2 = FC(self.W2,self.B2,self.optimizer).forward(self.activation1) #(20,200)\r\n",
        "        self.activation2 = self.fanction.forward(self.FC2) \r\n",
        "        #print(\"a2\"+str(self.activation2.shape))\r\n",
        "        self.FC3 = FC(self.W3,self.B3,self.optimizer).forward(self.activation2) #(1,10)\r\n",
        "        self.activation3 = Softmax(self.batch_size).forward(self.FC3) \r\n",
        "        result=self.activation3.argmax(axis=1)\r\n",
        "        return result\r\n"
      ],
      "execution_count": 12,
      "outputs": []
    },
    {
      "cell_type": "code",
      "metadata": {
        "id": "t9G4n3w7RquF"
      },
      "source": [
        "class FC:\r\n",
        "    \"\"\"\r\n",
        "    ノード数n_nodes1からn_nodes2への全結合層\r\n",
        "    Parameters\r\n",
        "    ----------\r\n",
        "    n_nodes1 : int\r\n",
        "      前の層のノード数\r\n",
        "    n_nodes2 : int\r\n",
        "      後の層のノード数\r\n",
        "    initializer : 初期化方法のインスタンス\r\n",
        "    optimizer : 最適化手法のインスタンス\r\n",
        "    \"\"\"\r\n",
        "    def __init__(self,W,B,optimizer,batch_size=20):\r\n",
        "        #重みの初期化\r\n",
        "        self.W=W\r\n",
        "        self.B=B\r\n",
        "        self.optimizer=optimizer\r\n",
        "    def forward(self, X):\r\n",
        "        \"\"\"\r\n",
        "        フォワード\r\n",
        "        Parameters\r\n",
        "        ----------\r\n",
        "        X : 次の形のndarray, shape (batch_size, n_nodes1)\r\n",
        "            入力\r\n",
        "        Returns\r\n",
        "        ----------\r\n",
        "        A : 次の形のndarray, shape (batch_size, n_nodes2)\r\n",
        "            出力\r\n",
        "        \"\"\"\r\n",
        "        \r\n",
        "        A=np.dot(X,self.W)+self.B \r\n",
        "        #(20,782)*(782,200)=(20,200)\r\n",
        "        #(20,200)*(200,10)=(20,10)\r\n",
        "        return A\r\n",
        "    def backward(self,X,dactivation):\r\n",
        "        \"\"\"\r\n",
        "        バックワード\r\n",
        "        Parameters\r\n",
        "        ----------\r\n",
        "        dA : 次の形のndarray, shape (batch_size, n_nodes2)\r\n",
        "            後ろから流れてきた勾配\r\n",
        "        Returns\r\n",
        "        ----------\r\n",
        "        dZ : 次の形のndarray, shape (batch_size, n_nodes1)\r\n",
        "            前に流す勾配\r\n",
        "        \"\"\"\r\n",
        "        dB=np.sum(X,axis=0) \r\n",
        "        dW=np.dot(dactivation.T,X) #(10,20)*(20,200)=(10,200)\r\n",
        "        dZ=np.dot(X,self.W.T) \r\n",
        "        self.W,self.B=self.optimizer.update(self.W,self.B,dW,dB)\r\n",
        "        return self.W,self.B,dZ\r\n",
        "\r\n",
        "    def backward2(self,X,dactivation):\r\n",
        "        \"\"\"\r\n",
        "        バックワード\r\n",
        "        Parameters\r\n",
        "        ----------\r\n",
        "        dA : 次の形のndarray, shape (batch_size, n_nodes2)\r\n",
        "            後ろから流れてきた勾配\r\n",
        "        Returns\r\n",
        "        ----------\r\n",
        "        dZ : 次の形のndarray, shape (batch_size, n_nodes1)\r\n",
        "            前に流す勾配\r\n",
        "        \"\"\"\r\n",
        "        dB=np.sum(dactivation,axis=0) \r\n",
        "        dW=np.dot(X.T,dactivation) #(784,20)*(20,400)=(784,400)\r\n",
        "        #print(dW.shape)\r\n",
        "        self.W,self.B=self.optimizer.update(self.W,self.B,dW,dB)\r\n",
        "        return self.W,self.B\r\n"
      ],
      "execution_count": 13,
      "outputs": []
    },
    {
      "cell_type": "code",
      "metadata": {
        "id": "AWYUGzyvyMPD"
      },
      "source": [
        "class Conv:\r\n",
        "  def __init__(self,W,B,optimizer,n,filter_size=3,stride=1,pading=0):\r\n",
        "    self.optimizer = optimizer\r\n",
        "    self.filter_size=filter_size\r\n",
        "    self.W = W\r\n",
        "    self.B = B\r\n",
        "    self.stride=stride\r\n",
        "    self.pading=pading\r\n",
        "    self.n=n\r\n",
        "\r\n",
        "  def forward(self, X):\r\n",
        "    self.a=np.zeros((X.shape[0],self.n))\r\n",
        "    for k in range(X.shape[0]):\r\n",
        "      for i in range(self.n):\r\n",
        "        for s in range(self.filter_size):\r\n",
        "          if s==self.filter_size-1:\r\n",
        "            i=i+self.stride-1 #stride反映\r\n",
        "          self.a[k][i] =self.a[k][i]+X[k,0,i+s]*self.W[s]\r\n",
        "        self.a[k][i] =self.a[k][i]+self.B[0]\r\n",
        "        a_shape=self.a.shape[1]\r\n",
        "        #print(\"a:\"+str(self.a.shape))\r\n",
        "      return self.a,a_shape\r\n",
        "\r\n",
        "  def backward(self, X,dA):\r\n",
        "    \"\"\"\r\n",
        "    バックワード\r\n",
        "    Parameters\r\n",
        "    ----------\r\n",
        "    dA : 次の形のndarray, shape (batch_size, n_nodes2)\r\n",
        "        後ろから流れてきた勾配\r\n",
        "    Returns\r\n",
        "    ----------\r\n",
        "    dZ : 次の形のndarray, shape (batch_size, n_nodes1)\r\n",
        "        前に流す勾配\r\n",
        "    \"\"\"\r\n",
        "    dW=np.zeros((self.filter_size))\r\n",
        "    for k in range(X.shape[0]):\r\n",
        "      for s in range(self.filter_size): #outputsizeに要変更\r\n",
        "        for i in range(self.n):\r\n",
        "          if s==self.filter_size-1:\r\n",
        "            i=i+self.stride-1 #stride反映\r\n",
        "          d=dA[0,i]*X[k,0,i+s]\r\n",
        "          dW[s] =dW[s]+d #(1,3)\r\n",
        "    dB =np.sum(dA,axis=0)\r\n",
        "    \r\n",
        "    dX=np.zeros((self.n))\r\n",
        "    for j in range(self.n):\r\n",
        "      for s in range(self.filter_size):\r\n",
        "        if (j-s)<0 or (j-s)>self.n:\r\n",
        "          dA[0,j-s]=0\r\n",
        "        dX[j] =dX[j]+dA[0,j-s]*self.W[s]\r\n",
        "      \r\n",
        "\r\n",
        "    self.W,self.B=self.optimizer.update(self.W,self.B,dW,dB)\r\n",
        "\r\n",
        "    return self.W,self.B,dX\r\n"
      ],
      "execution_count": 14,
      "outputs": []
    },
    {
      "cell_type": "code",
      "metadata": {
        "id": "wqgtpWQTyUrP"
      },
      "source": [
        "class Tanh:\r\n",
        "      def forward(self,X):\r\n",
        "        Z=np.tanh(X)\r\n",
        "        return Z\r\n",
        "      def backward(self,X,activation):\r\n",
        "        dA=X*(1-activation**2)\r\n",
        "        return dA"
      ],
      "execution_count": 15,
      "outputs": []
    },
    {
      "cell_type": "code",
      "metadata": {
        "id": "n1doJX2UyX1E"
      },
      "source": [
        "class Softmax:\r\n",
        "      def __init__(self,batch_size=20):\r\n",
        "        self.batch_size=batch_size\r\n",
        "      def forward(self,X):\r\n",
        "        log_z3 = np.log(np.exp(X)) - self._logsumexp(X) #(20,10)\r\n",
        "        self.Z3 = np.exp(log_z3) #(20,10)\r\n",
        "        return self.Z3\r\n",
        "      def _logsumexp(self,X):\r\n",
        "        xmax = np.max(X,axis=1)\r\n",
        "        xmax=xmax.reshape(X.shape[0],1)\r\n",
        "        return np.log(np.exp(X - xmax).sum(axis=1, keepdims=True)) + xmax\r\n",
        "      def loss(self,X,y):\r\n",
        "        L=-np.sum(np.sum(y*np.log(X),axis=1),axis=0)/self.batch_size \r\n",
        "        return L\r\n",
        "      def backward(self,L,y):\r\n",
        "        dA3=(L-y)/self.batch_size #(20,10)\r\n",
        "        return dA3"
      ],
      "execution_count": 16,
      "outputs": []
    },
    {
      "cell_type": "code",
      "metadata": {
        "id": "VnLiI_FRyZrC"
      },
      "source": [
        "class SimpleInitializer:\r\n",
        "      def __init__(self, sigma=0.01):\r\n",
        "        self.sigma = sigma\r\n",
        "      def W(self, n_nodes1, n_nodes2):\r\n",
        "        \"\"\"\r\n",
        "        重みの初期化\r\n",
        "        Parameters\r\n",
        "        ----------\r\n",
        "        n_nodes1 : int\r\n",
        "          前の層のノード数\r\n",
        "        n_nodes2 : int\r\n",
        "          後の層のノード数\r\n",
        "        Returns\r\n",
        "        ----------\r\n",
        "        W :\r\n",
        "        \"\"\"\r\n",
        "        \r\n",
        "        self.W = self.sigma * np.random.randn(n_nodes1,n_nodes2)    \r\n",
        "        return self.W\r\n",
        "      def B(self, n_nodes):\r\n",
        "        \"\"\"\r\n",
        "        バイアスの初期化\r\n",
        "        Parameters\r\n",
        "        ----------\r\n",
        "        n_nodes2 : int\r\n",
        "          後の層のノード数\r\n",
        "        Returns\r\n",
        "        ----------\r\n",
        "        B :\r\n",
        "        \"\"\"\r\n",
        "        #バイアス項の初期値\r\n",
        "        sigm=0.01\r\n",
        "        self.B=self.sigma * np.random.randn(n_nodes,)\r\n",
        "        return self.B\r\n"
      ],
      "execution_count": 17,
      "outputs": []
    },
    {
      "cell_type": "code",
      "metadata": {
        "id": "ZhrBOyClybZp"
      },
      "source": [
        "class SGD:\r\n",
        "    \"\"\"\r\n",
        "    確率的勾配降下法\r\n",
        "    Parameters\r\n",
        "    ----------\r\n",
        "    lr : 学習率\r\n",
        "    \"\"\"\r\n",
        "    def __init__(self, lr=0.01):\r\n",
        "        self.lr = lr\r\n",
        "    def update(self,W,B,dW,dB):\r\n",
        "        \"\"\"\r\n",
        "        ある層の重みやバイアスの更新\r\n",
        "        Parameters\r\n",
        "        ----------\r\n",
        "        layer : 更新前の層のインスタンス\r\n",
        "        \"\"\"\r\n",
        "        W=W-self.lr*dW\r\n",
        "        B=B-self.lr*dB\r\n",
        "\r\n",
        "        return W,B\r\n",
        "        \r\n",
        "        "
      ],
      "execution_count": 18,
      "outputs": []
    },
    {
      "cell_type": "code",
      "metadata": {
        "id": "Ij_GwNHTyc2_"
      },
      "source": [
        "class ReLU:\r\n",
        "   def forward(self,A):\r\n",
        "     return np.clip(A, 0, None)\r\n",
        "    \r\n",
        "   def backward(self,dZ, A):\r\n",
        "     return dZ * np.clip(np.sign(A), 0, None)"
      ],
      "execution_count": 19,
      "outputs": []
    },
    {
      "cell_type": "code",
      "metadata": {
        "id": "sxDt43fKyeip"
      },
      "source": [
        "import math\r\n",
        "class XavierInitializer:\r\n",
        "  def W(self, n_nodes1, n_nodes2):\r\n",
        "      self.sigma = math.sqrt(1 / n_nodes1)\r\n",
        "      W = self.sigma * np.random.randn(n_nodes1, n_nodes2)\r\n",
        "      return W\r\n",
        "  def B(self, n_nodes1,n_nodes2):\r\n",
        "      self.sigma = math.sqrt(1 / n_nodes1)\r\n",
        "      B = self.sigma * np.random.randn(n_nodes2)\r\n",
        "      return B"
      ],
      "execution_count": 20,
      "outputs": []
    },
    {
      "cell_type": "code",
      "metadata": {
        "id": "WTVEoOH6yfz8"
      },
      "source": [
        "import math\r\n",
        "class He:\r\n",
        "  def W(self, n_nodes1, n_nodes2):\r\n",
        "      self.sigma = math.sqrt(2 / n_nodes1)\r\n",
        "      W = self.sigma * np.random.randn(n_nodes1, n_nodes2)\r\n",
        "      return W\r\n",
        "  def B(self, n_nodes1,n_nodes2):\r\n",
        "      self.sigma = math.sqrt(2 / n_nodes1)\r\n",
        "      B = self.sigma * np.random.randn(n_nodes2)\r\n",
        "      return B"
      ],
      "execution_count": 21,
      "outputs": []
    },
    {
      "cell_type": "code",
      "metadata": {
        "id": "z1KBFfB6yhTL"
      },
      "source": [
        "class AdaGrad:\r\n",
        "    \r\n",
        "    def __init__(self, lr=0.01):\r\n",
        "        self.lr = lr\r\n",
        "        self.HW = 1\r\n",
        "        self.HB = 1\r\n",
        "    \r\n",
        "    def update(self,W,B,dW,dB):\r\n",
        "        self.HW += dW**2\r\n",
        "        self.HB += dB**2\r\n",
        "        W -= self.lr * np.sqrt(1/self.HW) * dW\r\n",
        "        B -= self.lr * np.sqrt(1/self.HB) * dB\r\n",
        "        self.HW=1\r\n",
        "        self.HB=1\r\n",
        "        return W,B"
      ],
      "execution_count": 22,
      "outputs": []
    },
    {
      "cell_type": "code",
      "metadata": {
        "id": "x1tymPteyitI"
      },
      "source": [
        "class Sigmoid:\r\n",
        "    \r\n",
        "    def forward(self, A):\r\n",
        "        self.A = A\r\n",
        "        return self.sigmoid(A)\r\n",
        "    \r\n",
        "    def backward(self, dZ, A):\r\n",
        "        self.A=A\r\n",
        "        _sig = self.sigmoid(self.A)\r\n",
        "        return dZ * (1 - _sig)*_sig\r\n",
        "    \r\n",
        "    def sigmoid(self, X):\r\n",
        "        return 1 / (1 + np.exp(-X))"
      ],
      "execution_count": 23,
      "outputs": []
    },
    {
      "cell_type": "code",
      "metadata": {
        "id": "vsK4BxV9ApIa"
      },
      "source": [
        ""
      ],
      "execution_count": 23,
      "outputs": []
    },
    {
      "cell_type": "code",
      "metadata": {
        "colab": {
          "base_uri": "https://localhost:8080/",
          "height": 367
        },
        "id": "58hGcbiqykGV",
        "outputId": "3c269700-6321-4df9-8e7b-3f1a8cd88ea1"
      },
      "source": [
        "#問題8\r\n",
        "sdnn=ScratchDeepNeuralNetrowkClassifier(init='Xavier')\r\n",
        "sdnn.fit(x_train,y_train)"
      ],
      "execution_count": 24,
      "outputs": [
        {
          "output_type": "stream",
          "text": [
            "[2.2666437953379726]\n",
            "[2.2666437953379726, 2.2320021830569683]\n",
            "[2.2666437953379726, 2.2320021830569683, 2.2212011011126136]\n",
            "[2.2666437953379726, 2.2320021830569683, 2.2212011011126136, 2.216060059795475]\n",
            "[2.2666437953379726, 2.2320021830569683, 2.2212011011126136, 2.216060059795475, 2.212980453225706]\n"
          ],
          "name": "stdout"
        },
        {
          "output_type": "display_data",
          "data": {
            "image/png": "[encoded data removed]",
            "text/plain": [
              "<Figure size 432x288 with 1 Axes>"
            ]
          },
          "metadata": {
            "tags": [],
            "needs_background": "light"
          }
        }
      ]
    },
    {
      "cell_type": "code",
      "metadata": {
        "colab": {
          "base_uri": "https://localhost:8080/"
        },
        "id": "w0pn1Cv10BTi",
        "outputId": "4e2745b6-bf78-47bc-8761-f99ba70f191b"
      },
      "source": [
        "y_pred=sdnn.predict(X_test)\r\n",
        "y_pred"
      ],
      "execution_count": 25,
      "outputs": [
        {
          "output_type": "execute_result",
          "data": {
            "text/plain": [
              "array([7, 1, 1, ..., 1, 1, 1])"
            ]
          },
          "metadata": {
            "tags": []
          },
          "execution_count": 25
        }
      ]
    },
    {
      "cell_type": "code",
      "metadata": {
        "id": "0_ZHvrPMLNOu",
        "colab": {
          "base_uri": "https://localhost:8080/"
        },
        "outputId": "67fe1c84-f252-4535-f89b-09a74d323520"
      },
      "source": [
        "#Accuracy\r\n",
        "from sklearn.metrics import accuracy_score\r\n",
        "print(accuracy_score(y_test, y_pred))"
      ],
      "execution_count": 26,
      "outputs": [
        {
          "output_type": "stream",
          "text": [
            "0.1136\n"
          ],
          "name": "stdout"
        }
      ]
    },
    {
      "cell_type": "code",
      "metadata": {
        "id": "3Nita1c8ggDa"
      },
      "source": [
        ""
      ],
      "execution_count": null,
      "outputs": []
    }
  ]
}