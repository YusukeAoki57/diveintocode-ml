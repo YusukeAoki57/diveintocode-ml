{
  "nbformat": 4,
  "nbformat_minor": 0,
  "metadata": {
    "colab": {
      "name": "Sprint4_ロジスティック回帰.ipynb",
      "provenance": [],
      "collapsed_sections": [],
      "authorship_tag": "ABX9TyMK4HUw0T08lEN0OJ/Ra0AA",
      "include_colab_link": true
    },
    "kernelspec": {
      "name": "python3",
      "display_name": "Python 3"
    }
  },
  "cells": [
    {
      "cell_type": "markdown",
      "metadata": {
        "id": "view-in-github",
        "colab_type": "text"
      },
      "source": [
        "<a href=\"https://colab.research.google.com/github/YusukeAoki57/diveintocode-ml/blob/master/Sprint4_%E3%83%AD%E3%82%B8%E3%82%B9%E3%83%86%E3%82%A3%E3%83%83%E3%82%AF%E5%9B%9E%E5%B8%B0.ipynb\" target=\"_parent\"><img src=\"https://colab.research.google.com/assets/colab-badge.svg\" alt=\"Open In Colab\"/></a>"
      ]
    },
    {
      "cell_type": "code",
      "metadata": {
        "id": "V6N3NL-e4R2v"
      },
      "source": [
        "import numpy as np\r\n",
        "import matplotlib.pyplot as plt\r\n",
        "from sklearn.datasets import load_iris\r\n",
        "from sklearn.preprocessing import StandardScaler\r\n",
        "import pandas as pd\r\n",
        "import matplotlib.pyplot as plt\r\n",
        "from sklearn.linear_model import LogisticRegression"
      ],
      "execution_count": 290,
      "outputs": []
    },
    {
      "cell_type": "markdown",
      "metadata": {
        "id": "bXTVNl1vuOVk"
      },
      "source": [
        "問題1-4"
      ]
    },
    {
      "cell_type": "code",
      "metadata": {
        "colab": {
          "base_uri": "https://localhost:8080/"
        },
        "id": "zc3efxv5diIe",
        "outputId": "0fe74506-bcef-487b-b3e4-3646bd76c705"
      },
      "source": [
        "iris=load_iris()\r\n",
        "iris_data=pd.DataFrame(iris.data,columns=iris.feature_names)\r\n",
        "print(iris_data)"
      ],
      "execution_count": 291,
      "outputs": [
        {
          "output_type": "stream",
          "text": [
            "     sepal length (cm)  sepal width (cm)  petal length (cm)  petal width (cm)\n",
            "0                  5.1               3.5                1.4               0.2\n",
            "1                  4.9               3.0                1.4               0.2\n",
            "2                  4.7               3.2                1.3               0.2\n",
            "3                  4.6               3.1                1.5               0.2\n",
            "4                  5.0               3.6                1.4               0.2\n",
            "..                 ...               ...                ...               ...\n",
            "145                6.7               3.0                5.2               2.3\n",
            "146                6.3               2.5                5.0               1.9\n",
            "147                6.5               3.0                5.2               2.0\n",
            "148                6.2               3.4                5.4               2.3\n",
            "149                5.9               3.0                5.1               1.8\n",
            "\n",
            "[150 rows x 4 columns]\n"
          ],
          "name": "stdout"
        }
      ]
    },
    {
      "cell_type": "code",
      "metadata": {
        "colab": {
          "base_uri": "https://localhost:8080/"
        },
        "id": "DJh_9ambdxTC",
        "outputId": "3401ebb5-d483-412a-a4ea-7dd0b5eb5109"
      },
      "source": [
        "#targetの生成\r\n",
        "all_y=pd.DataFrame(iris.target)\r\n",
        "all_y.columns=['Species']\r\n",
        "\r\n",
        "#特徴量との結合\r\n",
        "all_xy=pd.merge(iris_data,all_y,left_index=True, right_index=True)\r\n",
        "\r\n",
        "#Targetのvirgicolorとvirginicaのみのデータの生成\r\n",
        "part_columns=all_xy[all_xy['Species'] != 0]\r\n",
        "print(part_columns)\r\n",
        "\r\n",
        "#sepal_lengthとpetal_lengthのみのデータの生成\r\n",
        "part_all1=part_columns.drop('sepal width (cm)', axis=1)\r\n",
        "part_all=part_all1.drop('petal width (cm)', axis=1)"
      ],
      "execution_count": 347,
      "outputs": [
        {
          "output_type": "stream",
          "text": [
            "     sepal length (cm)  sepal width (cm)  ...  petal width (cm)  Species\n",
            "50                 7.0               3.2  ...               1.4        1\n",
            "51                 6.4               3.2  ...               1.5        1\n",
            "52                 6.9               3.1  ...               1.5        1\n",
            "53                 5.5               2.3  ...               1.3        1\n",
            "54                 6.5               2.8  ...               1.5        1\n",
            "..                 ...               ...  ...               ...      ...\n",
            "145                6.7               3.0  ...               2.3        2\n",
            "146                6.3               2.5  ...               1.9        2\n",
            "147                6.5               3.0  ...               2.0        2\n",
            "148                6.2               3.4  ...               2.3        2\n",
            "149                5.9               3.0  ...               1.8        2\n",
            "\n",
            "[100 rows x 5 columns]\n"
          ],
          "name": "stdout"
        }
      ]
    },
    {
      "cell_type": "code",
      "metadata": {
        "colab": {
          "base_uri": "https://localhost:8080/"
        },
        "id": "U1HGhaoPd8Jn",
        "outputId": "5ccd9e0d-dd2a-41af-d228-38fe37ca9e63"
      },
      "source": [
        "#numpyに変換\r\n",
        "x=part_columns.drop('Species', axis=1).values\r\n",
        "y=part_columns.iloc[:,-1].values\r\n",
        "\r\n",
        "x2=part_all.drop('Species', axis=1).values\r\n",
        "y2=part_columns.iloc[:,-1].values\r\n",
        "\r\n",
        "\r\n",
        "#分割 4特徴量\r\n",
        "from sklearn.model_selection import train_test_split\r\n",
        "x_train, x_test, y_train, y_test = train_test_split(x, y, test_size=0.25, random_state=0)\r\n",
        "\r\n",
        "#分割　2特徴量→グラフ用\r\n",
        "x_train2, x_test2, y_train2, y_test2 = train_test_split(x2, y2, test_size=0.25, random_state=0)\r\n",
        "print(x_test2.shape)\r\n",
        "print(y_test2.shape)\r\n",
        "print(type(x_test2))\r\n",
        "print(type(y_test2))"
      ],
      "execution_count": 348,
      "outputs": [
        {
          "output_type": "stream",
          "text": [
            "(25, 2)\n",
            "(25,)\n",
            "<class 'numpy.ndarray'>\n",
            "<class 'numpy.ndarray'>\n"
          ],
          "name": "stdout"
        }
      ]
    },
    {
      "cell_type": "code",
      "metadata": {
        "id": "LrgVQ7dIez9L"
      },
      "source": [
        "class ScratchLogisticRegression():\r\n",
        "  def __init__(self, num_iter=5000, lr=0.0001, bias=True, verbose=False):\r\n",
        "    self.iter = num_iter\r\n",
        "    self.lr = lr\r\n",
        "    self.bias = bias\r\n",
        "    self.verbose = verbose\r\n",
        "    self.lamda=0.0001\r\n",
        "    # 損失を記録する配列を用意\r\n",
        "    self.loss =[]\r\n",
        "    #self.val_loss = np.zeros(self.iter)\r\n",
        "  def _hypothesis(self,X,w):\r\n",
        "    #仮定関数の実装\r\n",
        "    h=np.dot(X,self.w.T) #(j,n)×(n,1)=(j,1)\r\n",
        "    return h\r\n",
        "  def _sigmoid(self, h):\r\n",
        "    #シグモイド関数の実装\r\n",
        "    y_hat=1/(1+np.exp(-1*(h))) #(j,1)\r\n",
        "    return y_hat\r\n",
        "    \r\n",
        "  def _gradient_descent(self,X,y,w):\r\n",
        "    n=X.shape[0]\r\n",
        "    #yを行列に\r\n",
        "    y=y.reshape(y.shape[0],1)\r\n",
        "    for i in range(self.iter):\r\n",
        "      #仮定関数呼び出し\r\n",
        "      h=self._hypothesis(X,w)\r\n",
        "\r\n",
        "      #シグモイド関数呼び出し\r\n",
        "      y_hat=self._sigmoid(h)\r\n",
        "\r\n",
        "      #微分計算\r\n",
        "      dw=[]\r\n",
        "      for i in range(X.shape[1]):\r\n",
        "        if i==0:\r\n",
        "          X1=X[:,0].reshape(X.shape[0],1)\r\n",
        "          dw0=(1/n)*np.sum((y_hat-y)*X1,axis=0) #(j,1)×(j,1)→axis0:(1,1)\r\n",
        "          #w更新\r\n",
        "          self.w[0,i]=self.w[0,i]-self.lr*dw0\r\n",
        "          #print(dw0.shape)    \r\n",
        "        elif i>0:\r\n",
        "          X2=X[:,i].reshape(X.shape[0],1)\r\n",
        "          #print(X2.shape)\r\n",
        "          #print(i)\r\n",
        "          dw1=(1/n)*np.sum((y_hat-y)*X2,axis=0)+(self.lamda/n*w[0,i]) #(j,1)×(j,1)=(j,1)→(1,1)\r\n",
        "          #print(dw1.shape)\r\n",
        "          self.w[0,i]=self.w[0,i]-self.lr*dw1 #(1,n)\r\n",
        "\r\n",
        "      #目的関数\r\n",
        "      self.loss.append(-(1/n)*np.sum(y*np.log(y_hat)+(1-y)*np.log(1-y_hat),axis=0)+(self.lamda/2*n)*np.sum(w**2,axis=1)) #(j,1)×(j,1)=(j,1)→sumで(1,1)\r\n",
        "      #print(\"loss: \"+str(self.loss))\r\n",
        "    \r\n",
        "    return self.loss ,self.w\r\n",
        "\r\n",
        "  def fit(self, X, y):\r\n",
        "    #yのラベルの変換\r\n",
        "    y=np.array(list(map(lambda x :1 if x > np.median(y) else 0,y)))\r\n",
        "\r\n",
        "\r\n",
        "    #bias項の生成\r\n",
        "    if self.bias:\r\n",
        "      X=self._add_bias(X)\r\n",
        "    #wの初期生成\r\n",
        "    self.w=np.random.rand(1,X.shape[1]) #(1,n)\r\n",
        "    #print(\"W\"+str(self.w[0,0]))\r\n",
        "    #最急降下法実装\r\n",
        "    self.loss, self.w =self._gradient_descent(X,y,self.w)\r\n",
        "\r\n",
        "    plt.plot(self.loss)\r\n",
        "    plt.ylabel(\"Loss\")\r\n",
        "    plt.xlabel(\"Iteration\")\r\n",
        "    plt.show()\r\n",
        "    self.w=self.w[0,1:].reshape(1,self.w.shape[1]-1)\r\n",
        "    print(self.w.shape)\r\n",
        "    return self.w\r\n",
        "\r\n",
        "  def _add_bias(self,X):\r\n",
        "    ones_add=np.ones((X.shape[0],1))\r\n",
        "    X=np.concatenate([ones_add,X],axis=1)\r\n",
        "    return X\r\n",
        "\r\n",
        "  def predict(self, X):\r\n",
        "      #仮定関数呼び出し      \r\n",
        "      h=self._hypothesis(X,self.w)\r\n",
        "      #シグモイド関数呼び出し\r\n",
        "      y_hat=self._sigmoid(h)\r\n",
        "      label=[]\r\n",
        "      for i in y_hat:\r\n",
        "        if i<0.5:\r\n",
        "          label.append(0)\r\n",
        "        else:\r\n",
        "          label.append(1)\r\n",
        "      label2=np.array(label)\r\n",
        "      return label2\r\n",
        "    \r\n",
        "  def predict_proba(self, X):\r\n",
        "      #仮定関数呼び出し\r\n",
        "      h=self._hypothesis(X,self.w)\r\n",
        "      #シグモイド関数呼び出し\r\n",
        "      y_hat=self._sigmoid(h)\r\n",
        "      return y_hat"
      ],
      "execution_count": 354,
      "outputs": []
    },
    {
      "cell_type": "code",
      "metadata": {
        "colab": {
          "base_uri": "https://localhost:8080/",
          "height": 314
        },
        "id": "ZHEbboWJ0poR",
        "outputId": "341ac8e9-53fa-4c61-cd59-49f9ce9e8328"
      },
      "source": [
        "slr=ScratchLogisticRegression()\r\n",
        "slr.fit(x_train, y_train)"
      ],
      "execution_count": 355,
      "outputs": [
        {
          "output_type": "display_data",
          "data": {
            "image/png": "[encoded data removed]",
            "text/plain": [
              "<Figure size 432x288 with 1 Axes>"
            ]
          },
          "metadata": {
            "tags": [],
            "needs_background": "light"
          }
        },
        {
          "output_type": "stream",
          "text": [
            "(1, 4)\n"
          ],
          "name": "stdout"
        },
        {
          "output_type": "execute_result",
          "data": {
            "text/plain": [
              "array([[-0.48647102,  0.30153329, -0.42946751,  0.38805181]])"
            ]
          },
          "metadata": {
            "tags": []
          },
          "execution_count": 355
        }
      ]
    },
    {
      "cell_type": "code",
      "metadata": {
        "colab": {
          "base_uri": "https://localhost:8080/",
          "height": 314
        },
        "id": "pz0MKlNQtGQo",
        "outputId": "3b0944ed-2dba-43b4-a0fd-181848b801e8"
      },
      "source": [
        "#val\r\n",
        "slr2=ScratchLogisticRegression()\r\n",
        "slr2.fit(x_test, y_test)"
      ],
      "execution_count": 356,
      "outputs": [
        {
          "output_type": "display_data",
          "data": {
            "image/png": "[encoded data removed]",
            "text/plain": [
              "<Figure size 432x288 with 1 Axes>"
            ]
          },
          "metadata": {
            "tags": [],
            "needs_background": "light"
          }
        },
        {
          "output_type": "stream",
          "text": [
            "(1, 4)\n"
          ],
          "name": "stdout"
        },
        {
          "output_type": "execute_result",
          "data": {
            "text/plain": [
              "array([[-0.09588502, -0.30539371,  0.30002758, -0.0347101 ]])"
            ]
          },
          "metadata": {
            "tags": []
          },
          "execution_count": 356
        }
      ]
    },
    {
      "cell_type": "code",
      "metadata": {
        "colab": {
          "base_uri": "https://localhost:8080/",
          "height": 314
        },
        "id": "9PhOVnI6muIC",
        "outputId": "a79bfe3b-0f01-43f7-bb42-d5f3fcbded19"
      },
      "source": [
        "#グラフ用\r\n",
        "slr=ScratchLogisticRegression()\r\n",
        "slr.fit(x_train2, y_train2)"
      ],
      "execution_count": 336,
      "outputs": [
        {
          "output_type": "display_data",
          "data": {
            "image/png": "[encoded data removed]",
            "text/plain": [
              "<Figure size 432x288 with 1 Axes>"
            ]
          },
          "metadata": {
            "tags": [],
            "needs_background": "light"
          }
        },
        {
          "output_type": "stream",
          "text": [
            "(1, 2)\n"
          ],
          "name": "stdout"
        },
        {
          "output_type": "execute_result",
          "data": {
            "text/plain": [
              "array([[-1.59444748,  3.40928523]])"
            ]
          },
          "metadata": {
            "tags": []
          },
          "execution_count": 336
        }
      ]
    },
    {
      "cell_type": "markdown",
      "metadata": {
        "id": "xXWTyPL2Q5_p"
      },
      "source": [
        "問題5 学習と推定"
      ]
    },
    {
      "cell_type": "code",
      "metadata": {
        "colab": {
          "base_uri": "https://localhost:8080/"
        },
        "id": "-qlXSZpGA1Mr",
        "outputId": "baf3e30b-af09-4f83-de6e-2eb0fe1eb8a5"
      },
      "source": [
        "y_pred_proba=slr.predict_proba(x_test2)\r\n",
        "print(y_pred_proba)"
      ],
      "execution_count": 338,
      "outputs": [
        {
          "output_type": "stream",
          "text": [
            "[[0.07464865]\n",
            " [0.99523102]\n",
            " [0.04470938]\n",
            " [0.99807986]\n",
            " [0.98876588]\n",
            " [0.96368046]\n",
            " [0.01509851]\n",
            " [0.9981625 ]\n",
            " [0.99512527]\n",
            " [0.99467841]\n",
            " [0.99236751]\n",
            " [0.98774324]\n",
            " [0.99690571]\n",
            " [0.04286411]\n",
            " [0.05425337]\n",
            " [0.09988603]\n",
            " [0.01935664]\n",
            " [0.23582515]\n",
            " [0.01804881]\n",
            " [0.09599233]\n",
            " [0.07464865]\n",
            " [0.98321688]\n",
            " [0.09792193]\n",
            " [0.9803727 ]\n",
            " [0.0531336 ]]\n"
          ],
          "name": "stdout"
        }
      ]
    },
    {
      "cell_type": "code",
      "metadata": {
        "colab": {
          "base_uri": "https://localhost:8080/"
        },
        "id": "IxoIZ75FRAqe",
        "outputId": "eeb2760a-25b3-4c32-f08d-97440b27bf04"
      },
      "source": [
        "y_pred1=slr.predict(x_test2)\r\n",
        "print(y_pred1)"
      ],
      "execution_count": 339,
      "outputs": [
        {
          "output_type": "stream",
          "text": [
            "[0 1 0 1 1 1 0 1 1 1 1 1 1 0 0 0 0 0 0 0 0 1 0 1 0]\n"
          ],
          "name": "stdout"
        }
      ]
    },
    {
      "cell_type": "code",
      "metadata": {
        "colab": {
          "base_uri": "https://localhost:8080/"
        },
        "id": "jEYF2PoTQ_nE",
        "outputId": "71bbe7ce-afcf-48f5-f200-5fa1f1a490bf"
      },
      "source": [
        "#SC-learn\r\n",
        "lr = LogisticRegression()\r\n",
        "lr.fit(x_train, y_train)\r\n",
        "y_pred2=lr.predict(x_test) \r\n",
        "print(y_pred2)"
      ],
      "execution_count": 298,
      "outputs": [
        {
          "output_type": "stream",
          "text": [
            "[0 1 0 1 1 1 0 1 1 1 1 1 1 0 0 0 0 0 0 0 0 1 0 1 0]\n"
          ],
          "name": "stdout"
        }
      ]
    },
    {
      "cell_type": "code",
      "metadata": {
        "colab": {
          "base_uri": "https://localhost:8080/"
        },
        "id": "4GqbaLpMk6KV",
        "outputId": "ac2e9f6d-ba5f-4cc3-dc3f-f40f2ad0e279"
      },
      "source": [
        "#SC-learn グラフ用\r\n",
        "lr = LogisticRegression()\r\n",
        "lr.fit(x_train2, y_train2)\r\n",
        "y_pred3=lr.predict(x_test2) \r\n",
        "print(y_pred3)"
      ],
      "execution_count": 330,
      "outputs": [
        {
          "output_type": "stream",
          "text": [
            "[0 1 0 1 1 1 0 1 1 1 1 1 1 0 0 0 0 0 0 0 0 1 0 1 0]\n"
          ],
          "name": "stdout"
        }
      ]
    },
    {
      "cell_type": "code",
      "metadata": {
        "colab": {
          "base_uri": "https://localhost:8080/"
        },
        "id": "E3NA-xgERnMj",
        "outputId": "50525c06-c347-4dbe-d542-71b572aba800"
      },
      "source": [
        "#Accuracy\r\n",
        "from sklearn.metrics import accuracy_score\r\n",
        "#スクラッチ\r\n",
        "print(accuracy_score(y_test, y_pred1))\r\n",
        "#SC-learn\r\n",
        "print(accuracy_score(y_test, y_pred2))"
      ],
      "execution_count": 299,
      "outputs": [
        {
          "output_type": "stream",
          "text": [
            "1.0\n",
            "1.0\n"
          ],
          "name": "stdout"
        }
      ]
    },
    {
      "cell_type": "code",
      "metadata": {
        "colab": {
          "base_uri": "https://localhost:8080/"
        },
        "id": "d0gZYbZMSanZ",
        "outputId": "868ff76e-f3e8-4013-fe62-2cb81997dca6"
      },
      "source": [
        "#Prececion\r\n",
        "from sklearn.metrics import precision_score\r\n",
        "print(precision_score(y_test, y_pred1))\r\n",
        "print(precision_score(y_test, y_pred2))\r\n"
      ],
      "execution_count": 300,
      "outputs": [
        {
          "output_type": "stream",
          "text": [
            "1.0\n",
            "1.0\n"
          ],
          "name": "stdout"
        }
      ]
    },
    {
      "cell_type": "code",
      "metadata": {
        "colab": {
          "base_uri": "https://localhost:8080/"
        },
        "id": "eqybErgdSJJt",
        "outputId": "0f36e754-4063-4649-92c1-e9f790263f39"
      },
      "source": [
        "#recall\r\n",
        "from sklearn.metrics import recall_score\r\n",
        "print(recall_score(y_test, y_pred1))\r\n",
        "print(recall_score(y_test, y_pred2))"
      ],
      "execution_count": 301,
      "outputs": [
        {
          "output_type": "stream",
          "text": [
            "1.0\n",
            "1.0\n"
          ],
          "name": "stdout"
        }
      ]
    },
    {
      "cell_type": "markdown",
      "metadata": {
        "id": "aQZapU3QS8SF"
      },
      "source": [
        "問題6 学習曲線のプロット"
      ]
    },
    {
      "cell_type": "code",
      "metadata": {
        "id": "3YgljUZGS4HU"
      },
      "source": [
        "#上記に掲載"
      ],
      "execution_count": 302,
      "outputs": []
    },
    {
      "cell_type": "markdown",
      "metadata": {
        "id": "uihJLAt1TGdl"
      },
      "source": [
        "問題7 決定領域の可視化"
      ]
    },
    {
      "cell_type": "code",
      "metadata": {
        "id": "ISnQB08tTEB4"
      },
      "source": [
        "import matplotlib.pyplot as plt\r\n",
        "from matplotlib.colors import ListedColormap\r\n",
        "import matplotlib.patches as mpatches\r\n",
        "\r\n",
        "def decision_region(X, y, model, step=0.01, title='decision region', xlabel='xlabel', ylabel='ylabel', target_names=['versicolor', 'virginica']):\r\n",
        "    \"\"\"\r\n",
        "    2値分類を2次元の特徴量で学習したモデルの決定領域を描く。\r\n",
        "    背景の色が学習したモデルによる推定値から描画される。\r\n",
        "    散布図の点は訓練データまたは検証データである。\r\n",
        "    Parameters\r\n",
        "    ----------------\r\n",
        "    X : ndarray, shape(n_samples, 2)\r\n",
        "        特徴量\r\n",
        "    y : ndarray, shape(n_samples,)\r\n",
        "        ラベル\r\n",
        "    model : object\r\n",
        "        学習したモデルのインスンタスを入れる\r\n",
        "    step : float, (default : 0.1)\r\n",
        "        推定値を計算する間隔を設定する\r\n",
        "    title : str\r\n",
        "        グラフのタイトルの文章を与える\r\n",
        "    xlabel, ylabel : str\r\n",
        "        軸ラベルの文章を与える\r\n",
        "    target_names= : list of str\r\n",
        "        凡例の一覧を与える\r\n",
        "    \"\"\"\r\n",
        "    # setting\r\n",
        "    scatter_color = ['red', 'blue']\r\n",
        "    contourf_color = ['pink', 'skyblue']\r\n",
        "    n_class = 2\r\n",
        "    # pred\r\n",
        "    mesh_f0, mesh_f1  = np.meshgrid(np.arange(np.min(X[:,0])-0.5, np.max(X[:,0])+0.5, step), np.arange(np.min(X[:,1])-0.5, np.max(X[:,1])+0.5, step))\r\n",
        "    mesh = np.c_[np.ravel(mesh_f0),np.ravel(mesh_f1)]\r\n",
        "    print(mesh.shape)\r\n",
        "    y_pred = model.predict(mesh).reshape(mesh_f0.shape)\r\n",
        "    # plot\r\n",
        "    plt.title(title)\r\n",
        "    plt.xlabel(xlabel)\r\n",
        "    plt.ylabel(ylabel)\r\n",
        "    plt.contourf(mesh_f0, mesh_f1, y_pred, n_class-1, cmap=ListedColormap(contourf_color))\r\n",
        "    plt.contour(mesh_f0, mesh_f1, y_pred, n_class-1, colors='y', linewidths=3, alpha=0.5)\r\n",
        "    for i, target in enumerate(set(y)):\r\n",
        "        plt.scatter(X[y==target][:, 0], X[y==target][:, 1], s=80, color=scatter_color[i], label=target_names[i], marker='o')\r\n",
        "    patches = [mpatches.Patch(color=scatter_color[i], label=target_names[i]) for i in range(n_class)]\r\n",
        "    plt.legend(handles=patches)\r\n",
        "    plt.legend()\r\n",
        "    plt.show()\r\n",
        "\r\n"
      ],
      "execution_count": 340,
      "outputs": []
    },
    {
      "cell_type": "code",
      "metadata": {
        "colab": {
          "base_uri": "https://localhost:8080/",
          "height": 313
        },
        "id": "RyrIvPuxTcwB",
        "outputId": "200857bd-9614-4996-9e2c-52029b492150"
      },
      "source": [
        "#y_test2=y_test2.reshape(y_test2.shape[0],1)\r\n",
        "decision_region(x_test2,y_test2, model=slr)"
      ],
      "execution_count": 341,
      "outputs": [
        {
          "output_type": "stream",
          "text": [
            "(160270, 2)\n"
          ],
          "name": "stdout"
        },
        {
          "output_type": "display_data",
          "data": {
            "image/png": "[encoded data removed]",
            "text/plain": [
              "<Figure size 432x288 with 1 Axes>"
            ]
          },
          "metadata": {
            "tags": [],
            "needs_background": "light"
          }
        }
      ]
    },
    {
      "cell_type": "code",
      "metadata": {
        "id": "QLWY7fR-TjID"
      },
      "source": [
        ""
      ],
      "execution_count": null,
      "outputs": []
    }
  ]
}