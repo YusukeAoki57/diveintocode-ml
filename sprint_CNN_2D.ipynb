{
  "nbformat": 4,
  "nbformat_minor": 0,
  "metadata": {
    "colab": {
      "name": "sprint_CNN_2D.ipynb",
      "provenance": [],
      "collapsed_sections": [],
      "authorship_tag": "ABX9TyP4ZR+DMJdjPGjevD+HGBwj",
      "include_colab_link": true
    },
    "kernelspec": {
      "name": "python3",
      "display_name": "Python 3"
    }
  },
  "cells": [
    {
      "cell_type": "markdown",
      "metadata": {
        "id": "view-in-github",
        "colab_type": "text"
      },
      "source": [
        "<a href=\"https://colab.research.google.com/github/YusukeAoki57/diveintocode-ml/blob/master/sprint_CNN_2D.ipynb\" target=\"_parent\"><img src=\"https://colab.research.google.com/assets/colab-badge.svg\" alt=\"Open In Colab\"/></a>"
      ]
    },
    {
      "cell_type": "code",
      "metadata": {
        "id": "-a6PxsplYSlG"
      },
      "source": [
        "import numpy as np\r\n",
        "import matplotlib.pyplot as plt"
      ],
      "execution_count": 1,
      "outputs": []
    },
    {
      "cell_type": "code",
      "metadata": {
        "id": "8a-JHfC6YuvG",
        "colab": {
          "base_uri": "https://localhost:8080/"
        },
        "outputId": "1cbb5e45-a277-4b9b-c650-8b4fc04bf019"
      },
      "source": [
        "from keras.datasets import mnist\r\n",
        "(X_train, y_train), (X_test, y_test) = mnist.load_data()"
      ],
      "execution_count": 2,
      "outputs": [
        {
          "output_type": "stream",
          "text": [
            "Downloading data from https://storage.googleapis.com/tensorflow/tf-keras-datasets/mnist.npz\n",
            "11493376/11490434 [==============================] - 0s 0us/step\n"
          ],
          "name": "stdout"
        }
      ]
    },
    {
      "cell_type": "code",
      "metadata": {
        "colab": {
          "base_uri": "https://localhost:8080/"
        },
        "id": "K8k0ZejwhjZV",
        "outputId": "12995ca8-f3fa-4e9d-b948-c8dbf53cf42e"
      },
      "source": [
        "X_train=X_train.reshape(-1,1,X_train.shape[1],X_train.shape[2])\r\n",
        "X_test=X_test.reshape(-1,1,X_test.shape[1],X_test.shape[2])\r\n",
        "X_test.shape"
      ],
      "execution_count": 3,
      "outputs": [
        {
          "output_type": "execute_result",
          "data": {
            "text/plain": [
              "(10000, 1, 28, 28)"
            ]
          },
          "metadata": {
            "tags": []
          },
          "execution_count": 3
        }
      ]
    },
    {
      "cell_type": "code",
      "metadata": {
        "id": "oOphYO0uerP5"
      },
      "source": [
        "class GetMiniBatch:\r\n",
        "    \"\"\"\r\n",
        "    ミニバッチを取得するイテレータ\r\n",
        "    Parameters\r\n",
        "    ----------\r\n",
        "    X : 次の形のndarray, shape (n_samples, n_features)\r\n",
        "      訓練データ\r\n",
        "    y : 次の形のndarray, shape (n_samples, 1)\r\n",
        "      正解値\r\n",
        "    batch_size : int\r\n",
        "      バッチサイズ\r\n",
        "    seed : int\r\n",
        "      NumPyの乱数のシード\r\n",
        "    \"\"\"\r\n",
        "    def __init__(self, X, y, batch_size = 20, seed=0):\r\n",
        "        self.batch_size = batch_size\r\n",
        "        np.random.seed(seed)\r\n",
        "        shuffle_index = np.random.permutation(np.arange(X.shape[0]))\r\n",
        "        self._X = X[shuffle_index]\r\n",
        "        self._y = y[shuffle_index]\r\n",
        "        self._stop = np.ceil(X.shape[0]/self.batch_size).astype(np.int)\r\n",
        "    def __len__(self):\r\n",
        "        return self._stop\r\n",
        "    def __getitem__(self,item):\r\n",
        "        p0 = item*self.batch_size\r\n",
        "        p1 = item*self.batch_size + self.batch_size\r\n",
        "        return self._X[p0:p1], self._y[p0:p1]        \r\n",
        "    def __iter__(self):\r\n",
        "        self._counter = 0\r\n",
        "        return self\r\n",
        "    def __next__(self):\r\n",
        "        if self._counter >= self._stop:\r\n",
        "            raise StopIteration()\r\n",
        "        p0 = self._counter*self.batch_size\r\n",
        "        p1 = self._counter*self.batch_size + self.batch_size\r\n",
        "        self._counter += 1\r\n",
        "        return self._X[p0:p1], self._y[p0:p1]"
      ],
      "execution_count": 4,
      "outputs": []
    },
    {
      "cell_type": "code",
      "metadata": {
        "id": "4R9f-ZEQYu29"
      },
      "source": [
        "#問題1\r\n",
        "class Conv2d:\r\n",
        "    def __init__(self,W,B,optimizer,filter_size=3,stride=1,pading=0,filter_num=30):\r\n",
        "      self.optimizer = optimizer\r\n",
        "      self.h_filter_size=filter_size\r\n",
        "      self.w_filter_size=filter_size\r\n",
        "      self.filter_num=filter_num\r\n",
        "      self.W = W\r\n",
        "      self.B = B\r\n",
        "      self.stride_h=stride\r\n",
        "      self.stride_w=stride\r\n",
        "      self.pading_h=pading\r\n",
        "      self.pading_w=pading\r\n",
        "      \r\n",
        "\r\n",
        "    #forward  \r\n",
        "    def forward(self,X):\r\n",
        "      n_h_out,n_w_out=self._n_out(X)\r\n",
        "      #print(\"nh\"+str(n_h_out))\r\n",
        "      #print(X.shape[1])\r\n",
        "\r\n",
        "      a=np.zeros((X.shape[0],self.filter_num,n_h_out,n_w_out)) #aの初期化\r\n",
        "      #print(a[1])\r\n",
        "      for b in range(X.shape[0]):#バッチサイズ\r\n",
        "        for m in range(self.filter_num):#出力チャネル数 \r\n",
        "          for i in range(n_h_out): #出力後の高さのインデックス数\r\n",
        "            for j in range(n_w_out):#出力後の幅のインデックス数\r\n",
        "              for s in range(self.h_filter_size): #高さ方向のフィルタサイズ\r\n",
        "                for t in range(self.w_filter_size):#幅方向のフィルタサイズ\r\n",
        "                  a[b][m][i][j]=a[b][m][i][j]+X[b][0][i+s][j+t]*self.W[s][t][0][m]\r\n",
        "                \r\n",
        "          a[b][m]+self.B[m]\r\n",
        "      return a\r\n",
        "    #backward\r\n",
        "    #dW\r\n",
        "    def backward(self,dA,X):\r\n",
        "      #print(dA.shape)\r\n",
        "      #print(X.shape)\r\n",
        "      n_h_out,n_w_out=self._n_out(dA)\r\n",
        "      dW=np.zeros((self.h_filter_size,self.w_filter_size,X.shape[0],self.filter_num))\r\n",
        "      for b in range(X.shape[0]):#バッチサイズ\r\n",
        "        for m in range(self.filter_num):#出力チャネル数 \r\n",
        "          for i in range(n_h_out): #出力後の高さのインデックス数\r\n",
        "            for j in range(n_w_out):#出力後の幅のインデックス数\r\n",
        "              for k in range(X.shape[1]): #入力層のチャネル数\r\n",
        "                for s in range(self.h_filter_size): #高さ方向のフィルタサイズ\r\n",
        "                  for t in range(self.w_filter_size):#幅方向のフィルタサイズ\r\n",
        "                    dW[s][t][k][m]=dW[s][t][k][m]+dA[b][m][i][j]*X[b,k,i+s,j+t] \r\n",
        "      \r\n",
        "      #bias  \r\n",
        "      dB=np.zeros((self.filter_num)) \r\n",
        "      for b in range(X.shape[0]):#バッチサイズ  \r\n",
        "        for m in range(self.filter_num):#出力チャネル数 \r\n",
        "          for i in range(n_h_out): #出力後の高さのインデックス数\r\n",
        "            for j in range(n_w_out):#出力後の幅のインデックス数\r\n",
        "              dB[m]=dB[m]+dA[b][m][i][j]\r\n",
        "        \r\n",
        "      #dX\r\n",
        "      dX=np.zeros((X.shape[0],n_h_out,n_w_out,X.shape[1]))\r\n",
        "      for b in range(X.shape[0]):#バッチサイズ\r\n",
        "        for m in range(self.filter_num):#出力チャネル数 \r\n",
        "          for i in range(n_h_out): #出力後の高さのインデックス数\r\n",
        "            for j in range(n_w_out):#出力後の幅のインデックス数\r\n",
        "              for k in range(X.shape[1]): #入力層のチャネル数\r\n",
        "                for s in range(self.h_filter_size): #高さ方向のフィルタサイズ\r\n",
        "                  for t in range(self.w_filter_size):#幅方向のフィルタサイズ\r\n",
        "                    dX[b][i][j][k]=dX[b][i][j][k]+dA[b][m][i-s][j-t]*self.W[s][t][k][m]\r\n",
        "\r\n",
        "      self.W,self.B=self.optimizer.update(self.W,self.B,dW,dB)\r\n",
        "      return self.W,self.B,dX\r\n",
        "\r\n",
        "      \r\n",
        "    #問題2\r\n",
        "    def _n_out(self,X):\r\n",
        "      n_h_out=(X.shape[2]+2*self.pading_h-self.h_filter_size)/self.stride_h+1\r\n",
        "      n_w_out=(X.shape[3]+2*self.pading_w-self.w_filter_size)/self.stride_w+1\r\n",
        "      return int(n_h_out),int(n_w_out)\r\n"
      ],
      "execution_count": 5,
      "outputs": []
    },
    {
      "cell_type": "code",
      "metadata": {
        "id": "82scB3Zw4_MR"
      },
      "source": [
        ""
      ],
      "execution_count": 50,
      "outputs": []
    },
    {
      "cell_type": "code",
      "metadata": {
        "id": "MOBX1zz07Lat"
      },
      "source": [
        ""
      ],
      "execution_count": 61,
      "outputs": []
    },
    {
      "cell_type": "code",
      "metadata": {
        "colab": {
          "base_uri": "https://localhost:8080/",
          "height": 382
        },
        "id": "IvdEWY6xKcxV",
        "outputId": "e9f19450-967a-4fff-abd9-ca45dfe281a8"
      },
      "source": [
        "\r\n"
      ],
      "execution_count": 62,
      "outputs": [
        {
          "output_type": "stream",
          "text": [
            "(1, 1, 4, 4)\n",
            "(3, 3, 1, 2)\n"
          ],
          "name": "stdout"
        },
        {
          "output_type": "error",
          "ename": "IndexError",
          "evalue": "ignored",
          "traceback": [
            "\u001b[0;31m---------------------------------------------------------------------------\u001b[0m",
            "\u001b[0;31mIndexError\u001b[0m                                Traceback (most recent call last)",
            "\u001b[0;32m<ipython-input-62-6cda2691cf64>\u001b[0m in \u001b[0;36m<module>\u001b[0;34m()\u001b[0m\n\u001b[1;32m      3\u001b[0m \u001b[0mprint\u001b[0m\u001b[0;34m(\u001b[0m\u001b[0mw\u001b[0m\u001b[0;34m.\u001b[0m\u001b[0mshape\u001b[0m\u001b[0;34m)\u001b[0m\u001b[0;34m\u001b[0m\u001b[0;34m\u001b[0m\u001b[0m\n\u001b[1;32m      4\u001b[0m \u001b[0mB\u001b[0m\u001b[0;34m=\u001b[0m\u001b[0;36m0.01\u001b[0m \u001b[0;34m*\u001b[0m \u001b[0mnp\u001b[0m\u001b[0;34m.\u001b[0m\u001b[0mrandom\u001b[0m\u001b[0;34m.\u001b[0m\u001b[0mrandn\u001b[0m\u001b[0;34m(\u001b[0m\u001b[0;36m2\u001b[0m\u001b[0;34m)\u001b[0m\u001b[0;34m\u001b[0m\u001b[0;34m\u001b[0m\u001b[0m\n\u001b[0;32m----> 5\u001b[0;31m \u001b[0mc\u001b[0m\u001b[0;34m=\u001b[0m\u001b[0mConv2d_test\u001b[0m\u001b[0;34m(\u001b[0m\u001b[0mw\u001b[0m\u001b[0;34m,\u001b[0m\u001b[0mB\u001b[0m\u001b[0;34m,\u001b[0m\u001b[0moptimizer\u001b[0m\u001b[0;34m=\u001b[0m\u001b[0;34m'SGD'\u001b[0m\u001b[0;34m)\u001b[0m\u001b[0;34m.\u001b[0m\u001b[0mforward\u001b[0m\u001b[0;34m(\u001b[0m\u001b[0mx\u001b[0m\u001b[0;34m)\u001b[0m\u001b[0;34m\u001b[0m\u001b[0;34m\u001b[0m\u001b[0m\n\u001b[0m\u001b[1;32m      6\u001b[0m \u001b[0mprint\u001b[0m\u001b[0;34m(\u001b[0m\u001b[0mc\u001b[0m\u001b[0;34m)\u001b[0m\u001b[0;34m\u001b[0m\u001b[0;34m\u001b[0m\u001b[0m\n",
            "\u001b[0;32m<ipython-input-61-190f83386555>\u001b[0m in \u001b[0;36mforward\u001b[0;34m(self, X)\u001b[0m\n\u001b[1;32m     28\u001b[0m               \u001b[0;32mfor\u001b[0m \u001b[0ms\u001b[0m \u001b[0;32min\u001b[0m \u001b[0mrange\u001b[0m\u001b[0;34m(\u001b[0m\u001b[0mself\u001b[0m\u001b[0;34m.\u001b[0m\u001b[0mh_filter_size\u001b[0m\u001b[0;34m)\u001b[0m\u001b[0;34m:\u001b[0m \u001b[0;31m#高さ方向のフィルタサイズ\u001b[0m\u001b[0;34m\u001b[0m\u001b[0;34m\u001b[0m\u001b[0m\n\u001b[1;32m     29\u001b[0m                 \u001b[0;32mfor\u001b[0m \u001b[0mt\u001b[0m \u001b[0;32min\u001b[0m \u001b[0mrange\u001b[0m\u001b[0;34m(\u001b[0m\u001b[0mself\u001b[0m\u001b[0;34m.\u001b[0m\u001b[0mw_filter_size\u001b[0m\u001b[0;34m)\u001b[0m\u001b[0;34m:\u001b[0m\u001b[0;31m#幅方向のフィルタサイズ\u001b[0m\u001b[0;34m\u001b[0m\u001b[0;34m\u001b[0m\u001b[0m\n\u001b[0;32m---> 30\u001b[0;31m                   \u001b[0ma\u001b[0m\u001b[0;34m[\u001b[0m\u001b[0mb\u001b[0m\u001b[0;34m]\u001b[0m\u001b[0;34m[\u001b[0m\u001b[0mm\u001b[0m\u001b[0;34m]\u001b[0m\u001b[0;34m[\u001b[0m\u001b[0mi\u001b[0m\u001b[0;34m]\u001b[0m\u001b[0;34m[\u001b[0m\u001b[0mj\u001b[0m\u001b[0;34m]\u001b[0m\u001b[0;34m=\u001b[0m\u001b[0ma\u001b[0m\u001b[0;34m[\u001b[0m\u001b[0mb\u001b[0m\u001b[0;34m]\u001b[0m\u001b[0;34m[\u001b[0m\u001b[0mm\u001b[0m\u001b[0;34m]\u001b[0m\u001b[0;34m[\u001b[0m\u001b[0mi\u001b[0m\u001b[0;34m]\u001b[0m\u001b[0;34m[\u001b[0m\u001b[0mj\u001b[0m\u001b[0;34m]\u001b[0m\u001b[0;34m+\u001b[0m\u001b[0mX\u001b[0m\u001b[0;34m[\u001b[0m\u001b[0mb\u001b[0m\u001b[0;34m]\u001b[0m\u001b[0;34m[\u001b[0m\u001b[0;36m0\u001b[0m\u001b[0;34m]\u001b[0m\u001b[0;34m[\u001b[0m\u001b[0mi\u001b[0m\u001b[0;34m+\u001b[0m\u001b[0ms\u001b[0m\u001b[0;34m]\u001b[0m\u001b[0;34m[\u001b[0m\u001b[0mj\u001b[0m\u001b[0;34m+\u001b[0m\u001b[0mt\u001b[0m\u001b[0;34m]\u001b[0m\u001b[0;34m*\u001b[0m\u001b[0mself\u001b[0m\u001b[0;34m.\u001b[0m\u001b[0mW\u001b[0m\u001b[0;34m[\u001b[0m\u001b[0ms\u001b[0m\u001b[0;34m]\u001b[0m\u001b[0;34m[\u001b[0m\u001b[0mt\u001b[0m\u001b[0;34m]\u001b[0m\u001b[0;34m[\u001b[0m\u001b[0;36m0\u001b[0m\u001b[0;34m]\u001b[0m\u001b[0;34m[\u001b[0m\u001b[0mm\u001b[0m\u001b[0;34m]\u001b[0m\u001b[0;34m\u001b[0m\u001b[0;34m\u001b[0m\u001b[0m\n\u001b[0m\u001b[1;32m     31\u001b[0m \u001b[0;34m\u001b[0m\u001b[0m\n\u001b[1;32m     32\u001b[0m       \u001b[0;32mreturn\u001b[0m \u001b[0ma\u001b[0m\u001b[0;34m\u001b[0m\u001b[0;34m\u001b[0m\u001b[0m\n",
            "\u001b[0;31mIndexError\u001b[0m: index 2 is out of bounds for axis 0 with size 2"
          ]
        }
      ]
    },
    {
      "cell_type": "code",
      "metadata": {
        "id": "21PaQInlp5ld"
      },
      "source": [
        "#問題3\r\n",
        "class MaxPool2D:\r\n",
        "  def __init__(self,optimizer,batch_size, A ,filter_size=3,stride=1,pading=0,filter_num=30):\r\n",
        "    self.optimizer = optimizer\r\n",
        "    self.h_filter_size=filter_size\r\n",
        "    self.w_filter_size=filter_size\r\n",
        "    self.filter_num=filter_num\r\n",
        "    self.stride_h=stride\r\n",
        "    self.stride_w=stride\r\n",
        "    self.pading_h=pading\r\n",
        "    self.pading_w=pading\r\n",
        "    self.batch_size=batch_size\r\n",
        "    self.H=np.zeros((A.shape[0],A.shape[1],A.shape[2],A.shape[3]))\r\n",
        "  def forward(self, A):\r\n",
        "    n_h_out,n_w_out=self._n_out(A)\r\n",
        "    pool_a=np.zeros((A.shape[0],self.filter_num,n_h_out,n_w_out)) #pool値の初期化\r\n",
        "    index1=None\r\n",
        "    index2=None\r\n",
        "    index3=None\r\n",
        "    index4=None\r\n",
        "    \r\n",
        "    for b in range(A.shape[0]):#バッチサイズ\r\n",
        "      for m in range(self.filter_num):#出力チャネル数\r\n",
        "        for i in range(n_h_out):#高さの出力サイズ\r\n",
        "          for j in range(n_w_out):#幅の出力サイズ\r\n",
        "            for c1 in range(self.h_filter_size):#高さ方向のチェック\r\n",
        "              for c2 in range(self.w_filter_size):#幅方向のチェック\r\n",
        "                if A[b][m][i][j]>=A[b][m][i+c1][j+c2]:\r\n",
        "                  max_a=A[b][m][i][j]\r\n",
        "                  index1=b\r\n",
        "                  index2=m\r\n",
        "                  index3=i\r\n",
        "                  index4=j\r\n",
        "                elif A[b][m][i][j]<A[b][m][i+c1][j+c2]:\r\n",
        "                  max_a=A[b][m][i+c1][j+c2]                    \r\n",
        "                  index1=b\r\n",
        "                  index2=m\r\n",
        "                  index3=i\r\n",
        "                  index4=j\r\n",
        "            self.H[index1][index2][index3][index4]='555'\r\n",
        "            pool_a[b][m][i][j]=max_a\r\n",
        "    return pool_a\r\n",
        "\r\n",
        "  def backward(self,d,A):\r\n",
        "    n_h_out,n_w_out=self._n_out(A)\r\n",
        "    A=np.zeros((A.shape[0],A.shape[1],A.shape[2],A.shape[3]))\r\n",
        "    for b in range(A.shape[0]):#バッチサイズ\r\n",
        "      for m in range(self.filter_num):#出力チャネル数\r\n",
        "        for i in range(d.shape[2]):#高さの出力サイズ\r\n",
        "          for j in range(d.shape[3]):#幅の出力サイズ\r\n",
        "            if self.H[b][m][i][j]=='555':\r\n",
        "              A[b][m][i][j]=d[b][m][i][j] \r\n",
        "    return A\r\n",
        "\r\n",
        "  def _n_out(self,X):\r\n",
        "    n_h_out=(X.shape[2]+2*self.pading_h-self.h_filter_size)/self.stride_h+1\r\n",
        "    n_w_out=(X.shape[3]+2*self.pading_w-self.w_filter_size)/self.stride_w+1\r\n",
        "    return int(n_h_out),int(n_w_out)     \r\n"
      ],
      "execution_count": 31,
      "outputs": []
    },
    {
      "cell_type": "code",
      "metadata": {
        "id": "r_Q0HV7QccWH"
      },
      "source": [
        "#問題5\r\n",
        "class Flatten:\r\n",
        "   def __init__(self,X):\r\n",
        "       self.s0=X.shape[0]\r\n",
        "       self.s1=X.shape[1]\r\n",
        "       self.s2=X.shape[2]\r\n",
        "       self.s3=X.shape[3]\r\n",
        "   def forward(self,X):\r\n",
        "       A=X.flatten()\r\n",
        "       s=self.s1*self.s2*self.s3\r\n",
        "       A=A.reshape(self.s0,s)\r\n",
        "       return A,s\r\n",
        "   def backward(self,X):\r\n",
        "       X=X.reshape(self.s0,self.s1,self.s2,self.s3)\r\n",
        "       return X"
      ],
      "execution_count": 8,
      "outputs": []
    },
    {
      "cell_type": "code",
      "metadata": {
        "id": "28hTui8TBDHZ"
      },
      "source": [
        "#問題6\r\n",
        "\r\n",
        "class ScratchDeepCNNClassifier:\r\n",
        "    def __init__(self, batch_size = 20,init='Simple',ac='Tanh',opt='SGD', seed=0,filter_num=30):\r\n",
        "        self.batch_size=batch_size\r\n",
        "        self.n_features=784\r\n",
        "        self.n_nodes1=400\r\n",
        "        self.n_nodes2=200\r\n",
        "        self.n_output=10\r\n",
        "        self.sigma=0.1\r\n",
        "        self.init=init\r\n",
        "        self.ac=ac\r\n",
        "        self.opt=opt\r\n",
        "        self.W1=None\r\n",
        "        self.W2=None\r\n",
        "        self.W3=None\r\n",
        "        self.B1=None\r\n",
        "        self.B2=None\r\n",
        "        self.B3=None\r\n",
        "        self.fanction=None\r\n",
        "        self.optimizer=None\r\n",
        "        self.filter_size=3\r\n",
        "        self.pading=0\r\n",
        "        self.stride=1\r\n",
        "        self.filter_num=filter_num\r\n",
        "\r\n",
        "    def _initializer(self,X):\r\n",
        "      if self.init=='Simple':\r\n",
        "        self.W1 = self.sigma * np.random.randn(self.filter_size,self.filter_size,X.shape[1],self.filter_num) #conv2d\r\n",
        "        #faltten   \r\n",
        "        \r\n",
        "        self.W3=SimpleInitializer(self.sigma).W(self.n_nodes2,self.n_output) #(200,10)\r\n",
        "        self.B1=self.sigma * np.random.randn(self.filter_num)\r\n",
        "        self.B2=SimpleInitializer(self.sigma).B(self.n_nodes2)\r\n",
        "        self.B3=SimpleInitializer(self.sigma).B(self.n_output)\r\n",
        "        \r\n",
        "      elif self.init=='Xavier':\r\n",
        "        self.sigma = math.sqrt(1 / self.filter_size)\r\n",
        "        self.W1 = self.sigma * np.random.randn(self.filter_size,self.filter_size,self.filter_num,X.shape[1])\r\n",
        "        self.W2=He().W(self.n_nodes1,self.n_nodes2)\r\n",
        "        self.W3=He().W(self.n_nodes2,self.n_output)\r\n",
        "        self.sigma = math.sqrt(1 / self.filter_size)\r\n",
        "        self.B1 = self.sigma * np.random.randn(self.filter_num)\r\n",
        "        self.B2=He().B(self.n_nodes1,self.n_nodes2)\r\n",
        "        self.B3=He().B(self.n_nodes2,self.n_output)\r\n",
        "      \r\n",
        "      elif self.init=='He':\r\n",
        "        self.n_nodes1=self._n_out(X)\r\n",
        "        self.sigma = math.sqrt(2 / self.filter_size)\r\n",
        "        self.W1 = self.sigma * np.random.randn(self.filter_size,self.filter_size,self.filter_num,X.shape[1])\r\n",
        "        self.W2=He().W(self.n_nodes1,self.n_nodes2)\r\n",
        "        self.W3=He().W(self.n_nodes2,self.n_output)\r\n",
        "        self.sigma = math.sqrt(2 / self.filter_size)\r\n",
        "        self.B1 = self.sigma * np.random.randn(self.filter_num)\r\n",
        "        self.B2=He().B(self.n_nodes1,self.n_nodes2)\r\n",
        "        self.B3=He().B(self.n_nodes2,self.n_output)\r\n",
        "\r\n",
        "\r\n",
        "    def fit(self, X,y):\r\n",
        "        \r\n",
        "        if self.ac=='Tanh':\r\n",
        "          self.fanction=Tanh()\r\n",
        "        elif self.ac=='ReLU':\r\n",
        "          self.fanction=ReLU()\r\n",
        "        else:\r\n",
        "          self.fanction=Sigmoid()\r\n",
        "\r\n",
        "        if self.opt=='SGD':\r\n",
        "          self.optimizer=SGD()\r\n",
        "        else:\r\n",
        "          self.optimizer=AdaGrad()\r\n",
        "\r\n",
        "\r\n",
        "        n_epochs = 2\r\n",
        "        #n_step_iteration_report = 384\r\n",
        "        plot_data = []\r\n",
        "        Loss=[]\r\n",
        "        Val_loss=[]\r\n",
        "        Epoch=[]\r\n",
        "        self.X=X\r\n",
        "        self.y=y\r\n",
        "        new_loss=[]       \r\n",
        "        #y_val = y_val.reshape(-1, 1) == np.arange(10)\r\n",
        "        self._initializer(X)\r\n",
        "        for epoch in range(n_epochs):\r\n",
        "            for i, (x, y) in enumerate(GetMiniBatch(self.X,self.y,self.batch_size)):\r\n",
        "              #forword\r\n",
        "              y = y.reshape(-1, 1) == np.arange(10)\r\n",
        "              y=y.reshape(y.shape[0],10)\r\n",
        "              \r\n",
        "              self.Conv1 = Conv2d(self.W1,self.B1,self.optimizer).forward(x)\r\n",
        "              self.Pool = MaxPool2D(self.optimizer,self.batch_size,self.Conv1,filter_size=3,stride=1,pading=0,filter_num=30).forward(self.Conv1)\r\n",
        "              self.flat,s=Flatten(self.Pool).forward(self.Pool) #(20,s)\r\n",
        "              if epoch==0 and i==0:\r\n",
        "                self.W2=SimpleInitializer(self.sigma).W(s,self.n_nodes2)\r\n",
        "              self.activation1 = self.fanction.forward(self.flat) #(20,s)\r\n",
        "              self.FC1 = FC(self.W2,self.B2,self.optimizer).forward(self.activation1) #(20,200)              \r\n",
        "              self.activation2 = self.fanction.forward(self.FC1)\r\n",
        "              self.FC2 = FC(self.W3,self.B3,self.optimizer).forward(self.activation2) #(20,10)\r\n",
        "              self.activation3 = Softmax(self.batch_size).forward(self.FC2) #(20,10) \r\n",
        "              self.loss=Softmax(self.batch_size).loss(self.activation3,y) \r\n",
        "              #backword\r\n",
        "              self.dloss=Softmax(self.batch_size).backward(self.activation3,y) #(20,10)\r\n",
        "              self.W3,self.B3,self.dZ2 = FC(self.W3,self.B3,self.optimizer).backward(self.dloss,self.activation2) #(20,10)*(20,200)=(200,10)\r\n",
        "              self.dactivation2 = self.fanction.backward(self.dZ2, self.activation2) #(20,200)\r\n",
        "              self.W2,self.B2,self.dZ1 = FC(self.W2,self.B2,self.optimizer).backward(self.dactivation2,self.activation1) #(200,20)*(20,200)=(200,200)\r\n",
        "              self.dactivation1 = self.fanction.backward(self.dZ1,self.activation1) #(20,s)\r\n",
        "              self.dflat=Flatten(self.Pool).backward(self.dactivation1) #(20,チャネル数,h,w)\r\n",
        "              self.dpool=MaxPool2D(self.optimizer,self.batch_size,self.Conv1,filter_size=3,stride=1,pading=0,filter_num=30).backward(self.dflat,self.Conv1) #(20,出力c,h,w)\r\n",
        "              self.W1,self.B1,self.dX = Conv2d(self.W1,self.B1,self.optimizer).backward(self.dpool,x) #(X.shape) \r\n",
        "              Loss.append(self.loss)\r\n",
        "              print(str(i)+\"回目\")\r\n",
        "            new_loss.append(np.mean(Loss))\r\n",
        "            Loss=[] \r\n",
        "            print(new_loss)\r\n",
        "            Epoch.append(epoch)\r\n",
        "        plt.plot(Epoch, new_loss, color='r', label='train_loss')\r\n",
        "        #plt.plot(Epoch, Val_loss, color='b', label='val_loss')\r\n",
        "        plt.xlabel('epoch')\r\n",
        "        plt.ylabel('loss')\r\n",
        "        plt.show()\r\n",
        "      \r\n",
        "    def predict(self,x):\r\n",
        "        self.Conv1 = Conv2d(self.W1,self.B1,self.optimizer).forward(x)\r\n",
        "        self.Pool = MaxPool2D(self.optimizer,self.batch_size,self.Conv1,filter_size=3,stride=1,pading=0,filter_num=30).forward(self.Conv1)\r\n",
        "        self.flat,s=Flatten(self.Pool).forward(self.Pool) #(20,s)\r\n",
        "        self.activation1 = self.fanction.forward(self.flat) #(20,s)\r\n",
        "        self.FC1 = FC(self.W2,self.B2,self.optimizer).forward(self.activation1) #(20,200)              \r\n",
        "        self.activation2 = self.fanction.forward(self.FC1)\r\n",
        "        self.FC2 = FC(self.W3,self.B3,self.optimizer).forward(self.activation2) #(20,10)\r\n",
        "        self.activation3 = Softmax(self.batch_size).forward(self.FC2) #(20,10)  \r\n",
        "        result=self.activation3.argmax(axis=1)\r\n",
        "        return result\r\n"
      ],
      "execution_count": 27,
      "outputs": []
    },
    {
      "cell_type": "code",
      "metadata": {
        "id": "wcA5sg1GBVDd"
      },
      "source": [
        "class FC:\r\n",
        "    \"\"\"\r\n",
        "    ノード数n_nodes1からn_nodes2への全結合層\r\n",
        "    Parameters\r\n",
        "    ----------\r\n",
        "    n_nodes1 : int\r\n",
        "      前の層のノード数\r\n",
        "    n_nodes2 : int\r\n",
        "      後の層のノード数\r\n",
        "    initializer : 初期化方法のインスタンス\r\n",
        "    optimizer : 最適化手法のインスタンス\r\n",
        "    \"\"\"\r\n",
        "    def __init__(self,W,B,optimizer,batch_size=20):\r\n",
        "        #重みの初期化\r\n",
        "        self.W=W\r\n",
        "        self.B=B\r\n",
        "        self.optimizer=optimizer\r\n",
        "    def forward(self, X):\r\n",
        "        \"\"\"\r\n",
        "        フォワード\r\n",
        "        Parameters\r\n",
        "        ----------\r\n",
        "        X : 次の形のndarray, shape (batch_size, n_nodes1)\r\n",
        "            入力\r\n",
        "        Returns\r\n",
        "        ----------\r\n",
        "        A : 次の形のndarray, shape (batch_size, n_nodes2)\r\n",
        "            出力\r\n",
        "        \"\"\"\r\n",
        "        \r\n",
        "        A=np.dot(X,self.W)+self.B \r\n",
        "        #(20,s),(s,200)=(20,200)\r\n",
        "        #(20,200)*(200,10)=(20,10)\r\n",
        "        return A\r\n",
        "    def backward(self,dactivation,X):\r\n",
        "        \"\"\"\r\n",
        "        バックワード\r\n",
        "        Parameters\r\n",
        "        ----------\r\n",
        "        dA : 次の形のndarray, shape (batch_size, n_nodes2)\r\n",
        "            後ろから流れてきた勾配\r\n",
        "        Returns\r\n",
        "        ----------\r\n",
        "        dZ : 次の形のndarray, shape (batch_size, n_nodes1)\r\n",
        "            前に流す勾配\r\n",
        "        \"\"\"\r\n",
        "        dB=np.sum(dactivation,axis=0) \r\n",
        "        dW=np.dot(X.T,dactivation)\r\n",
        "        #(200,20)*(20,10)=(200,10)\r\n",
        "        #(s,20)*(200,10)\r\n",
        "        dZ=np.dot(dactivation,self.W.T) \r\n",
        "        #(20,10)*(10,200)=(20,200)\r\n",
        "        self.W,self.B=self.optimizer.update(self.W,self.B,dW,dB)\r\n",
        "        return self.W,self.B,dZ\r\n",
        "\r\n",
        "    def backward2(self,X,dactivation):\r\n",
        "        \"\"\"\r\n",
        "        バックワード\r\n",
        "        Parameters\r\n",
        "        ----------\r\n",
        "        dA : 次の形のndarray, shape (batch_size, n_nodes2)\r\n",
        "            後ろから流れてきた勾配\r\n",
        "        Returns\r\n",
        "        ----------\r\n",
        "        dZ : 次の形のndarray, shape (batch_size, n_nodes1)\r\n",
        "            前に流す勾配\r\n",
        "        \"\"\"\r\n",
        "        dB=np.sum(dactivation,axis=0) #(1,10)\r\n",
        "        print(dB.shape)\r\n",
        "        dW=np.dot(X.T,dactivation) \r\n",
        "        #(20,10)*(20,400)=(784,400)\r\n",
        "        #print(dW.shape)\r\n",
        "        self.W,self.B=self.optimizer.update(self.W,self.B,dW,dB)\r\n",
        "        return self.W,self.B\r\n"
      ],
      "execution_count": 10,
      "outputs": []
    },
    {
      "cell_type": "code",
      "metadata": {
        "id": "Qcd-jDgk3xKx"
      },
      "source": [
        "class Tanh:\r\n",
        "      def forward(self,X):\r\n",
        "        Z=np.tanh(X)\r\n",
        "        return Z\r\n",
        "      def backward(self,X,activation):\r\n",
        "        dA=X*(1-activation**2)\r\n",
        "        return dA"
      ],
      "execution_count": 11,
      "outputs": []
    },
    {
      "cell_type": "code",
      "metadata": {
        "id": "GcYrKS5xea_L"
      },
      "source": [
        "class Softmax:\r\n",
        "      def __init__(self,batch_size=20):\r\n",
        "        self.batch_size=batch_size\r\n",
        "      def forward(self,X):\r\n",
        "        log_z3 = np.log(np.exp(X)) - self._logsumexp(X) #(20,10)\r\n",
        "        self.Z3 = np.exp(log_z3) #(20,10)\r\n",
        "        return self.Z3\r\n",
        "      def _logsumexp(self,X):\r\n",
        "        xmax = np.max(X,axis=1)\r\n",
        "        xmax=xmax.reshape(X.shape[0],1)\r\n",
        "        return np.log(np.exp(X - xmax).sum(axis=1, keepdims=True)) + xmax\r\n",
        "      def loss(self,X,y):\r\n",
        "        L=-np.sum(np.sum(y*np.log(X),axis=1),axis=0)/self.batch_size \r\n",
        "        return L\r\n",
        "      def backward(self,L,y):\r\n",
        "        dA3=(L-y)/self.batch_size #(20,10)\r\n",
        "        return dA3"
      ],
      "execution_count": 12,
      "outputs": []
    },
    {
      "cell_type": "code",
      "metadata": {
        "id": "O6qb2WC0ecas"
      },
      "source": [
        "class SimpleInitializer:\r\n",
        "      def __init__(self, sigma=0.01):\r\n",
        "        self.sigma = sigma\r\n",
        "      def W(self, n_nodes1, n_nodes2):\r\n",
        "        \"\"\"\r\n",
        "        重みの初期化\r\n",
        "        Parameters\r\n",
        "        ----------\r\n",
        "        n_nodes1 : int\r\n",
        "          前の層のノード数\r\n",
        "        n_nodes2 : int\r\n",
        "          後の層のノード数\r\n",
        "        Returns\r\n",
        "        ----------\r\n",
        "        W :\r\n",
        "        \"\"\"\r\n",
        "        \r\n",
        "        self.W = self.sigma * np.random.randn(n_nodes1,n_nodes2)    \r\n",
        "        return self.W\r\n",
        "      def B(self, n_nodes):\r\n",
        "        \"\"\"\r\n",
        "        バイアスの初期化\r\n",
        "        Parameters\r\n",
        "        ----------\r\n",
        "        n_nodes2 : int\r\n",
        "          後の層のノード数\r\n",
        "        Returns\r\n",
        "        ----------\r\n",
        "        B :\r\n",
        "        \"\"\"\r\n",
        "        #バイアス項の初期値\r\n",
        "        sigm=0.01\r\n",
        "        self.B=self.sigma * np.random.randn(n_nodes,)\r\n",
        "        return self.B\r\n"
      ],
      "execution_count": 13,
      "outputs": []
    },
    {
      "cell_type": "code",
      "metadata": {
        "id": "tkGX_BVIed2p"
      },
      "source": [
        "class SGD:\r\n",
        "    \"\"\"\r\n",
        "    確率的勾配降下法\r\n",
        "    Parameters\r\n",
        "    ----------\r\n",
        "    lr : 学習率\r\n",
        "    \"\"\"\r\n",
        "    def __init__(self, lr=0.01):\r\n",
        "        self.lr = lr\r\n",
        "    def update(self,W,B,dW,dB):\r\n",
        "        \"\"\"\r\n",
        "        ある層の重みやバイアスの更新\r\n",
        "        Parameters\r\n",
        "        ----------\r\n",
        "        layer : 更新前の層のインスタンス\r\n",
        "        \"\"\"\r\n",
        "        W=W-self.lr*dW\r\n",
        "        B=B-self.lr*dB\r\n",
        "\r\n",
        "        return W,B\r\n",
        "        \r\n",
        "        "
      ],
      "execution_count": 14,
      "outputs": []
    },
    {
      "cell_type": "code",
      "metadata": {
        "id": "0jw0ZXucefLi"
      },
      "source": [
        "class ReLU:\r\n",
        "   def forward(self,A):\r\n",
        "     return np.clip(A, 0, None)\r\n",
        "    \r\n",
        "   def backward(self,dZ, A):\r\n",
        "     return dZ * np.clip(np.sign(A), 0, None)"
      ],
      "execution_count": 15,
      "outputs": []
    },
    {
      "cell_type": "code",
      "metadata": {
        "id": "d0x8kBb3egcO"
      },
      "source": [
        "import math\r\n",
        "class XavierInitializer:\r\n",
        "  def W(self, n_nodes1, n_nodes2):\r\n",
        "      self.sigma = math.sqrt(1 / n_nodes1)\r\n",
        "      W = self.sigma * np.random.randn(n_nodes1, n_nodes2)\r\n",
        "      return W\r\n",
        "  def B(self, n_nodes1,n_nodes2):\r\n",
        "      self.sigma = math.sqrt(1 / n_nodes1)\r\n",
        "      B = self.sigma * np.random.randn(n_nodes2)\r\n",
        "      return B"
      ],
      "execution_count": 16,
      "outputs": []
    },
    {
      "cell_type": "code",
      "metadata": {
        "id": "E_hiRFhDeh2V"
      },
      "source": [
        "import math\r\n",
        "class He:\r\n",
        "  def W(self, n_nodes1, n_nodes2):\r\n",
        "      self.sigma = math.sqrt(2 / n_nodes1)\r\n",
        "      W = self.sigma * np.random.randn(n_nodes1, n_nodes2)\r\n",
        "      return W\r\n",
        "  def B(self, n_nodes1,n_nodes2):\r\n",
        "      self.sigma = math.sqrt(2 / n_nodes1)\r\n",
        "      B = self.sigma * np.random.randn(n_nodes2)\r\n",
        "      return B"
      ],
      "execution_count": 17,
      "outputs": []
    },
    {
      "cell_type": "code",
      "metadata": {
        "id": "2FD2uAFTei9J"
      },
      "source": [
        "class AdaGrad:\r\n",
        "    \r\n",
        "    def __init__(self, lr=0.01):\r\n",
        "        self.lr = lr\r\n",
        "        self.HW = 1\r\n",
        "        self.HB = 1\r\n",
        "    \r\n",
        "    def update(self,W,B,dW,dB):\r\n",
        "        self.HW += dW**2\r\n",
        "        self.HB += dB**2\r\n",
        "        W -= self.lr * np.sqrt(1/self.HW) * dW\r\n",
        "        B -= self.lr * np.sqrt(1/self.HB) * dB\r\n",
        "        self.HW=1\r\n",
        "        self.HB=1\r\n",
        "        return W,B"
      ],
      "execution_count": 18,
      "outputs": []
    },
    {
      "cell_type": "code",
      "metadata": {
        "id": "PMaoEX-nekUq"
      },
      "source": [
        "class Sigmoid:\r\n",
        "    \r\n",
        "    def forward(self, A):\r\n",
        "        self.A = A\r\n",
        "        return self.sigmoid(A)\r\n",
        "    \r\n",
        "    def backward(self, dZ, A):\r\n",
        "        self.A=A\r\n",
        "        _sig = self.sigmoid(self.A) #(20,200)\r\n",
        "        return dZ * (1 - _sig)*_sig #(200,10)*(20,200)\r\n",
        "    \r\n",
        "    def sigmoid(self, X):\r\n",
        "        return 1 / (1 + np.exp(-X))"
      ],
      "execution_count": 19,
      "outputs": []
    },
    {
      "cell_type": "code",
      "metadata": {
        "colab": {
          "base_uri": "https://localhost:8080/",
          "height": 385
        },
        "id": "GXvMLDwDelgn",
        "outputId": "44b61e3a-5d44-486f-bc4f-c03c7b2fdaf8"
      },
      "source": [
        "scnn=ScratchDeepCNNClassifier()\r\n",
        "scnn.fit(X_train[0:40],y_train)"
      ],
      "execution_count": 32,
      "outputs": [
        {
          "output_type": "stream",
          "text": [
            "0回目\n",
            "1回目\n",
            "[2.59548394944436]\n",
            "0回目\n",
            "1回目\n",
            "[2.59548394944436, 2.119340582823063]\n"
          ],
          "name": "stdout"
        },
        {
          "output_type": "display_data",
          "data": {
            "image/png": "[encoded data removed]",
            "text/plain": [
              "<Figure size 432x288 with 1 Axes>"
            ]
          },
          "metadata": {
            "tags": [],
            "needs_background": "light"
          }
        }
      ]
    },
    {
      "cell_type": "code",
      "metadata": {
        "colab": {
          "base_uri": "https://localhost:8080/"
        },
        "id": "gGaFoKOlzmK8",
        "outputId": "3a55a0e7-a0d9-4f5b-ea63-4277b9b40f37"
      },
      "source": [
        "y_pred=scnn.predict(X_test[0:20])\r\n",
        "np.unique(y_pred)"
      ],
      "execution_count": 33,
      "outputs": [
        {
          "output_type": "execute_result",
          "data": {
            "text/plain": [
              "array([1, 2, 3, 4, 5, 6, 7])"
            ]
          },
          "metadata": {
            "tags": []
          },
          "execution_count": 33
        }
      ]
    },
    {
      "cell_type": "code",
      "metadata": {
        "colab": {
          "base_uri": "https://localhost:8080/"
        },
        "id": "6i2F5MQj0fyX",
        "outputId": "d3f16b50-ea15-4ffa-8b3a-315da68873c3"
      },
      "source": [
        "#Accuracy\r\n",
        "from sklearn.metrics import accuracy_score\r\n",
        "print(accuracy_score(y_test[0:20], y_pred))"
      ],
      "execution_count": 37,
      "outputs": [
        {
          "output_type": "stream",
          "text": [
            "0.2\n"
          ],
          "name": "stdout"
        }
      ]
    },
    {
      "cell_type": "code",
      "metadata": {
        "id": "iLRVdsLy4wJv"
      },
      "source": [
        ""
      ],
      "execution_count": null,
      "outputs": []
    }
  ]
}