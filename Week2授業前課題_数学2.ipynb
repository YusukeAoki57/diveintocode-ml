{
  "nbformat": 4,
  "nbformat_minor": 0,
  "metadata": {
    "colab": {
      "name": "Week2授業前課題_数学2.ipynb",
      "provenance": [],
      "collapsed_sections": [],
      "authorship_tag": "ABX9TyOB0eLf6eycYezN2UFph4C0",
      "include_colab_link": true
    },
    "kernelspec": {
      "name": "python3",
      "display_name": "Python 3"
    }
  },
  "cells": [
    {
      "cell_type": "markdown",
      "metadata": {
        "id": "view-in-github",
        "colab_type": "text"
      },
      "source": [
        "<a href=\"https://colab.research.google.com/github/YusukeAoki57/diveintocode-ml/blob/master/Week2%E6%8E%88%E6%A5%AD%E5%89%8D%E8%AA%B2%E9%A1%8C_%E6%95%B0%E5%AD%A62.ipynb\" target=\"_parent\"><img src=\"https://colab.research.google.com/assets/colab-badge.svg\" alt=\"Open In Colab\"/></a>"
      ]
    },
    {
      "cell_type": "code",
      "metadata": {
        "id": "itJ474ghDvly"
      },
      "source": [
        "import numpy as np"
      ],
      "execution_count": null,
      "outputs": []
    },
    {
      "cell_type": "code",
      "metadata": {
        "id": "Vw9mpOwueJk4"
      },
      "source": [
        "import matplotlib.pyplot as plt"
      ],
      "execution_count": null,
      "outputs": []
    },
    {
      "cell_type": "markdown",
      "metadata": {
        "id": "uadKLmytZ_Ig"
      },
      "source": [
        "問題1 乱数の作成"
      ]
    },
    {
      "cell_type": "code",
      "metadata": {
        "colab": {
          "base_uri": "https://localhost:8080/"
        },
        "id": "tZbk5IAVaChC",
        "outputId": "b9f943b9-a7de-4a7f-fbf8-deeb9639f500"
      },
      "source": [
        "mean=np.array([-3,0]) #平均\r\n",
        "cov =np.array([[1.0,0.8],\r\n",
        "              [0.8,1.0]]) #共分散行列を指定\r\n",
        "Multi_normal_distribution= np.random.multivariate_normal(mean, cov, 500)\r\n",
        "np.random.seed(0)\r\n",
        "print(Multi_normal_distribution.shape)\r\n",
        "print(Multi_normal_distribution)"
      ],
      "execution_count": null,
      "outputs": [
        {
          "output_type": "stream",
          "text": [
            "(500, 2)\n",
            "[[-2.50357530e+00 -1.07932519e-01]\n",
            " [-3.25791783e+00 -1.07910392e+00]\n",
            " [-1.90866950e+00  9.40894721e-01]\n",
            " [-1.92486417e+00  5.34060502e-01]\n",
            " [-1.50015089e+00  2.52355836e+00]\n",
            " [-5.97855864e+00 -2.76830461e+00]\n",
            " [-3.80952909e+00 -6.94895804e-02]\n",
            " [-3.40327246e+00 -1.03300853e+00]\n",
            " [-4.42579883e+00 -1.37219855e+00]\n",
            " [-2.65352745e+00 -6.00461724e-01]\n",
            " [-2.72053238e+00  2.08866735e-01]\n",
            " [-4.06402462e+00 -1.63923459e+00]\n",
            " [-2.80869626e+00 -6.19011298e-01]\n",
            " [-2.73638105e+00 -1.19439943e-01]\n",
            " [-2.28562143e+00  1.18096308e+00]\n",
            " [-2.72632640e+00 -1.77351601e-01]\n",
            " [-2.04662912e+00  4.96021588e-01]\n",
            " [-3.02380249e+00  2.45270139e-01]\n",
            " [-2.85971616e+00  2.27171856e-01]\n",
            " [-3.04259088e+00 -8.90984455e-03]\n",
            " [-2.96176549e+00 -2.24014108e-01]\n",
            " [-1.38976961e+00  1.40477878e+00]\n",
            " [-2.25953894e+00  2.12504969e+00]\n",
            " [-2.30329524e+00  4.68021999e-01]\n",
            " [-2.87099190e+00  7.25545737e-02]\n",
            " [-2.42579177e+00 -6.92376554e-02]\n",
            " [-3.08567111e+00 -2.32600989e-01]\n",
            " [-4.25097834e+00 -1.29429262e+00]\n",
            " [-2.90903036e+00 -6.28508512e-01]\n",
            " [-2.19415696e+00  1.11422733e+00]\n",
            " [-3.72164262e+00 -6.61990864e-01]\n",
            " [-1.76415336e+00  1.01554054e+00]\n",
            " [-3.26794157e+00 -6.95948113e-01]\n",
            " [-1.89767514e+00  8.95386960e-01]\n",
            " [-3.12067875e+00  8.34776565e-01]\n",
            " [-2.43157056e+00  1.19558252e+00]\n",
            " [-3.32469268e+00 -7.67218986e-02]\n",
            " [-2.62018441e+00 -8.50450484e-01]\n",
            " [-1.61115014e+00  6.68163723e-01]\n",
            " [-4.04924755e+00 -1.84366576e-01]\n",
            " [-2.13730841e+00  1.09447118e+00]\n",
            " [-2.85196984e+00 -1.62352161e-01]\n",
            " [-1.81515081e+00  8.27389559e-01]\n",
            " [-1.92295204e+00  6.08676988e-01]\n",
            " [-2.00547347e+00  9.35388151e-01]\n",
            " [-1.52798022e+00  8.56367146e-01]\n",
            " [-4.36330784e+00 -1.88406622e+00]\n",
            " [-3.60372523e+00 -1.30466433e+00]\n",
            " [-2.78158299e+00  1.04352794e+00]\n",
            " [-2.55568265e+00  3.87319846e-02]\n",
            " [-3.27051865e+00  4.70728658e-02]\n",
            " [-3.42564330e+00 -7.18912723e-01]\n",
            " [-3.33310112e+00 -8.02785593e-01]\n",
            " [-2.71911137e+00  1.44465573e+00]\n",
            " [-1.98461226e+00  1.42235669e+00]\n",
            " [-2.06448921e+00  1.75433725e+00]\n",
            " [-1.93428710e+00  1.54210996e+00]\n",
            " [-2.81988897e+00  6.34054342e-01]\n",
            " [-4.04490677e+00 -1.45239946e-01]\n",
            " [-2.87071051e+00  1.44392998e+00]\n",
            " [-2.17345118e+00  1.27861409e+00]\n",
            " [-2.64810109e+00  3.12838296e-01]\n",
            " [-4.35158884e+00 -8.01550308e-01]\n",
            " [-3.91002317e+00 -2.98116829e-01]\n",
            " [-2.86041250e+00 -7.81657029e-01]\n",
            " [-4.64519172e+00 -1.46064750e+00]\n",
            " [-1.38926644e+00  2.04532633e+00]\n",
            " [-1.84973781e+00  1.88171882e+00]\n",
            " [-1.59997120e+00  1.14473193e+00]\n",
            " [-2.41227403e+00  1.13237146e+00]\n",
            " [-3.45468922e+00 -4.36421345e-02]\n",
            " [-3.95248829e+00 -1.43800934e+00]\n",
            " [-2.45715209e+00  7.42111733e-01]\n",
            " [-2.21495249e+00  1.54370726e-01]\n",
            " [-3.57421958e+00  1.98493466e-01]\n",
            " [-3.64952526e+00 -8.34678346e-01]\n",
            " [-1.52601242e+00  1.73767596e+00]\n",
            " [-4.15033731e+00 -1.49675471e+00]\n",
            " [-3.05562257e+00  8.35973689e-02]\n",
            " [-3.70161139e+00  5.65146994e-01]\n",
            " [-2.94036922e+00  3.07486909e-01]\n",
            " [-2.53602295e+00  9.76365047e-01]\n",
            " [-2.73687275e+00 -1.46812032e-01]\n",
            " [-2.88675678e+00 -1.33741862e-01]\n",
            " [-3.66544250e+00 -1.19803240e+00]\n",
            " [-3.58204446e+00  4.60765634e-01]\n",
            " [-3.66790724e+00 -1.66950182e-01]\n",
            " [-2.40622984e+00  6.00706814e-01]\n",
            " [-4.71288580e+00 -1.01445546e+00]\n",
            " [-2.74206233e+00 -1.36674788e+00]\n",
            " [-2.01708282e+00  3.46001094e-01]\n",
            " [-3.93818440e+00 -4.97512418e-01]\n",
            " [-2.89987232e+00 -1.14228612e+00]\n",
            " [-3.62104975e-01  1.83282536e+00]\n",
            " [-3.84750423e+00 -8.77984197e-01]\n",
            " [-2.83091672e+00  5.74116916e-01]\n",
            " [-1.81889276e+00  8.31150830e-01]\n",
            " [-5.01668893e+00 -1.57158889e+00]\n",
            " [-3.46361832e+00  7.51259767e-01]\n",
            " [-4.21067354e+00 -1.21316584e+00]\n",
            " [-3.74532262e+00 -1.94323919e-01]\n",
            " [-2.53855547e+00  2.90811038e-01]\n",
            " [-2.18990754e+00  3.29811399e-01]\n",
            " [-2.83828662e+00 -4.59691445e-01]\n",
            " [-2.37104164e+00 -3.81098564e-01]\n",
            " [-1.85031272e+00  4.69586885e-01]\n",
            " [-3.41330642e+00  2.79963460e-01]\n",
            " [-3.18807517e+00  2.83483808e-02]\n",
            " [-3.86642995e+00 -1.18439103e+00]\n",
            " [-1.63439488e+00  9.28750919e-01]\n",
            " [-2.09438406e+00 -8.87640231e-03]\n",
            " [-3.28769847e+00 -1.27202467e+00]\n",
            " [-2.59896484e+00  9.52435519e-01]\n",
            " [-2.19279776e+00  4.79312519e-01]\n",
            " [-2.57332223e+00  1.22894355e+00]\n",
            " [-3.96485515e+00 -1.12697174e+00]\n",
            " [-3.69686025e+00 -4.83494772e-01]\n",
            " [-2.51793031e+00  5.67641562e-01]\n",
            " [-1.80690271e+00  1.04085109e+00]\n",
            " [-3.78642180e+00  3.54926997e-01]\n",
            " [-3.67407585e+00 -5.27032216e-01]\n",
            " [-2.92187392e+00  3.64576861e-01]\n",
            " [-3.01428348e+00  4.92980152e-02]\n",
            " [-3.45404428e+00 -3.48846567e-01]\n",
            " [-4.43600347e+00 -1.86595941e+00]\n",
            " [-2.29138923e+00  1.30258614e+00]\n",
            " [-2.36787823e+00  7.50805717e-01]\n",
            " [-3.87488314e+00 -1.72093723e-01]\n",
            " [-3.45953371e+00  2.93085902e-01]\n",
            " [-1.79746217e+00  7.61226048e-01]\n",
            " [-2.06521328e+00  7.70770123e-01]\n",
            " [-4.18873559e+00 -5.40000966e-01]\n",
            " [-2.84765800e+00  4.37165233e-01]\n",
            " [-3.85575241e+00 -1.17724089e-01]\n",
            " [-2.18929144e+00  9.49986815e-01]\n",
            " [-3.80224112e+00  3.77681632e-01]\n",
            " [-5.17994636e+00 -1.90738615e+00]\n",
            " [-2.29941165e+00  7.47194552e-01]\n",
            " [-2.36771829e+00 -2.29130925e-01]\n",
            " [-2.26665002e+00  1.16301228e+00]\n",
            " [-2.41302695e+00  4.83709261e-01]\n",
            " [-2.15390375e+00  4.29781800e-01]\n",
            " [-2.00947695e+00 -6.45430407e-01]\n",
            " [-3.17697202e+00 -1.43676462e-01]\n",
            " [-3.48433655e+00 -4.99737240e-01]\n",
            " [-3.59613252e+00 -2.04187461e+00]\n",
            " [-1.55193920e+00  1.42359622e+00]\n",
            " [-4.63451684e+00 -1.14160015e+00]\n",
            " [-1.22827055e+00  1.54050150e+00]\n",
            " [-5.03352488e+00 -1.20006456e+00]\n",
            " [-1.55926634e+00  1.98652666e+00]\n",
            " [-4.68172151e+00 -2.63180666e+00]\n",
            " [-2.30910668e+00  6.34702300e-01]\n",
            " [-5.78617592e+00 -1.74499288e+00]\n",
            " [-2.96179357e+00 -1.72294118e-01]\n",
            " [-2.44150324e+00  3.61948101e-01]\n",
            " [-9.99818011e-01  1.86456661e+00]\n",
            " [-2.99985621e+00 -2.01671673e-01]\n",
            " [-3.40154286e+00 -1.08890713e+00]\n",
            " [-3.93568573e+00 -1.81888432e+00]\n",
            " [-3.61998347e+00  7.38347036e-01]\n",
            " [-3.84011712e+00 -7.97516253e-01]\n",
            " [-3.49495178e+00 -7.29341269e-01]\n",
            " [-5.45810225e+00 -2.59291298e+00]\n",
            " [-2.39782062e+00  1.53161244e+00]\n",
            " [-4.04386408e+00 -1.72288518e+00]\n",
            " [-3.61354030e+00 -9.91612405e-01]\n",
            " [-2.86609479e+00  9.23683904e-01]\n",
            " [-3.56775739e+00  6.78741803e-02]\n",
            " [-3.89108162e+00 -9.76671575e-01]\n",
            " [-4.48362893e+00 -1.92991051e+00]\n",
            " [-4.23750275e+00 -8.40156043e-01]\n",
            " [-9.32623537e-01  8.00363111e-01]\n",
            " [-3.33542360e+00 -6.07561962e-01]\n",
            " [-2.94986392e+00 -3.00922360e-01]\n",
            " [-3.95335364e+00 -1.55327417e+00]\n",
            " [-3.65686737e+00 -7.78904997e-01]\n",
            " [-2.76728686e+00 -2.84777310e-01]\n",
            " [-3.61652732e+00 -2.88545522e-01]\n",
            " [-2.67835725e+00  8.32471427e-01]\n",
            " [-1.53254750e+00  1.66898093e+00]\n",
            " [-2.72468586e+00 -2.55864965e-01]\n",
            " [-3.92102583e+00 -9.02434537e-01]\n",
            " [-3.20810187e+00 -2.75115036e-01]\n",
            " [-4.65182044e+00 -6.84717813e-01]\n",
            " [-2.49430914e+00 -1.10241608e-01]\n",
            " [-1.93759580e+00 -1.08262131e-01]\n",
            " [-2.06730385e+00  4.94974300e-01]\n",
            " [-2.13258984e+00  1.79278899e+00]\n",
            " [-2.24175857e+00  3.97588687e-01]\n",
            " [-2.75620058e+00  9.68231982e-01]\n",
            " [-3.99769677e+00  5.73330839e-02]\n",
            " [-2.61987835e+00  4.79152063e-01]\n",
            " [-2.67249428e+00  5.50746192e-01]\n",
            " [-4.36630544e+00 -8.73987334e-01]\n",
            " [-3.79075306e+00  1.03141390e-01]\n",
            " [-4.18482944e+00 -7.95583758e-01]\n",
            " [-2.78961374e+00  2.72319643e-01]\n",
            " [-1.45444774e+00  4.04146410e-01]\n",
            " [-3.15674551e+00 -4.95299240e-01]\n",
            " [-4.51165947e+00 -1.68678224e+00]\n",
            " [-2.56020730e+00  1.62152965e-01]\n",
            " [-1.54785521e+00  1.06938084e+00]\n",
            " [-4.48187694e+00 -1.17044125e-01]\n",
            " [-3.06847139e+00 -5.59272120e-01]\n",
            " [-5.30506516e+00 -2.16643164e+00]\n",
            " [-2.82727850e+00 -8.63715814e-01]\n",
            " [-1.37026182e+00  6.85910838e-01]\n",
            " [-4.07065130e+00 -1.08338337e+00]\n",
            " [-2.97302595e+00  4.30905660e-01]\n",
            " [-3.48692799e+00 -5.87769185e-01]\n",
            " [-1.43004662e+00  1.45142580e+00]\n",
            " [-3.04515415e+00  7.43931194e-03]\n",
            " [-2.33920350e+00  1.19883379e+00]\n",
            " [-3.20353448e+00 -1.38554443e-01]\n",
            " [-3.84830390e+00 -1.63353872e+00]\n",
            " [-4.23700935e+00 -2.70885006e-01]\n",
            " [-3.59449774e+00 -5.24391038e-01]\n",
            " [-2.11693245e+00  6.12170396e-01]\n",
            " [-2.55032323e+00  1.16731033e+00]\n",
            " [-3.06704263e+00  3.10113990e-03]\n",
            " [-3.39587334e+00  1.60373254e-01]\n",
            " [-2.31857442e+00  3.02046687e-01]\n",
            " [-2.54745733e+00 -8.96982938e-01]\n",
            " [-2.42062488e+00  1.85733976e+00]\n",
            " [-3.00345744e+00 -4.10040169e-01]\n",
            " [-3.86717078e+00 -1.68618979e-01]\n",
            " [-7.57620620e-01  1.99051493e+00]\n",
            " [-3.56040401e+00  3.52237145e-01]\n",
            " [-3.41242185e+00 -6.07881135e-01]\n",
            " [-2.41289226e+00  4.51062377e-02]\n",
            " [-3.81937457e+00  7.70537780e-01]\n",
            " [-2.68861816e+00  1.30436164e+00]\n",
            " [-1.63240899e+00  8.97675509e-01]\n",
            " [-3.32528422e+00 -1.82213772e-01]\n",
            " [-3.35135410e+00 -1.27939909e-01]\n",
            " [-2.79718458e+00 -1.92240515e-01]\n",
            " [-1.86814587e+00  1.18170816e+00]\n",
            " [-1.58833532e+00  5.20217489e-01]\n",
            " [-2.49215172e+00  7.41313060e-02]\n",
            " [-3.02909791e+00  7.21088240e-02]\n",
            " [-2.85158974e+00 -1.38173437e+00]\n",
            " [-3.88039897e+00  1.42674046e+00]\n",
            " [-3.00493461e+00 -7.57268100e-01]\n",
            " [-4.81808086e-01  1.65580949e+00]\n",
            " [-3.88051709e+00 -6.54232284e-01]\n",
            " [-3.47618974e+00 -4.77947321e-01]\n",
            " [-2.10698579e+00  5.55846665e-01]\n",
            " [-3.50015147e+00  1.40800162e-01]\n",
            " [-1.34626691e+00  1.67710808e+00]\n",
            " [-2.24729521e+00  7.25257544e-01]\n",
            " [-1.38543399e+00  2.41303250e+00]\n",
            " [-2.46254874e+00  7.75873168e-01]\n",
            " [-1.80150849e+00  7.15284820e-01]\n",
            " [-2.59934911e+00  1.29521056e+00]\n",
            " [-3.19629009e+00 -5.18792085e-01]\n",
            " [-2.63419325e+00  5.96637738e-01]\n",
            " [-3.65216167e+00  1.11177449e-01]\n",
            " [-4.89722720e+00 -1.72972009e+00]\n",
            " [-3.67870128e+00 -1.34368742e+00]\n",
            " [-3.71712418e+00 -1.11697831e-01]\n",
            " [-1.30197353e+00  5.97263115e-01]\n",
            " [-1.84724431e+00  1.24209427e+00]\n",
            " [-3.44132359e+00 -2.60931969e-01]\n",
            " [-3.87153761e+00 -1.82539568e-01]\n",
            " [-5.02497975e+00 -1.00009904e+00]\n",
            " [-2.78833011e+00  9.19104629e-01]\n",
            " [-3.73018308e+00 -5.79507698e-01]\n",
            " [-3.89048836e+00 -4.18756168e-01]\n",
            " [-4.00538094e+00 -1.06039708e+00]\n",
            " [-4.06533394e+00  1.30862013e-01]\n",
            " [-2.47100231e+00  2.71591892e-02]\n",
            " [-4.03751432e+00 -6.12340300e-01]\n",
            " [-1.63165349e+00  1.32684177e+00]\n",
            " [-3.21537025e+00  9.86539574e-01]\n",
            " [-2.92141434e+00  7.06577672e-01]\n",
            " [-4.95430829e+00 -7.46340628e-01]\n",
            " [-4.27240628e+00 -2.21488445e-01]\n",
            " [-4.23074882e+00 -4.92505408e-01]\n",
            " [-1.29306075e+00  1.22871010e+00]\n",
            " [-3.78669183e+00 -7.82534658e-02]\n",
            " [-1.42830164e+00  1.41991449e+00]\n",
            " [-3.85005816e+00 -1.09444641e+00]\n",
            " [-3.70719215e+00 -7.33878082e-01]\n",
            " [-4.02184530e+00 -6.74740729e-01]\n",
            " [-2.16663617e+00  9.33366371e-01]\n",
            " [-3.71567490e+00 -8.26399265e-01]\n",
            " [-3.45310330e+00  3.25226968e-01]\n",
            " [-3.51831338e+00 -1.52279527e-01]\n",
            " [-1.89467249e+00  1.38894178e+00]\n",
            " [-1.09341144e+00  1.47307739e+00]\n",
            " [-2.57265509e+00  3.20262346e-01]\n",
            " [-2.83239157e+00 -1.16551803e-01]\n",
            " [-3.54397473e+00 -1.18417176e+00]\n",
            " [-1.80470745e+00  2.12681788e-01]\n",
            " [-3.94128914e+00 -6.60807087e-01]\n",
            " [-3.89763326e+00 -9.94528469e-01]\n",
            " [-4.56769033e+00  1.02059035e-01]\n",
            " [-4.78800494e+00 -8.99739716e-01]\n",
            " [-3.00051260e+00  1.39345350e-01]\n",
            " [-1.68062475e+00  5.49374331e-01]\n",
            " [-4.45747120e+00 -5.04172288e-01]\n",
            " [-3.79974739e+00 -4.39414402e-01]\n",
            " [-3.49115974e+00 -3.95430273e-01]\n",
            " [-2.72106145e+00  7.64879254e-01]\n",
            " [-2.97591557e+00 -4.97114129e-01]\n",
            " [-4.39344937e+00 -4.88694829e-01]\n",
            " [-2.20854959e+00  1.43692940e+00]\n",
            " [-5.02693093e+00 -1.41247251e+00]\n",
            " [-4.47249951e+00 -1.15046517e+00]\n",
            " [-2.99784918e+00  1.09354515e-02]\n",
            " [-3.86526466e+00 -1.26027048e+00]\n",
            " [-5.00079799e+00 -2.76076179e+00]\n",
            " [-2.32903581e+00  7.54371633e-01]\n",
            " [-3.71482878e+00 -6.40581456e-02]\n",
            " [-3.54937937e+00 -1.44283738e+00]\n",
            " [-3.87700202e+00 -4.11661013e-01]\n",
            " [-1.57946109e+00 -2.80722873e-01]\n",
            " [-4.17530345e+00 -1.07808762e+00]\n",
            " [-2.56275212e+00 -4.69785455e-01]\n",
            " [-4.17011928e+00 -1.23177912e+00]\n",
            " [-3.11994762e+00 -7.44235275e-01]\n",
            " [-2.48151514e+00  1.01412917e+00]\n",
            " [-5.43239717e+00 -1.35547245e+00]\n",
            " [-2.29103635e+00  9.53424208e-01]\n",
            " [-4.01496437e+00 -1.40973294e+00]\n",
            " [-3.00730126e+00 -3.70100021e-01]\n",
            " [-4.50810410e+00 -6.59647815e-01]\n",
            " [-3.60783847e+00 -1.17573138e+00]\n",
            " [-2.04281316e+00  1.39613489e+00]\n",
            " [-4.53425999e+00 -1.14729181e+00]\n",
            " [-2.96472882e+00 -7.92976963e-01]\n",
            " [-2.00796915e+00  8.38531986e-01]\n",
            " [-2.53300638e+00 -9.09303969e-01]\n",
            " [-2.50780352e+00  8.04969202e-01]\n",
            " [-3.85536478e+00 -1.05048905e+00]\n",
            " [-3.51388981e+00 -4.17168491e-01]\n",
            " [-7.24479498e-01  1.71354691e+00]\n",
            " [-4.36381418e+00 -1.16089933e+00]\n",
            " [-3.40381419e+00 -5.69724097e-02]\n",
            " [-1.93450933e+00 -7.77244260e-01]\n",
            " [-2.76709887e+00  1.26458257e+00]\n",
            " [-4.80071488e+00 -1.65376289e+00]\n",
            " [-3.69849396e+00 -1.13089168e+00]\n",
            " [-2.38883422e+00 -8.02155512e-01]\n",
            " [-1.32274420e+00  7.62327369e-01]\n",
            " [-3.34473982e+00 -6.14156740e-01]\n",
            " [-4.00048052e+00 -1.43117962e+00]\n",
            " [-2.54449161e+00  7.90417362e-01]\n",
            " [-2.81297596e+00 -1.02062697e-01]\n",
            " [-2.79324978e+00  1.47413629e-02]\n",
            " [-2.02188983e+00  1.01204197e+00]\n",
            " [-1.15937877e+00  2.20236246e+00]\n",
            " [-3.00744784e+00 -1.43573820e-01]\n",
            " [-3.21855686e+00  6.08486852e-01]\n",
            " [-2.06465143e+00  1.85885606e-01]\n",
            " [-3.96290929e-01  2.04021459e+00]\n",
            " [-3.77818667e+00 -2.55445391e-01]\n",
            " [-2.42433288e+00  1.80498692e-01]\n",
            " [-2.77274482e+00  9.31117558e-02]\n",
            " [-1.63478812e+00  9.24764099e-01]\n",
            " [-3.46742396e+00 -1.08987687e+00]\n",
            " [-2.37680767e+00  1.57446925e+00]\n",
            " [-2.29346556e+00  1.15182254e+00]\n",
            " [-1.63414474e+00  1.61404496e+00]\n",
            " [-3.25697039e+00 -3.72433908e-01]\n",
            " [-1.69394413e+00  9.40396943e-01]\n",
            " [-3.48074537e+00 -6.65855257e-01]\n",
            " [-4.53038384e-01  2.08338811e+00]\n",
            " [-1.35187194e+00  1.46035229e+00]\n",
            " [-1.43112570e+00  4.74709102e-01]\n",
            " [-2.72003591e+00  1.85781726e+00]\n",
            " [-2.82707764e+00 -2.17957704e-01]\n",
            " [-3.02037846e+00  1.13380673e-01]\n",
            " [-3.43592883e+00 -5.32921491e-01]\n",
            " [-2.98391111e+00  1.22242490e+00]\n",
            " [-4.03782039e+00 -3.91935245e-01]\n",
            " [-1.60212870e+00 -2.31636606e-01]\n",
            " [-3.58210873e+00 -3.45645131e-01]\n",
            " [-1.08438629e+00  3.66542820e-01]\n",
            " [-5.10672295e+00 -2.56335494e+00]\n",
            " [-2.62004974e+00  2.25851559e-01]\n",
            " [-2.85932390e+00  2.88771244e-01]\n",
            " [-2.58136622e+00  1.00621290e+00]\n",
            " [-2.76522643e+00  8.09563506e-01]\n",
            " [-2.47977262e+00  1.32960060e-01]\n",
            " [-3.28167321e+00 -8.38770181e-01]\n",
            " [-1.54636871e+00  8.47594143e-01]\n",
            " [-3.52339908e+00 -8.72730154e-01]\n",
            " [-3.20908328e+00  1.00046768e-01]\n",
            " [-3.34512232e+00  2.21321895e-01]\n",
            " [-3.14540224e+00 -3.14550215e-01]\n",
            " [-5.62377426e+00 -2.45992967e+00]\n",
            " [-3.35785794e+00  1.07402462e-01]\n",
            " [-4.35069760e+00 -1.57605824e+00]\n",
            " [-4.31046112e+00 -1.19932958e+00]\n",
            " [-3.00467997e+00 -8.97803023e-01]\n",
            " [-1.91419289e+00  4.54650747e-01]\n",
            " [-2.41011137e+00  2.71693445e-01]\n",
            " [-4.01838079e+00 -1.06553466e+00]\n",
            " [-3.55750872e+00 -8.98484402e-03]\n",
            " [-2.98808011e+00 -4.80079564e-01]\n",
            " [-4.02453948e+00 -9.90834722e-01]\n",
            " [-1.85240491e+00  9.26771202e-01]\n",
            " [-1.96558212e+00  1.46518188e+00]\n",
            " [-2.82249188e+00  1.23559008e-01]\n",
            " [-3.10561581e+00 -9.57739252e-01]\n",
            " [-2.10214189e+00  4.54576997e-01]\n",
            " [-2.86516366e+00  1.07530909e+00]\n",
            " [-2.62612795e+00 -6.91927898e-02]\n",
            " [-2.78600825e+00 -7.57198906e-01]\n",
            " [-2.18013086e+00  2.91907643e-01]\n",
            " [-4.25284870e+00 -1.84113412e+00]\n",
            " [-3.48225371e+00 -5.65898761e-01]\n",
            " [-3.13502758e+00 -5.68884594e-01]\n",
            " [-2.14027106e+00  9.47959962e-01]\n",
            " [-4.03239748e+00 -9.24323067e-01]\n",
            " [-2.51760732e+00  2.87200644e-02]\n",
            " [-4.03120050e+00 -1.52118859e+00]\n",
            " [-2.48121801e+00 -3.37215210e-02]\n",
            " [-3.00108334e+00 -6.32499129e-01]\n",
            " [-3.31810089e+00 -4.97452820e-01]\n",
            " [-2.45517989e+00 -5.59430140e-01]\n",
            " [-2.17998420e+00  1.55715204e+00]\n",
            " [-2.18118018e+00  1.22129912e+00]\n",
            " [-3.48002481e+00 -4.96026245e-01]\n",
            " [-2.56881100e+00  9.40007966e-01]\n",
            " [-3.87960939e+00 -9.71527416e-01]\n",
            " [-2.88149652e+00 -4.61831360e-01]\n",
            " [-2.66542835e+00  1.51607213e-02]\n",
            " [-3.46048018e+00 -3.23485431e-01]\n",
            " [-3.33429051e+00  1.85231031e-01]\n",
            " [-3.37935479e+00  3.20132035e-01]\n",
            " [-2.52497938e+00  5.16918569e-01]\n",
            " [-2.93978011e+00 -3.93671731e-01]\n",
            " [-3.51694839e+00 -1.09184406e+00]\n",
            " [-4.00583040e+00  4.65086634e-01]\n",
            " [-3.08628104e+00  9.59514281e-02]\n",
            " [-3.88901589e+00  5.65159801e-01]\n",
            " [-3.28746985e+00 -6.20134760e-01]\n",
            " [-2.38057064e+00  5.21377701e-01]\n",
            " [-2.48164153e+00 -8.93104833e-02]\n",
            " [-1.94429823e+00 -2.16529671e-01]\n",
            " [-2.94331833e+00 -2.62658766e-01]\n",
            " [-1.97830252e+00  2.56001093e-01]\n",
            " [-2.64919490e+00  5.64965904e-01]\n",
            " [-4.01918279e+00 -8.18629553e-01]\n",
            " [-3.08620908e+00  4.63157865e-01]\n",
            " [-2.27113005e+00  2.89379969e-01]\n",
            " [-2.66791505e+00 -3.47983465e-01]\n",
            " [-2.86872583e+00 -2.23121552e-01]\n",
            " [-3.57514918e+00 -6.64126516e-01]\n",
            " [-2.67240118e+00  1.29806580e-01]\n",
            " [-3.17208659e+00  1.04746524e-01]\n",
            " [-3.96273606e+00 -5.27741819e-01]\n",
            " [-2.08814695e+00  8.86353492e-01]\n",
            " [-2.86727320e+00 -5.91370025e-01]\n",
            " [-8.98242753e-01  2.38426895e+00]\n",
            " [-3.63573691e+00 -3.98492777e-01]\n",
            " [-5.16718207e+00 -1.68083689e+00]\n",
            " [-3.94845701e+00 -2.92954753e-01]\n",
            " [-3.87240284e+00 -4.81353841e-01]\n",
            " [-3.12404487e+00  1.05035343e+00]\n",
            " [-4.33830957e+00 -1.04377411e+00]\n",
            " [-2.72092658e+00 -4.49298476e-02]\n",
            " [-4.41968739e+00 -1.10335973e+00]\n",
            " [-2.43971326e+00  1.41462646e-01]\n",
            " [-2.12191510e+00  7.76361442e-01]\n",
            " [-2.63998255e+00  2.97108572e-01]\n",
            " [-3.93749755e+00 -1.64683469e-01]\n",
            " [-5.36458413e+00 -1.12879216e+00]\n",
            " [-2.19085682e+00  7.49604848e-01]\n",
            " [-2.34312511e+00  7.19055358e-01]\n",
            " [-1.63396492e+00  1.13307583e+00]\n",
            " [-3.57227281e+00 -1.38955557e+00]\n",
            " [-3.18826165e+00 -1.10589014e-02]\n",
            " [-3.01758990e+00  3.09319562e-01]\n",
            " [-3.31516591e+00 -1.04538387e+00]\n",
            " [-2.47967936e+00  1.10431298e-01]\n",
            " [-2.01707972e+00  1.20399753e+00]\n",
            " [-2.55784957e+00  5.83055198e-01]\n",
            " [-3.18207200e+00 -9.35686938e-01]\n",
            " [-3.28722168e+00 -1.59640076e+00]\n",
            " [-2.82806848e+00 -5.53473776e-02]\n",
            " [-2.19898206e+00  1.96852991e-01]\n",
            " [-2.34550070e+00 -2.85877286e-01]\n",
            " [-1.17306742e+00  1.34671191e+00]\n",
            " [-2.26517941e+00  7.51777790e-01]\n",
            " [-2.38770313e+00 -6.35199237e-02]\n",
            " [-2.51959624e+00  6.99864672e-01]\n",
            " [-4.52165168e+00 -1.68241989e+00]\n",
            " [-4.37010066e+00 -2.78116954e+00]\n",
            " [-3.50695311e+00 -5.86146702e-01]\n",
            " [-2.76532691e+00  2.33655363e-01]\n",
            " [-3.67027064e+00 -2.10742103e-01]\n",
            " [-2.08985253e+00  9.65105382e-02]\n",
            " [-2.71000833e+00 -5.62386266e-01]\n",
            " [-2.37434413e+00 -7.44095973e-01]\n",
            " [-4.72211227e+00 -2.61161364e-01]\n",
            " [-3.37631757e+00 -9.58712472e-01]]\n"
          ],
          "name": "stdout"
        }
      ]
    },
    {
      "cell_type": "markdown",
      "metadata": {
        "id": "c9OR-AOLjJjG"
      },
      "source": [
        "問題2 散布図による可視化"
      ]
    },
    {
      "cell_type": "code",
      "metadata": {
        "colab": {
          "base_uri": "https://localhost:8080/",
          "height": 282
        },
        "id": "KZ-9k57YjNo3",
        "outputId": "424dad1c-3dda-47c2-8a64-ef4d22786f2d"
      },
      "source": [
        "plt.scatter(Multi_normal_distribution[:,0],Multi_normal_distribution[0:,1])"
      ],
      "execution_count": null,
      "outputs": [
        {
          "output_type": "execute_result",
          "data": {
            "text/plain": [
              "<matplotlib.collections.PathCollection at 0x7f2e186f54e0>"
            ]
          },
          "metadata": {
            "tags": []
          },
          "execution_count": 4
        },
        {
          "output_type": "display_data",
          "data": {
            "image/png": "[encoded data removed]",
            "text/plain": [
              "<Figure size 432x288 with 1 Axes>"
            ]
          },
          "metadata": {
            "tags": [],
            "needs_background": "light"
          }
        }
      ]
    },
    {
      "cell_type": "markdown",
      "metadata": {
        "id": "h4qyY6_Nnuj-"
      },
      "source": [
        "問題3 ヒストグラムによる可視化"
      ]
    },
    {
      "cell_type": "code",
      "metadata": {
        "colab": {
          "base_uri": "https://localhost:8080/",
          "height": 369
        },
        "id": "zQSOZtl4nyN5",
        "outputId": "9fb6cb4d-472c-4b53-96c1-ca6d77a95d86"
      },
      "source": [
        "plt.xlim(-8,8)\r\n",
        "plt.title('x1')\r\n",
        "plt.hist(Multi_normal_distribution[:,0])\r\n"
      ],
      "execution_count": null,
      "outputs": [
        {
          "output_type": "execute_result",
          "data": {
            "text/plain": [
              "(array([  2.,   2.,  13.,  49., 106., 124., 108.,  62.,  28.,   6.]),\n",
              " array([-6.90299368, -6.21913687, -5.53528006, -4.85142325, -4.16756644,\n",
              "        -3.48370963, -2.79985282, -2.11599601, -1.43213921, -0.7482824 ,\n",
              "        -0.06442559]),\n",
              " <a list of 10 Patch objects>)"
            ]
          },
          "metadata": {
            "tags": []
          },
          "execution_count": 5
        },
        {
          "output_type": "display_data",
          "data": {
            "image/png": "[encoded data removed]",
            "text/plain": [
              "<Figure size 432x288 with 1 Axes>"
            ]
          },
          "metadata": {
            "tags": [],
            "needs_background": "light"
          }
        }
      ]
    },
    {
      "cell_type": "code",
      "metadata": {
        "colab": {
          "base_uri": "https://localhost:8080/",
          "height": 369
        },
        "id": "0D0TRkiSoRaQ",
        "outputId": "282c4241-b63c-4e9b-803c-753bdb9f46c3"
      },
      "source": [
        "plt.xlim(-8,8)\r\n",
        "plt.title('x2')\r\n",
        "plt.hist(Multi_normal_distribution[:,1])"
      ],
      "execution_count": null,
      "outputs": [
        {
          "output_type": "execute_result",
          "data": {
            "text/plain": [
              "(array([  1.,   3.,  14.,  52., 106., 136., 110.,  59.,  16.,   3.]),\n",
              " array([-3.83940378, -3.15026421, -2.46112464, -1.77198507, -1.0828455 ,\n",
              "        -0.39370593,  0.29543364,  0.98457321,  1.67371278,  2.36285235,\n",
              "         3.05199192]),\n",
              " <a list of 10 Patch objects>)"
            ]
          },
          "metadata": {
            "tags": []
          },
          "execution_count": 6
        },
        {
          "output_type": "display_data",
          "data": {
            "image/png": "[encoded data removed]",
            "text/plain": [
              "<Figure size 432x288 with 1 Axes>"
            ]
          },
          "metadata": {
            "tags": [],
            "needs_background": "light"
          }
        }
      ]
    },
    {
      "cell_type": "code",
      "metadata": {
        "id": "xYasJ7NiotDg"
      },
      "source": [
        ""
      ],
      "execution_count": null,
      "outputs": []
    },
    {
      "cell_type": "markdown",
      "metadata": {
        "id": "fRm-nVWxpI58"
      },
      "source": [
        "問題4　データの追加"
      ]
    },
    {
      "cell_type": "code",
      "metadata": {
        "colab": {
          "base_uri": "https://localhost:8080/"
        },
        "id": "R-3L2QIPpLds",
        "outputId": "f98edddb-793e-4a03-9422-1df545b9dd7f"
      },
      "source": [
        "#多次元正規分布の乱数を新たに生成\r\n",
        "\r\n",
        "mean2=np.array([0,-3]) #平均\r\n",
        "cov2 =np.array([[1.0,0.8],\r\n",
        "              [0.8,1.0]]) #共分散行列を指定\r\n",
        "Multi_normal_distribution2= np.random.multivariate_normal(mean2, cov2, 500)\r\n",
        "np.random.seed(0)\r\n",
        "print(Multi_normal_distribution2.shape)\r\n",
        "#print(Multi_normal_distribution2)"
      ],
      "execution_count": null,
      "outputs": [
        {
          "output_type": "stream",
          "text": [
            "(500, 2)\n"
          ],
          "name": "stdout"
        }
      ]
    },
    {
      "cell_type": "code",
      "metadata": {
        "id": "dQNMd8TspcEv"
      },
      "source": [
        "#グラフを描画"
      ],
      "execution_count": null,
      "outputs": []
    },
    {
      "cell_type": "code",
      "metadata": {
        "colab": {
          "base_uri": "https://localhost:8080/",
          "height": 282
        },
        "id": "EcYQx2LQpfNx",
        "outputId": "d806af2a-cbf8-47f2-e874-e21524d5c5d5"
      },
      "source": [
        "\r\n",
        "plt.xlim(-8,8)\r\n",
        "plt.scatter(Multi_normal_distribution[:,0],Multi_normal_distribution[0:,1],label=\"0\")\r\n",
        "plt.scatter(Multi_normal_distribution2[:,0],Multi_normal_distribution2[0:,1],label=\"1\")\r\n",
        "plt.legend()"
      ],
      "execution_count": null,
      "outputs": [
        {
          "output_type": "execute_result",
          "data": {
            "text/plain": [
              "<matplotlib.legend.Legend at 0x7f2e180e3e10>"
            ]
          },
          "metadata": {
            "tags": []
          },
          "execution_count": 9
        },
        {
          "output_type": "display_data",
          "data": {
            "image/png": "[encoded data removed]",
            "text/plain": [
              "<Figure size 432x288 with 1 Axes>"
            ]
          },
          "metadata": {
            "tags": [],
            "needs_background": "light"
          }
        }
      ]
    },
    {
      "cell_type": "markdown",
      "metadata": {
        "id": "cIraVFiqq0jT"
      },
      "source": [
        "問題5　データの統合"
      ]
    },
    {
      "cell_type": "code",
      "metadata": {
        "colab": {
          "base_uri": "https://localhost:8080/"
        },
        "id": "-FMIr9JZpvgi",
        "outputId": "18fd6b3e-bb17-4bd3-9bf3-2ce297569515"
      },
      "source": [
        "marge = np.concatenate([Multi_normal_distribution,Multi_normal_distribution2])\r\n",
        "print(marge.shape)"
      ],
      "execution_count": null,
      "outputs": [
        {
          "output_type": "stream",
          "text": [
            "(1000, 2)\n"
          ],
          "name": "stdout"
        }
      ]
    },
    {
      "cell_type": "markdown",
      "metadata": {
        "id": "5D6tcgUPs5lG"
      },
      "source": [
        "問題6 ラベル付け"
      ]
    },
    {
      "cell_type": "code",
      "metadata": {
        "id": "X3BFC5gt9Tul"
      },
      "source": [
        "new=[]\r\n",
        "new_marge1=[]\r\n",
        "new_marge2=[]"
      ],
      "execution_count": null,
      "outputs": []
    },
    {
      "cell_type": "code",
      "metadata": {
        "id": "y4hvUbrlrpq9"
      },
      "source": [
        "new_marge1=np.insert(marge[0:500, :],marge.shape[1],0,axis=1)\r\n",
        "new_marge2=np.insert(marge[500:1000, :],marge.shape[1],1,axis=1)\r\n",
        "\r\n",
        "new= np.concatenate([new_marge1,new_marge2])"
      ],
      "execution_count": null,
      "outputs": []
    },
    {
      "cell_type": "code",
      "metadata": {
        "id": "qRvownhmtHf5"
      },
      "source": [
        ""
      ],
      "execution_count": null,
      "outputs": []
    }
  ]
}