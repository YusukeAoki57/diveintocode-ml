{
  "nbformat": 4,
  "nbformat_minor": 0,
  "metadata": {
    "colab": {
      "name": "Week2授業前課題_数学1.ipynb",
      "provenance": [],
      "collapsed_sections": [],
      "authorship_tag": "ABX9TyOSASViBu2u9DAZ4cINIvWJ",
      "include_colab_link": true
    },
    "kernelspec": {
      "name": "python3",
      "display_name": "Python 3"
    }
  },
  "cells": [
    {
      "cell_type": "markdown",
      "metadata": {
        "id": "view-in-github",
        "colab_type": "text"
      },
      "source": [
        "<a href=\"https://colab.research.google.com/github/YusukeAoki57/diveintocode-ml/blob/master/Week2%E6%8E%88%E6%A5%AD%E5%89%8D%E8%AA%B2%E9%A1%8C_%E6%95%B0%E5%AD%A61.ipynb\" target=\"_parent\"><img src=\"https://colab.research.google.com/assets/colab-badge.svg\" alt=\"Open In Colab\"/></a>"
      ]
    },
    {
      "cell_type": "markdown",
      "metadata": {
        "id": "NcH1wdy5uBNC"
      },
      "source": [
        "問題1 8X8のチェス盤"
      ]
    },
    {
      "cell_type": "code",
      "metadata": {
        "id": "pZXRrZqguF9d"
      },
      "source": [
        "import numpy as np"
      ],
      "execution_count": null,
      "outputs": []
    },
    {
      "cell_type": "code",
      "metadata": {
        "colab": {
          "base_uri": "https://localhost:8080/"
        },
        "id": "OosSKvJKuGuS",
        "outputId": "51b3e975-33e6-472d-fe99-9dc4e8a6803b"
      },
      "source": [
        "n_squares=4\r\n",
        "small_board_list=[1]\r\n",
        "for _ in range(n_squares - 1):\r\n",
        "    small_board_list.append(2*small_board_list[-1])\r\n",
        "small_board_ndarray = np.array(small_board_list).reshape(2,2) #shapeの形を変形\r\n",
        "print(small_board_ndarray) "
      ],
      "execution_count": null,
      "outputs": [
        {
          "output_type": "stream",
          "text": [
            "[[1 2]\n",
            " [4 8]]\n"
          ],
          "name": "stdout"
        }
      ]
    },
    {
      "cell_type": "markdown",
      "metadata": {
        "id": "7a9BISCywmNq"
      },
      "source": [
        "問題2 n×mマスのチェス盤"
      ]
    },
    {
      "cell_type": "code",
      "metadata": {
        "colab": {
          "base_uri": "https://localhost:8080/"
        },
        "id": "r3afqtgiwqRw",
        "outputId": "21422e09-6ed8-4c7d-93fa-f7cccc7db78e"
      },
      "source": [
        "def nm_surface(n,m):\r\n",
        "  n_squares=n*m\r\n",
        "  board_list=[1]\r\n",
        "  for _ in range(n_squares-1):\r\n",
        "    board_list.append(2*board_list[-1])\r\n",
        "  board_ndarray=np.array(board_list).reshape(n,m) #shapeの形を変形\r\n",
        "  return board_ndarray\r\n",
        "\r\n",
        "n=8\r\n",
        "m=8\r\n",
        "print(str(n)+\"×\"+str(m)+\"の盤に小麦を並べる（リスト）：{}\".format(nm_surface(n,m)))\r\n"
      ],
      "execution_count": null,
      "outputs": [
        {
          "output_type": "stream",
          "text": [
            "8×8の盤に小麦を並べる（リスト）：[[1.00000000e+00 2.00000000e+00 4.00000000e+00 8.00000000e+00\n",
            "  1.60000000e+01 3.20000000e+01 6.40000000e+01 1.28000000e+02]\n",
            " [2.56000000e+02 5.12000000e+02 1.02400000e+03 2.04800000e+03\n",
            "  4.09600000e+03 8.19200000e+03 1.63840000e+04 3.27680000e+04]\n",
            " [6.55360000e+04 1.31072000e+05 2.62144000e+05 5.24288000e+05\n",
            "  1.04857600e+06 2.09715200e+06 4.19430400e+06 8.38860800e+06]\n",
            " [1.67772160e+07 3.35544320e+07 6.71088640e+07 1.34217728e+08\n",
            "  2.68435456e+08 5.36870912e+08 1.07374182e+09 2.14748365e+09]\n",
            " [4.29496730e+09 8.58993459e+09 1.71798692e+10 3.43597384e+10\n",
            "  6.87194767e+10 1.37438953e+11 2.74877907e+11 5.49755814e+11]\n",
            " [1.09951163e+12 2.19902326e+12 4.39804651e+12 8.79609302e+12\n",
            "  1.75921860e+13 3.51843721e+13 7.03687442e+13 1.40737488e+14]\n",
            " [2.81474977e+14 5.62949953e+14 1.12589991e+15 2.25179981e+15\n",
            "  4.50359963e+15 9.00719925e+15 1.80143985e+16 3.60287970e+16]\n",
            " [7.20575940e+16 1.44115188e+17 2.88230376e+17 5.76460752e+17\n",
            "  1.15292150e+18 2.30584301e+18 4.61168602e+18 9.22337204e+18]]\n"
          ],
          "name": "stdout"
        }
      ]
    },
    {
      "cell_type": "markdown",
      "metadata": {
        "id": "bXTgNq6LzUNh"
      },
      "source": [
        "問題3 小麦の数の合計"
      ]
    },
    {
      "cell_type": "code",
      "metadata": {
        "id": "QEiTmJQSzXSN"
      },
      "source": [
        "#行列の合計　"
      ],
      "execution_count": null,
      "outputs": []
    },
    {
      "cell_type": "code",
      "metadata": {
        "colab": {
          "base_uri": "https://localhost:8080/"
        },
        "id": "oqr8hlxo_rgL",
        "outputId": "20188d37-24f8-4942-8bd3-5a731895b874"
      },
      "source": [
        "print(str(n)+\"×\"+str(m)+\"の行列の合計は\"+str(np.sum(nm_surface(n,m))))"
      ],
      "execution_count": null,
      "outputs": [
        {
          "output_type": "stream",
          "text": [
            "8×8の行列の合計は1.8446744073709552e+19\n"
          ],
          "name": "stdout"
        }
      ]
    },
    {
      "cell_type": "code",
      "metadata": {
        "id": "_4jbIKfu_4p5"
      },
      "source": [
        "#行列の平均"
      ],
      "execution_count": null,
      "outputs": []
    },
    {
      "cell_type": "code",
      "metadata": {
        "colab": {
          "base_uri": "https://localhost:8080/"
        },
        "id": "zZx6rULgAGmH",
        "outputId": "a8950f31-c292-4e00-c97f-f43519af13fc"
      },
      "source": [
        "print(str(n)+\"×\"+str(m)+\"の行列の平均は\"+str(np.mean(nm_surface(n,m),axis=0)))"
      ],
      "execution_count": null,
      "outputs": [
        {
          "output_type": "stream",
          "text": [
            "8×8の行列の平均は[9.04252160e+15 1.80850432e+16 3.61700864e+16 7.23401728e+16\n",
            " 1.44680346e+17 2.89360691e+17 5.78721383e+17 1.15744277e+18]\n"
          ],
          "name": "stdout"
        }
      ]
    },
    {
      "cell_type": "code",
      "metadata": {
        "colab": {
          "base_uri": "https://localhost:8080/"
        },
        "id": "f-nYX681CCRm",
        "outputId": "c98d2ef6-d91e-42a0-a350-2164133dc7d4"
      },
      "source": [
        "np.arange(1,8)"
      ],
      "execution_count": null,
      "outputs": [
        {
          "output_type": "execute_result",
          "data": {
            "text/plain": [
              "array([1, 2, 3, 4, 5, 6, 7])"
            ]
          },
          "metadata": {
            "tags": []
          },
          "execution_count": 111
        }
      ]
    },
    {
      "cell_type": "code",
      "metadata": {
        "colab": {
          "base_uri": "https://localhost:8080/",
          "height": 295
        },
        "id": "GBCNiJK1ASpd",
        "outputId": "20cbb07d-4fa5-49bb-bc35-844000a6d629"
      },
      "source": [
        "import matplotlib.pyplot as plt\r\n",
        "%matplotlib inline\r\n",
        "plt.xlabel(\"number\")\r\n",
        "plt.ylabel(\"mean\")\r\n",
        "plt.title(\"mean in each number\")\r\n",
        "plt.bar(np.arange(1,9), np.mean(nm_surface(n,m),axis=0))\r\n",
        "plt.show()"
      ],
      "execution_count": null,
      "outputs": [
        {
          "output_type": "display_data",
          "data": {
            "image/png": "[encoded data removed]",
            "text/plain": [
              "<Figure size 432x288 with 1 Axes>"
            ]
          },
          "metadata": {
            "tags": [],
            "needs_background": "light"
          }
        }
      ]
    },
    {
      "cell_type": "markdown",
      "metadata": {
        "id": "fvCQAC4KCLAA"
      },
      "source": [
        "問題4　小麦の数のヒートマップ"
      ]
    },
    {
      "cell_type": "code",
      "metadata": {
        "colab": {
          "base_uri": "https://localhost:8080/",
          "height": 295
        },
        "id": "UScgNRkjA03L",
        "outputId": "5c27f4b0-988c-4162-a6d7-a054cc6f23a3"
      },
      "source": [
        "plt.xlabel(\"column\")\r\n",
        "plt.ylabel(\"row\")\r\n",
        "plt.title(\"heatmap\")\r\n",
        "plt.pcolor(nm_surface(n,m))\r\n",
        "plt.show()"
      ],
      "execution_count": null,
      "outputs": [
        {
          "output_type": "display_data",
          "data": {
            "image/png": "[encoded data removed]",
            "text/plain": [
              "<Figure size 432x288 with 1 Axes>"
            ]
          },
          "metadata": {
            "tags": [],
            "needs_background": "light"
          }
        }
      ]
    },
    {
      "cell_type": "markdown",
      "metadata": {
        "id": "J0Zi5JZnD72D"
      },
      "source": [
        "問題5 後半は前半の何倍か"
      ]
    },
    {
      "cell_type": "code",
      "metadata": {
        "id": "2hHS6_pnD_uy"
      },
      "source": [
        "#前半の小麦の数の合計"
      ],
      "execution_count": null,
      "outputs": []
    },
    {
      "cell_type": "code",
      "metadata": {
        "id": "t78R81rkEQzb"
      },
      "source": [
        "line_sum=np.sum(nm_surface(n,m),axis=1) #各行の合計"
      ],
      "execution_count": null,
      "outputs": []
    },
    {
      "cell_type": "code",
      "metadata": {
        "colab": {
          "base_uri": "https://localhost:8080/"
        },
        "id": "IfitdnIdFVvP",
        "outputId": "43901c62-49eb-47d0-b093-fa84f11609b1"
      },
      "source": [
        "print(line_sum)"
      ],
      "execution_count": null,
      "outputs": [
        {
          "output_type": "stream",
          "text": [
            "[2.55000000e+02 6.52800000e+04 1.67116800e+07 4.27819008e+09\n",
            " 1.09521666e+12 2.80375465e+14 7.17761191e+16 1.83746865e+19]\n"
          ],
          "name": "stdout"
        }
      ]
    },
    {
      "cell_type": "code",
      "metadata": {
        "colab": {
          "base_uri": "https://localhost:8080/"
        },
        "id": "WXYpzpgxEsot",
        "outputId": "75d1fbc4-a6c8-4704-bc0d-38f4a71bff52"
      },
      "source": [
        "front=3 #前半の行の終わり\r\n",
        "front_sum=0\r\n",
        "back_sum=0\r\n",
        "\r\n",
        "for i in range(len(line_sum)):\r\n",
        "  if i<=front:\r\n",
        "    front_sum=line_sum[i]\r\n",
        "  elif i>front:\r\n",
        "    back_sum=line_sum[i]\r\n",
        "\r\n",
        "#後半は前半の何倍か求める\r\n",
        "double_num=back_sum/front_sum\r\n",
        "print(\"後半は前半の{}倍\".format(double_num))"
      ],
      "execution_count": null,
      "outputs": [
        {
          "output_type": "stream",
          "text": [
            "後半は前半の4294967296.0倍\n"
          ],
          "name": "stdout"
        }
      ]
    },
    {
      "cell_type": "code",
      "metadata": {
        "id": "Och2JxgjF9Ea"
      },
      "source": [
        ""
      ],
      "execution_count": null,
      "outputs": []
    },
    {
      "cell_type": "markdown",
      "metadata": {
        "id": "vIk2Z59pGlYn"
      },
      "source": [
        "問題6　他の計算方法によるn×mマスへの拡張"
      ]
    },
    {
      "cell_type": "code",
      "metadata": {
        "id": "os_6fBKEQLlW"
      },
      "source": [
        "#np.appendを使用したケース"
      ],
      "execution_count": null,
      "outputs": []
    },
    {
      "cell_type": "code",
      "metadata": {
        "colab": {
          "base_uri": "https://localhost:8080/"
        },
        "id": "D_gfB8WzGmmp",
        "outputId": "b2c13ab6-2f13-4ccd-f941-eb2e82b18924"
      },
      "source": [
        "def app_ver(n,m):\r\n",
        "  n_squares = 64\r\n",
        "  board_ndarray = np.array([1])\r\n",
        "  for _ in range(n_squares - 1):\r\n",
        "    board_ndarray = np.append(board_ndarray, 2*board_ndarray[-1]).astype(np.uint64)\r\n",
        "  re_board_ndarray=board_ndarray.reshape(n,m)\r\n",
        "  return re_board_ndarray\r\n",
        "\r\n",
        "n=8\r\n",
        "m=8\r\n",
        "print(str(n)+\"×\"+str(m)+\"マスのリスト：{}\".format(app_ver(n,m)))"
      ],
      "execution_count": null,
      "outputs": [
        {
          "output_type": "stream",
          "text": [
            "8×8マスのリスト：[[                  1                   2                   4\n",
            "                    8                  16                  32\n",
            "                   64                 128]\n",
            " [                256                 512                1024\n",
            "                 2048                4096                8192\n",
            "                16384               32768]\n",
            " [              65536              131072              262144\n",
            "               524288             1048576             2097152\n",
            "              4194304             8388608]\n",
            " [           16777216            33554432            67108864\n",
            "            134217728           268435456           536870912\n",
            "           1073741824          2147483648]\n",
            " [         4294967296          8589934592         17179869184\n",
            "          34359738368         68719476736        137438953472\n",
            "         274877906944        549755813888]\n",
            " [      1099511627776       2199023255552       4398046511104\n",
            "        8796093022208      17592186044416      35184372088832\n",
            "       70368744177664     140737488355328]\n",
            " [    281474976710656     562949953421312    1125899906842624\n",
            "     2251799813685248    4503599627370496    9007199254740992\n",
            "    18014398509481984   36028797018963968]\n",
            " [  72057594037927936  144115188075855872  288230376151711744\n",
            "   576460752303423488 1152921504606846976 2305843009213693952\n",
            "  4611686018427387904 9223372036854775808]]\n"
          ],
          "name": "stdout"
        }
      ]
    },
    {
      "cell_type": "code",
      "metadata": {
        "id": "nMgZrsp9GrvJ"
      },
      "source": [
        "#ブロードキャストを使用したケース"
      ],
      "execution_count": null,
      "outputs": []
    },
    {
      "cell_type": "code",
      "metadata": {
        "colab": {
          "base_uri": "https://localhost:8080/"
        },
        "id": "ywSEPrQ1LG2t",
        "outputId": "400d9490-422b-4588-de0c-112a65407f9c"
      },
      "source": [
        "def cast(n,m):\r\n",
        "  n_squares = n*m\r\n",
        "  indices_of_squares = np.arange(n_squares).astype(np.uint64)\r\n",
        "  board_ndarray = 2**indices_of_squares.reshape(n,m)\r\n",
        "  return board_ndarray\r\n",
        "\r\n",
        "n=8\r\n",
        "m=8\r\n",
        "print(str(n)+\"×\"+str(m)+\"マスのリスト：{}\".format(cast(n,m)))"
      ],
      "execution_count": null,
      "outputs": [
        {
          "output_type": "stream",
          "text": [
            "8×8マスのリスト：[[                  1                   2                   4\n",
            "                    8                  16                  32\n",
            "                   64                 128]\n",
            " [                256                 512                1024\n",
            "                 2048                4096                8192\n",
            "                16384               32768]\n",
            " [              65536              131072              262144\n",
            "               524288             1048576             2097152\n",
            "              4194304             8388608]\n",
            " [           16777216            33554432            67108864\n",
            "            134217728           268435456           536870912\n",
            "           1073741824          2147483648]\n",
            " [         4294967296          8589934592         17179869184\n",
            "          34359738368         68719476736        137438953472\n",
            "         274877906944        549755813888]\n",
            " [      1099511627776       2199023255552       4398046511104\n",
            "        8796093022208      17592186044416      35184372088832\n",
            "       70368744177664     140737488355328]\n",
            " [    281474976710656     562949953421312    1125899906842624\n",
            "     2251799813685248    4503599627370496    9007199254740992\n",
            "    18014398509481984   36028797018963968]\n",
            " [  72057594037927936  144115188075855872  288230376151711744\n",
            "   576460752303423488 1152921504606846976 2305843009213693952\n",
            "  4611686018427387904 9223372036854775808]]\n"
          ],
          "name": "stdout"
        }
      ]
    },
    {
      "cell_type": "code",
      "metadata": {
        "id": "4VCVaEEaQvxz"
      },
      "source": [
        ""
      ],
      "execution_count": null,
      "outputs": []
    },
    {
      "cell_type": "markdown",
      "metadata": {
        "id": "mUEj4MfgRUqU"
      },
      "source": [
        "問題7 計算時間の比較"
      ]
    },
    {
      "cell_type": "code",
      "metadata": {
        "colab": {
          "base_uri": "https://localhost:8080/"
        },
        "id": "hFVI7fgDRgmj",
        "outputId": "1c3a99be-52a4-486c-a801-10bf2a42b2a2"
      },
      "source": [
        "#リストを用いたケース\r\n",
        "%%timeit\r\n",
        "nm_surface(8,8)"
      ],
      "execution_count": null,
      "outputs": [
        {
          "output_type": "stream",
          "text": [
            "100000 loops, best of 3: 16.1 µs per loop\n"
          ],
          "name": "stdout"
        }
      ]
    },
    {
      "cell_type": "code",
      "metadata": {
        "colab": {
          "base_uri": "https://localhost:8080/"
        },
        "id": "lk9vTdloWWMj",
        "outputId": "1e4e1923-a34d-49e4-f923-e4821e737317"
      },
      "source": [
        "# appendを用いたケース\r\n",
        "%%timeit\r\n",
        "app_ver(8,8)"
      ],
      "execution_count": null,
      "outputs": [
        {
          "output_type": "stream",
          "text": [
            "1000 loops, best of 3: 660 µs per loop\n"
          ],
          "name": "stdout"
        }
      ]
    },
    {
      "cell_type": "code",
      "metadata": {
        "colab": {
          "base_uri": "https://localhost:8080/"
        },
        "id": "58rvAFiVXWCs",
        "outputId": "00144f9c-f2df-4dac-b3e9-6e9234937602"
      },
      "source": [
        "#ブロードキャストを用いたケース\r\n",
        "%%timeit\r\n",
        "cast(8,8)"
      ],
      "execution_count": null,
      "outputs": [
        {
          "output_type": "stream",
          "text": [
            "The slowest run took 16.13 times longer than the fastest. This could mean that an intermediate result is being cached.\n",
            "100000 loops, best of 3: 3.61 µs per loop\n"
          ],
          "name": "stdout"
        }
      ]
    },
    {
      "cell_type": "code",
      "metadata": {
        "id": "l241nc6CXdo7"
      },
      "source": [
        ""
      ],
      "execution_count": null,
      "outputs": []
    }
  ]
}