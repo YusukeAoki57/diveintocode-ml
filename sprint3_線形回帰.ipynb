{
  "nbformat": 4,
  "nbformat_minor": 0,
  "metadata": {
    "colab": {
      "name": "sprint3_線形回帰.ipynb",
      "provenance": [],
      "collapsed_sections": [],
      "authorship_tag": "ABX9TyNYOPuUqTQQztAEXETaM1um",
      "include_colab_link": true
    },
    "kernelspec": {
      "name": "python3",
      "display_name": "Python 3"
    },
    "accelerator": "TPU"
  },
  "cells": [
    {
      "cell_type": "markdown",
      "metadata": {
        "id": "view-in-github",
        "colab_type": "text"
      },
      "source": [
        "<a href=\"https://colab.research.google.com/github/YusukeAoki57/diveintocode-ml/blob/master/sprint3_%E7%B7%9A%E5%BD%A2%E5%9B%9E%E5%B8%B0.ipynb\" target=\"_parent\"><img src=\"https://colab.research.google.com/assets/colab-badge.svg\" alt=\"Open In Colab\"/></a>"
      ]
    },
    {
      "cell_type": "code",
      "metadata": {
        "id": "58V0zgf7t-G-"
      },
      "source": [
        "import numpy as np\r\n",
        "import matplotlib.pyplot as plt"
      ],
      "execution_count": 3,
      "outputs": []
    },
    {
      "cell_type": "markdown",
      "metadata": {
        "id": "VZwFhXYhLEgx"
      },
      "source": [
        "問題1～7"
      ]
    },
    {
      "cell_type": "code",
      "metadata": {
        "id": "huwbgZxkLDP2"
      },
      "source": [
        "class ScratchLinearRegression():\r\n",
        "  def __init__(self, num_iter=1, lr=0.2,verbose=True):\r\n",
        "    # ハイパーパラメータを属性として記録\r\n",
        "    self.iter = 1000\r\n",
        "    self.lr = 0.000000001\r\n",
        "    self.no_bias = 1\r\n",
        "    self.verbose = verbose\r\n",
        "    # 損失を記録する配列を用意\r\n",
        "    self.loss = np.zeros(self.iter)\r\n",
        "    self.val_loss = np.zeros(self.iter)\r\n",
        "    self.cost=[]\r\n",
        "  def _linear_hypothesis(self,X,theta):\r\n",
        "      #仮定関数の実装\r\n",
        "      y_hat=np.dot(X,self.theta.T) #(j,n)×(n,1)=(j,1)\r\n",
        "      return y_hat\r\n",
        "\r\n",
        "  def _gradient_descent(self,X,y,theta):\r\n",
        "      \r\n",
        "      n=X.shape[0] #サンプル数の数  \r\n",
        "      #yを(j,1)に\r\n",
        "      y=y.reshape(y.shape[0],1)\r\n",
        "      for i in range(self.iter):\r\n",
        "        #y_hat呼び出し\r\n",
        "        y_hat=self._linear_hypothesis(X,self.theta)\r\n",
        "  \r\n",
        "        #微分計算\r\n",
        "        dtheta=np.sum(X*(y_hat-y),axis=0)*(1/n) #(j,n)×(j,1)=(j,n)→ axis=0のsumにより(1,n) \r\n",
        "        #print(\"dtheta\"+str(dtheta))\r\n",
        "\r\n",
        "        #コスト関数計算\r\n",
        "        self.cost.append((1/(2*n))*np.sum((y_hat-y)**2,axis=0)) #(1,1)\r\n",
        "        \"\"\"\r\n",
        "        if self.verbose:\r\n",
        "          print(\"cost: \"+str(self.cost[i]))\r\n",
        "        \"\"\"\r\n",
        "        #theta更新\r\n",
        "        self.theta = self.theta - self.lr*dtheta #(1,n)\r\n",
        "        #print(\"theta\"+str(theta.shape))\r\n",
        "      return self.cost,self.theta\r\n",
        "\r\n",
        "  def fit(self, X, y, X_val=None, y_val=None):\r\n",
        "      #init_thetaの実装 (1行,n列)\r\n",
        "      self.theta=np.random.rand(1,X.shape[1])\r\n",
        "\r\n",
        "      #最急降下法実装\r\n",
        "\r\n",
        "      self.cost, self.theta =self._gradient_descent(X,y,self.theta)\r\n",
        "\r\n",
        "      plt.plot(self.cost)\r\n",
        "      plt.ylabel(\"Cost\")\r\n",
        "      plt.xlabel(\"Iteration\")\r\n",
        "      plt.show()\r\n",
        "      return self.theta\r\n",
        "  def predict(self, X):\r\n",
        "        \"\"\"\r\n",
        "        線形回帰を使い推定する。\r\n",
        "        Parameters\r\n",
        "        ----------\r\n",
        "        X : 次の形のndarray, shape (n_samples, n_features)\r\n",
        "            サンプル\r\n",
        "        Returns\r\n",
        "        -------\r\n",
        "            次の形のndarray, shape (n_samples, 1)\r\n",
        "            線形回帰による推定結果\r\n",
        "        \"\"\"\r\n",
        "\r\n",
        "        y_pred=np.dot(X,self.theta.T) #(j,n)×(n,1)=(j,1)\r\n",
        "        return y_pred"
      ],
      "execution_count": 97,
      "outputs": []
    },
    {
      "cell_type": "code",
      "metadata": {
        "colab": {
          "base_uri": "https://localhost:8080/"
        },
        "id": "sCb0U6XaQiUL",
        "outputId": "9a747c38-5f4a-4644-9277-1d04121133d2"
      },
      "source": [
        "#House Priceコンペデータ\r\n",
        "from google.colab import drive\r\n",
        "drive.mount('/content/drive')"
      ],
      "execution_count": 98,
      "outputs": [
        {
          "output_type": "stream",
          "text": [
            "Drive already mounted at /content/drive; to attempt to forcibly remount, call drive.mount(\"/content/drive\", force_remount=True).\n"
          ],
          "name": "stdout"
        }
      ]
    },
    {
      "cell_type": "code",
      "metadata": {
        "id": "p0wNgPgnTLgk"
      },
      "source": [
        "import pandas as pd \r\n",
        "train= pd.read_csv('drive/My Drive/DIVE INTO CODE/0_課題/1月/2_week3/授業前課題/data/train.csv',dtype = None)\r\n"
      ],
      "execution_count": 99,
      "outputs": []
    },
    {
      "cell_type": "code",
      "metadata": {
        "id": "Ky5w2LT0TbfN"
      },
      "source": [
        "import numpy as np"
      ],
      "execution_count": 100,
      "outputs": []
    },
    {
      "cell_type": "code",
      "metadata": {
        "id": "ZrV_z4D4Tloz"
      },
      "source": [
        "x_1=train.loc[:,'GrLivArea']\r\n",
        "x_2=train.loc[:,'YearBuilt']\r\n",
        "\r\n",
        "x=pd.concat([x_1,x_2],axis=1)\r\n",
        "y=train.loc[:,'SalePrice']\r\n",
        "\r\n",
        "#前処理用の結合\r\n",
        "xy=pd.concat([x,y],axis=1)"
      ],
      "execution_count": 101,
      "outputs": []
    },
    {
      "cell_type": "code",
      "metadata": {
        "colab": {
          "base_uri": "https://localhost:8080/",
          "height": 402
        },
        "id": "0NLWWdJnTpC5",
        "outputId": "d951813c-391c-4004-9344-bdd85c82df1a"
      },
      "source": [
        "#欠損値の確認・削除\r\n",
        "\r\n",
        "x1_mis_par=train.loc[:,'GrLivArea'].isnull().sum()/len(train)*100\r\n",
        "x2_mis_par=train.loc[:,'YearBuilt'].isnull().sum()/len(train)*100\r\n",
        "y_mis_par=train.loc[:,'SalePrice'].isnull().sum()/len(train)*100\r\n",
        "\r\n",
        "#欠損値の削除\r\n",
        "xy.dropna(how='all')\r\n"
      ],
      "execution_count": 102,
      "outputs": [
        {
          "output_type": "execute_result",
          "data": {
            "text/html": [
              "<div>\n",
              "<style scoped>\n",
              "    .dataframe tbody tr th:only-of-type {\n",
              "        vertical-align: middle;\n",
              "    }\n",
              "\n",
              "    .dataframe tbody tr th {\n",
              "        vertical-align: top;\n",
              "    }\n",
              "\n",
              "    .dataframe thead th {\n",
              "        text-align: right;\n",
              "    }\n",
              "</style>\n",
              "<table border=\"1\" class=\"dataframe\">\n",
              "  <thead>\n",
              "    <tr style=\"text-align: right;\">\n",
              "      <th></th>\n",
              "      <th>GrLivArea</th>\n",
              "      <th>YearBuilt</th>\n",
              "      <th>SalePrice</th>\n",
              "    </tr>\n",
              "  </thead>\n",
              "  <tbody>\n",
              "    <tr>\n",
              "      <th>0</th>\n",
              "      <td>1710</td>\n",
              "      <td>2003</td>\n",
              "      <td>208500</td>\n",
              "    </tr>\n",
              "    <tr>\n",
              "      <th>1</th>\n",
              "      <td>1262</td>\n",
              "      <td>1976</td>\n",
              "      <td>181500</td>\n",
              "    </tr>\n",
              "    <tr>\n",
              "      <th>2</th>\n",
              "      <td>1786</td>\n",
              "      <td>2001</td>\n",
              "      <td>223500</td>\n",
              "    </tr>\n",
              "    <tr>\n",
              "      <th>3</th>\n",
              "      <td>1717</td>\n",
              "      <td>1915</td>\n",
              "      <td>140000</td>\n",
              "    </tr>\n",
              "    <tr>\n",
              "      <th>4</th>\n",
              "      <td>2198</td>\n",
              "      <td>2000</td>\n",
              "      <td>250000</td>\n",
              "    </tr>\n",
              "    <tr>\n",
              "      <th>...</th>\n",
              "      <td>...</td>\n",
              "      <td>...</td>\n",
              "      <td>...</td>\n",
              "    </tr>\n",
              "    <tr>\n",
              "      <th>1455</th>\n",
              "      <td>1647</td>\n",
              "      <td>1999</td>\n",
              "      <td>175000</td>\n",
              "    </tr>\n",
              "    <tr>\n",
              "      <th>1456</th>\n",
              "      <td>2073</td>\n",
              "      <td>1978</td>\n",
              "      <td>210000</td>\n",
              "    </tr>\n",
              "    <tr>\n",
              "      <th>1457</th>\n",
              "      <td>2340</td>\n",
              "      <td>1941</td>\n",
              "      <td>266500</td>\n",
              "    </tr>\n",
              "    <tr>\n",
              "      <th>1458</th>\n",
              "      <td>1078</td>\n",
              "      <td>1950</td>\n",
              "      <td>142125</td>\n",
              "    </tr>\n",
              "    <tr>\n",
              "      <th>1459</th>\n",
              "      <td>1256</td>\n",
              "      <td>1965</td>\n",
              "      <td>147500</td>\n",
              "    </tr>\n",
              "  </tbody>\n",
              "</table>\n",
              "<p>1460 rows × 3 columns</p>\n",
              "</div>"
            ],
            "text/plain": [
              "      GrLivArea  YearBuilt  SalePrice\n",
              "0          1710       2003     208500\n",
              "1          1262       1976     181500\n",
              "2          1786       2001     223500\n",
              "3          1717       1915     140000\n",
              "4          2198       2000     250000\n",
              "...         ...        ...        ...\n",
              "1455       1647       1999     175000\n",
              "1456       2073       1978     210000\n",
              "1457       2340       1941     266500\n",
              "1458       1078       1950     142125\n",
              "1459       1256       1965     147500\n",
              "\n",
              "[1460 rows x 3 columns]"
            ]
          },
          "metadata": {
            "tags": []
          },
          "execution_count": 102
        }
      ]
    },
    {
      "cell_type": "code",
      "metadata": {
        "id": "iFTQTJJLYm0E",
        "colab": {
          "base_uri": "https://localhost:8080/"
        },
        "outputId": "8c1824a6-d1c4-4791-eb4f-25d66cdfb03f"
      },
      "source": [
        "from sklearn.model_selection import train_test_split\r\n",
        "#Numpy化\r\n",
        "X_1 = xy.iloc[:,0].values.reshape(-1,1)\r\n",
        "X_2 = xy.iloc[:,1].values.reshape(-1,1)\r\n",
        "print(X_1.shape)\r\n",
        "y = xy.iloc[:,2].values\r\n",
        "print(y.shape)\r\n",
        "#訓練データとテストデータに分割\r\n",
        "x_train, x_test, y_train, y_test = train_test_split(X_1, y, test_size=0.25, random_state=0)"
      ],
      "execution_count": 103,
      "outputs": [
        {
          "output_type": "stream",
          "text": [
            "(1460, 1)\n",
            "(1460,)\n"
          ],
          "name": "stdout"
        }
      ]
    },
    {
      "cell_type": "code",
      "metadata": {
        "colab": {
          "base_uri": "https://localhost:8080/",
          "height": 326
        },
        "id": "DYGIeMcMTrir",
        "outputId": "98cbd0cb-b134-419d-cae5-a2b547d94796"
      },
      "source": [
        "slr=ScratchLinearRegression()\r\n",
        "slr.fit(x_train,y_train)\r\n",
        "y_pred=slr.predict(x_test)\r\n",
        "print(y_pred.shape)\r\n",
        "print(x_test.shape)"
      ],
      "execution_count": 104,
      "outputs": [
        {
          "output_type": "display_data",
          "data": {
            "image/png": "[encoded data removed]",
            "text/plain": [
              "<Figure size 432x288 with 1 Axes>"
            ]
          },
          "metadata": {
            "tags": [],
            "needs_background": "light"
          }
        },
        {
          "output_type": "stream",
          "text": [
            "(365, 1)\n",
            "(365, 1)\n"
          ],
          "name": "stdout"
        }
      ]
    },
    {
      "cell_type": "code",
      "metadata": {
        "colab": {
          "base_uri": "https://localhost:8080/",
          "height": 279
        },
        "id": "_HWLd-9f6glM",
        "outputId": "cf931d71-356c-4a62-ea61-f552573e8c77"
      },
      "source": [
        "#スクラッチグラフ\r\n",
        "plt.scatter(y_pred,x_test)\r\n",
        "plt.ylabel(\"Y\")\r\n",
        "plt.xlabel(\"X\")\r\n",
        "plt.show()"
      ],
      "execution_count": 105,
      "outputs": [
        {
          "output_type": "display_data",
          "data": {
            "image/png": "[encoded data removed]",
            "text/plain": [
              "<Figure size 432x288 with 1 Axes>"
            ]
          },
          "metadata": {
            "tags": [],
            "needs_background": "light"
          }
        }
      ]
    },
    {
      "cell_type": "code",
      "metadata": {
        "id": "j01RivFovvaG",
        "colab": {
          "base_uri": "https://localhost:8080/",
          "height": 297
        },
        "outputId": "b6347e01-1c90-4810-d47e-be8f79b4d0b3"
      },
      "source": [
        "#SK-learn\r\n",
        "from sklearn.linear_model import LinearRegression\r\n",
        "lr = LinearRegression()\r\n",
        "lr.fit(x_train,y_train)\r\n",
        "y_pred2=lr.predict(x_test)\r\n",
        "print(y_pred2.shape)\r\n",
        "plt.scatter(y_pred2,x_test)\r\n",
        "plt.ylabel(\"Y\")\r\n",
        "plt.xlabel(\"X\")\r\n",
        "plt.show()\r\n"
      ],
      "execution_count": 106,
      "outputs": [
        {
          "output_type": "stream",
          "text": [
            "(365,)\n"
          ],
          "name": "stdout"
        },
        {
          "output_type": "display_data",
          "data": {
            "image/png": "[encoded data removed]",
            "text/plain": [
              "<Figure size 432x288 with 1 Axes>"
            ]
          },
          "metadata": {
            "tags": [],
            "needs_background": "light"
          }
        }
      ]
    },
    {
      "cell_type": "code",
      "metadata": {
        "colab": {
          "base_uri": "https://localhost:8080/"
        },
        "id": "fTqoVeDJ6D2J",
        "outputId": "46e85fe3-c4d7-45c6-bf08-afbcde6699bd"
      },
      "source": [
        "#評価（決定係数）\r\n",
        "from sklearn.metrics import r2_score\r\n",
        "r2_score(y_test, y_pred)  #スクラッチ"
      ],
      "execution_count": 107,
      "outputs": [
        {
          "output_type": "execute_result",
          "data": {
            "text/plain": [
              "0.39229217619426415"
            ]
          },
          "metadata": {
            "tags": []
          },
          "execution_count": 107
        }
      ]
    },
    {
      "cell_type": "code",
      "metadata": {
        "colab": {
          "base_uri": "https://localhost:8080/"
        },
        "id": "RBZippFL9ma5",
        "outputId": "864f5b8a-d654-457a-9851-7e9c7070be68"
      },
      "source": [
        "r2_score(y_test, y_pred2)  #sk-learn"
      ],
      "execution_count": 108,
      "outputs": [
        {
          "output_type": "execute_result",
          "data": {
            "text/plain": [
              "0.4387893669360625"
            ]
          },
          "metadata": {
            "tags": []
          },
          "execution_count": 108
        }
      ]
    },
    {
      "cell_type": "code",
      "metadata": {
        "id": "9cO6KJPC9sG1"
      },
      "source": [
        ""
      ],
      "execution_count": null,
      "outputs": []
    }
  ]
}