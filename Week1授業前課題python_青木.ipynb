{
  "nbformat": 4,
  "nbformat_minor": 0,
  "metadata": {
    "colab": {
      "name": "Week1授業前課題python_青木.ipynb",
      "provenance": [],
      "collapsed_sections": [],
      "authorship_tag": "ABX9TyMsN3j/JDm6xIvLmu4aXb89",
      "include_colab_link": true
    },
    "kernelspec": {
      "name": "python3",
      "display_name": "Python 3"
    }
  },
  "cells": [
    {
      "cell_type": "markdown",
      "metadata": {
        "id": "view-in-github",
        "colab_type": "text"
      },
      "source": [
        "<a href=\"https://colab.research.google.com/github/YusukeAoki57/diveintocode-ml/blob/master/Week1%E6%8E%88%E6%A5%AD%E5%89%8D%E8%AA%B2%E9%A1%8Cpython_%E9%9D%92%E6%9C%A8.ipynb\" target=\"_parent\"><img src=\"https://colab.research.google.com/assets/colab-badge.svg\" alt=\"Open In Colab\"/></a>"
      ]
    },
    {
      "cell_type": "code",
      "metadata": {
        "id": "KK7WptlLdWGz"
      },
      "source": [
        "import time"
      ],
      "execution_count": null,
      "outputs": []
    },
    {
      "cell_type": "markdown",
      "metadata": {
        "id": "vHQPPrlVdir3"
      },
      "source": [
        "**問題1** **べき乗の算術演算子を使用して作成**\r\n"
      ]
    },
    {
      "cell_type": "code",
      "metadata": {
        "id": "FqSVefZPdt9t"
      },
      "source": [
        "#紙を43回折った時のコード"
      ],
      "execution_count": null,
      "outputs": []
    },
    {
      "cell_type": "code",
      "metadata": {
        "id": "_pFgTWpFd0qm"
      },
      "source": [
        "THICKNESS = 0.00008"
      ],
      "execution_count": null,
      "outputs": []
    },
    {
      "cell_type": "code",
      "metadata": {
        "id": "l0QoZfwGhwil"
      },
      "source": [
        "start1=time.time()"
      ],
      "execution_count": null,
      "outputs": []
    },
    {
      "cell_type": "code",
      "metadata": {
        "id": "UfInRuhXd4SR"
      },
      "source": [
        "folded_thickness = THICKNESS*(2**43)"
      ],
      "execution_count": null,
      "outputs": []
    },
    {
      "cell_type": "code",
      "metadata": {
        "id": "Soq4pIY5h0V-"
      },
      "source": [
        "elapsed_time1=time.time()-start1"
      ],
      "execution_count": null,
      "outputs": []
    },
    {
      "cell_type": "code",
      "metadata": {
        "colab": {
          "base_uri": "https://localhost:8080/"
        },
        "id": "PYvYM_VSh7OZ",
        "outputId": "340dd7b6-9458-446f-eaf8-0106e2ef3e82"
      },
      "source": [
        "print(\"time : {}[s]\".format(elapsed_time1))"
      ],
      "execution_count": null,
      "outputs": [
        {
          "output_type": "stream",
          "text": [
            "time : 0.018666505813598633[s]\n"
          ],
          "name": "stdout"
        }
      ]
    },
    {
      "cell_type": "code",
      "metadata": {
        "colab": {
          "base_uri": "https://localhost:8080/"
        },
        "id": "VhUw67B_d6vn",
        "outputId": "50e9cd14-72b5-4ba4-ee23-918663acffdf"
      },
      "source": [
        "print(\"厚さ： {}メートル\".format(folded_thickness))"
      ],
      "execution_count": null,
      "outputs": [
        {
          "output_type": "stream",
          "text": [
            "厚さ： 703687441.77664メートル\n"
          ],
          "name": "stdout"
        }
      ]
    },
    {
      "cell_type": "code",
      "metadata": {
        "id": "gfDvto_Jd9Qp"
      },
      "source": [
        ""
      ],
      "execution_count": null,
      "outputs": []
    },
    {
      "cell_type": "markdown",
      "metadata": {
        "id": "XRxoYj0ReS3M"
      },
      "source": [
        "**問題2 単位の変換**"
      ]
    },
    {
      "cell_type": "code",
      "metadata": {
        "id": "ovZAsZuDeXYo"
      },
      "source": [
        "# メートルを万キロメートルに変換して小数点以下2桁で表示する"
      ],
      "execution_count": null,
      "outputs": []
    },
    {
      "cell_type": "code",
      "metadata": {
        "colab": {
          "base_uri": "https://localhost:8080/"
        },
        "id": "LKHbrLkGebN3",
        "outputId": "bed0e465-96f1-42d9-d501-e4424410e993"
      },
      "source": [
        "print(\"厚さ： {:.2f}万キロメートル\".format(folded_thickness/(1000*10000)))"
      ],
      "execution_count": null,
      "outputs": [
        {
          "output_type": "stream",
          "text": [
            "厚さ： 70.37万キロメートル\n"
          ],
          "name": "stdout"
        }
      ]
    },
    {
      "cell_type": "code",
      "metadata": {
        "id": "7hZ3SSZtehS9"
      },
      "source": [
        "#月までの距離"
      ],
      "execution_count": null,
      "outputs": []
    },
    {
      "cell_type": "code",
      "metadata": {
        "id": "Q6tLM7sge2wz"
      },
      "source": [
        "MOON_DISTANCE =384400000"
      ],
      "execution_count": null,
      "outputs": []
    },
    {
      "cell_type": "code",
      "metadata": {
        "id": "OXE9VxfNfD6N"
      },
      "source": [
        "#月まで届いたか確認"
      ],
      "execution_count": null,
      "outputs": []
    },
    {
      "cell_type": "code",
      "metadata": {
        "colab": {
          "base_uri": "https://localhost:8080/"
        },
        "id": "JKgmZ-gqfJyX",
        "outputId": "3a15f9de-d139-43e9-a282-34bff9e60187"
      },
      "source": [
        "if folded_thickness>=MOON_DISTANCE:\r\n",
        "  print(\"月まで届きました\")"
      ],
      "execution_count": null,
      "outputs": [
        {
          "output_type": "stream",
          "text": [
            "月まで届きました\n"
          ],
          "name": "stdout"
        }
      ]
    },
    {
      "cell_type": "code",
      "metadata": {
        "id": "nMVW7UFdfTwO"
      },
      "source": [
        ""
      ],
      "execution_count": null,
      "outputs": []
    },
    {
      "cell_type": "markdown",
      "metadata": {
        "id": "uOgvw9_FfYuU"
      },
      "source": [
        "**問題3 for文を使用して作成& 問題4 計算時間の比較**"
      ]
    },
    {
      "cell_type": "markdown",
      "metadata": {
        "id": "wNBPxCuzlvy-"
      },
      "source": [
        ""
      ]
    },
    {
      "cell_type": "code",
      "metadata": {
        "id": "VG7f2FHPfeLc"
      },
      "source": [
        "#for文を使用して厚さを算出"
      ],
      "execution_count": null,
      "outputs": []
    },
    {
      "cell_type": "code",
      "metadata": {
        "id": "bzWPNYYwkDB0"
      },
      "source": [
        "new_folded_thickness=THICKNESS"
      ],
      "execution_count": null,
      "outputs": []
    },
    {
      "cell_type": "code",
      "metadata": {
        "id": "EhO4TkgAhZ9F"
      },
      "source": [
        "start2=time.time()"
      ],
      "execution_count": null,
      "outputs": []
    },
    {
      "cell_type": "code",
      "metadata": {
        "id": "BHdZElLKfngs",
        "colab": {
          "base_uri": "https://localhost:8080/"
        },
        "outputId": "84538a65-24ff-474f-aecb-8b1fcdd7f79a"
      },
      "source": [
        "for i in range(43):\r\n",
        "  new_folded_thickness = new_folded_thickness*2"
      ],
      "execution_count": null,
      "outputs": [
        {
          "output_type": "stream",
          "text": [
            "0.00016\n",
            "0.00032\n",
            "0.00064\n",
            "0.00128\n",
            "0.00256\n",
            "0.00512\n",
            "0.01024\n",
            "0.02048\n",
            "0.04096\n",
            "0.08192\n",
            "0.16384\n",
            "0.32768\n",
            "0.65536\n",
            "1.31072\n",
            "2.62144\n",
            "5.24288\n",
            "10.48576\n",
            "20.97152\n",
            "41.94304\n",
            "83.88608\n",
            "167.77216\n",
            "335.54432\n",
            "671.08864\n",
            "1342.17728\n",
            "2684.35456\n",
            "5368.70912\n",
            "10737.41824\n",
            "21474.83648\n",
            "42949.67296\n",
            "85899.34592\n",
            "171798.69184\n",
            "343597.38368\n",
            "687194.76736\n",
            "1374389.53472\n",
            "2748779.06944\n",
            "5497558.13888\n",
            "10995116.27776\n",
            "21990232.55552\n",
            "43980465.11104\n",
            "87960930.22208\n",
            "175921860.44416\n",
            "351843720.88832\n",
            "703687441.77664\n"
          ],
          "name": "stdout"
        }
      ]
    },
    {
      "cell_type": "code",
      "metadata": {
        "colab": {
          "base_uri": "https://localhost:8080/"
        },
        "id": "bgEt6v-NwMhe",
        "outputId": "0cfae68b-1a5d-4538-c75a-40abfb422d39"
      },
      "source": [
        "print(new_folded_thickness)"
      ],
      "execution_count": null,
      "outputs": [
        {
          "output_type": "stream",
          "text": [
            "703687441.77664\n"
          ],
          "name": "stdout"
        }
      ]
    },
    {
      "cell_type": "code",
      "metadata": {
        "id": "kYsCkIOfgj8k"
      },
      "source": [
        "#new_folded_thickness=THICKNESS*num"
      ],
      "execution_count": null,
      "outputs": []
    },
    {
      "cell_type": "code",
      "metadata": {
        "id": "7fromu7yhjpa"
      },
      "source": [
        "elapsed_time2=time.time()-start2"
      ],
      "execution_count": null,
      "outputs": []
    },
    {
      "cell_type": "code",
      "metadata": {
        "id": "iXXxNrCehqtp",
        "colab": {
          "base_uri": "https://localhost:8080/"
        },
        "outputId": "d614a2f6-08c5-479b-9e65-6eee54ded05f"
      },
      "source": [
        "print(\"time : {}[s]\".format(elapsed_time2))"
      ],
      "execution_count": null,
      "outputs": [
        {
          "output_type": "stream",
          "text": [
            "time : 4.352468013763428[s]\n"
          ],
          "name": "stdout"
        }
      ]
    },
    {
      "cell_type": "code",
      "metadata": {
        "id": "IJg_sY0agw-G",
        "colab": {
          "base_uri": "https://localhost:8080/"
        },
        "outputId": "c84d5b6b-057d-413c-ac12-9906382bec15"
      },
      "source": [
        "if new_folded_thickness==folded_thickness:\r\n",
        "  print(\"for文の計算は正しいです\")\r\n",
        "else:\r\n",
        "  print(\"for文の計算は間違っています\")\r\n"
      ],
      "execution_count": null,
      "outputs": [
        {
          "output_type": "stream",
          "text": [
            "for文の計算は正しいです\n"
          ],
          "name": "stdout"
        }
      ]
    },
    {
      "cell_type": "code",
      "metadata": {
        "id": "D3UL3Rqig-QD"
      },
      "source": [
        "#2つの方法の時間差を算出"
      ],
      "execution_count": null,
      "outputs": []
    },
    {
      "cell_type": "code",
      "metadata": {
        "colab": {
          "base_uri": "https://localhost:8080/"
        },
        "id": "f-TlpdTWlBWn",
        "outputId": "66bdc1e4-2e52-4d81-bfc7-52f1d73ee2a3"
      },
      "source": [
        "print(\"時間差:\"+str(elapsed_time1-elapsed_time2))"
      ],
      "execution_count": null,
      "outputs": [
        {
          "output_type": "stream",
          "text": [
            "時間差:-4.333801507949829\n"
          ],
          "name": "stdout"
        }
      ]
    },
    {
      "cell_type": "code",
      "metadata": {
        "id": "U0K54jB8lMuc"
      },
      "source": [
        "#2つの計算時間の関係→for文を使用して\"**\"を不使用とすると、\"**\"を使用する時と比べ、3s強、計算時間が遅くなる"
      ],
      "execution_count": null,
      "outputs": []
    },
    {
      "cell_type": "code",
      "metadata": {
        "id": "yB37hc3WlnSi"
      },
      "source": [
        ""
      ],
      "execution_count": null,
      "outputs": []
    },
    {
      "cell_type": "markdown",
      "metadata": {
        "id": "COiKsWEFl5eW"
      },
      "source": [
        "**問題5 リストへの保存**"
      ]
    },
    {
      "cell_type": "code",
      "metadata": {
        "id": "gUlF_TmWt-CN"
      },
      "source": [
        "new_folded_thickness2=THICKNESS"
      ],
      "execution_count": null,
      "outputs": []
    },
    {
      "cell_type": "code",
      "metadata": {
        "id": "zUzIVn_y2tV4"
      },
      "source": [
        "list=[new_folded_thickness2]"
      ],
      "execution_count": null,
      "outputs": []
    },
    {
      "cell_type": "code",
      "metadata": {
        "id": "p5IN40Jjq4EY"
      },
      "source": [
        "for i in range(43):\r\n",
        "    new_folded_thickness2=new_folded_thickness2*2\r\n",
        "    list.append(new_folded_thickness2)"
      ],
      "execution_count": null,
      "outputs": []
    },
    {
      "cell_type": "code",
      "metadata": {
        "colab": {
          "base_uri": "https://localhost:8080/"
        },
        "id": "XECdm88Vq9eT",
        "outputId": "42d69cda-c77b-45f1-d151-7c647ca9efe4"
      },
      "source": [
        "print(list)"
      ],
      "execution_count": null,
      "outputs": [
        {
          "output_type": "stream",
          "text": [
            "[8e-05, 0.00016, 0.00032, 0.00064, 0.00128, 0.00256, 0.00512, 0.01024, 0.02048, 0.04096, 0.08192, 0.16384, 0.32768, 0.65536, 1.31072, 2.62144, 5.24288, 10.48576, 20.97152, 41.94304, 83.88608, 167.77216, 335.54432, 671.08864, 1342.17728, 2684.35456, 5368.70912, 10737.41824, 21474.83648, 42949.67296, 85899.34592, 171798.69184, 343597.38368, 687194.76736, 1374389.53472, 2748779.06944, 5497558.13888, 10995116.27776, 21990232.55552, 43980465.11104, 87960930.22208, 175921860.44416, 351843720.88832, 703687441.77664]\n"
          ],
          "name": "stdout"
        }
      ]
    },
    {
      "cell_type": "code",
      "metadata": {
        "colab": {
          "base_uri": "https://localhost:8080/"
        },
        "id": "vaDMTJ8urKL8",
        "outputId": "0f9a78f7-58ee-4856-ef80-0e93a4e62f76"
      },
      "source": [
        "print(len(list))"
      ],
      "execution_count": null,
      "outputs": [
        {
          "output_type": "stream",
          "text": [
            "44\n"
          ],
          "name": "stdout"
        }
      ]
    },
    {
      "cell_type": "code",
      "metadata": {
        "id": "SvD0ncMs2Ptu"
      },
      "source": [
        "#正誤の確認"
      ],
      "execution_count": null,
      "outputs": []
    },
    {
      "cell_type": "code",
      "metadata": {
        "colab": {
          "base_uri": "https://localhost:8080/"
        },
        "id": "aBO-Cadf2Spl",
        "outputId": "2cc5eb24-df26-4913-e79b-0aa300bd3632"
      },
      "source": [
        "if new_folded_thickness2==folded_thickness:\r\n",
        "  print(\"正しいです\")\r\n",
        "else:\r\n",
        "  print(\"間違いです\")"
      ],
      "execution_count": null,
      "outputs": [
        {
          "output_type": "stream",
          "text": [
            "正しいです\n"
          ],
          "name": "stdout"
        }
      ]
    },
    {
      "cell_type": "markdown",
      "metadata": {
        "id": "GP5KkK7J1_xk"
      },
      "source": [
        "**問題6 折れ線グラフの表示**"
      ]
    },
    {
      "cell_type": "code",
      "metadata": {
        "id": "OUseLGTA2EpT"
      },
      "source": [
        "import matplotlib.pyplot as plt\r\n"
      ],
      "execution_count": null,
      "outputs": []
    },
    {
      "cell_type": "code",
      "metadata": {
        "id": "zFNx_X0W2Iw9"
      },
      "source": [
        "%matplotlib inline"
      ],
      "execution_count": null,
      "outputs": []
    },
    {
      "cell_type": "code",
      "metadata": {
        "colab": {
          "base_uri": "https://localhost:8080/",
          "height": 295
        },
        "id": "LMmCO1LZ2QHZ",
        "outputId": "46101f86-dbd6-4447-c1d6-1c8dd4a51404"
      },
      "source": [
        "plt.title(\"thickness of folded paper\")\r\n",
        "plt.xlabel(\"number of fields\")\r\n",
        "plt.ylabel(\"thickness[m]\")\r\n",
        "plt.plot(list) # 「リスト名」のところにリストの変数名を入れる\r\n",
        "plt.show()"
      ],
      "execution_count": null,
      "outputs": [
        {
          "output_type": "display_data",
          "data": {
            "image/png": "[encoded data removed]",
            "text/plain": [
              "<Figure size 432x288 with 1 Axes>"
            ]
          },
          "metadata": {
            "tags": [],
            "needs_background": "light"
          }
        }
      ]
    },
    {
      "cell_type": "code",
      "metadata": {
        "id": "GkyljfTF2hSn"
      },
      "source": [
        "#考察→30回後半に急激に厚みが増している。1回の累乗で桁が変化するためと考えられる"
      ],
      "execution_count": null,
      "outputs": []
    },
    {
      "cell_type": "code",
      "metadata": {
        "colab": {
          "base_uri": "https://localhost:8080/",
          "height": 295
        },
        "id": "vGkuUx387Mtu",
        "outputId": "efe016fe-aa9b-4de4-be87-9da4e81a6e12"
      },
      "source": [
        ""
      ],
      "execution_count": null,
      "outputs": [
        {
          "output_type": "display_data",
          "data": {
            "image/png": "[encoded data removed]",
            "text/plain": [
              "<Figure size 432x288 with 1 Axes>"
            ]
          },
          "metadata": {
            "tags": [],
            "needs_background": "light"
          }
        }
      ]
    },
    {
      "cell_type": "markdown",
      "metadata": {
        "id": "u4tspAk-3GjA"
      },
      "source": [
        "問題7 グラフのカスタマイズ"
      ]
    },
    {
      "cell_type": "code",
      "metadata": {
        "colab": {
          "base_uri": "https://localhost:8080/",
          "height": 295
        },
        "id": "3E9pPZ7w3S9-",
        "outputId": "7a9ce4d6-aca0-4999-87b3-bae4f5322b42"
      },
      "source": [
        "#サンプル1\r\n",
        "plt.title(\"thickness of folded paper\")\r\n",
        "plt.xlabel(\"number of fields\")\r\n",
        "plt.ylabel(\"thickness[m]\")\r\n",
        "plt.plot(list,color='red') # 「リスト名」のところにリストの変数名を入れる\r\n",
        "plt.show()"
      ],
      "execution_count": null,
      "outputs": [
        {
          "output_type": "display_data",
          "data": {
            "image/png": "[encoded data removed]",
            "text/plain": [
              "<Figure size 432x288 with 1 Axes>"
            ]
          },
          "metadata": {
            "tags": [],
            "needs_background": "light"
          }
        }
      ]
    },
    {
      "cell_type": "code",
      "metadata": {
        "colab": {
          "base_uri": "https://localhost:8080/",
          "height": 295
        },
        "id": "RMHVGbn93hUL",
        "outputId": "6d521ada-e0ca-46e0-b0a9-df3a49a797aa"
      },
      "source": [
        "#サンプル2\r\n",
        "plt.title(\"thickness of folded paper\")\r\n",
        "plt.xlabel(\"number of fields\")\r\n",
        "plt.ylabel(\"thickness[m]\")\r\n",
        "plt.plot(list,color='red') # 「リスト名」のところにリストの変数名を入れる\r\n",
        "plt.grid(True)\r\n",
        "plt.show()"
      ],
      "execution_count": null,
      "outputs": [
        {
          "output_type": "display_data",
          "data": {
            "image/png": "[encoded data removed]",
            "text/plain": [
              "<Figure size 432x288 with 1 Axes>"
            ]
          },
          "metadata": {
            "tags": [],
            "needs_background": "light"
          }
        }
      ]
    },
    {
      "cell_type": "code",
      "metadata": {
        "colab": {
          "base_uri": "https://localhost:8080/",
          "height": 295
        },
        "id": "0chjlLgm33a-",
        "outputId": "02f9ea5a-0eea-450f-fee8-6b825cdeda10"
      },
      "source": [
        "#サンプル3\r\n",
        "plt.title(\"thickness of folded paper\")\r\n",
        "plt.xlabel(\"number of fields\")\r\n",
        "plt.ylabel(\"thickness[m]\")\r\n",
        "plt.plot(list,color='red',marker='x') # 「リスト名」のところにリストの変数名を入れる\r\n",
        "plt.grid(True)\r\n",
        "plt.show()"
      ],
      "execution_count": null,
      "outputs": [
        {
          "output_type": "display_data",
          "data": {
            "image/png": "[encoded data removed]",
            "text/plain": [
              "<Figure size 432x288 with 1 Axes>"
            ]
          },
          "metadata": {
            "tags": [],
            "needs_background": "light"
          }
        }
      ]
    },
    {
      "cell_type": "code",
      "metadata": {
        "id": "YCeefkxY4DYk"
      },
      "source": [
        ""
      ],
      "execution_count": null,
      "outputs": []
    }
  ]
}