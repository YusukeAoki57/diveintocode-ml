{
  "nbformat": 4,
  "nbformat_minor": 0,
  "metadata": {
    "colab": {
      "name": "Sprint2.ipynb",
      "provenance": [],
      "collapsed_sections": [],
      "authorship_tag": "ABX9TyOQrm7XjrBfrsdQxkyKbOhr",
      "include_colab_link": true
    },
    "kernelspec": {
      "name": "python3",
      "display_name": "Python 3"
    },
    "accelerator": "TPU"
  },
  "cells": [
    {
      "cell_type": "markdown",
      "metadata": {
        "id": "view-in-github",
        "colab_type": "text"
      },
      "source": [
        "<a href=\"https://colab.research.google.com/github/YusukeAoki57/diveintocode-ml/blob/master/Sprint2.ipynb\" target=\"_parent\"><img src=\"https://colab.research.google.com/assets/colab-badge.svg\" alt=\"Open In Colab\"/></a>"
      ]
    },
    {
      "cell_type": "code",
      "metadata": {
        "colab": {
          "base_uri": "https://localhost:8080/"
        },
        "id": "Clwhz14bYaWV",
        "outputId": "d464cd75-ac1d-44c6-e554-2bc548a7fc71"
      },
      "source": [
        "from google.colab import drive\r\n",
        "drive.mount('/content/drive')"
      ],
      "execution_count": 1,
      "outputs": [
        {
          "output_type": "stream",
          "text": [
            "Mounted at /content/drive\n"
          ],
          "name": "stdout"
        }
      ]
    },
    {
      "cell_type": "code",
      "metadata": {
        "id": "qbkTaC5OcIOy"
      },
      "source": [
        "import numpy as np\r\n",
        "import matplotlib.pyplot as plt\r\n",
        "from sklearn.linear_model import LogisticRegression"
      ],
      "execution_count": 2,
      "outputs": []
    },
    {
      "cell_type": "code",
      "metadata": {
        "colab": {
          "base_uri": "https://localhost:8080/",
          "height": 35
        },
        "id": "_GlbZ1fTcPwd",
        "outputId": "77f8e560-5b3c-4ecd-9500-57aa8584b92f"
      },
      "source": [
        "#データセットの準備\r\n",
        "import pandas as pd \r\n",
        "train= pd.read_csv('drive/My Drive/DIVE INTO CODE/0_課題/1月/2_week3/授業課題/data/application_train.csv')\r\n",
        "test=pd.read_csv('drive/My Drive/DIVE INTO CODE/0_課題/1月/2_week3/授業課題/data/application_test.csv')\r\n",
        "\r\n",
        "\"\"\"\r\n",
        "#x,yに分割\r\n",
        "x = pd.DataFrame(train.drop(\"TARGET\",axis=1))\r\n",
        "y=  pd.DataFrame(train[\"TARGET\"])\r\n",
        "print(x.shape)\r\n",
        "print(train.shape)\r\n",
        "\"\"\""
      ],
      "execution_count": 3,
      "outputs": [
        {
          "output_type": "execute_result",
          "data": {
            "application/vnd.google.colaboratory.intrinsic+json": {
              "type": "string"
            },
            "text/plain": [
              "'\\n#x,yに分割\\nx = pd.DataFrame(train.drop(\"TARGET\",axis=1))\\ny=  pd.DataFrame(train[\"TARGET\"])\\nprint(x.shape)\\nprint(train.shape)\\n'"
            ]
          },
          "metadata": {
            "tags": []
          },
          "execution_count": 3
        }
      ]
    },
    {
      "cell_type": "code",
      "metadata": {
        "colab": {
          "base_uri": "https://localhost:8080/",
          "height": 445
        },
        "id": "xpDB9I2PCFVJ",
        "outputId": "e2fa9c78-4261-431f-dee0-bd3e0ebdb4ea"
      },
      "source": [
        "#相関係数\r\n",
        "import seaborn as sns\r\n",
        "#相関行列の作成\r\n",
        "cor=train.corr()\r\n",
        "corr_y = pd.DataFrame({\"corr_y\":cor['TARGET']},index=None) #corでは文字列の列は削除されている\r\n",
        "#print(corr_y)\r\n",
        "\r\n",
        "#±0.5以上の特徴量を抽出→10個\r\n",
        "select_cols = corr_y[corr_y[\"corr_y\"].abs()>0.055]\r\n",
        "print(select_cols)\r\n",
        "\r\n",
        "#相関が±0.5以上のヒートマップ\r\n",
        "sns.heatmap(select_cols,\r\n",
        "            square=True,\r\n",
        "            xticklabels=select_cols.columns.values,\r\n",
        "            yticklabels=select_cols.index.values)\r\n"
      ],
      "execution_count": 4,
      "outputs": [
        {
          "output_type": "stream",
          "text": [
            "                               corr_y\n",
            "TARGET                       1.000000\n",
            "DAYS_BIRTH                   0.078239\n",
            "REGION_RATING_CLIENT         0.058899\n",
            "REGION_RATING_CLIENT_W_CITY  0.060893\n",
            "EXT_SOURCE_1                -0.155317\n",
            "EXT_SOURCE_2                -0.160472\n",
            "EXT_SOURCE_3                -0.178919\n",
            "DAYS_LAST_PHONE_CHANGE       0.055218\n"
          ],
          "name": "stdout"
        },
        {
          "output_type": "execute_result",
          "data": {
            "text/plain": [
              "<matplotlib.axes._subplots.AxesSubplot at 0x7fb6a438ce48>"
            ]
          },
          "metadata": {
            "tags": []
          },
          "execution_count": 4
        },
        {
          "output_type": "display_data",
          "data": {
            "image/png": "[encoded data removed]",
            "text/plain": [
              "<Figure size 432x288 with 2 Axes>"
            ]
          },
          "metadata": {
            "tags": [],
            "needs_background": "light"
          }
        }
      ]
    },
    {
      "cell_type": "code",
      "metadata": {
        "colab": {
          "base_uri": "https://localhost:8080/"
        },
        "id": "FaxEoZV17IOG",
        "outputId": "1a8f6a0f-9023-4c23-fa0b-329a9d6b7445"
      },
      "source": [
        "#欠損値の確認\r\n",
        "#pd.set_option('max_columns', None)\r\n",
        "#pd.set_option('max_rows', None)\r\n",
        "\r\n",
        "def null_check(train,test):\r\n",
        "    in_t=[]\r\n",
        "    in_t2=[]\r\n",
        "    total1=[]\r\n",
        "    total2=[]\r\n",
        "    missing_ratio1=[]\r\n",
        "    missing_ratio2=[]\r\n",
        "    for i in train.columns:\r\n",
        "      if i=='TARGET':\r\n",
        "        continue\r\n",
        "      else:\r\n",
        "        in_t.append(i)\r\n",
        "        total1.append(train[i].isnull().sum())\r\n",
        "        missing_ratio1.append(train[i].isnull().sum()/len(train)*100)\r\n",
        "      \r\n",
        "    for i in test.columns:\r\n",
        "      in_t2.append(i)\r\n",
        "      total2.append(test[i].isnull().sum())\r\n",
        "      missing_ratio2.append(test[i].isnull().sum()/len(train)*100)\r\n",
        "   \r\n",
        "    list={'EXT_SOURCE_1','EXT_SOURCE_2','EXT_SOURCE_3','DAYS_LAST_PHONE_CHANGE'}\r\n",
        "\r\n",
        "    matrix=np.array([total1,missing_ratio1,total2, missing_ratio2]).T\r\n",
        "    col=['total_train','missing_ratio_train','total_test','missing_ratio_test']\r\n",
        "    df = pd.DataFrame(matrix, columns=col, index=in_t)\r\n",
        "    df1=df.drop(list)\r\n",
        "    df2=df1[df.total_train>0]\r\n",
        "    return df2\r\n",
        "df=null_check(train,test)\r\n",
        "print(df)"
      ],
      "execution_count": 5,
      "outputs": [
        {
          "output_type": "stream",
          "text": [
            "                            total_train  ...  missing_ratio_test\n",
            "AMT_ANNUITY                        12.0  ...            0.007805\n",
            "AMT_GOODS_PRICE                   278.0  ...            0.000000\n",
            "NAME_TYPE_SUITE                  1292.0  ...            0.296250\n",
            "OWN_CAR_AGE                    202929.0  ...           10.507592\n",
            "OCCUPATION_TYPE                 96391.0  ...            5.074615\n",
            "...                                 ...  ...                 ...\n",
            "AMT_REQ_CREDIT_BUREAU_DAY       41519.0  ...            1.967084\n",
            "AMT_REQ_CREDIT_BUREAU_WEEK      41519.0  ...            1.967084\n",
            "AMT_REQ_CREDIT_BUREAU_MON       41519.0  ...            1.967084\n",
            "AMT_REQ_CREDIT_BUREAU_QRT       41519.0  ...            1.967084\n",
            "AMT_REQ_CREDIT_BUREAU_YEAR      41519.0  ...            1.967084\n",
            "\n",
            "[63 rows x 4 columns]\n"
          ],
          "name": "stdout"
        },
        {
          "output_type": "stream",
          "text": [
            "/usr/local/lib/python3.6/dist-packages/ipykernel_launcher.py:31: UserWarning: Boolean Series key will be reindexed to match DataFrame index.\n"
          ],
          "name": "stderr"
        }
      ]
    },
    {
      "cell_type": "code",
      "metadata": {
        "colab": {
          "base_uri": "https://localhost:8080/"
        },
        "id": "5zaxYEJa7kpo",
        "outputId": "77bb69cf-0c4e-4300-8059-228de928df50"
      },
      "source": [
        "#欠損値の削除（相関係数に出現したもの以外）train目線\r\n",
        "\r\n",
        "drop_colomns = df[df['total_train']>=40000].index.tolist()\r\n",
        "\r\n",
        "train_new=train.drop(drop_colomns, axis=1)\r\n",
        "test_new=test.drop(drop_colomns, axis=1)\r\n",
        "print(train.shape)\r\n",
        "print(train_new.shape)\r\n",
        "#train_new2=train_new.dropna(how='any',axis=0)\r\n"
      ],
      "execution_count": 6,
      "outputs": [
        {
          "output_type": "stream",
          "text": [
            "(307511, 122)\n",
            "(307511, 67)\n"
          ],
          "name": "stdout"
        }
      ]
    },
    {
      "cell_type": "code",
      "metadata": {
        "colab": {
          "base_uri": "https://localhost:8080/"
        },
        "id": "6YuMXi4qChIX",
        "outputId": "1b079bb8-f630-4eca-d2c9-06b8aca29069"
      },
      "source": [
        "#欠損値の削除（相関係数に出現したもの以外）test目線\r\n",
        "df2=null_check(train_new,test_new)\r\n",
        "\r\n",
        "drop_colomns2 = df2[df2['total_test']>=20].index.tolist()\r\n",
        "\r\n",
        "train_new2=train_new.drop(drop_colomns2, axis=1)\r\n",
        "test_new2=test_new.drop(drop_colomns2, axis=1)\r\n",
        "\r\n",
        "\r\n",
        "#list={'EXT_SOURCE_1','EXT_SOURCE_2','EXT_SOURCE_3','DAYS_LAST_PHONE_CHANGE'}\r\n",
        "#上記listの欠損を平均値で埋める\r\n",
        "\r\n",
        "meadian1=train_new2['EXT_SOURCE_1'].median()\r\n",
        "train_new2['EXT_SOURCE_1'].fillna(meadian1, inplace=True)\r\n",
        "\r\n",
        "meadian2=train_new2['EXT_SOURCE_2'].median()\r\n",
        "train_new2['EXT_SOURCE_2'].fillna(meadian2, inplace=True)\r\n",
        "\r\n",
        "meadian3=train_new2['EXT_SOURCE_3'].median()\r\n",
        "train_new2['EXT_SOURCE_3'].fillna(meadian3, inplace=True)\r\n",
        "\r\n",
        "meadian4=train_new2['DAYS_LAST_PHONE_CHANGE'].median()\r\n",
        "train_new2['DAYS_LAST_PHONE_CHANGE'].fillna(meadian4, inplace=True)\r\n",
        "\r\n",
        "\r\n",
        "meadian10=test_new2['EXT_SOURCE_1'].median()\r\n",
        "test_new2['EXT_SOURCE_1'].fillna(meadian10, inplace=True)\r\n",
        "\r\n",
        "meadian20=test_new2['EXT_SOURCE_2'].median()\r\n",
        "test_new2['EXT_SOURCE_2'].fillna(meadian20, inplace=True)\r\n",
        "\r\n",
        "meadian30=test_new2['EXT_SOURCE_3'].median()\r\n",
        "test_new2['EXT_SOURCE_3'].fillna(meadian30, inplace=True)\r\n",
        "\r\n",
        "meadian40=test_new2['DAYS_LAST_PHONE_CHANGE'].median()\r\n",
        "test_new2['DAYS_LAST_PHONE_CHANGE'].fillna(meadian40, inplace=True)\r\n",
        "\r\n",
        "\r\n",
        "#print(train_new2['EXT_SOURCE_2'].value_counts())\r\n",
        "\r\n",
        "\r\n",
        "train_new3=train_new2.dropna(how='any',axis=0)\r\n",
        "train_new2.fillna(0, inplace=True)\r\n",
        "\r\n",
        "test_new3=test_new2\r\n",
        "#欠損値なし\r\n",
        "print(null_check(train_new3,test_new2))\r\n"
      ],
      "execution_count": 28,
      "outputs": [
        {
          "output_type": "stream",
          "text": [
            "/usr/local/lib/python3.6/dist-packages/ipykernel_launcher.py:31: UserWarning: Boolean Series key will be reindexed to match DataFrame index.\n"
          ],
          "name": "stderr"
        },
        {
          "output_type": "stream",
          "text": [
            "Empty DataFrame\n",
            "Columns: [total_train, missing_ratio_train, total_test, missing_ratio_test]\n",
            "Index: []\n"
          ],
          "name": "stdout"
        },
        {
          "output_type": "stream",
          "text": [
            "/usr/local/lib/python3.6/dist-packages/ipykernel_launcher.py:31: UserWarning: Boolean Series key will be reindexed to match DataFrame index.\n"
          ],
          "name": "stderr"
        }
      ]
    },
    {
      "cell_type": "code",
      "metadata": {
        "colab": {
          "base_uri": "https://localhost:8080/"
        },
        "id": "d8OJFxHSGriI",
        "outputId": "4be0444a-4f72-4aad-c045-96b8f470646f"
      },
      "source": [
        "#文字列の数値化\r\n",
        "\r\n",
        "#カラムの確認\r\n",
        "train_new3.dtypes\r\n",
        "\r\n",
        "#NAME_CONTRACT_TYPE\r\n",
        "train_new3['NAME_CONTRACT_TYPE']=train_new3.loc[:,'NAME_CONTRACT_TYPE'].map({'Cash loans':1,'Revolving loans':2})\r\n",
        "test_new3['NAME_CONTRACT_TYPE']=test_new3.loc[:,'NAME_CONTRACT_TYPE'].map({'Cash loans':1,'Revolving loans':2})\r\n",
        "#print(train_new3.shape)\r\n",
        "\r\n",
        "#CODE_GENDER\r\n",
        "train_new3['CODE_GENDER']=train_new3.loc[:,'CODE_GENDER'].map({'F':1,'M':2,'XNA':3})\r\n",
        "test_new3['CODE_GENDER']=test_new3.loc[:,'CODE_GENDER'].map({'F':1,'M':2,'XNA':3})\r\n",
        "#print(train_new3.loc[:100,'CODE_GENDER'])\r\n",
        "\r\n",
        "#FLAG_OWN_CAR\r\n",
        "train_new3['FLAG_OWN_CAR']=train_new3.loc[:,'FLAG_OWN_CAR'].map({'N':1,'Y':2})\r\n",
        "test_new3['FLAG_OWN_CAR']=test_new3.loc[:,'FLAG_OWN_CAR'].map({'N':1,'Y':2})\r\n",
        "#print(train_new3.loc[:100,'FLAG_OWN_CAR'])\r\n",
        "\r\n",
        "#FLAG_OWN_REALTY\r\n",
        "train_new3['FLAG_OWN_REALTY']=train_new3.loc[:,'FLAG_OWN_REALTY'].map({'Y':1,'N':2})\r\n",
        "test_new3['FLAG_OWN_REALTY']=test_new3.loc[:,'FLAG_OWN_REALTY'].map({'Y':1,'N':2})\r\n",
        "#print(train_new3.loc[:100,'FLAG_OWN_REALTY'])\r\n",
        "\r\n",
        "#NAME_INCOME_TYPE\r\n",
        "train_new3['NAME_INCOME_TYPE']=train_new3.loc[:,'NAME_INCOME_TYPE'].map({'Working':1,'State servant':2,'Commercial associate':3,'Pensioner':4,'Unemployed':5,\r\n",
        "                                                                         'Student':6,'Businessman':7,'Maternity leave':8})\r\n",
        "test_new3['NAME_INCOME_TYPE']=test_new3.loc[:,'NAME_INCOME_TYPE'].map({'Working':1,'State servant':2,'Commercial associate':3,'Pensioner':4,'Unemployed':5,\r\n",
        "                                                                         'Student':6,'Businessman':7,'Maternity leave':8})\r\n",
        "#print(train_new3.loc[:100,'NAME_INCOME_TYPE'])\r\n",
        "\r\n",
        "#NAME_EDUCATION_TYPE\r\n",
        "train_new3['NAME_EDUCATION_TYPE']=train_new3.loc[:,'NAME_EDUCATION_TYPE'].map({'Secondary / secondary special':1,'Higher education':2,'Incomplete higher':3,\r\n",
        "                                                                               'Lower secondary':4,'Academic degree':5})\r\n",
        "test_new3['NAME_EDUCATION_TYPE']=test_new3.loc[:,'NAME_EDUCATION_TYPE'].map({'Secondary / secondary special':1,'Higher education':2,'Incomplete higher':3,\r\n",
        "                                                                             'Lower secondary':4,'Academic degree':5})\r\n",
        "#print(train_new3.loc[:100,'NAME_EDUCATION_TYPE'])\r\n",
        "\r\n",
        "#NAME_FAMILY_STATUS\r\n",
        "train_new3['NAME_FAMILY_STATUS']=train_new3.loc[:,'NAME_FAMILY_STATUS'].map({'Single / not married':1,'Married':2,'Civil marriage':3,'Widow':4,'Separated':5})\r\n",
        "test_new3['NAME_FAMILY_STATUS']=test_new3.loc[:,'NAME_FAMILY_STATUS'].map({'Single / not married':1,'Married':2,'Civil marriage':3,'Widow':4,'Separated':5})\r\n",
        "#print(train_new3.loc[:100,'NAME_FAMILY_STATUS'])\r\n",
        "\r\n",
        "\r\n",
        "#NAME_HOUSING_TYPE\r\n",
        "train_new3['NAME_HOUSING_TYPE']=train_new3.loc[:,'NAME_HOUSING_TYPE'].map({'House / apartment':1,'Rented apartment':2,'With parents':3,\r\n",
        "                                                                             'Municipal apartment':4,'Office apartment':5,'Co-op apartment':6})\r\n",
        "test_new3['NAME_HOUSING_TYPE']=test_new3.loc[:,'NAME_HOUSING_TYPE'].map({'House / apartment':1,'Rented apartment':2,'With parents':3,\r\n",
        "                                                                             'Municipal apartment':4,'Office apartment':5,'Co-op apartment':6})\r\n",
        "#print(train_new3.loc[:100,'NAME_HOUSING_TYPE'])\r\n",
        "\r\n",
        "#WEEKDAY_APPR_PROCESS_START\r\n",
        "train_new3=train_new3.drop('WEEKDAY_APPR_PROCESS_START', axis=1)\r\n",
        "test_new3=test_new3.drop('WEEKDAY_APPR_PROCESS_START', axis=1)\r\n",
        "\r\n",
        "#'ORGANIZATION_TYPE'\r\n",
        "train_new3=train_new3.drop('ORGANIZATION_TYPE', axis=1)\r\n",
        "test_new3=test_new3.drop('ORGANIZATION_TYPE', axis=1)\r\n"
      ],
      "execution_count": 29,
      "outputs": [
        {
          "output_type": "stream",
          "text": [
            "/usr/local/lib/python3.6/dist-packages/ipykernel_launcher.py:7: SettingWithCopyWarning: \n",
            "A value is trying to be set on a copy of a slice from a DataFrame.\n",
            "Try using .loc[row_indexer,col_indexer] = value instead\n",
            "\n",
            "See the caveats in the documentation: https://pandas.pydata.org/pandas-docs/stable/user_guide/indexing.html#returning-a-view-versus-a-copy\n",
            "  import sys\n",
            "/usr/local/lib/python3.6/dist-packages/ipykernel_launcher.py:12: SettingWithCopyWarning: \n",
            "A value is trying to be set on a copy of a slice from a DataFrame.\n",
            "Try using .loc[row_indexer,col_indexer] = value instead\n",
            "\n",
            "See the caveats in the documentation: https://pandas.pydata.org/pandas-docs/stable/user_guide/indexing.html#returning-a-view-versus-a-copy\n",
            "  if sys.path[0] == '':\n",
            "/usr/local/lib/python3.6/dist-packages/ipykernel_launcher.py:17: SettingWithCopyWarning: \n",
            "A value is trying to be set on a copy of a slice from a DataFrame.\n",
            "Try using .loc[row_indexer,col_indexer] = value instead\n",
            "\n",
            "See the caveats in the documentation: https://pandas.pydata.org/pandas-docs/stable/user_guide/indexing.html#returning-a-view-versus-a-copy\n",
            "/usr/local/lib/python3.6/dist-packages/ipykernel_launcher.py:22: SettingWithCopyWarning: \n",
            "A value is trying to be set on a copy of a slice from a DataFrame.\n",
            "Try using .loc[row_indexer,col_indexer] = value instead\n",
            "\n",
            "See the caveats in the documentation: https://pandas.pydata.org/pandas-docs/stable/user_guide/indexing.html#returning-a-view-versus-a-copy\n",
            "/usr/local/lib/python3.6/dist-packages/ipykernel_launcher.py:28: SettingWithCopyWarning: \n",
            "A value is trying to be set on a copy of a slice from a DataFrame.\n",
            "Try using .loc[row_indexer,col_indexer] = value instead\n",
            "\n",
            "See the caveats in the documentation: https://pandas.pydata.org/pandas-docs/stable/user_guide/indexing.html#returning-a-view-versus-a-copy\n",
            "/usr/local/lib/python3.6/dist-packages/ipykernel_launcher.py:35: SettingWithCopyWarning: \n",
            "A value is trying to be set on a copy of a slice from a DataFrame.\n",
            "Try using .loc[row_indexer,col_indexer] = value instead\n",
            "\n",
            "See the caveats in the documentation: https://pandas.pydata.org/pandas-docs/stable/user_guide/indexing.html#returning-a-view-versus-a-copy\n",
            "/usr/local/lib/python3.6/dist-packages/ipykernel_launcher.py:41: SettingWithCopyWarning: \n",
            "A value is trying to be set on a copy of a slice from a DataFrame.\n",
            "Try using .loc[row_indexer,col_indexer] = value instead\n",
            "\n",
            "See the caveats in the documentation: https://pandas.pydata.org/pandas-docs/stable/user_guide/indexing.html#returning-a-view-versus-a-copy\n",
            "/usr/local/lib/python3.6/dist-packages/ipykernel_launcher.py:48: SettingWithCopyWarning: \n",
            "A value is trying to be set on a copy of a slice from a DataFrame.\n",
            "Try using .loc[row_indexer,col_indexer] = value instead\n",
            "\n",
            "See the caveats in the documentation: https://pandas.pydata.org/pandas-docs/stable/user_guide/indexing.html#returning-a-view-versus-a-copy\n"
          ],
          "name": "stderr"
        }
      ]
    },
    {
      "cell_type": "code",
      "metadata": {
        "colab": {
          "base_uri": "https://localhost:8080/"
        },
        "id": "bz8OWUBmleO9",
        "outputId": "fc20ac22-7050-4a1b-8c79-654d8c383c85"
      },
      "source": [
        "#print(test_new3.dtypes)\r\n",
        "print(test_new3.isnull().sum())"
      ],
      "execution_count": 30,
      "outputs": [
        {
          "output_type": "stream",
          "text": [
            "SK_ID_CURR                     0\n",
            "NAME_CONTRACT_TYPE             0\n",
            "CODE_GENDER                    0\n",
            "FLAG_OWN_CAR                   0\n",
            "FLAG_OWN_REALTY                0\n",
            "CNT_CHILDREN                   0\n",
            "AMT_INCOME_TOTAL               0\n",
            "AMT_CREDIT                     0\n",
            "AMT_GOODS_PRICE                0\n",
            "NAME_INCOME_TYPE               0\n",
            "NAME_EDUCATION_TYPE            0\n",
            "NAME_FAMILY_STATUS             0\n",
            "NAME_HOUSING_TYPE              0\n",
            "REGION_POPULATION_RELATIVE     0\n",
            "DAYS_BIRTH                     0\n",
            "DAYS_EMPLOYED                  0\n",
            "DAYS_REGISTRATION              0\n",
            "DAYS_ID_PUBLISH                0\n",
            "FLAG_MOBIL                     0\n",
            "FLAG_EMP_PHONE                 0\n",
            "FLAG_WORK_PHONE                0\n",
            "FLAG_CONT_MOBILE               0\n",
            "FLAG_PHONE                     0\n",
            "FLAG_EMAIL                     0\n",
            "CNT_FAM_MEMBERS                0\n",
            "REGION_RATING_CLIENT           0\n",
            "REGION_RATING_CLIENT_W_CITY    0\n",
            "HOUR_APPR_PROCESS_START        0\n",
            "REG_REGION_NOT_LIVE_REGION     0\n",
            "REG_REGION_NOT_WORK_REGION     0\n",
            "LIVE_REGION_NOT_WORK_REGION    0\n",
            "REG_CITY_NOT_LIVE_CITY         0\n",
            "REG_CITY_NOT_WORK_CITY         0\n",
            "LIVE_CITY_NOT_WORK_CITY        0\n",
            "EXT_SOURCE_1                   0\n",
            "EXT_SOURCE_2                   0\n",
            "EXT_SOURCE_3                   0\n",
            "DAYS_LAST_PHONE_CHANGE         0\n",
            "FLAG_DOCUMENT_2                0\n",
            "FLAG_DOCUMENT_3                0\n",
            "FLAG_DOCUMENT_4                0\n",
            "FLAG_DOCUMENT_5                0\n",
            "FLAG_DOCUMENT_6                0\n",
            "FLAG_DOCUMENT_7                0\n",
            "FLAG_DOCUMENT_8                0\n",
            "FLAG_DOCUMENT_9                0\n",
            "FLAG_DOCUMENT_10               0\n",
            "FLAG_DOCUMENT_11               0\n",
            "FLAG_DOCUMENT_12               0\n",
            "FLAG_DOCUMENT_13               0\n",
            "FLAG_DOCUMENT_14               0\n",
            "FLAG_DOCUMENT_15               0\n",
            "FLAG_DOCUMENT_16               0\n",
            "FLAG_DOCUMENT_17               0\n",
            "FLAG_DOCUMENT_18               0\n",
            "FLAG_DOCUMENT_19               0\n",
            "FLAG_DOCUMENT_20               0\n",
            "FLAG_DOCUMENT_21               0\n",
            "dtype: int64\n"
          ],
          "name": "stdout"
        }
      ]
    },
    {
      "cell_type": "code",
      "metadata": {
        "id": "eKyNtSSIJ7NU"
      },
      "source": [
        "#xとyに分割\r\n",
        "x = pd.DataFrame(train_new3.drop(\"TARGET\",axis=1))\r\n",
        "x_test=pd.DataFrame(test_new3)\r\n",
        "y=  pd.DataFrame(train_new3[\"TARGET\"]).values\r\n",
        "\r\n",
        "#相関が高いxの特徴量のみ抽出\r\n",
        "x1=x.loc[:,['EXT_SOURCE_1','EXT_SOURCE_2','EXT_SOURCE_3']].values\r\n",
        "x1_test=x_test.loc[:,['EXT_SOURCE_1','EXT_SOURCE_2','EXT_SOURCE_3']].values"
      ],
      "execution_count": 31,
      "outputs": []
    },
    {
      "cell_type": "code",
      "metadata": {
        "id": "kPK-zcBqQYDm",
        "colab": {
          "base_uri": "https://localhost:8080/",
          "height": 106
        },
        "outputId": "f7923ac5-bd89-4a3d-bca6-6b834e6b811d"
      },
      "source": [
        "\"\"\"\r\n",
        "#新たな特徴量を生成　Polynomial Features\r\n",
        "\r\n",
        "poly_features = train_1[['EXT_SOURCE_1', 'EXT_SOURCE_2', 'EXT_SOURCE_3', 'DAYS_BIRTH','TARGET']]\r\n",
        "poly_features_test = test_1[['EXT_SOURCE_1', 'EXT_SOURCE_2', 'EXT_SOURCE_3', 'DAYS_BIRTH']]\r\n",
        "\r\n",
        "# imputer for handling missing valuesfrom \r\n",
        "from sklearn.impute import SimpleImputer\r\n",
        "\r\n",
        "imputer = SimpleImputer(strategy = 'median')\r\n",
        "\r\n",
        "poly_target = poly_features['TARGET']\r\n",
        "\r\n",
        "poly_features = poly_features.drop(columns = ['TARGET'])\r\n",
        "\r\n",
        "\r\n",
        "# Need to impute missing values\r\n",
        "poly_features = imputer.fit_transform(poly_features)\r\n",
        "poly_features_test = imputer.transform(poly_features_test)\r\n",
        "\r\n",
        "from sklearn.preprocessing import PolynomialFeatures\r\n",
        "                                  \r\n",
        "# Create the polynomial object with specified degree\r\n",
        "poly_transformer = PolynomialFeatures(degree = 3)\r\n",
        "\"\"\""
      ],
      "execution_count": 11,
      "outputs": [
        {
          "output_type": "execute_result",
          "data": {
            "application/vnd.google.colaboratory.intrinsic+json": {
              "type": "string"
            },
            "text/plain": [
              "\"\\n#新たな特徴量を生成\\u3000Polynomial Features\\n\\npoly_features = train_1[['EXT_SOURCE_1', 'EXT_SOURCE_2', 'EXT_SOURCE_3', 'DAYS_BIRTH','TARGET']]\\npoly_features_test = test_1[['EXT_SOURCE_1', 'EXT_SOURCE_2', 'EXT_SOURCE_3', 'DAYS_BIRTH']]\\n\\n# imputer for handling missing valuesfrom \\nfrom sklearn.impute import SimpleImputer\\n\\nimputer = SimpleImputer(strategy = 'median')\\n\\npoly_target = poly_features['TARGET']\\n\\npoly_features = poly_features.drop(columns = ['TARGET'])\\n\\n\\n# Need to impute missing values\\npoly_features = imputer.fit_transform(poly_features)\\npoly_features_test = imputer.transform(poly_features_test)\\n\\nfrom sklearn.preprocessing import PolynomialFeatures\\n                                  \\n# Create the polynomial object with specified degree\\npoly_transformer = PolynomialFeatures(degree = 3)\\n\""
            ]
          },
          "metadata": {
            "tags": []
          },
          "execution_count": 11
        }
      ]
    },
    {
      "cell_type": "code",
      "metadata": {
        "colab": {
          "base_uri": "https://localhost:8080/",
          "height": 53
        },
        "id": "rXSbWpDZTL-H",
        "outputId": "8c770607-f973-4494-f9e4-6085aae681ca"
      },
      "source": [
        "\"\"\"\r\n",
        "# Train the polynomial features\r\n",
        "poly_transformer.fit(poly_features)\r\n",
        "\r\n",
        "# Transform the features\r\n",
        "poly_features = poly_transformer.transform(poly_features)\r\n",
        "poly_features_test = poly_transformer.transform(poly_features_test)\r\n",
        "print('Polynomial Features shape: ', poly_features.shape)\r\n",
        "\"\"\""
      ],
      "execution_count": 12,
      "outputs": [
        {
          "output_type": "execute_result",
          "data": {
            "application/vnd.google.colaboratory.intrinsic+json": {
              "type": "string"
            },
            "text/plain": [
              "\"\\n# Train the polynomial features\\npoly_transformer.fit(poly_features)\\n\\n# Transform the features\\npoly_features = poly_transformer.transform(poly_features)\\npoly_features_test = poly_transformer.transform(poly_features_test)\\nprint('Polynomial Features shape: ', poly_features.shape)\\n\""
            ]
          },
          "metadata": {
            "tags": []
          },
          "execution_count": 12
        }
      ]
    },
    {
      "cell_type": "code",
      "metadata": {
        "colab": {
          "base_uri": "https://localhost:8080/",
          "height": 70
        },
        "id": "5ywM4onETW_f",
        "outputId": "6e5f4144-f2b6-47e2-dfae-9a70da96fd36"
      },
      "source": [
        "\"\"\"\r\n",
        "# Create a dataframe of the features \r\n",
        "poly_features = pd.DataFrame(poly_features, \r\n",
        "                             columns = poly_transformer.get_feature_names(['EXT_SOURCE_1', 'EXT_SOURCE_2', \r\n",
        "                                                                           'EXT_SOURCE_3', 'DAYS_BIRTH']))\r\n",
        "\r\n",
        "# Add in the target\r\n",
        "poly_features['TARGET'] = poly_target\r\n",
        "\r\n",
        "# Find the correlations with the target\r\n",
        "poly_corrs = poly_features.corr()['TARGET'].sort_values()\r\n",
        "\r\n",
        "# Display most negative and most positive\r\n",
        "print(poly_corrs.head(10))\r\n",
        "print(poly_corrs.tail(5))\r\n",
        "\"\"\""
      ],
      "execution_count": 13,
      "outputs": [
        {
          "output_type": "execute_result",
          "data": {
            "application/vnd.google.colaboratory.intrinsic+json": {
              "type": "string"
            },
            "text/plain": [
              "\"\\n# Create a dataframe of the features \\npoly_features = pd.DataFrame(poly_features, \\n                             columns = poly_transformer.get_feature_names(['EXT_SOURCE_1', 'EXT_SOURCE_2', \\n                                                                           'EXT_SOURCE_3', 'DAYS_BIRTH']))\\n\\n# Add in the target\\npoly_features['TARGET'] = poly_target\\n\\n# Find the correlations with the target\\npoly_corrs = poly_features.corr()['TARGET'].sort_values()\\n\\n# Display most negative and most positive\\nprint(poly_corrs.head(10))\\nprint(poly_corrs.tail(5))\\n\""
            ]
          },
          "metadata": {
            "tags": []
          },
          "execution_count": 13
        }
      ]
    },
    {
      "cell_type": "code",
      "metadata": {
        "id": "MSDUcAfMcSOw"
      },
      "source": [
        "#ロジスティック回帰のインスタンス生成\r\n",
        "lg = LogisticRegression()"
      ],
      "execution_count": 14,
      "outputs": []
    },
    {
      "cell_type": "code",
      "metadata": {
        "colab": {
          "base_uri": "https://localhost:8080/",
          "height": 35
        },
        "id": "w2oQrD89jWrT",
        "outputId": "ec6af8ed-87b3-4558-e921-cdfa3b4fe1eb"
      },
      "source": [
        "\"\"\"\r\n",
        "#クロスバリデーション\r\n",
        "from sklearn.model_selection import cross_val_score\r\n",
        "scores=cross_val_score(lg,x,y)\r\n",
        "\r\n",
        "\"\"\""
      ],
      "execution_count": 15,
      "outputs": [
        {
          "output_type": "execute_result",
          "data": {
            "application/vnd.google.colaboratory.intrinsic+json": {
              "type": "string"
            },
            "text/plain": [
              "'\\n#クロスバリデーション\\nfrom sklearn.model_selection import cross_val_score\\nscores=cross_val_score(lg,x,y)\\n\\n'"
            ]
          },
          "metadata": {
            "tags": []
          },
          "execution_count": 15
        }
      ]
    },
    {
      "cell_type": "code",
      "metadata": {
        "colab": {
          "base_uri": "https://localhost:8080/",
          "height": 35
        },
        "id": "boDd_6WFlF9q",
        "outputId": "3264af11-f8d4-414d-fc2b-622932b1c829"
      },
      "source": [
        "\"\"\"\r\n",
        "print('Cross-Validation scores: {}'.format(scores))\r\n",
        "# スコアの平均値\r\n",
        "print('Average score: {}'.format(np.mean(scores)))\r\n",
        "\"\"\""
      ],
      "execution_count": 16,
      "outputs": [
        {
          "output_type": "execute_result",
          "data": {
            "application/vnd.google.colaboratory.intrinsic+json": {
              "type": "string"
            },
            "text/plain": [
              "\"\\nprint('Cross-Validation scores: {}'.format(scores))\\n# スコアの平均値\\nprint('Average score: {}'.format(np.mean(scores)))\\n\""
            ]
          },
          "metadata": {
            "tags": []
          },
          "execution_count": 16
        }
      ]
    },
    {
      "cell_type": "code",
      "metadata": {
        "id": "BnuoXSMbpXPQ"
      },
      "source": [
        ""
      ],
      "execution_count": 16,
      "outputs": []
    },
    {
      "cell_type": "code",
      "metadata": {
        "id": "AJ-y4hQXaVce"
      },
      "source": [
        "\r\n",
        "import numpy as np\r\n",
        "from sklearn.model_selection import KFold\r\n",
        "from sklearn.metrics import roc_auc_score\r\n",
        "\r\n",
        "def Kfold(x,model):\r\n",
        "  ev=[]\r\n",
        "  kf = KFold(n_splits=5,random_state=42)\r\n",
        "  kf.get_n_splits(x)\r\n",
        "  for train_index, test_index in kf.split(x):\r\n",
        "    #print(\"TRAIN:\", train_index, \"TEST:\", test_index)\r\n",
        "    X_train, X_test = x[train_index], x[test_index]\r\n",
        "    y_train, y_test = y[train_index], y[test_index]\r\n",
        "\r\n",
        "    #学習\r\n",
        "    model.fit(X_train,y_train)\r\n",
        "    y_pred=model.predict_proba(X_test)[:,1]\r\n",
        "    #評価\r\n",
        "    ev.append(roc_auc_score(y_test,y_pred))\r\n",
        "\r\n",
        "  return np.mean(ev),model,y_pred"
      ],
      "execution_count": 17,
      "outputs": []
    },
    {
      "cell_type": "markdown",
      "metadata": {
        "id": "nl0-jLQ8s0gV"
      },
      "source": [
        "問題2 グリッドサーチ"
      ]
    },
    {
      "cell_type": "code",
      "metadata": {
        "colab": {
          "base_uri": "https://localhost:8080/"
        },
        "id": "B48wxz_naYk3",
        "outputId": "d0d59206-f067-49da-c5b6-a6c5be9ea362"
      },
      "source": [
        "from sklearn.model_selection import GridSearchCV\r\n",
        "from sklearn.model_selection import train_test_split\r\n",
        "param_grid = [{\"C\": [0.001,0.01,0.1,1,10,100,1000],\r\n",
        "                                  \"penalty\": ['l1','l2']}]\r\n",
        "lg=LogisticRegression()\r\n",
        "\r\n",
        "#訓練データとテストデータに分割\r\n",
        "x_train, x_test, y_train, y_test = train_test_split(x1, y, test_size=0.25, random_state=0)\r\n",
        "\r\n",
        "grid_search=GridSearchCV(lg,param_grid,cv=5,scoring='roc_auc')\r\n",
        "grid_search.fit(x_train,y_train)"
      ],
      "execution_count": 18,
      "outputs": [
        {
          "output_type": "stream",
          "text": [
            "/usr/local/lib/python3.6/dist-packages/sklearn/model_selection/_validation.py:536: FitFailedWarning: Estimator fit failed. The score on this train-test partition for these parameters will be set to nan. Details: \n",
            "ValueError: Solver lbfgs supports only 'l2' or 'none' penalties, got l1 penalty.\n",
            "\n",
            "  FitFailedWarning)\n",
            "/usr/local/lib/python3.6/dist-packages/sklearn/utils/validation.py:760: DataConversionWarning: A column-vector y was passed when a 1d array was expected. Please change the shape of y to (n_samples, ), for example using ravel().\n",
            "  y = column_or_1d(y, warn=True)\n",
            "/usr/local/lib/python3.6/dist-packages/sklearn/utils/validation.py:760: DataConversionWarning: A column-vector y was passed when a 1d array was expected. Please change the shape of y to (n_samples, ), for example using ravel().\n",
            "  y = column_or_1d(y, warn=True)\n",
            "/usr/local/lib/python3.6/dist-packages/sklearn/utils/validation.py:760: DataConversionWarning: A column-vector y was passed when a 1d array was expected. Please change the shape of y to (n_samples, ), for example using ravel().\n",
            "  y = column_or_1d(y, warn=True)\n",
            "/usr/local/lib/python3.6/dist-packages/sklearn/utils/validation.py:760: DataConversionWarning: A column-vector y was passed when a 1d array was expected. Please change the shape of y to (n_samples, ), for example using ravel().\n",
            "  y = column_or_1d(y, warn=True)\n",
            "/usr/local/lib/python3.6/dist-packages/sklearn/utils/validation.py:760: DataConversionWarning: A column-vector y was passed when a 1d array was expected. Please change the shape of y to (n_samples, ), for example using ravel().\n",
            "  y = column_or_1d(y, warn=True)\n",
            "/usr/local/lib/python3.6/dist-packages/sklearn/model_selection/_validation.py:536: FitFailedWarning: Estimator fit failed. The score on this train-test partition for these parameters will be set to nan. Details: \n",
            "ValueError: Solver lbfgs supports only 'l2' or 'none' penalties, got l1 penalty.\n",
            "\n",
            "  FitFailedWarning)\n",
            "/usr/local/lib/python3.6/dist-packages/sklearn/utils/validation.py:760: DataConversionWarning: A column-vector y was passed when a 1d array was expected. Please change the shape of y to (n_samples, ), for example using ravel().\n",
            "  y = column_or_1d(y, warn=True)\n",
            "/usr/local/lib/python3.6/dist-packages/sklearn/utils/validation.py:760: DataConversionWarning: A column-vector y was passed when a 1d array was expected. Please change the shape of y to (n_samples, ), for example using ravel().\n",
            "  y = column_or_1d(y, warn=True)\n",
            "/usr/local/lib/python3.6/dist-packages/sklearn/utils/validation.py:760: DataConversionWarning: A column-vector y was passed when a 1d array was expected. Please change the shape of y to (n_samples, ), for example using ravel().\n",
            "  y = column_or_1d(y, warn=True)\n",
            "/usr/local/lib/python3.6/dist-packages/sklearn/utils/validation.py:760: DataConversionWarning: A column-vector y was passed when a 1d array was expected. Please change the shape of y to (n_samples, ), for example using ravel().\n",
            "  y = column_or_1d(y, warn=True)\n",
            "/usr/local/lib/python3.6/dist-packages/sklearn/utils/validation.py:760: DataConversionWarning: A column-vector y was passed when a 1d array was expected. Please change the shape of y to (n_samples, ), for example using ravel().\n",
            "  y = column_or_1d(y, warn=True)\n",
            "/usr/local/lib/python3.6/dist-packages/sklearn/model_selection/_validation.py:536: FitFailedWarning: Estimator fit failed. The score on this train-test partition for these parameters will be set to nan. Details: \n",
            "ValueError: Solver lbfgs supports only 'l2' or 'none' penalties, got l1 penalty.\n",
            "\n",
            "  FitFailedWarning)\n",
            "/usr/local/lib/python3.6/dist-packages/sklearn/utils/validation.py:760: DataConversionWarning: A column-vector y was passed when a 1d array was expected. Please change the shape of y to (n_samples, ), for example using ravel().\n",
            "  y = column_or_1d(y, warn=True)\n",
            "/usr/local/lib/python3.6/dist-packages/sklearn/utils/validation.py:760: DataConversionWarning: A column-vector y was passed when a 1d array was expected. Please change the shape of y to (n_samples, ), for example using ravel().\n",
            "  y = column_or_1d(y, warn=True)\n",
            "/usr/local/lib/python3.6/dist-packages/sklearn/utils/validation.py:760: DataConversionWarning: A column-vector y was passed when a 1d array was expected. Please change the shape of y to (n_samples, ), for example using ravel().\n",
            "  y = column_or_1d(y, warn=True)\n",
            "/usr/local/lib/python3.6/dist-packages/sklearn/utils/validation.py:760: DataConversionWarning: A column-vector y was passed when a 1d array was expected. Please change the shape of y to (n_samples, ), for example using ravel().\n",
            "  y = column_or_1d(y, warn=True)\n",
            "/usr/local/lib/python3.6/dist-packages/sklearn/utils/validation.py:760: DataConversionWarning: A column-vector y was passed when a 1d array was expected. Please change the shape of y to (n_samples, ), for example using ravel().\n",
            "  y = column_or_1d(y, warn=True)\n",
            "/usr/local/lib/python3.6/dist-packages/sklearn/model_selection/_validation.py:536: FitFailedWarning: Estimator fit failed. The score on this train-test partition for these parameters will be set to nan. Details: \n",
            "ValueError: Solver lbfgs supports only 'l2' or 'none' penalties, got l1 penalty.\n",
            "\n",
            "  FitFailedWarning)\n",
            "/usr/local/lib/python3.6/dist-packages/sklearn/utils/validation.py:760: DataConversionWarning: A column-vector y was passed when a 1d array was expected. Please change the shape of y to (n_samples, ), for example using ravel().\n",
            "  y = column_or_1d(y, warn=True)\n",
            "/usr/local/lib/python3.6/dist-packages/sklearn/utils/validation.py:760: DataConversionWarning: A column-vector y was passed when a 1d array was expected. Please change the shape of y to (n_samples, ), for example using ravel().\n",
            "  y = column_or_1d(y, warn=True)\n",
            "/usr/local/lib/python3.6/dist-packages/sklearn/utils/validation.py:760: DataConversionWarning: A column-vector y was passed when a 1d array was expected. Please change the shape of y to (n_samples, ), for example using ravel().\n",
            "  y = column_or_1d(y, warn=True)\n",
            "/usr/local/lib/python3.6/dist-packages/sklearn/utils/validation.py:760: DataConversionWarning: A column-vector y was passed when a 1d array was expected. Please change the shape of y to (n_samples, ), for example using ravel().\n",
            "  y = column_or_1d(y, warn=True)\n",
            "/usr/local/lib/python3.6/dist-packages/sklearn/utils/validation.py:760: DataConversionWarning: A column-vector y was passed when a 1d array was expected. Please change the shape of y to (n_samples, ), for example using ravel().\n",
            "  y = column_or_1d(y, warn=True)\n",
            "/usr/local/lib/python3.6/dist-packages/sklearn/model_selection/_validation.py:536: FitFailedWarning: Estimator fit failed. The score on this train-test partition for these parameters will be set to nan. Details: \n",
            "ValueError: Solver lbfgs supports only 'l2' or 'none' penalties, got l1 penalty.\n",
            "\n",
            "  FitFailedWarning)\n",
            "/usr/local/lib/python3.6/dist-packages/sklearn/utils/validation.py:760: DataConversionWarning: A column-vector y was passed when a 1d array was expected. Please change the shape of y to (n_samples, ), for example using ravel().\n",
            "  y = column_or_1d(y, warn=True)\n",
            "/usr/local/lib/python3.6/dist-packages/sklearn/utils/validation.py:760: DataConversionWarning: A column-vector y was passed when a 1d array was expected. Please change the shape of y to (n_samples, ), for example using ravel().\n",
            "  y = column_or_1d(y, warn=True)\n",
            "/usr/local/lib/python3.6/dist-packages/sklearn/utils/validation.py:760: DataConversionWarning: A column-vector y was passed when a 1d array was expected. Please change the shape of y to (n_samples, ), for example using ravel().\n",
            "  y = column_or_1d(y, warn=True)\n",
            "/usr/local/lib/python3.6/dist-packages/sklearn/utils/validation.py:760: DataConversionWarning: A column-vector y was passed when a 1d array was expected. Please change the shape of y to (n_samples, ), for example using ravel().\n",
            "  y = column_or_1d(y, warn=True)\n",
            "/usr/local/lib/python3.6/dist-packages/sklearn/utils/validation.py:760: DataConversionWarning: A column-vector y was passed when a 1d array was expected. Please change the shape of y to (n_samples, ), for example using ravel().\n",
            "  y = column_or_1d(y, warn=True)\n",
            "/usr/local/lib/python3.6/dist-packages/sklearn/model_selection/_validation.py:536: FitFailedWarning: Estimator fit failed. The score on this train-test partition for these parameters will be set to nan. Details: \n",
            "ValueError: Solver lbfgs supports only 'l2' or 'none' penalties, got l1 penalty.\n",
            "\n",
            "  FitFailedWarning)\n",
            "/usr/local/lib/python3.6/dist-packages/sklearn/utils/validation.py:760: DataConversionWarning: A column-vector y was passed when a 1d array was expected. Please change the shape of y to (n_samples, ), for example using ravel().\n",
            "  y = column_or_1d(y, warn=True)\n",
            "/usr/local/lib/python3.6/dist-packages/sklearn/utils/validation.py:760: DataConversionWarning: A column-vector y was passed when a 1d array was expected. Please change the shape of y to (n_samples, ), for example using ravel().\n",
            "  y = column_or_1d(y, warn=True)\n",
            "/usr/local/lib/python3.6/dist-packages/sklearn/utils/validation.py:760: DataConversionWarning: A column-vector y was passed when a 1d array was expected. Please change the shape of y to (n_samples, ), for example using ravel().\n",
            "  y = column_or_1d(y, warn=True)\n",
            "/usr/local/lib/python3.6/dist-packages/sklearn/utils/validation.py:760: DataConversionWarning: A column-vector y was passed when a 1d array was expected. Please change the shape of y to (n_samples, ), for example using ravel().\n",
            "  y = column_or_1d(y, warn=True)\n",
            "/usr/local/lib/python3.6/dist-packages/sklearn/utils/validation.py:760: DataConversionWarning: A column-vector y was passed when a 1d array was expected. Please change the shape of y to (n_samples, ), for example using ravel().\n",
            "  y = column_or_1d(y, warn=True)\n",
            "/usr/local/lib/python3.6/dist-packages/sklearn/model_selection/_validation.py:536: FitFailedWarning: Estimator fit failed. The score on this train-test partition for these parameters will be set to nan. Details: \n",
            "ValueError: Solver lbfgs supports only 'l2' or 'none' penalties, got l1 penalty.\n",
            "\n",
            "  FitFailedWarning)\n",
            "/usr/local/lib/python3.6/dist-packages/sklearn/utils/validation.py:760: DataConversionWarning: A column-vector y was passed when a 1d array was expected. Please change the shape of y to (n_samples, ), for example using ravel().\n",
            "  y = column_or_1d(y, warn=True)\n",
            "/usr/local/lib/python3.6/dist-packages/sklearn/utils/validation.py:760: DataConversionWarning: A column-vector y was passed when a 1d array was expected. Please change the shape of y to (n_samples, ), for example using ravel().\n",
            "  y = column_or_1d(y, warn=True)\n",
            "/usr/local/lib/python3.6/dist-packages/sklearn/utils/validation.py:760: DataConversionWarning: A column-vector y was passed when a 1d array was expected. Please change the shape of y to (n_samples, ), for example using ravel().\n",
            "  y = column_or_1d(y, warn=True)\n",
            "/usr/local/lib/python3.6/dist-packages/sklearn/utils/validation.py:760: DataConversionWarning: A column-vector y was passed when a 1d array was expected. Please change the shape of y to (n_samples, ), for example using ravel().\n",
            "  y = column_or_1d(y, warn=True)\n",
            "/usr/local/lib/python3.6/dist-packages/sklearn/utils/validation.py:760: DataConversionWarning: A column-vector y was passed when a 1d array was expected. Please change the shape of y to (n_samples, ), for example using ravel().\n",
            "  y = column_or_1d(y, warn=True)\n",
            "/usr/local/lib/python3.6/dist-packages/sklearn/utils/validation.py:760: DataConversionWarning: A column-vector y was passed when a 1d array was expected. Please change the shape of y to (n_samples, ), for example using ravel().\n",
            "  y = column_or_1d(y, warn=True)\n"
          ],
          "name": "stderr"
        },
        {
          "output_type": "execute_result",
          "data": {
            "text/plain": [
              "GridSearchCV(cv=5, error_score=nan,\n",
              "             estimator=LogisticRegression(C=1.0, class_weight=None, dual=False,\n",
              "                                          fit_intercept=True,\n",
              "                                          intercept_scaling=1, l1_ratio=None,\n",
              "                                          max_iter=100, multi_class='auto',\n",
              "                                          n_jobs=None, penalty='l2',\n",
              "                                          random_state=None, solver='lbfgs',\n",
              "                                          tol=0.0001, verbose=0,\n",
              "                                          warm_start=False),\n",
              "             iid='deprecated', n_jobs=None,\n",
              "             param_grid=[{'C': [0.001, 0.01, 0.1, 1, 10, 100, 1000],\n",
              "                          'penalty': ['l1', 'l2']}],\n",
              "             pre_dispatch='2*n_jobs', refit=True, return_train_score=False,\n",
              "             scoring='roc_auc', verbose=0)"
            ]
          },
          "metadata": {
            "tags": []
          },
          "execution_count": 18
        }
      ]
    },
    {
      "cell_type": "code",
      "metadata": {
        "id": "2c1bNqKiWRiz"
      },
      "source": [
        ""
      ],
      "execution_count": 19,
      "outputs": []
    },
    {
      "cell_type": "code",
      "metadata": {
        "id": "lufrGrpq1JG7",
        "colab": {
          "base_uri": "https://localhost:8080/"
        },
        "outputId": "6c849150-4489-4661-e086-25d53293be34"
      },
      "source": [
        "param=grid_search.best_params_\r\n",
        "print(param)\r\n",
        "\r\n",
        "#テストデータを使用してスコアを表示\r\n",
        "print(\"test set score:{:.2f}\".format(grid_search.score(x_test, y_test)))\r\n",
        "print(grid_search.best_estimator_)\r\n",
        "\r\n",
        "cvres=grid_search.cv_results_\r\n",
        "for mean_score, params in zip(cvres[\"mean_test_score\"],cvres[\"params\"]):\r\n",
        "  print(mean_score,params)\r\n"
      ],
      "execution_count": 19,
      "outputs": [
        {
          "output_type": "stream",
          "text": [
            "{'C': 1000, 'penalty': 'l2'}\n",
            "test set score:0.72\n",
            "LogisticRegression(C=1000, class_weight=None, dual=False, fit_intercept=True,\n",
            "                   intercept_scaling=1, l1_ratio=None, max_iter=100,\n",
            "                   multi_class='auto', n_jobs=None, penalty='l2',\n",
            "                   random_state=None, solver='lbfgs', tol=0.0001, verbose=0,\n",
            "                   warm_start=False)\n",
            "nan {'C': 0.001, 'penalty': 'l1'}\n",
            "0.717013060738279 {'C': 0.001, 'penalty': 'l2'}\n",
            "nan {'C': 0.01, 'penalty': 'l1'}\n",
            "0.7182064935531265 {'C': 0.01, 'penalty': 'l2'}\n",
            "nan {'C': 0.1, 'penalty': 'l1'}\n",
            "0.718443205746248 {'C': 0.1, 'penalty': 'l2'}\n",
            "nan {'C': 1, 'penalty': 'l1'}\n",
            "0.7184649035125088 {'C': 1, 'penalty': 'l2'}\n",
            "nan {'C': 10, 'penalty': 'l1'}\n",
            "0.7184665919975494 {'C': 10, 'penalty': 'l2'}\n",
            "nan {'C': 100, 'penalty': 'l1'}\n",
            "0.7184667443327186 {'C': 100, 'penalty': 'l2'}\n",
            "nan {'C': 1000, 'penalty': 'l1'}\n",
            "0.7184667468803598 {'C': 1000, 'penalty': 'l2'}\n"
          ],
          "name": "stdout"
        }
      ]
    },
    {
      "cell_type": "code",
      "metadata": {
        "colab": {
          "base_uri": "https://localhost:8080/"
        },
        "id": "J6CieK4eKXCq",
        "outputId": "7ab7246b-f557-4520-b5ef-85305ba83088"
      },
      "source": [
        "#ロジスティック回帰のパラメータ調整\r\n",
        "lg2=LogisticRegression(**param)\r\n",
        "\r\n",
        "\r\n",
        "mean_roc,model,y_pred_lg=Kfold(x1,lg2)\r\n",
        "print(mean_roc)\r\n",
        "#ホールドアウト法\r\n",
        "lg2.fit(x_train,y_train)\r\n",
        "y_pred3=lg2.predict_proba(x_test)[:,1]\r\n",
        "print(\"ROC: \"+str(roc_auc_score(y_test,y_pred3)))"
      ],
      "execution_count": 20,
      "outputs": [
        {
          "output_type": "stream",
          "text": [
            "/usr/local/lib/python3.6/dist-packages/sklearn/model_selection/_split.py:296: FutureWarning: Setting a random_state has no effect since shuffle is False. This will raise an error in 0.24. You should leave random_state to its default (None), or set shuffle=True.\n",
            "  FutureWarning\n",
            "/usr/local/lib/python3.6/dist-packages/sklearn/utils/validation.py:760: DataConversionWarning: A column-vector y was passed when a 1d array was expected. Please change the shape of y to (n_samples, ), for example using ravel().\n",
            "  y = column_or_1d(y, warn=True)\n",
            "/usr/local/lib/python3.6/dist-packages/sklearn/utils/validation.py:760: DataConversionWarning: A column-vector y was passed when a 1d array was expected. Please change the shape of y to (n_samples, ), for example using ravel().\n",
            "  y = column_or_1d(y, warn=True)\n",
            "/usr/local/lib/python3.6/dist-packages/sklearn/utils/validation.py:760: DataConversionWarning: A column-vector y was passed when a 1d array was expected. Please change the shape of y to (n_samples, ), for example using ravel().\n",
            "  y = column_or_1d(y, warn=True)\n",
            "/usr/local/lib/python3.6/dist-packages/sklearn/utils/validation.py:760: DataConversionWarning: A column-vector y was passed when a 1d array was expected. Please change the shape of y to (n_samples, ), for example using ravel().\n",
            "  y = column_or_1d(y, warn=True)\n",
            "/usr/local/lib/python3.6/dist-packages/sklearn/utils/validation.py:760: DataConversionWarning: A column-vector y was passed when a 1d array was expected. Please change the shape of y to (n_samples, ), for example using ravel().\n",
            "  y = column_or_1d(y, warn=True)\n"
          ],
          "name": "stderr"
        },
        {
          "output_type": "stream",
          "text": [
            "0.7178175370261443\n"
          ],
          "name": "stdout"
        },
        {
          "output_type": "stream",
          "text": [
            "/usr/local/lib/python3.6/dist-packages/sklearn/utils/validation.py:760: DataConversionWarning: A column-vector y was passed when a 1d array was expected. Please change the shape of y to (n_samples, ), for example using ravel().\n",
            "  y = column_or_1d(y, warn=True)\n"
          ],
          "name": "stderr"
        },
        {
          "output_type": "stream",
          "text": [
            "ROC: 0.7160044240847179\n"
          ],
          "name": "stdout"
        }
      ]
    },
    {
      "cell_type": "markdown",
      "metadata": {
        "id": "xIav6jBv4voW"
      },
      "source": [
        "問題3 Kaggle Notebooksからの調査"
      ]
    },
    {
      "cell_type": "code",
      "metadata": {
        "id": "v_svruMt2fGr"
      },
      "source": [
        "#クロスバリデーション\r\n",
        "\r\n",
        "#:層化k分割交差検証\r\n",
        "#:RandomForest\r\n",
        "#optional:SVC\r\n",
        "#optional:アンサンブル学習"
      ],
      "execution_count": 21,
      "outputs": []
    },
    {
      "cell_type": "markdown",
      "metadata": {
        "id": "QFKKPPgK-SKV"
      },
      "source": [
        "問題4 高い汎化性能のモデル作成"
      ]
    },
    {
      "cell_type": "code",
      "metadata": {
        "id": "OOoDE_d_-Oc4"
      },
      "source": [
        "#層化分割交差検証\r\n",
        "from sklearn.model_selection import StratifiedKFold\r\n",
        "\r\n",
        "def StratifieldKfold(x,y,model):\r\n",
        "  ev=[]\r\n",
        "  kf = StratifiedKFold(n_splits=2, shuffle=True)\r\n",
        "  for train_index, test_index in kf.split(x1,y):\r\n",
        "    #print(\"TRAIN:\", train_index, \"TEST:\", test_index)\r\n",
        "    X_train, X_test = x1[train_index], x1[test_index]\r\n",
        "    y_train, y_test = y[train_index], y[test_index]\r\n",
        "\r\n",
        "    #学習\r\n",
        "    model.fit(X_train,y_train)\r\n",
        "    y_pred=model.predict_proba(X_test)[:, 1]\r\n",
        "    #評価\r\n",
        "    ev.append(roc_auc_score(y_test,y_pred))\r\n",
        "\r\n",
        "  return np.mean(ev)"
      ],
      "execution_count": 22,
      "outputs": []
    },
    {
      "cell_type": "code",
      "metadata": {
        "colab": {
          "base_uri": "https://localhost:8080/"
        },
        "id": "DnEb6D2vntAv",
        "outputId": "7009fbbc-995b-4d84-ccc5-acaeb69245e9"
      },
      "source": [
        "#層化分割\r\n",
        "print(StratifieldKfold(x1,y,lg2))"
      ],
      "execution_count": 23,
      "outputs": [
        {
          "output_type": "stream",
          "text": [
            "/usr/local/lib/python3.6/dist-packages/sklearn/utils/validation.py:760: DataConversionWarning: A column-vector y was passed when a 1d array was expected. Please change the shape of y to (n_samples, ), for example using ravel().\n",
            "  y = column_or_1d(y, warn=True)\n",
            "/usr/local/lib/python3.6/dist-packages/sklearn/utils/validation.py:760: DataConversionWarning: A column-vector y was passed when a 1d array was expected. Please change the shape of y to (n_samples, ), for example using ravel().\n",
            "  y = column_or_1d(y, warn=True)\n"
          ],
          "name": "stderr"
        },
        {
          "output_type": "stream",
          "text": [
            "0.7178369435976582\n"
          ],
          "name": "stdout"
        }
      ]
    },
    {
      "cell_type": "code",
      "metadata": {
        "id": "v-sX7qbQu60G",
        "colab": {
          "base_uri": "https://localhost:8080/",
          "height": 70
        },
        "outputId": "0d31cde9-da49-4eef-b202-b9225b320a24"
      },
      "source": [
        "\"\"\"\r\n",
        "#投票分類機 アンサンブル1\r\n",
        "from sklearn.ensemble import VotingClassifier\r\n",
        "from sklearn.ensemble import RandomForestClassifier\r\n",
        "from sklearn.svm import SVC\r\n",
        "\r\n",
        "log_clf=LogisticRegression(solver='lbfgs', max_iter=10000)\r\n",
        "rnd_clf=RandomForestClassifier(n_estimators=40)\r\n",
        "svm_clf=SVC(probability = True )\r\n",
        "\r\n",
        "voting_clf=VotingClassifier(\r\n",
        "    estimators=[('lr',log_clf),('rf',rnd_clf),('svc',svm_clf)],voting='soft')\r\n",
        "    \"\"\""
      ],
      "execution_count": 24,
      "outputs": [
        {
          "output_type": "execute_result",
          "data": {
            "application/vnd.google.colaboratory.intrinsic+json": {
              "type": "string"
            },
            "text/plain": [
              "\"\\n#投票分類機 アンサンブル1\\nfrom sklearn.ensemble import VotingClassifier\\nfrom sklearn.ensemble import RandomForestClassifier\\nfrom sklearn.svm import SVC\\n\\nlog_clf=LogisticRegression(solver='lbfgs', max_iter=10000)\\nrnd_clf=RandomForestClassifier(n_estimators=40)\\nsvm_clf=SVC(probability = True )\\n\\nvoting_clf=VotingClassifier(\\n    estimators=[('lr',log_clf),('rf',rnd_clf),('svc',svm_clf)],voting='soft')\\n    \""
            ]
          },
          "metadata": {
            "tags": []
          },
          "execution_count": 24
        }
      ]
    },
    {
      "cell_type": "code",
      "metadata": {
        "colab": {
          "base_uri": "https://localhost:8080/",
          "height": 35
        },
        "id": "1tCjEZJDYkn_",
        "outputId": "35b3b0ac-74a2-4c1b-fa28-5c0448558c08"
      },
      "source": [
        "\"\"\"\r\n",
        "voting_clf.fit(x_train,y_train)\r\n",
        "y_pred5=voting_clf.predict_proba(x_test)[:,1]\r\n",
        "roc=roc_auc_score(y_test,y_pred5)\r\n",
        "print(roc)\r\n",
        "\"\"\""
      ],
      "execution_count": 25,
      "outputs": [
        {
          "output_type": "execute_result",
          "data": {
            "application/vnd.google.colaboratory.intrinsic+json": {
              "type": "string"
            },
            "text/plain": [
              "'\\nvoting_clf.fit(x_train,y_train)\\ny_pred5=voting_clf.predict_proba(x_test)[:,1]\\nroc=roc_auc_score(y_test,y_pred5)\\nprint(roc)\\n'"
            ]
          },
          "metadata": {
            "tags": []
          },
          "execution_count": 25
        }
      ]
    },
    {
      "cell_type": "code",
      "metadata": {
        "colab": {
          "base_uri": "https://localhost:8080/"
        },
        "id": "TCO7xZjThiFl",
        "outputId": "b7af2703-2c03-460f-8e40-cea201e9c557"
      },
      "source": [
        "from sklearn.svm import SVC\r\n",
        "from sklearn.ensemble import RandomForestClassifier\r\n",
        "#RandomForest 訓練データ\r\n",
        "rf10=RandomForestClassifier()\r\n",
        "mean1,rf11,y_pred_rf=Kfold(x1,rf10)\r\n",
        "#y_pred_rf=rf11.predict_proba(x_test)[:,1]\r\n"
      ],
      "execution_count": 24,
      "outputs": [
        {
          "output_type": "stream",
          "text": [
            "/usr/local/lib/python3.6/dist-packages/sklearn/model_selection/_split.py:296: FutureWarning: Setting a random_state has no effect since shuffle is False. This will raise an error in 0.24. You should leave random_state to its default (None), or set shuffle=True.\n",
            "  FutureWarning\n",
            "/usr/local/lib/python3.6/dist-packages/ipykernel_launcher.py:16: DataConversionWarning: A column-vector y was passed when a 1d array was expected. Please change the shape of y to (n_samples,), for example using ravel().\n",
            "  app.launch_new_instance()\n",
            "/usr/local/lib/python3.6/dist-packages/ipykernel_launcher.py:16: DataConversionWarning: A column-vector y was passed when a 1d array was expected. Please change the shape of y to (n_samples,), for example using ravel().\n",
            "  app.launch_new_instance()\n",
            "/usr/local/lib/python3.6/dist-packages/ipykernel_launcher.py:16: DataConversionWarning: A column-vector y was passed when a 1d array was expected. Please change the shape of y to (n_samples,), for example using ravel().\n",
            "  app.launch_new_instance()\n",
            "/usr/local/lib/python3.6/dist-packages/ipykernel_launcher.py:16: DataConversionWarning: A column-vector y was passed when a 1d array was expected. Please change the shape of y to (n_samples,), for example using ravel().\n",
            "  app.launch_new_instance()\n",
            "/usr/local/lib/python3.6/dist-packages/ipykernel_launcher.py:16: DataConversionWarning: A column-vector y was passed when a 1d array was expected. Please change the shape of y to (n_samples,), for example using ravel().\n",
            "  app.launch_new_instance()\n"
          ],
          "name": "stderr"
        }
      ]
    },
    {
      "cell_type": "code",
      "metadata": {
        "colab": {
          "base_uri": "https://localhost:8080/"
        },
        "id": "sHiO3fzE8_Pm",
        "outputId": "e2943090-cc99-4909-978d-94e7694fe7f1"
      },
      "source": [
        "print(mean1)"
      ],
      "execution_count": 25,
      "outputs": [
        {
          "output_type": "stream",
          "text": [
            "0.6291876059091303\n"
          ],
          "name": "stdout"
        }
      ]
    },
    {
      "cell_type": "code",
      "metadata": {
        "id": "eyWhPkMbn0u1"
      },
      "source": [
        "#テストデータ\r\n",
        "\r\n",
        "#RandomForest テストデータ\r\n",
        "y_pred_rf_test=rf11.predict_proba(x1_test)[:,1]\r\n",
        "\r\n",
        "#LogisticRegression テストデータ\r\n",
        "y_pred_lg_test=lg2.predict_proba(x1_test)[:,1]"
      ],
      "execution_count": 33,
      "outputs": []
    },
    {
      "cell_type": "code",
      "metadata": {
        "id": "_OUTkl1XGZ5I",
        "colab": {
          "base_uri": "https://localhost:8080/"
        },
        "outputId": "d6c35442-955b-40bd-937c-a52e61a32de1"
      },
      "source": [
        "#表の作成 \r\n",
        "\"\"\"\r\n",
        "Votingはfitとpredictの処理が重すぎて1時間以上計算時間を要するため、今回は表作成不可\r\n",
        "代替として層化交差検証とクロス検証の比較表を作成\r\n",
        "\"\"\"\r\n",
        "\r\n",
        "metrics = pd.DataFrame({'Logistic': mean_roc,#ロジスティック回帰\r\n",
        "                         'RandomForest':mean1},index=['XvalidatedROC']) #RandomForesr\r\n",
        "print(metrics)"
      ],
      "execution_count": 39,
      "outputs": [
        {
          "output_type": "stream",
          "text": [
            "               Logistic  RandomForest\n",
            "XvalidatedROC  0.717818      0.629188\n"
          ],
          "name": "stdout"
        }
      ]
    },
    {
      "cell_type": "markdown",
      "metadata": {
        "id": "2CyEOz0EIg-Z"
      },
      "source": [
        "問題5 最終的なモデルの選定"
      ]
    },
    {
      "cell_type": "code",
      "metadata": {
        "id": "k1Hux9t6IkfI",
        "colab": {
          "base_uri": "https://localhost:8080/"
        },
        "outputId": "0314ead1-a124-46cb-bd96-da2a5af7320c"
      },
      "source": [
        "#LogisticRegressionを採用\r\n",
        "\r\n",
        "print(test.shape[0])\r\n",
        "print(y_pred_lg_test.shape)\r\n",
        "\r\n",
        "#kaggle用ファイル生成\r\n",
        "submission=pd.DataFrame({'SK_ID_CURR':test['SK_ID_CURR'],'TARGET':y_pred_lg_test})\r\n",
        "\r\n",
        "pd.DataFrame(submission, columns=['SK_ID_CURR','TARGET'],index=None).to_csv('drive/My Drive/DIVE INTO CODE/0_課題/2月/0_week1//homecreditdata.csv')"
      ],
      "execution_count": 47,
      "outputs": [
        {
          "output_type": "stream",
          "text": [
            "48744\n",
            "(48744,)\n"
          ],
          "name": "stdout"
        }
      ]
    },
    {
      "cell_type": "code",
      "metadata": {
        "colab": {
          "base_uri": "https://localhost:8080/"
        },
        "id": "DoZEu1_6IIs4",
        "outputId": "fdc96b03-4b30-4f50-96b8-b6dd9ebbde86"
      },
      "source": [
        "#kaggle提出後のスコア\r\n",
        "0.70862\r\n",
        "#本notebook上のスコア\r\n",
        "0.717818 \r\n",
        "#約0.01の差が発生。やや訓練上で過学習しているものと思われる"
      ],
      "execution_count": 48,
      "outputs": [
        {
          "output_type": "execute_result",
          "data": {
            "text/plain": [
              "0.717818"
            ]
          },
          "metadata": {
            "tags": []
          },
          "execution_count": 48
        }
      ]
    },
    {
      "cell_type": "code",
      "metadata": {
        "id": "XrpRdB1VMJoS"
      },
      "source": [
        ""
      ],
      "execution_count": null,
      "outputs": []
    }
  ]
}