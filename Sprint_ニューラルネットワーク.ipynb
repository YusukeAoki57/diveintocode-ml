{
  "nbformat": 4,
  "nbformat_minor": 0,
  "metadata": {
    "colab": {
      "name": "Sprint_ニューラルネットワーク.ipynb",
      "provenance": [],
      "collapsed_sections": [],
      "authorship_tag": "ABX9TyOtRge+BLQPh4DXFpSH3UWo",
      "include_colab_link": true
    },
    "kernelspec": {
      "name": "python3",
      "display_name": "Python 3"
    }
  },
  "cells": [
    {
      "cell_type": "markdown",
      "metadata": {
        "id": "view-in-github",
        "colab_type": "text"
      },
      "source": [
        "<a href=\"https://colab.research.google.com/github/YusukeAoki57/diveintocode-ml/blob/master/Sprint_%E3%83%8B%E3%83%A5%E3%83%BC%E3%83%A9%E3%83%AB%E3%83%8D%E3%83%83%E3%83%88%E3%83%AF%E3%83%BC%E3%82%AF.ipynb\" target=\"_parent\"><img src=\"https://colab.research.google.com/assets/colab-badge.svg\" alt=\"Open In Colab\"/></a>"
      ]
    },
    {
      "cell_type": "code",
      "metadata": {
        "id": "OZYB8LOzfU8x",
        "colab": {
          "base_uri": "https://localhost:8080/"
        },
        "outputId": "f20b09de-f2c3-41b1-c727-b05a4449889a"
      },
      "source": [
        "from keras.datasets import mnist\r\n",
        "(X_train, y_train), (X_test, y_test) = mnist.load_data()"
      ],
      "execution_count": 1,
      "outputs": [
        {
          "output_type": "stream",
          "text": [
            "Downloading data from https://storage.googleapis.com/tensorflow/tf-keras-datasets/mnist.npz\n",
            "11493376/11490434 [==============================] - 0s 0us/step\n"
          ],
          "name": "stdout"
        }
      ]
    },
    {
      "cell_type": "code",
      "metadata": {
        "id": "XDslSc92wGBS"
      },
      "source": [
        "import numpy as np"
      ],
      "execution_count": 2,
      "outputs": []
    },
    {
      "cell_type": "code",
      "metadata": {
        "id": "yHInpclxfeTt"
      },
      "source": [
        "X_train = X_train.reshape(-1, 784)\r\n",
        "X_test = X_test.reshape(-1, 784)"
      ],
      "execution_count": 3,
      "outputs": []
    },
    {
      "cell_type": "code",
      "metadata": {
        "colab": {
          "base_uri": "https://localhost:8080/",
          "height": 281
        },
        "id": "GJnla3NSlWmB",
        "outputId": "0020d500-09b4-439a-d4e0-57e7ac14756c"
      },
      "source": [
        "import matplotlib.pyplot as plt\r\n",
        "%matplotlib inline\r\n",
        "index = 0\r\n",
        "image = X_train[index].reshape(28,28)\r\n",
        "# X_train[index]: (784,)\r\n",
        "# image: (28, 28)\r\n",
        "plt.imshow(image, 'gray')\r\n",
        "plt.title('label : {}'.format(y_train[index]))\r\n",
        "plt.show()"
      ],
      "execution_count": 4,
      "outputs": [
        {
          "output_type": "display_data",
          "data": {
            "image/png": "[encoded data removed]",
            "text/plain": [
              "<Figure size 432x288 with 1 Axes>"
            ]
          },
          "metadata": {
            "tags": [],
            "needs_background": "light"
          }
        }
      ]
    },
    {
      "cell_type": "code",
      "metadata": {
        "colab": {
          "base_uri": "https://localhost:8080/"
        },
        "id": "ZXsSFD7yllxX",
        "outputId": "ad802c2d-341d-4671-9c85-e055d6832495"
      },
      "source": [
        "X_train = X_train.astype(np.float)\r\n",
        "X_test = X_test.astype(np.float)\r\n",
        "X_train /= 255\r\n",
        "X_test /= 255\r\n",
        "print(X_train.max()) # 1.0\r\n",
        "print(X_train.min()) # 0.0"
      ],
      "execution_count": 5,
      "outputs": [
        {
          "output_type": "stream",
          "text": [
            "1.0\n",
            "0.0\n"
          ],
          "name": "stdout"
        }
      ]
    },
    {
      "cell_type": "code",
      "metadata": {
        "colab": {
          "base_uri": "https://localhost:8080/"
        },
        "id": "iWoPV-LAwEfN",
        "outputId": "cf040cd2-22fd-45ed-800f-644ee89a035a"
      },
      "source": [
        "from sklearn.preprocessing import OneHotEncoder\r\n",
        "enc = OneHotEncoder(handle_unknown='ignore', sparse=False)\r\n",
        "y_train_one_hot = enc.fit_transform(y_train[:, np.newaxis])\r\n",
        "y_test_one_hot = enc.transform(y_test[:, np.newaxis])\r\n",
        "print(y_train.shape) # (60000,)\r\n",
        "print(y_train_one_hot.shape) # (60000, 10)\r\n",
        "print(y_train_one_hot.dtype) # float64"
      ],
      "execution_count": 6,
      "outputs": [
        {
          "output_type": "stream",
          "text": [
            "(60000,)\n",
            "(60000, 10)\n",
            "float64\n"
          ],
          "name": "stdout"
        }
      ]
    },
    {
      "cell_type": "code",
      "metadata": {
        "colab": {
          "base_uri": "https://localhost:8080/"
        },
        "id": "UrKADg77wOZx",
        "outputId": "656f6a73-33da-4f3f-deaa-32ccde7cafc2"
      },
      "source": [
        "from sklearn.model_selection import train_test_split\r\n",
        "X_train, X_val, y_train, y_val = train_test_split(X_train, y_train, test_size=0.2)\r\n",
        "print(X_train.shape) # (48000, 784)\r\n",
        "print(X_val.shape) # (12000, 784)"
      ],
      "execution_count": 7,
      "outputs": [
        {
          "output_type": "stream",
          "text": [
            "(48000, 784)\n",
            "(12000, 784)\n"
          ],
          "name": "stdout"
        }
      ]
    },
    {
      "cell_type": "code",
      "metadata": {
        "colab": {
          "base_uri": "https://localhost:8080/"
        },
        "id": "BtbpRAkmwfkk",
        "outputId": "ff2df892-f6f5-4ece-f74d-4225b41fa33a"
      },
      "source": [
        "X_train, X_val, y_train, y_val = train_test_split(X_train, y_train, test_size=0.2)\r\n",
        "print(X_train.shape) # (48000, 784)\r\n",
        "print(X_val.shape) # (12000, 784)"
      ],
      "execution_count": 8,
      "outputs": [
        {
          "output_type": "stream",
          "text": [
            "(38400, 784)\n",
            "(9600, 784)\n"
          ],
          "name": "stdout"
        }
      ]
    },
    {
      "cell_type": "code",
      "metadata": {
        "id": "JaK41xix_oQA"
      },
      "source": [
        "class GetMiniBatch:\r\n",
        "    \"\"\"\r\n",
        "    ミニバッチを取得するイテレータ\r\n",
        "    Parameters\r\n",
        "    ----------\r\n",
        "    X : 次の形のndarray, shape (n_samples, n_features)\r\n",
        "      訓練データ\r\n",
        "    y : 次の形のndarray, shape (n_samples, 1)\r\n",
        "      正解値\r\n",
        "    batch_size : int\r\n",
        "      バッチサイズ\r\n",
        "    seed : int\r\n",
        "      NumPyの乱数のシード\r\n",
        "    \"\"\"\r\n",
        "    def __init__(self, X, y, batch_size = 20, seed=0):\r\n",
        "        self.batch_size = batch_size\r\n",
        "        np.random.seed(seed)\r\n",
        "        shuffle_index = np.random.permutation(np.arange(X.shape[0]))\r\n",
        "        self._X = X[shuffle_index]\r\n",
        "        self._y = y[shuffle_index]\r\n",
        "        self._stop = np.ceil(X.shape[0]/self.batch_size).astype(np.int)\r\n",
        "    def __len__(self):\r\n",
        "        return self._stop\r\n",
        "    def __getitem__(self,item):\r\n",
        "        p0 = item*self.batch_size\r\n",
        "        p1 = item*self.batch_size + self.batch_size\r\n",
        "        return self._X[p0:p1], self._y[p0:p1]        \r\n",
        "    def __iter__(self):\r\n",
        "        self._counter = 0\r\n",
        "        return self\r\n",
        "    def __next__(self):\r\n",
        "        if self._counter >= self._stop:\r\n",
        "            raise StopIteration()\r\n",
        "        p0 = self._counter*self.batch_size\r\n",
        "        p1 = self._counter*self.batch_size + self.batch_size\r\n",
        "        self._counter += 1\r\n",
        "        return self._X[p0:p1], self._y[p0:p1]"
      ],
      "execution_count": 9,
      "outputs": []
    },
    {
      "cell_type": "code",
      "metadata": {
        "id": "B296kjpOxF5G"
      },
      "source": [
        "class ScratchSimpleNeuralNetrowkClassifier():\r\n",
        "    \"\"\"\r\n",
        "    シンプルな三層ニューラルネットワーク分類器\r\n",
        "    Parameters\r\n",
        "    ----------\r\n",
        "    Attributes\r\n",
        "    ----------\r\n",
        "    \"\"\"\r\n",
        "    def __init__(self, verbose = True,batch_size=20,a=0.01):\r\n",
        "        self.verbose = verbose\r\n",
        "        self.W1=None\r\n",
        "        self.W2=None\r\n",
        "        self.W3=None\r\n",
        "        self.B1=None\r\n",
        "        self.B2=None\r\n",
        "        self.B3=None\r\n",
        "        self.batch_size=batch_size\r\n",
        "        self.Z1=None\r\n",
        "        self.Z2=None\r\n",
        "        self.Z3=None\r\n",
        "        self.choice=0\r\n",
        "        self.a=a\r\n",
        "        pass\r\n",
        "    def _forward(self,X):\r\n",
        "        #第１層\r\n",
        "        A1=np.dot(X,self.W1)+self.B1 #(20,784)*(784,400)=(20,400)\r\n",
        "        if self.choice==1:\r\n",
        "          self.Z1=1/(1+np.exp(-A1))\r\n",
        "        else:\r\n",
        "          self.Z1=np.tanh(A1)\r\n",
        "        #第2層\r\n",
        "        A2=np.dot(self.Z1,self.W2)+self.B2 #(20,400)*(400,200)=(20,200)\r\n",
        "\r\n",
        "        if self.choice==1:\r\n",
        "          self.Z2=1/(1+np.exp(-A2))\r\n",
        "        else:\r\n",
        "          self.Z2=np.tanh(A2)\r\n",
        "        #第3層\r\n",
        "        A3=np.dot(self.Z2,self.W3)+self.B3 #(20,200)*(200,10)=(20,10)\r\n",
        "        log_z3 = np.log(np.exp(A3)) - self._logsumexp(A3) #(20,10)\r\n",
        "        self.Z3 = np.exp(log_z3) #(20,10)\r\n",
        "        return self.Z3\r\n",
        "    \r\n",
        "        #交差エントロピー関数\r\n",
        "    def _forward_los(self,X,y):\r\n",
        "        #self.y = self.y.reshape(-1, 1) == np.arange(10)\r\n",
        "        self.Z3b=self._forward(X)\r\n",
        "        #L = -(y * self.Z3b).mean(axis=0).sum()\r\n",
        "        L=-np.sum(np.sum(y*np.log(self.Z3b),axis=1),axis=0)/self.batch_size #(20,10)*(20,10)→(1,10)→(1,1)\r\n",
        "        return L\r\n",
        "    def _backword(self,X,y):\r\n",
        "        #3層目\r\n",
        "        \r\n",
        "        dA3=(self.Z3-y)/self.batch_size #(20,10)-(20,10)=(20,10)\r\n",
        "        dB3=np.sum(dA3,axis=0) #(1,10)\r\n",
        "        dW3=np.dot(self.Z2.T,dA3) #(200,20)*(20,10)=(200,10)\r\n",
        "        dZ2=np.dot(dA3,self.W3.T) #(20,10)*(10,200)=(20,200)\r\n",
        "\r\n",
        "        #2層目\r\n",
        "        if self.choice==1:\r\n",
        "          pass\r\n",
        "        else:\r\n",
        "          dA2=dZ2*(1-self.Z2**2) #(20,200)*(20,200)=(20,200)\r\n",
        "        dB2=np.sum(dA2,axis=0) #(1,200)\r\n",
        "        dW2=np.dot(self.Z1.T,dA2) #(400,20)*(20,200)=(400,200)\r\n",
        "        dZ1=np.dot(dA2,self.W2.T) #(20,200)*(200,400)=(20,400)\r\n",
        "\r\n",
        "        #1層目\r\n",
        "        if self.choice==1:\r\n",
        "          pass\r\n",
        "        else:\r\n",
        "          dA1=dZ1*(1-self.Z1**2) #(20,400)*(20,400)=(20,400)\r\n",
        "        dB1=np.sum(dA1,axis=0) #(1,400)\r\n",
        "        dW1=np.dot(X.T,dA1) #(784,20)*(20,400)=(784,400)\r\n",
        "\r\n",
        "        #重みの更新\r\n",
        "        self.W3=self.W3-self.a*dW3\r\n",
        "        self.W2=self.W2-self.a*dW2\r\n",
        "        self.W1=self.W1-self.a*dW1\r\n",
        "        self.B3=self.B3-self.a*dB3\r\n",
        "        self.B2=self.B2-self.a*dB2\r\n",
        "        self.B1=self.B1-self.a*dB1\r\n",
        "        \r\n",
        "    def _logsumexp(self,A3):\r\n",
        "        xmax = np.max(A3,axis=1)\r\n",
        "        xmax=xmax.reshape(A3.shape[0],1)\r\n",
        "        return np.log(np.exp(A3 - xmax).sum(axis=1, keepdims=True)) + xmax\r\n",
        "\r\n",
        "    def fit(self, X, y, X_val=None, y_val=None):\r\n",
        "        \"\"\"\r\n",
        "        ニューラルネットワーク分類器を学習する。\r\n",
        "        Parameters\r\n",
        "        ----------\r\n",
        "        X : 次の形のndarray, shape (n_samples, n_features)\r\n",
        "            訓練データの特徴量\r\n",
        "        y : 次の形のndarray, shape (n_samples, )\r\n",
        "            訓練データの正解値\r\n",
        "        X_val : 次の形のndarray, shape (n_samples, n_features)\r\n",
        "            検証データの特徴量\r\n",
        "        y_val : 次の形のndarray, shape (n_samples, )\r\n",
        "            検証データの正解値\r\n",
        "        \"\"\"\r\n",
        "        #問1:重みの初期値\r\n",
        "        n_features = 784\r\n",
        "        n_nodes1 = 400\r\n",
        "        n_nodes2=200\r\n",
        "        n_nodes3=10\r\n",
        "        sigma = 0.01 # ガウス分布の標準偏差\r\n",
        "        self.W1 = sigma * np.random.randn(n_features, n_nodes1)# W1: (784, 400)\r\n",
        "        self.W2 = sigma * np.random.randn(n_nodes1,n_nodes2)# W2: (400, 200)\r\n",
        "        self.W3 = sigma * np.random.randn(n_nodes2,n_nodes3)# W2: (200, 10)\r\n",
        "\r\n",
        "        #バイアス項の初期値\r\n",
        "        self.B1=sigma * np.random.randn(n_nodes1,)\r\n",
        "        self.B2=sigma * np.random.randn(n_nodes2,)\r\n",
        "        self.B3=sigma * np.random.randn(n_nodes3,)\r\n",
        "        self.X=X\r\n",
        "        self.y=y\r\n",
        "        n_epochs = 5\r\n",
        "        #n_step_iteration_report = 500\r\n",
        "        plot_data = []\r\n",
        "        #get_mini_batch = GetMiniBatch(self.X, self.y, self.batch_size)\r\n",
        "        Loss=[]\r\n",
        "        Epoch=[]\r\n",
        "        for epoch in range(n_epochs):\r\n",
        "            sum_of_loss = 0\r\n",
        "            for i, (x, y) in enumerate(GetMiniBatch(self.X, self.y, self.batch_size)):\r\n",
        "                y = y.reshape(-1, 1) == np.arange(10)\r\n",
        "                y=y.reshape(y.shape[0],10)\r\n",
        "                loss= self._forward_los(x, y)\r\n",
        "                self._backword(x,y)\r\n",
        "            Loss.append(loss)\r\n",
        "            Epoch.append(epoch)\r\n",
        "\r\n",
        "        plt.plot(Epoch, Loss, color='r', label='train_loss')\r\n",
        "        plt.xlabel('epoch')\r\n",
        "        plt.ylabel('loss')\r\n",
        "        plt.show()\r\n",
        "        if self.verbose:\r\n",
        "            #verboseをTrueにした際は学習過程などを出力する\r\n",
        "            print()\r\n",
        "        pass\r\n",
        "    def predict(self, X):\r\n",
        "        \"\"\"\r\n",
        "        ニューラルネットワーク分類器を使い推定する。\r\n",
        "        Parameters\r\n",
        "        ----------\r\n",
        "        X : 次の形のndarray, shape (n_samples, n_features)\r\n",
        "            サンプル\r\n",
        "        Returns\r\n",
        "        -------\r\n",
        "            次の形のndarray, shape (n_samples, 1)\r\n",
        "            推定結果\r\n",
        "        \"\"\"\r\n",
        "        return self._forward(X).argmax(axis=1)\r\n",
        "\r\n"
      ],
      "execution_count": 15,
      "outputs": []
    },
    {
      "cell_type": "code",
      "metadata": {
        "colab": {
          "base_uri": "https://localhost:8080/",
          "height": 297
        },
        "id": "rQt6M_bFyUA_",
        "outputId": "0256c933-8851-4dc7-d7a7-61232832febd"
      },
      "source": [
        "NN=ScratchSimpleNeuralNetrowkClassifier()\r\n",
        "NN.fit(X_train,y_train)"
      ],
      "execution_count": 16,
      "outputs": [
        {
          "output_type": "display_data",
          "data": {
            "image/png": "[encoded data removed]",
            "text/plain": [
              "<Figure size 432x288 with 1 Axes>"
            ]
          },
          "metadata": {
            "tags": [],
            "needs_background": "light"
          }
        },
        {
          "output_type": "stream",
          "text": [
            "\n"
          ],
          "name": "stdout"
        }
      ]
    },
    {
      "cell_type": "code",
      "metadata": {
        "id": "nkoCxvT3zg5G",
        "colab": {
          "base_uri": "https://localhost:8080/"
        },
        "outputId": "08f26d2a-e1a8-4946-d5db-cfed7715904f"
      },
      "source": [
        "print(X_val.shape)\r\n",
        "y_pred=NN.predict(X_val)\r\n",
        "print(y_pred)\r\n",
        "print(y_pred.shape)"
      ],
      "execution_count": 20,
      "outputs": [
        {
          "output_type": "stream",
          "text": [
            "(9600, 784)\n",
            "[8 9 1 ... 1 0 2]\n",
            "(9600,)\n"
          ],
          "name": "stdout"
        }
      ]
    },
    {
      "cell_type": "code",
      "metadata": {
        "id": "NWvIoS06z1fh",
        "colab": {
          "base_uri": "https://localhost:8080/"
        },
        "outputId": "b546da7c-5360-446d-f980-72799c05ec9a"
      },
      "source": [
        "#Accuracy\r\n",
        "from sklearn.metrics import accuracy_score\r\n",
        "#スクラッチ\r\n",
        "print(accuracy_score(y_val, y_pred))"
      ],
      "execution_count": 21,
      "outputs": [
        {
          "output_type": "stream",
          "text": [
            "0.9073958333333333\n"
          ],
          "name": "stdout"
        }
      ]
    },
    {
      "cell_type": "code",
      "metadata": {
        "id": "qJdt1ReJjLl7"
      },
      "source": [
        ""
      ],
      "execution_count": null,
      "outputs": []
    }
  ]
}