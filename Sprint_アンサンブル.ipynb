{
  "nbformat": 4,
  "nbformat_minor": 0,
  "metadata": {
    "colab": {
      "name": "Sprint_アンサンブル.ipynb",
      "provenance": [],
      "collapsed_sections": [],
      "authorship_tag": "ABX9TyPFGfhjUj9X0mj+b6KHTJFT",
      "include_colab_link": true
    },
    "kernelspec": {
      "name": "python3",
      "display_name": "Python 3"
    }
  },
  "cells": [
    {
      "cell_type": "markdown",
      "metadata": {
        "id": "view-in-github",
        "colab_type": "text"
      },
      "source": [
        "<a href=\"https://colab.research.google.com/github/YusukeAoki57/diveintocode-ml/blob/master/Sprint_%E3%82%A2%E3%83%B3%E3%82%B5%E3%83%B3%E3%83%96%E3%83%AB.ipynb\" target=\"_parent\"><img src=\"https://colab.research.google.com/assets/colab-badge.svg\" alt=\"Open In Colab\"/></a>"
      ]
    },
    {
      "cell_type": "code",
      "metadata": {
        "id": "j3z6REk0hlw_"
      },
      "source": [
        "import random\r\n",
        "import numpy as np\r\n",
        "import matplotlib.pyplot as plt\r\n",
        "from sklearn.preprocessing import StandardScaler\r\n",
        "import pandas as pd\r\n",
        "import matplotlib.pyplot as plt"
      ],
      "execution_count": null,
      "outputs": []
    },
    {
      "cell_type": "code",
      "metadata": {
        "colab": {
          "base_uri": "https://localhost:8080/"
        },
        "id": "P5D-mnuduPbF",
        "outputId": "9806c33f-06a1-47b6-95d0-4471abf1a092"
      },
      "source": [
        "from google.colab import drive\r\n",
        "drive.mount('/content/drive')"
      ],
      "execution_count": null,
      "outputs": [
        {
          "output_type": "stream",
          "text": [
            "Mounted at /content/drive\n"
          ],
          "name": "stdout"
        }
      ]
    },
    {
      "cell_type": "code",
      "metadata": {
        "colab": {
          "base_uri": "https://localhost:8080/"
        },
        "id": "Mew9OypBuCGA",
        "outputId": "b5ad1fd3-36f4-404c-b7b7-6b19e6195a0a"
      },
      "source": [
        "import pandas as pd \r\n",
        "train_a= pd.read_csv('drive/My Drive/DIVE INTO CODE/0_課題/2月/0_week4/train.csv',dtype = None)\r\n",
        "print(train_a)"
      ],
      "execution_count": null,
      "outputs": [
        {
          "output_type": "stream",
          "text": [
            "        Id  MSSubClass MSZoning  ...  SaleType  SaleCondition SalePrice\n",
            "0        1          60       RL  ...        WD         Normal    208500\n",
            "1        2          20       RL  ...        WD         Normal    181500\n",
            "2        3          60       RL  ...        WD         Normal    223500\n",
            "3        4          70       RL  ...        WD        Abnorml    140000\n",
            "4        5          60       RL  ...        WD         Normal    250000\n",
            "...    ...         ...      ...  ...       ...            ...       ...\n",
            "1455  1456          60       RL  ...        WD         Normal    175000\n",
            "1456  1457          20       RL  ...        WD         Normal    210000\n",
            "1457  1458          70       RL  ...        WD         Normal    266500\n",
            "1458  1459          20       RL  ...        WD         Normal    142125\n",
            "1459  1460          20       RL  ...        WD         Normal    147500\n",
            "\n",
            "[1460 rows x 81 columns]\n"
          ],
          "name": "stdout"
        }
      ]
    },
    {
      "cell_type": "code",
      "metadata": {
        "colab": {
          "base_uri": "https://localhost:8080/"
        },
        "id": "87iT9ksEuOWX",
        "outputId": "41dad67e-2125-4f88-fbfa-db13dbce7c85"
      },
      "source": [
        "y=train_a.loc[:,'SalePrice'].values\r\n",
        "x1=train_a.loc[:,'GrLivArea']\r\n",
        "x2=train_a.loc[:,'YearBuilt']\r\n",
        "x= pd.concat([x1, x2],axis=1).values\r\n",
        "print(x.shape)\r\n",
        "print(y.shape)"
      ],
      "execution_count": null,
      "outputs": [
        {
          "output_type": "stream",
          "text": [
            "(1460, 2)\n",
            "(1460,)\n"
          ],
          "name": "stdout"
        }
      ]
    },
    {
      "cell_type": "code",
      "metadata": {
        "id": "ih3yD1tCuhzk"
      },
      "source": [
        "from sklearn.model_selection import train_test_split\r\n",
        "x_train, x_test,y_train,y_test= train_test_split(x,y, test_size=0.2, random_state=0)"
      ],
      "execution_count": null,
      "outputs": []
    },
    {
      "cell_type": "code",
      "metadata": {
        "colab": {
          "base_uri": "https://localhost:8080/"
        },
        "id": "3zJ_dnX7vW_Z",
        "outputId": "d4a424e3-a216-4f32-c830-f7d2972ff91e"
      },
      "source": [
        "from sklearn.linear_model import LogisticRegression\r\n",
        "from sklearn import svm\r\n",
        "from sklearn.tree import DecisionTreeClassifier\r\n",
        "\r\n",
        "lr = LogisticRegression() # ロジスティック回帰モデルのインスタンスを作成\r\n",
        "lr.fit(x_train, y_train)\r\n",
        "y_pred1=lr.predict(x_test)\r\n",
        "\r\n",
        "model = svm.SVR(kernel='linear')  \r\n",
        "model.fit(x_train,y_train) \r\n",
        "y_pred2=model.predict(x_test)\r\n",
        "\r\n",
        "clf_model = DecisionTreeClassifier(max_depth=5)\r\n",
        "clf_model.fit(x_train, y_train)\r\n",
        "y_pred3=clf_model.predict(x_test)"
      ],
      "execution_count": null,
      "outputs": [
        {
          "output_type": "stream",
          "text": [
            "/usr/local/lib/python3.7/dist-packages/sklearn/linear_model/_logistic.py:940: ConvergenceWarning: lbfgs failed to converge (status=1):\n",
            "STOP: TOTAL NO. of ITERATIONS REACHED LIMIT.\n",
            "\n",
            "Increase the number of iterations (max_iter) or scale the data as shown in:\n",
            "    https://scikit-learn.org/stable/modules/preprocessing.html\n",
            "Please also refer to the documentation for alternative solver options:\n",
            "    https://scikit-learn.org/stable/modules/linear_model.html#logistic-regression\n",
            "  extra_warning_msg=_LOGISTIC_SOLVER_CONVERGENCE_MSG)\n"
          ],
          "name": "stderr"
        }
      ]
    },
    {
      "cell_type": "code",
      "metadata": {
        "id": "37XkCeFvw5TP"
      },
      "source": [
        "#例1\r\n",
        "a=0.1\r\n",
        "b=0.7\r\n",
        "c=0.2\r\n",
        "y_pred_bl=a*y_pred1+b*y_pred2+c*y_pred3\r\n",
        "\r\n",
        "#例2\r\n",
        "a=0.05\r\n",
        "b=0.9\r\n",
        "c=0.05\r\n",
        "y_pred_bl2=a*y_pred1+b*y_pred2+c*y_pred3\r\n",
        "\r\n",
        "#例3\r\n",
        "a=0.025\r\n",
        "b=0.95\r\n",
        "c=0.025\r\n",
        "y_pred_bl3=a*y_pred1+b*y_pred2+c*y_pred3\r\n"
      ],
      "execution_count": null,
      "outputs": []
    },
    {
      "cell_type": "code",
      "metadata": {
        "id": "K_z_6QDgHW4V"
      },
      "source": [
        "from sklearn.metrics import mean_squared_error"
      ],
      "execution_count": null,
      "outputs": []
    },
    {
      "cell_type": "code",
      "metadata": {
        "colab": {
          "base_uri": "https://localhost:8080/"
        },
        "id": "09VyieFbHfEj",
        "outputId": "52486796-02df-403d-e9e3-0086ba773cdc"
      },
      "source": [
        "err_lr=mean_squared_error(y_test, y_pred1)\r\n",
        "err_svr=mean_squared_error(y_test, y_pred2)\r\n",
        "err_tree=mean_squared_error(y_test, y_pred3)\r\n",
        "err_bl=mean_squared_error(y_test, y_pred_bl3)\r\n",
        "print(err_lr)\r\n",
        "print(err_svr)\r\n",
        "print(err_tree)\r\n",
        "print(err_bl)\r\n",
        "#例3が最も良い"
      ],
      "execution_count": null,
      "outputs": [
        {
          "output_type": "stream",
          "text": [
            "5471144952.780822\n",
            "2941628790.8030343\n",
            "4722637291.821918\n",
            "2931417888.7738967\n"
          ],
          "name": "stdout"
        }
      ]
    },
    {
      "cell_type": "code",
      "metadata": {
        "id": "9FllUBi3HybH",
        "colab": {
          "base_uri": "https://localhost:8080/"
        },
        "outputId": "8f2c6357-0670-43b4-859c-f2efe8dd8fc0"
      },
      "source": [
        "#バギング\r\n",
        "import numpy as np\r\n",
        "from sklearn.metrics import roc_auc_score\r\n",
        "from sklearn.linear_model import LinearRegression\r\n",
        "from sklearn.svm import SVR\r\n",
        "from sklearn.tree import DecisionTreeRegressor\r\n",
        "from sklearn.linear_model import LinearRegression as LR\r\n",
        "X_train, X_test, y_train, y_test = train_test_split(x, y, test_size=0.25)\r\n",
        "\r\n",
        "# 決定木\r\n",
        "model_LR = LR()\r\n",
        "\r\n",
        "n_iter = 5\r\n",
        "LR_list = []\r\n",
        "DT_list = []\r\n",
        "#SVR_list=[]\r\n",
        "for i in range(n_iter):\r\n",
        "    LR_list.append(LinearRegression())\r\n",
        "# 結果を保存しておく配列\r\n",
        "LR_result = np.array([])\r\n",
        "all_y_val = np.array([])\r\n",
        "LR_test = np.array([])\r\n",
        "\r\n",
        "for i in range(n_iter):\r\n",
        "    # 分割\r\n",
        "    X_train_bag, X_test_bag, y_train_bag, y_test_bag = train_test_split(x, y, test_size=0.25, shuffle = True)\r\n",
        "\r\n",
        "    # 学習\r\n",
        "    LR=LR_list[i]\r\n",
        "    LR.fit(X_train_bag,y_train_bag)\r\n",
        "    #推定\r\n",
        "    y_pred_bag = LR.predict(X_test_bag)\r\n",
        "    LR_result=np.append(LR_result,y_pred_bag)\r\n",
        "LR_result=LR_result.reshape(X_test_bag.shape[0],n_iter)\r\n",
        "LR_mean=np.mean(LR_result,axis=1)\r\n",
        "print(LR_mean.shape)\r\n",
        "\r\n",
        "err_lr_bg=mean_squared_error(y_test_bag, LR_mean)\r\n",
        "\r\n",
        "\r\n",
        "lr=LinearRegression()\r\n",
        "lr.fit(X_train,y_train)\r\n",
        "y_pred=lr.predict(X_test)\r\n",
        "\r\n",
        "err_lr_norm=mean_squared_error(y_test, y_pred)\r\n",
        "print(err_lr)\r\n",
        "print(err_lr2)\r\n"
      ],
      "execution_count": null,
      "outputs": [
        {
          "output_type": "stream",
          "text": [
            "(365,)\n",
            "2584824130.356802\n",
            "2441326126.205643\n"
          ],
          "name": "stdout"
        }
      ]
    },
    {
      "cell_type": "code",
      "metadata": {
        "colab": {
          "base_uri": "https://localhost:8080/"
        },
        "id": "glgrX5me_azP",
        "outputId": "a4001559-5206-4536-9cf6-2bf6cfc89df9"
      },
      "source": [
        "from sklearn.model_selection import train_test_split\r\n",
        "X_train,X_test,y_train,y_test = train_test_split(x,y,test_size=0.2,random_state=72)\r\n",
        "lr = LogisticRegression() # ロジスティック回帰モデルのインスタンスを作成\r\n",
        "lr.fit(X_train,y_train)\r\n",
        "pred=lr.predict(X_test)\r\n",
        "pred.shape"
      ],
      "execution_count": null,
      "outputs": [
        {
          "output_type": "stream",
          "text": [
            "/usr/local/lib/python3.7/dist-packages/sklearn/linear_model/_logistic.py:940: ConvergenceWarning: lbfgs failed to converge (status=1):\n",
            "STOP: TOTAL NO. of ITERATIONS REACHED LIMIT.\n",
            "\n",
            "Increase the number of iterations (max_iter) or scale the data as shown in:\n",
            "    https://scikit-learn.org/stable/modules/preprocessing.html\n",
            "Please also refer to the documentation for alternative solver options:\n",
            "    https://scikit-learn.org/stable/modules/linear_model.html#logistic-regression\n",
            "  extra_warning_msg=_LOGISTIC_SOLVER_CONVERGENCE_MSG)\n"
          ],
          "name": "stderr"
        },
        {
          "output_type": "execute_result",
          "data": {
            "text/plain": [
              "(292,)"
            ]
          },
          "metadata": {
            "tags": []
          },
          "execution_count": 12
        }
      ]
    },
    {
      "cell_type": "code",
      "metadata": {
        "id": "n428O7-4BIUJ",
        "colab": {
          "base_uri": "https://localhost:8080/"
        },
        "outputId": "3a303d69-2124-4d8f-96b7-9ad672673d6a"
      },
      "source": [
        "#スタッキング\r\n",
        "import numpy as np\r\n",
        "from sklearn.model_selection import KFold\r\n",
        "from sklearn.metrics import roc_auc_score\r\n",
        "from sklearn.linear_model import LinearRegression\r\n",
        "from sklearn.svm import SVR\r\n",
        "from sklearn.tree import DecisionTreeRegressor\r\n",
        "# 学習データを分割する個数、モデルを用意する個数\r\n",
        "K = 4\r\n",
        "# 用意するモデルの数\r\n",
        "M = 2\r\n",
        "\r\n",
        "# K個ぶんのモデルインスタンスをリストに用意\r\n",
        "LR_list = []\r\n",
        "DT_list = []\r\n",
        "#SVR_list=[]\r\n",
        "for i in range(K):\r\n",
        "    LR_list.append(LinearRegression())\r\n",
        "    DT_list.append(DecisionTreeRegressor())\r\n",
        "    #SVR_list.append(svm.SVR(kernel='linear'))\r\n",
        "# 結果を保存しておく配列\r\n",
        "LR_result = np.array([])\r\n",
        "DT_result = np.array([])\r\n",
        "#SVR_result=np.array([])\r\n",
        "all_y_val = np.array([])\r\n",
        "LR_test = np.array([])\r\n",
        "DT_test = np.array([])\r\n",
        "#SVR_test=np.array([])\r\n",
        "kf = KFold(n_splits=K, random_state=None, shuffle=False)\r\n",
        "for i,(train_idx,val_idx) in enumerate(kf.split(X_train,y_train)):\r\n",
        "    x_t = X_train[train_idx]\r\n",
        "    y_t = y_train[train_idx]\r\n",
        "    x_v = X_train[val_idx]\r\n",
        "    y_v = y_train[val_idx]\r\n",
        "    \r\n",
        "    LR=LR_list[i]\r\n",
        "    DT=DT_list[i]\r\n",
        "    #SVR=SVR_list[i]\r\n",
        "    LR.fit(x_t, y_t)\r\n",
        "    DT.fit(x_t, y_t)\r\n",
        "    #SVR.fit(x_t, y_t)\r\n",
        "    LR_result = np.append(LR_result, LR.predict(x_v))\r\n",
        "    DT_result = np.append(DT_result, DT.predict(x_v))\r\n",
        "    #SVR_result=np.append(SVR_result, SVR.predict(x_v))\r\n",
        "    all_y_val = np.append(all_y_val, y_v)\r\n",
        "    LR_test = np.append(LR_test, LR.predict(X_test))\r\n",
        "    DT_test = np.append(DT_test, DT.predict(X_test))\r\n",
        "    #SVR_test= np.append(SVR_test, SVR.predict(X_test))    \r\n",
        "LR_test = (LR_test.reshape(-1, K)).mean(axis=1)\r\n",
        "DT_test = (DT_test.reshape(-1, K)).mean(axis=1)\r\n",
        "#SVR_test=(SVR_test.reshape(-1,K)).mean(axis=1)\r\n",
        "#total_test = np.concatenate([LR_test.reshape(-1, 1), DT_test.reshape(-1, 1),SVR_test.reshape(-1,1)], axis=1)\r\n",
        "#total_result = np.concatenate([LR_result.reshape(-1, 1), DT_result.reshape(-1, 1), SVR_result.reshape(-1,1)], axis=1)\r\n",
        "total_test = np.concatenate([LR_test.reshape(-1, 1), DT_test.reshape(-1, 1)], axis=1)\r\n",
        "total_result = np.concatenate([LR_result.reshape(-1, 1), DT_result.reshape(-1, 1)], axis=1)\r\n",
        "\r\n",
        "\r\n",
        "print(total_result.shape)                                    "
      ],
      "execution_count": null,
      "outputs": [
        {
          "output_type": "stream",
          "text": [
            "(1168, 2)\n"
          ],
          "name": "stdout"
        }
      ]
    },
    {
      "cell_type": "code",
      "metadata": {
        "colab": {
          "base_uri": "https://localhost:8080/"
        },
        "id": "991XnL_s6qps",
        "outputId": "6d0111bf-6298-450e-d998-36051cfbd0d4"
      },
      "source": [
        "from sklearn.linear_model import LogisticRegression\r\n",
        "from sklearn import svm\r\n",
        "from sklearn.tree import DecisionTreeClassifier\r\n",
        "\r\n",
        "lr = LogisticRegression() #ロジスティック回帰モデルのインスタンスを作成\r\n",
        "all_y_val=all_y_val.reshape(-1,1)\r\n",
        "print(all_y_val.shape)\r\n",
        "\r\n",
        "#推定ラストステージ\r\n",
        "lr.fit(total_result,all_y_val)\r\n",
        "#テストラストステージ\r\n",
        "y_pred_last=lr.predict(total_test)\r\n",
        "y_pred_last"
      ],
      "execution_count": null,
      "outputs": [
        {
          "output_type": "stream",
          "text": [
            "(1168, 1)\n"
          ],
          "name": "stdout"
        },
        {
          "output_type": "stream",
          "text": [
            "/usr/local/lib/python3.7/dist-packages/sklearn/utils/validation.py:760: DataConversionWarning: A column-vector y was passed when a 1d array was expected. Please change the shape of y to (n_samples, ), for example using ravel().\n",
            "  y = column_or_1d(y, warn=True)\n",
            "/usr/local/lib/python3.7/dist-packages/sklearn/linear_model/_logistic.py:940: ConvergenceWarning: lbfgs failed to converge (status=1):\n",
            "STOP: TOTAL NO. of ITERATIONS REACHED LIMIT.\n",
            "\n",
            "Increase the number of iterations (max_iter) or scale the data as shown in:\n",
            "    https://scikit-learn.org/stable/modules/preprocessing.html\n",
            "Please also refer to the documentation for alternative solver options:\n",
            "    https://scikit-learn.org/stable/modules/linear_model.html#logistic-regression\n",
            "  extra_warning_msg=_LOGISTIC_SOLVER_CONVERGENCE_MSG)\n"
          ],
          "name": "stderr"
        },
        {
          "output_type": "execute_result",
          "data": {
            "text/plain": [
              "array([140000., 190000., 140000., 140000., 140000., 140000., 190000.,\n",
              "       140000., 140000., 140000., 200000., 140000., 140000., 140000.,\n",
              "       140000., 190000., 190000., 200000., 140000., 140000., 140000.,\n",
              "       140000., 190000., 146000., 190000., 140000., 140000., 140000.,\n",
              "       140000., 140000., 190000., 200000., 140000., 190000., 190000.,\n",
              "       140000., 190000., 140000., 140000., 140000., 140000., 140000.,\n",
              "       140000., 190000., 135000., 200000., 190000., 135000., 140000.,\n",
              "       140000., 140000., 135000., 135000., 140000., 140000., 178000.,\n",
              "       135000., 140000., 140000., 140000., 190000., 140000., 140000.,\n",
              "       140000., 140000., 140000., 140000., 140000., 140000., 140000.,\n",
              "       140000., 140000., 140000., 140000., 190000., 140000., 381000.,\n",
              "       140000., 140000., 140000., 140000., 140000., 140000., 190000.,\n",
              "       140000., 140000., 140000., 140000., 190000., 140000., 140000.,\n",
              "       140000., 190000., 190000., 140000., 190000., 140000., 140000.,\n",
              "       140000., 140000., 140000., 140000., 190000., 140000., 190000.,\n",
              "       140000., 190000., 140000., 140000., 190000., 140000., 140000.,\n",
              "       140000., 140000., 140000., 140000., 140000., 140000., 135000.,\n",
              "       140000., 140000., 140000., 140000., 140000., 140000., 135000.,\n",
              "       140000., 140000., 178000., 135000., 200000., 140000., 140000.,\n",
              "       140000., 200000., 140000., 140000., 140000., 190000., 140000.,\n",
              "       140000., 200000., 140000., 140000., 140000., 140000., 140000.,\n",
              "       190000., 140000., 381000., 140000., 140000., 130000., 140000.,\n",
              "       140000., 190000., 200000., 140000., 140000., 140000., 140000.,\n",
              "       190000., 190000., 140000., 140000., 140000., 140000., 140000.,\n",
              "       190000., 190000., 190000., 140000., 140000., 140000., 140000.,\n",
              "       140000., 190000., 190000., 140000., 190000., 140000., 140000.,\n",
              "       190000., 140000., 140000., 140000., 146000., 190000., 140000.,\n",
              "       190000., 140000., 140000., 140000., 140000., 140000., 140000.,\n",
              "       140000., 140000., 140000., 140000., 190000., 178000., 140000.,\n",
              "       190000., 135000., 190000., 140000., 140000., 140000., 140000.,\n",
              "       140000., 190000., 140000., 135000., 200000., 140000., 140000.,\n",
              "       140000., 140000., 140000., 190000., 140000., 130000., 140000.,\n",
              "       140000., 190000., 140000., 140000., 190000., 135000., 200000.,\n",
              "       140000., 140000., 190000., 190000., 190000., 140000., 140000.,\n",
              "       130000., 140000., 140000., 140000., 135000., 140000., 190000.,\n",
              "       140000., 140000., 140000., 140000., 200000., 140000., 140000.,\n",
              "       200000., 140000., 135000., 140000., 140000., 140000., 140000.,\n",
              "       190000., 190000., 140000., 190000., 200000., 140000., 190000.,\n",
              "       135000., 140000., 140000., 190000., 140000., 140000., 140000.,\n",
              "       135000., 135000., 135000., 190000., 190000., 140000., 140000.,\n",
              "       140000., 140000., 190000., 140000., 140000., 140000., 140000.,\n",
              "       140000., 140000., 135000., 140000., 200000.])"
            ]
          },
          "metadata": {
            "tags": []
          },
          "execution_count": 40
        }
      ]
    },
    {
      "cell_type": "code",
      "metadata": {
        "colab": {
          "base_uri": "https://localhost:8080/"
        },
        "id": "LP2pJ_YI_lxi",
        "outputId": "2ec04200-1e10-4412-c0cd-ee799a8eb1bd"
      },
      "source": [
        "from sklearn import metrics\r\n",
        "#スタッキングなしのMSE\r\n",
        "lr1 = LogisticRegression() \r\n",
        "lr1.fit(X_train,y_train)\r\n",
        "y_pred=lr1.predict(X_test)\r\n",
        "print('スタッキングなしのMSE: \\n{}'.format(metrics.mean_squared_error(y_test, y_pred)))\r\n",
        "\r\n",
        "print('スタッキングしたMSE: \\n{}'.format(metrics.mean_squared_error(y_test, y_pred_last)))"
      ],
      "execution_count": null,
      "outputs": [
        {
          "output_type": "stream",
          "text": [
            "スタッキングなしのMSE: \n",
            "4381264157.702055\n",
            "スタッキングしたMSE: \n",
            "6637624251.880137\n"
          ],
          "name": "stdout"
        },
        {
          "output_type": "stream",
          "text": [
            "/usr/local/lib/python3.7/dist-packages/sklearn/linear_model/_logistic.py:940: ConvergenceWarning: lbfgs failed to converge (status=1):\n",
            "STOP: TOTAL NO. of ITERATIONS REACHED LIMIT.\n",
            "\n",
            "Increase the number of iterations (max_iter) or scale the data as shown in:\n",
            "    https://scikit-learn.org/stable/modules/preprocessing.html\n",
            "Please also refer to the documentation for alternative solver options:\n",
            "    https://scikit-learn.org/stable/modules/linear_model.html#logistic-regression\n",
            "  extra_warning_msg=_LOGISTIC_SOLVER_CONVERGENCE_MSG)\n"
          ],
          "name": "stderr"
        }
      ]
    },
    {
      "cell_type": "code",
      "metadata": {
        "id": "Sj8fDIQXkF0Y"
      },
      "source": [
        ""
      ],
      "execution_count": null,
      "outputs": []
    }
  ]
}