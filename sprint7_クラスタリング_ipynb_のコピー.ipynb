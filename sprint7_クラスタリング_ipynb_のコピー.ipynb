{
  "nbformat": 4,
  "nbformat_minor": 0,
  "metadata": {
    "colab": {
      "name": "sprint7_クラスタリング.ipynb のコピー",
      "provenance": [],
      "collapsed_sections": [],
      "authorship_tag": "ABX9TyNLLA03zvZ0C5dLbYgzW7vK",
      "include_colab_link": true
    },
    "kernelspec": {
      "name": "python3",
      "display_name": "Python 3"
    }
  },
  "cells": [
    {
      "cell_type": "markdown",
      "metadata": {
        "id": "view-in-github",
        "colab_type": "text"
      },
      "source": [
        "<a href=\"https://colab.research.google.com/github/YusukeAoki57/diveintocode-ml/blob/master/sprint7_%E3%82%AF%E3%83%A9%E3%82%B9%E3%82%BF%E3%83%AA%E3%83%B3%E3%82%B0_ipynb_%E3%81%AE%E3%82%B3%E3%83%94%E3%83%BC.ipynb\" target=\"_parent\"><img src=\"https://colab.research.google.com/assets/colab-badge.svg\" alt=\"Open In Colab\"/></a>"
      ]
    },
    {
      "cell_type": "code",
      "metadata": {
        "id": "9_BRkf_yoLJW"
      },
      "source": [
        "#方針\r\n",
        "#①サンプルのインデックス毎にkクラス分のラベルをランダムに割り当てる\r\n",
        "#②各ラベル毎にデータをグルーピングし、クラスタを生成\r\n",
        "#③各クラスタでデータ点の平均値を求め重心とする\r\n",
        "#④その重心から、全てのサンプルとの距離を算出する\r\n",
        "#⑤各重心との距離が近い方のクラスタを割り当て直す\r\n",
        "#⑥SSEを計算しておく\r\n",
        "#⑦③～⑥を繰り返す\r\n",
        "#⑧SSEがほぼ下がらなくなることを確認し、実行終了する"
      ],
      "execution_count": 1,
      "outputs": []
    },
    {
      "cell_type": "code",
      "metadata": {
        "id": "hc3fXHqOYQaI"
      },
      "source": [
        "import random\r\n",
        "import numpy as np\r\n",
        "import matplotlib.pyplot as plt\r\n",
        "from sklearn.datasets import load_iris\r\n",
        "from sklearn.preprocessing import StandardScaler\r\n",
        "import pandas as pd\r\n",
        "import matplotlib.pyplot as plt"
      ],
      "execution_count": 2,
      "outputs": []
    },
    {
      "cell_type": "code",
      "metadata": {
        "colab": {
          "base_uri": "https://localhost:8080/"
        },
        "id": "lNt00LsYT2m1",
        "outputId": "c32a99bc-6ab1-454f-ff4a-2e6a880e3727"
      },
      "source": [
        "iris=load_iris()\r\n",
        "iris_data=pd.DataFrame(iris.data,columns=iris.feature_names)\r\n",
        "print(iris_data)"
      ],
      "execution_count": 3,
      "outputs": [
        {
          "output_type": "stream",
          "text": [
            "     sepal length (cm)  sepal width (cm)  petal length (cm)  petal width (cm)\n",
            "0                  5.1               3.5                1.4               0.2\n",
            "1                  4.9               3.0                1.4               0.2\n",
            "2                  4.7               3.2                1.3               0.2\n",
            "3                  4.6               3.1                1.5               0.2\n",
            "4                  5.0               3.6                1.4               0.2\n",
            "..                 ...               ...                ...               ...\n",
            "145                6.7               3.0                5.2               2.3\n",
            "146                6.3               2.5                5.0               1.9\n",
            "147                6.5               3.0                5.2               2.0\n",
            "148                6.2               3.4                5.4               2.3\n",
            "149                5.9               3.0                5.1               1.8\n",
            "\n",
            "[150 rows x 4 columns]\n"
          ],
          "name": "stdout"
        }
      ]
    },
    {
      "cell_type": "code",
      "metadata": {
        "colab": {
          "base_uri": "https://localhost:8080/"
        },
        "id": "4l_yyxW1UHp5",
        "outputId": "8466acdc-cd48-4086-f810-c01f970370f4"
      },
      "source": [
        "#targetの生成\r\n",
        "all_y=pd.DataFrame(iris.target)\r\n",
        "all_y.columns=['Species']\r\n",
        "\r\n",
        "#特徴量との結合\r\n",
        "all_xy=pd.merge(iris_data,all_y,left_index=True, right_index=True)\r\n",
        "\r\n",
        "part_columns=all_xy[all_xy['Species'] != 0]\r\n",
        "print(part_columns)\r\n",
        "\r\n",
        "#sepal_lengthとpetal_lengthのみのデータの生成\r\n",
        "part_all1=part_columns.drop('sepal width (cm)', axis=1)\r\n",
        "part_all=part_all1.drop('petal width (cm)', axis=1)"
      ],
      "execution_count": 4,
      "outputs": [
        {
          "output_type": "stream",
          "text": [
            "     sepal length (cm)  sepal width (cm)  ...  petal width (cm)  Species\n",
            "50                 7.0               3.2  ...               1.4        1\n",
            "51                 6.4               3.2  ...               1.5        1\n",
            "52                 6.9               3.1  ...               1.5        1\n",
            "53                 5.5               2.3  ...               1.3        1\n",
            "54                 6.5               2.8  ...               1.5        1\n",
            "..                 ...               ...  ...               ...      ...\n",
            "145                6.7               3.0  ...               2.3        2\n",
            "146                6.3               2.5  ...               1.9        2\n",
            "147                6.5               3.0  ...               2.0        2\n",
            "148                6.2               3.4  ...               2.3        2\n",
            "149                5.9               3.0  ...               1.8        2\n",
            "\n",
            "[100 rows x 5 columns]\n"
          ],
          "name": "stdout"
        }
      ]
    },
    {
      "cell_type": "code",
      "metadata": {
        "id": "-adEPYcxUJ7e"
      },
      "source": [
        "#numpyに変換\r\n",
        "x=part_all.drop('Species', axis=1).values\r\n",
        "y=part_all.iloc[:,-1].values\r\n",
        "\r\n",
        "#分割 4特徴量\r\n",
        "from sklearn.model_selection import train_test_split\r\n",
        "x_train, x_test, y_train, y_test = train_test_split(x, y, test_size=0.25, random_state=0)\r\n"
      ],
      "execution_count": 5,
      "outputs": []
    },
    {
      "cell_type": "code",
      "metadata": {
        "id": "jn4D1ttNV0Ee"
      },
      "source": [
        "class ScratchKMeans():\r\n",
        "    \"\"\"\r\n",
        "    K-meansのスクラッチ実装\r\n",
        "    Parameters\r\n",
        "    ----------\r\n",
        "    n_clusters : int\r\n",
        "      クラスタ数\r\n",
        "    n_init : int\r\n",
        "      中心点の初期値を何回変えて計算するか\r\n",
        "    max_iter : int\r\n",
        "      1回の計算で最大何イテレーションするか\r\n",
        "    tol : float\r\n",
        "      イテレーションを終了する基準となる中心点と重心の許容誤差\r\n",
        "    verbose : bool\r\n",
        "      学習過程を出力する場合はTrue\r\n",
        "    \"\"\"\r\n",
        "    def __init__(self, n_clusters=4, n_init=3, max_iter=10, tol=0.5, verbose=False):\r\n",
        "        # ハイパーパラメータを属性として記録\r\n",
        "        self.n_clusters = n_clusters\r\n",
        "        self.n_init = n_init\r\n",
        "        self.max_iter = max_iter\r\n",
        "        self.tol = tol\r\n",
        "        self.verbose = verbose\r\n",
        "        self.min_idx=None\r\n",
        "    def _center(self,X,k1):\r\n",
        "        #データの平均値を取り重心を求める\r\n",
        "        if self.min_idx is None:\r\n",
        "          k=k1\r\n",
        "        else:\r\n",
        "          k=self.min_idx\r\n",
        "        #print(k)\r\n",
        "        cls=np.unique(k)\r\n",
        "        self.c=np.zeros((self.n_clusters,X.shape[1]))\r\n",
        "        for j in range((X.shape[1])):\r\n",
        "          for i in cls:\r\n",
        "            c=X[k[:,-1]==i] #(x,j)\r\n",
        "            self.c[i][j]=c[:,j].mean(axis=0)\r\n",
        "        #print(self.c)\r\n",
        "        return self.c \r\n",
        "    def _distance(self,X,k1):\r\n",
        "        #あるデータ点に対して全ての重心からの距離を算出し、最も距離が小さい時の重心をその点のラベルとする\r\n",
        "        c=self._center(X,k1)\r\n",
        "        dis=np.zeros((X.shape[0],self.n_clusters))\r\n",
        "        for j in range(X.shape[0]):\r\n",
        "          for i in range(len(c)):\r\n",
        "            u=X[j,:]-c[i,:] #(1,j)-(1,j)=(1,j)\r\n",
        "            dis[j][i]=np.linalg.norm(u) #(n,k)\r\n",
        "        self.min_idx=np.argmin(dis,axis=1) #(n,1) 最小値のインデックスを返す\r\n",
        "        self.min_idx=self.min_idx.reshape(self.min_idx.shape[0],1)\r\n",
        "        min_dis=np.min(dis,axis=1) \r\n",
        "        #print(min_dis)\r\n",
        "        return min_dis\r\n",
        "    def _SSE(self,X,k1):\r\n",
        "        min_dis=self._distance(X,k1)\r\n",
        "        min_dis_2=min_dis**2\r\n",
        "        SSE=np.sum(min_dis_2,axis=0) #(1,1)\r\n",
        "        return SSE\r\n",
        "    def _control(self,X,k1):\r\n",
        "      SSE=[]\r\n",
        "      for i in range(self.max_iter):\r\n",
        "        s=self._SSE(X,k1)\r\n",
        "        SSE.append(s)   \r\n",
        "      SSE2=np.array(SSE)\r\n",
        "      #print(SSE2)\r\n",
        "      return SSE2\r\n",
        "\r\n",
        "    def fit(self, X):\r\n",
        "        \"\"\"\r\n",
        "        K-meansによるクラスタリングを計算\r\n",
        "        Parameters\r\n",
        "        ----------\r\n",
        "        X : 次の形のndarray, shape (n_samples, n_features)\r\n",
        "            訓練データの特徴量\r\n",
        "        \"\"\"\r\n",
        "        SSE_min=100\r\n",
        "        #ランダムのラベルを生成\r\n",
        "        for i in range(self.n_init):\r\n",
        "          k=np.random.randint(0, self.n_clusters,X.shape[0])\r\n",
        "          self.k1=k.reshape(k.shape[0],1)\r\n",
        "        #ラベルをxに結合\r\n",
        "          SSE=self._control(X,self.k1)\r\n",
        "          if SSE_min>SSE[-1]:\r\n",
        "            SSE_min=SSE[-1]\r\n",
        "            self.c=self.c       \r\n",
        "        return SSE_min\r\n",
        "    def predict(self, X):\r\n",
        "        c=self.c\r\n",
        "        dis=np.zeros((X.shape[0],self.n_clusters))\r\n",
        "        for j in range(X.shape[0]):\r\n",
        "          for i in range(len(c)):\r\n",
        "            u=X[j,:]-c[i,:] #(1,j)-(1,j)=(1,j)\r\n",
        "            dis[j][i]=np.linalg.norm(u) #(n,k)\r\n",
        "        min_idx=np.argmin(dis,axis=1) #(n,1) 最小値のインデックスを返す\r\n",
        "        min_idx=min_idx.reshape(min_idx.shape[0],1)\r\n",
        "        return min_idx\r\n",
        "\r\n",
        "\r\n",
        "\r\n"
      ],
      "execution_count": 6,
      "outputs": []
    },
    {
      "cell_type": "code",
      "metadata": {
        "id": "gkwtqlwcZHuu",
        "colab": {
          "base_uri": "https://localhost:8080/"
        },
        "outputId": "117b465d-59b6-4305-c1e1-af621f5c62a2"
      },
      "source": [
        "cls=ScratchKMeans(n_clusters=100)\r\n",
        "cls.fit(x_train)"
      ],
      "execution_count": 7,
      "outputs": [
        {
          "output_type": "execute_result",
          "data": {
            "text/plain": [
              "0.5841666666666664"
            ]
          },
          "metadata": {
            "tags": []
          },
          "execution_count": 7
        }
      ]
    },
    {
      "cell_type": "code",
      "metadata": {
        "id": "YJFCOU1YIkcU",
        "colab": {
          "base_uri": "https://localhost:8080/"
        },
        "outputId": "2d8c7646-771a-40e7-b5cc-9fe8b63a2b34"
      },
      "source": [
        "y_pred=cls.predict(x_test)\r\n",
        "y_pred"
      ],
      "execution_count": 8,
      "outputs": [
        {
          "output_type": "execute_result",
          "data": {
            "text/plain": [
              "array([[97],\n",
              "       [15],\n",
              "       [92],\n",
              "       [21],\n",
              "       [ 0],\n",
              "       [47],\n",
              "       [27],\n",
              "       [10],\n",
              "       [47],\n",
              "       [39],\n",
              "       [15],\n",
              "       [69],\n",
              "       [15],\n",
              "       [67],\n",
              "       [54],\n",
              "       [80],\n",
              "       [10],\n",
              "       [38],\n",
              "       [95],\n",
              "       [26],\n",
              "       [54],\n",
              "       [61],\n",
              "       [79],\n",
              "       [85],\n",
              "       [41]])"
            ]
          },
          "metadata": {
            "tags": []
          },
          "execution_count": 8
        }
      ]
    },
    {
      "cell_type": "code",
      "metadata": {
        "colab": {
          "base_uri": "https://localhost:8080/",
          "height": 282
        },
        "id": "TI9JJFXYpO9j",
        "outputId": "8fe3fe5d-ccf7-44e5-f7ba-112fdb751c40"
      },
      "source": [
        "#エルボー法\r\n",
        "\r\n",
        "SSE=[]\r\n",
        "num=[]\r\n",
        "n_clusters=30\r\n",
        "for i in range(n_clusters):\r\n",
        "  cls=ScratchKMeans(n_clusters=i+1)\r\n",
        "  SSE.append(cls.fit(x_train))\r\n",
        "  num.append(i)\r\n",
        "SSE2=np.array(SSE)\r\n",
        "x=num\r\n",
        "y=SSE2\r\n",
        "plt.plot(x, y, linestyle=\"solid\")\r\n"
      ],
      "execution_count": 9,
      "outputs": [
        {
          "output_type": "execute_result",
          "data": {
            "text/plain": [
              "[<matplotlib.lines.Line2D at 0x7fbc6e810050>]"
            ]
          },
          "metadata": {
            "tags": []
          },
          "execution_count": 9
        },
        {
          "output_type": "display_data",
          "data": {
            "image/png": "[encoded data removed]",
            "text/plain": [
              "<Figure size 432x288 with 1 Axes>"
            ]
          },
          "metadata": {
            "tags": [],
            "needs_background": "light"
          }
        }
      ]
    },
    {
      "cell_type": "code",
      "metadata": {
        "colab": {
          "base_uri": "https://localhost:8080/"
        },
        "id": "YyPIVZvfnA-I",
        "outputId": "585eae3f-f386-406b-f64d-a91fc6b7acc4"
      },
      "source": [
        "from google.colab import drive\r\n",
        "drive.mount('/content/drive')"
      ],
      "execution_count": 10,
      "outputs": [
        {
          "output_type": "stream",
          "text": [
            "Mounted at /content/drive\n"
          ],
          "name": "stdout"
        }
      ]
    },
    {
      "cell_type": "code",
      "metadata": {
        "colab": {
          "base_uri": "https://localhost:8080/"
        },
        "id": "fWUjzn2PZi97",
        "outputId": "0019658d-9a4e-48e8-cf5c-58a4b17aba93"
      },
      "source": [
        "import pandas as pd \r\n",
        "train_a= pd.read_csv('drive/My Drive/DIVE INTO CODE/0_課題/2月/0_week4/Wholesale customers data.csv',dtype = None)\r\n",
        "print(train_a)"
      ],
      "execution_count": 24,
      "outputs": [
        {
          "output_type": "stream",
          "text": [
            "     Channel  Region  Fresh  ...  Frozen  Detergents_Paper  Delicassen\n",
            "0          2       3  12669  ...     214              2674        1338\n",
            "1          2       3   7057  ...    1762              3293        1776\n",
            "2          2       3   6353  ...    2405              3516        7844\n",
            "3          1       3  13265  ...    6404               507        1788\n",
            "4          2       3  22615  ...    3915              1777        5185\n",
            "..       ...     ...    ...  ...     ...               ...         ...\n",
            "435        1       3  29703  ...   13135               182        2204\n",
            "436        1       3  39228  ...    4510                93        2346\n",
            "437        2       3  14531  ...     437             14841        1867\n",
            "438        1       3  10290  ...    1038               168        2125\n",
            "439        1       3   2787  ...      65               477          52\n",
            "\n",
            "[440 rows x 8 columns]\n"
          ],
          "name": "stdout"
        }
      ]
    },
    {
      "cell_type": "code",
      "metadata": {
        "colab": {
          "base_uri": "https://localhost:8080/"
        },
        "id": "m6w4J3QJaDLS",
        "outputId": "91eadf51-a81d-4908-9997-16d9d512b373"
      },
      "source": [
        "train = train_a.drop('Region',axis=1)\r\n",
        "train=train.drop('Channel',axis=1)\r\n",
        "print(train)"
      ],
      "execution_count": 25,
      "outputs": [
        {
          "output_type": "stream",
          "text": [
            "     Fresh   Milk  Grocery  Frozen  Detergents_Paper  Delicassen\n",
            "0    12669   9656     7561     214              2674        1338\n",
            "1     7057   9810     9568    1762              3293        1776\n",
            "2     6353   8808     7684    2405              3516        7844\n",
            "3    13265   1196     4221    6404               507        1788\n",
            "4    22615   5410     7198    3915              1777        5185\n",
            "..     ...    ...      ...     ...               ...         ...\n",
            "435  29703  12051    16027   13135               182        2204\n",
            "436  39228   1431      764    4510                93        2346\n",
            "437  14531  15488    30243     437             14841        1867\n",
            "438  10290   1981     2232    1038               168        2125\n",
            "439   2787   1698     2510      65               477          52\n",
            "\n",
            "[440 rows x 6 columns]\n"
          ],
          "name": "stdout"
        }
      ]
    },
    {
      "cell_type": "code",
      "metadata": {
        "id": "i0KOfW_ZaUdM"
      },
      "source": [
        "from sklearn.decomposition import PCA\r\n",
        "pca = PCA(n_components = 2)\r\n",
        "pca = pca.fit(train)\r\n",
        "data_pca = pca.transform(train)"
      ],
      "execution_count": 13,
      "outputs": []
    },
    {
      "cell_type": "code",
      "metadata": {
        "colab": {
          "base_uri": "https://localhost:8080/",
          "height": 297
        },
        "id": "Kc4jvgLHai8B",
        "outputId": "a08268d2-0c9c-4c39-c0ae-a496d5d0075a"
      },
      "source": [
        "from sklearn.decomposition import PCA\r\n",
        "import matplotlib.pyplot as plt\r\n",
        "pca = PCA(n_components=None)\r\n",
        "pca = pca.fit(train)\r\n",
        "var_exp = pca.explained_variance_ratio_\r\n",
        "cum_var_exp = np.cumsum(var_exp)\r\n",
        "print(cum_var_exp)\r\n",
        "plt.bar(range(1,7), var_exp, alpha=0.5, align='center', label='individual explained variance')\r\n",
        "plt.step(range(1,7), cum_var_exp, where='mid', label='cumulative expalined variance')\r\n",
        "plt.ylabel('Explained variance ratio')\r\n",
        "plt.xlabel('Principal components')\r\n",
        "plt.hlines(0.7, 0, 6,  \"blue\", linestyles='dashed')\r\n",
        "plt.legend(loc='best')\r\n",
        "plt.grid()\r\n",
        "plt.show()"
      ],
      "execution_count": 14,
      "outputs": [
        {
          "output_type": "stream",
          "text": [
            "[0.45961362 0.86478588 0.93481597 0.97883941 0.99386152 1.        ]\n"
          ],
          "name": "stdout"
        },
        {
          "output_type": "display_data",
          "data": {
            "image/png": "[encoded data removed]",
            "text/plain": [
              "<Figure size 432x288 with 1 Axes>"
            ]
          },
          "metadata": {
            "tags": [],
            "needs_background": "light"
          }
        }
      ]
    },
    {
      "cell_type": "code",
      "metadata": {
        "id": "IS9nYfWrarpl"
      },
      "source": [
        "#最適なクラスタ数は5（上記エルボー法より）"
      ],
      "execution_count": 15,
      "outputs": []
    },
    {
      "cell_type": "code",
      "metadata": {
        "id": "nbSUcXTKbt9b"
      },
      "source": [
        "x_train, x_test= train_test_split(data_pca, test_size=0.5, random_state=0)"
      ],
      "execution_count": 18,
      "outputs": []
    },
    {
      "cell_type": "code",
      "metadata": {
        "colab": {
          "base_uri": "https://localhost:8080/"
        },
        "id": "CfV4TA7ObQci",
        "outputId": "bd333081-0ce1-4cc3-d552-54b01b284182"
      },
      "source": [
        "cls2=ScratchKMeans(n_clusters=5)\r\n",
        "cls2.fit(x_train)"
      ],
      "execution_count": 21,
      "outputs": [
        {
          "output_type": "execute_result",
          "data": {
            "text/plain": [
              "100"
            ]
          },
          "metadata": {
            "tags": []
          },
          "execution_count": 21
        }
      ]
    },
    {
      "cell_type": "code",
      "metadata": {
        "colab": {
          "base_uri": "https://localhost:8080/"
        },
        "id": "hgs6tG7Xbjgn",
        "outputId": "f22655bd-460b-4242-db3f-ada888711c61"
      },
      "source": [
        "y_pred2=cls2.predict(x_test)\r\n",
        "y_pred2"
      ],
      "execution_count": 23,
      "outputs": [
        {
          "output_type": "execute_result",
          "data": {
            "text/plain": [
              "array([[2],\n",
              "       [4],\n",
              "       [2],\n",
              "       [4],\n",
              "       [3],\n",
              "       [3],\n",
              "       [4],\n",
              "       [1],\n",
              "       [2],\n",
              "       [2],\n",
              "       [4],\n",
              "       [4],\n",
              "       [2],\n",
              "       [3],\n",
              "       [2],\n",
              "       [2],\n",
              "       [4],\n",
              "       [2],\n",
              "       [3],\n",
              "       [1],\n",
              "       [1],\n",
              "       [4],\n",
              "       [2],\n",
              "       [2],\n",
              "       [2],\n",
              "       [2],\n",
              "       [4],\n",
              "       [3],\n",
              "       [4],\n",
              "       [1],\n",
              "       [2],\n",
              "       [4],\n",
              "       [2],\n",
              "       [2],\n",
              "       [2],\n",
              "       [0],\n",
              "       [4],\n",
              "       [2],\n",
              "       [2],\n",
              "       [2],\n",
              "       [2],\n",
              "       [1],\n",
              "       [3],\n",
              "       [4],\n",
              "       [1],\n",
              "       [2],\n",
              "       [4],\n",
              "       [2],\n",
              "       [3],\n",
              "       [3],\n",
              "       [2],\n",
              "       [2],\n",
              "       [2],\n",
              "       [4],\n",
              "       [2],\n",
              "       [3],\n",
              "       [2],\n",
              "       [3],\n",
              "       [2],\n",
              "       [3],\n",
              "       [2],\n",
              "       [4],\n",
              "       [3],\n",
              "       [4],\n",
              "       [2],\n",
              "       [2],\n",
              "       [4],\n",
              "       [3],\n",
              "       [2],\n",
              "       [4],\n",
              "       [2],\n",
              "       [3],\n",
              "       [0],\n",
              "       [3],\n",
              "       [3],\n",
              "       [3],\n",
              "       [2],\n",
              "       [2],\n",
              "       [2],\n",
              "       [1],\n",
              "       [2],\n",
              "       [2],\n",
              "       [4],\n",
              "       [3],\n",
              "       [4],\n",
              "       [1],\n",
              "       [2],\n",
              "       [2],\n",
              "       [4],\n",
              "       [4],\n",
              "       [3],\n",
              "       [2],\n",
              "       [3],\n",
              "       [2],\n",
              "       [2],\n",
              "       [2],\n",
              "       [3],\n",
              "       [2],\n",
              "       [2],\n",
              "       [3],\n",
              "       [2],\n",
              "       [2],\n",
              "       [2],\n",
              "       [2],\n",
              "       [3],\n",
              "       [2],\n",
              "       [3],\n",
              "       [3],\n",
              "       [3],\n",
              "       [2],\n",
              "       [3],\n",
              "       [2],\n",
              "       [3],\n",
              "       [4],\n",
              "       [3],\n",
              "       [2],\n",
              "       [3],\n",
              "       [2],\n",
              "       [2],\n",
              "       [3],\n",
              "       [4],\n",
              "       [4],\n",
              "       [4],\n",
              "       [3],\n",
              "       [3],\n",
              "       [4],\n",
              "       [2],\n",
              "       [1],\n",
              "       [2],\n",
              "       [3],\n",
              "       [3],\n",
              "       [2],\n",
              "       [4],\n",
              "       [4],\n",
              "       [4],\n",
              "       [3],\n",
              "       [4],\n",
              "       [2],\n",
              "       [4],\n",
              "       [4],\n",
              "       [4],\n",
              "       [2],\n",
              "       [2],\n",
              "       [3],\n",
              "       [3],\n",
              "       [2],\n",
              "       [2],\n",
              "       [2],\n",
              "       [0],\n",
              "       [3],\n",
              "       [0],\n",
              "       [3],\n",
              "       [2],\n",
              "       [1],\n",
              "       [3],\n",
              "       [1],\n",
              "       [2],\n",
              "       [2],\n",
              "       [2],\n",
              "       [3],\n",
              "       [4],\n",
              "       [2],\n",
              "       [2],\n",
              "       [2],\n",
              "       [2],\n",
              "       [2],\n",
              "       [3],\n",
              "       [2],\n",
              "       [3],\n",
              "       [3],\n",
              "       [2],\n",
              "       [1],\n",
              "       [3],\n",
              "       [2],\n",
              "       [4],\n",
              "       [2],\n",
              "       [2],\n",
              "       [2],\n",
              "       [3],\n",
              "       [3],\n",
              "       [3],\n",
              "       [3],\n",
              "       [2],\n",
              "       [4],\n",
              "       [4],\n",
              "       [3],\n",
              "       [3],\n",
              "       [4],\n",
              "       [2],\n",
              "       [2],\n",
              "       [3],\n",
              "       [4],\n",
              "       [3],\n",
              "       [2],\n",
              "       [4],\n",
              "       [2],\n",
              "       [0],\n",
              "       [0],\n",
              "       [2],\n",
              "       [2],\n",
              "       [4],\n",
              "       [4],\n",
              "       [2],\n",
              "       [2],\n",
              "       [2],\n",
              "       [3],\n",
              "       [2],\n",
              "       [4],\n",
              "       [4],\n",
              "       [2],\n",
              "       [2],\n",
              "       [2],\n",
              "       [3],\n",
              "       [2],\n",
              "       [4],\n",
              "       [3],\n",
              "       [2],\n",
              "       [1],\n",
              "       [1],\n",
              "       [2]])"
            ]
          },
          "metadata": {
            "tags": []
          },
          "execution_count": 23
        }
      ]
    },
    {
      "cell_type": "code",
      "metadata": {
        "colab": {
          "base_uri": "https://localhost:8080/"
        },
        "id": "doI_AcW8cHv4",
        "outputId": "cc4e6e4c-06fe-4351-bac8-900f8328144a"
      },
      "source": [
        "train_a.iloc[:,0:2].values"
      ],
      "execution_count": 28,
      "outputs": [
        {
          "output_type": "execute_result",
          "data": {
            "text/plain": [
              "array([[2, 3],\n",
              "       [2, 3],\n",
              "       [2, 3],\n",
              "       [1, 3],\n",
              "       [2, 3],\n",
              "       [2, 3],\n",
              "       [2, 3],\n",
              "       [2, 3],\n",
              "       [1, 3],\n",
              "       [2, 3],\n",
              "       [2, 3],\n",
              "       [2, 3],\n",
              "       [2, 3],\n",
              "       [2, 3],\n",
              "       [2, 3],\n",
              "       [1, 3],\n",
              "       [2, 3],\n",
              "       [1, 3],\n",
              "       [2, 3],\n",
              "       [1, 3],\n",
              "       [2, 3],\n",
              "       [1, 3],\n",
              "       [1, 3],\n",
              "       [2, 3],\n",
              "       [2, 3],\n",
              "       [2, 3],\n",
              "       [1, 3],\n",
              "       [1, 3],\n",
              "       [2, 3],\n",
              "       [1, 3],\n",
              "       [1, 3],\n",
              "       [1, 3],\n",
              "       [1, 3],\n",
              "       [1, 3],\n",
              "       [1, 3],\n",
              "       [2, 3],\n",
              "       [1, 3],\n",
              "       [2, 3],\n",
              "       [2, 3],\n",
              "       [1, 3],\n",
              "       [1, 3],\n",
              "       [1, 3],\n",
              "       [2, 3],\n",
              "       [2, 3],\n",
              "       [2, 3],\n",
              "       [2, 3],\n",
              "       [2, 3],\n",
              "       [2, 3],\n",
              "       [2, 3],\n",
              "       [2, 3],\n",
              "       [1, 3],\n",
              "       [1, 3],\n",
              "       [2, 3],\n",
              "       [2, 3],\n",
              "       [1, 3],\n",
              "       [1, 3],\n",
              "       [2, 3],\n",
              "       [2, 3],\n",
              "       [1, 3],\n",
              "       [1, 3],\n",
              "       [2, 3],\n",
              "       [2, 3],\n",
              "       [2, 3],\n",
              "       [2, 3],\n",
              "       [1, 3],\n",
              "       [2, 3],\n",
              "       [1, 3],\n",
              "       [2, 3],\n",
              "       [1, 3],\n",
              "       [1, 3],\n",
              "       [1, 3],\n",
              "       [1, 3],\n",
              "       [1, 3],\n",
              "       [2, 3],\n",
              "       [2, 3],\n",
              "       [1, 3],\n",
              "       [1, 3],\n",
              "       [2, 3],\n",
              "       [1, 3],\n",
              "       [1, 3],\n",
              "       [1, 3],\n",
              "       [2, 3],\n",
              "       [2, 3],\n",
              "       [1, 3],\n",
              "       [2, 3],\n",
              "       [2, 3],\n",
              "       [2, 3],\n",
              "       [1, 3],\n",
              "       [1, 3],\n",
              "       [1, 3],\n",
              "       [1, 3],\n",
              "       [1, 3],\n",
              "       [2, 3],\n",
              "       [1, 3],\n",
              "       [2, 3],\n",
              "       [1, 3],\n",
              "       [2, 3],\n",
              "       [1, 3],\n",
              "       [1, 3],\n",
              "       [1, 3],\n",
              "       [2, 3],\n",
              "       [2, 3],\n",
              "       [2, 3],\n",
              "       [1, 3],\n",
              "       [1, 3],\n",
              "       [1, 3],\n",
              "       [2, 3],\n",
              "       [2, 3],\n",
              "       [2, 3],\n",
              "       [2, 3],\n",
              "       [1, 3],\n",
              "       [2, 3],\n",
              "       [1, 3],\n",
              "       [1, 3],\n",
              "       [1, 3],\n",
              "       [1, 3],\n",
              "       [1, 3],\n",
              "       [1, 3],\n",
              "       [1, 3],\n",
              "       [1, 3],\n",
              "       [1, 3],\n",
              "       [1, 3],\n",
              "       [1, 3],\n",
              "       [2, 3],\n",
              "       [1, 3],\n",
              "       [1, 3],\n",
              "       [1, 3],\n",
              "       [2, 3],\n",
              "       [1, 3],\n",
              "       [1, 3],\n",
              "       [1, 3],\n",
              "       [1, 3],\n",
              "       [1, 3],\n",
              "       [1, 3],\n",
              "       [1, 3],\n",
              "       [1, 3],\n",
              "       [1, 3],\n",
              "       [1, 3],\n",
              "       [1, 3],\n",
              "       [1, 3],\n",
              "       [1, 3],\n",
              "       [1, 3],\n",
              "       [1, 3],\n",
              "       [1, 3],\n",
              "       [1, 3],\n",
              "       [2, 3],\n",
              "       [1, 3],\n",
              "       [1, 3],\n",
              "       [1, 3],\n",
              "       [1, 3],\n",
              "       [1, 3],\n",
              "       [1, 3],\n",
              "       [1, 3],\n",
              "       [1, 3],\n",
              "       [1, 3],\n",
              "       [2, 3],\n",
              "       [2, 3],\n",
              "       [1, 3],\n",
              "       [2, 3],\n",
              "       [2, 3],\n",
              "       [2, 3],\n",
              "       [1, 3],\n",
              "       [1, 3],\n",
              "       [2, 3],\n",
              "       [2, 3],\n",
              "       [2, 3],\n",
              "       [2, 3],\n",
              "       [1, 3],\n",
              "       [1, 3],\n",
              "       [1, 3],\n",
              "       [2, 3],\n",
              "       [2, 3],\n",
              "       [1, 3],\n",
              "       [2, 3],\n",
              "       [1, 3],\n",
              "       [2, 3],\n",
              "       [1, 3],\n",
              "       [1, 3],\n",
              "       [1, 3],\n",
              "       [1, 3],\n",
              "       [1, 3],\n",
              "       [1, 3],\n",
              "       [1, 3],\n",
              "       [1, 3],\n",
              "       [1, 3],\n",
              "       [1, 3],\n",
              "       [1, 3],\n",
              "       [1, 3],\n",
              "       [2, 3],\n",
              "       [2, 3],\n",
              "       [1, 3],\n",
              "       [1, 3],\n",
              "       [1, 3],\n",
              "       [2, 3],\n",
              "       [1, 3],\n",
              "       [1, 3],\n",
              "       [1, 1],\n",
              "       [2, 1],\n",
              "       [1, 1],\n",
              "       [1, 1],\n",
              "       [2, 1],\n",
              "       [2, 1],\n",
              "       [1, 1],\n",
              "       [1, 1],\n",
              "       [1, 1],\n",
              "       [2, 1],\n",
              "       [1, 1],\n",
              "       [2, 1],\n",
              "       [1, 1],\n",
              "       [2, 1],\n",
              "       [1, 1],\n",
              "       [2, 1],\n",
              "       [1, 1],\n",
              "       [1, 1],\n",
              "       [2, 1],\n",
              "       [1, 1],\n",
              "       [2, 1],\n",
              "       [1, 1],\n",
              "       [2, 1],\n",
              "       [1, 1],\n",
              "       [1, 1],\n",
              "       [1, 1],\n",
              "       [1, 1],\n",
              "       [2, 1],\n",
              "       [1, 1],\n",
              "       [1, 1],\n",
              "       [2, 1],\n",
              "       [1, 1],\n",
              "       [1, 1],\n",
              "       [1, 1],\n",
              "       [2, 1],\n",
              "       [1, 1],\n",
              "       [1, 1],\n",
              "       [1, 1],\n",
              "       [1, 1],\n",
              "       [1, 1],\n",
              "       [1, 1],\n",
              "       [1, 1],\n",
              "       [1, 1],\n",
              "       [1, 1],\n",
              "       [1, 1],\n",
              "       [1, 1],\n",
              "       [1, 1],\n",
              "       [1, 1],\n",
              "       [1, 1],\n",
              "       [2, 1],\n",
              "       [1, 1],\n",
              "       [1, 1],\n",
              "       [1, 1],\n",
              "       [1, 1],\n",
              "       [1, 1],\n",
              "       [2, 1],\n",
              "       [1, 1],\n",
              "       [1, 1],\n",
              "       [1, 1],\n",
              "       [1, 1],\n",
              "       [1, 1],\n",
              "       [1, 1],\n",
              "       [1, 1],\n",
              "       [1, 1],\n",
              "       [1, 1],\n",
              "       [1, 1],\n",
              "       [1, 1],\n",
              "       [1, 1],\n",
              "       [2, 1],\n",
              "       [1, 1],\n",
              "       [2, 1],\n",
              "       [1, 1],\n",
              "       [2, 1],\n",
              "       [1, 1],\n",
              "       [1, 1],\n",
              "       [1, 1],\n",
              "       [1, 1],\n",
              "       [1, 3],\n",
              "       [1, 3],\n",
              "       [1, 3],\n",
              "       [1, 3],\n",
              "       [1, 3],\n",
              "       [1, 3],\n",
              "       [2, 3],\n",
              "       [1, 3],\n",
              "       [2, 3],\n",
              "       [1, 3],\n",
              "       [1, 3],\n",
              "       [1, 3],\n",
              "       [1, 3],\n",
              "       [1, 3],\n",
              "       [1, 3],\n",
              "       [1, 3],\n",
              "       [1, 3],\n",
              "       [1, 3],\n",
              "       [1, 3],\n",
              "       [1, 3],\n",
              "       [2, 2],\n",
              "       [1, 2],\n",
              "       [2, 2],\n",
              "       [1, 2],\n",
              "       [2, 2],\n",
              "       [2, 2],\n",
              "       [1, 2],\n",
              "       [2, 2],\n",
              "       [2, 2],\n",
              "       [2, 2],\n",
              "       [2, 2],\n",
              "       [2, 2],\n",
              "       [2, 2],\n",
              "       [2, 2],\n",
              "       [1, 2],\n",
              "       [1, 2],\n",
              "       [2, 2],\n",
              "       [1, 2],\n",
              "       [1, 2],\n",
              "       [2, 2],\n",
              "       [1, 2],\n",
              "       [1, 2],\n",
              "       [2, 2],\n",
              "       [1, 2],\n",
              "       [1, 2],\n",
              "       [1, 2],\n",
              "       [2, 2],\n",
              "       [1, 2],\n",
              "       [1, 2],\n",
              "       [1, 2],\n",
              "       [1, 2],\n",
              "       [1, 2],\n",
              "       [1, 2],\n",
              "       [1, 2],\n",
              "       [1, 2],\n",
              "       [1, 2],\n",
              "       [1, 2],\n",
              "       [1, 2],\n",
              "       [2, 2],\n",
              "       [1, 2],\n",
              "       [2, 2],\n",
              "       [2, 2],\n",
              "       [2, 2],\n",
              "       [1, 2],\n",
              "       [1, 2],\n",
              "       [1, 2],\n",
              "       [1, 2],\n",
              "       [2, 3],\n",
              "       [2, 3],\n",
              "       [1, 3],\n",
              "       [2, 3],\n",
              "       [1, 3],\n",
              "       [1, 3],\n",
              "       [2, 3],\n",
              "       [2, 3],\n",
              "       [1, 3],\n",
              "       [2, 3],\n",
              "       [1, 3],\n",
              "       [2, 3],\n",
              "       [1, 3],\n",
              "       [2, 3],\n",
              "       [1, 3],\n",
              "       [1, 3],\n",
              "       [1, 3],\n",
              "       [2, 3],\n",
              "       [1, 3],\n",
              "       [1, 3],\n",
              "       [1, 3],\n",
              "       [1, 3],\n",
              "       [1, 3],\n",
              "       [1, 3],\n",
              "       [1, 3],\n",
              "       [2, 3],\n",
              "       [1, 3],\n",
              "       [1, 3],\n",
              "       [1, 3],\n",
              "       [1, 3],\n",
              "       [2, 3],\n",
              "       [1, 3],\n",
              "       [1, 3],\n",
              "       [2, 3],\n",
              "       [1, 3],\n",
              "       [1, 3],\n",
              "       [2, 3],\n",
              "       [1, 3],\n",
              "       [1, 3],\n",
              "       [2, 3],\n",
              "       [1, 3],\n",
              "       [1, 3],\n",
              "       [1, 3],\n",
              "       [1, 3],\n",
              "       [1, 3],\n",
              "       [1, 3],\n",
              "       [1, 3],\n",
              "       [1, 3],\n",
              "       [1, 3],\n",
              "       [1, 3],\n",
              "       [1, 3],\n",
              "       [1, 3],\n",
              "       [1, 3],\n",
              "       [1, 3],\n",
              "       [1, 3],\n",
              "       [1, 3],\n",
              "       [2, 3],\n",
              "       [1, 3],\n",
              "       [1, 3],\n",
              "       [1, 3],\n",
              "       [1, 3],\n",
              "       [1, 3],\n",
              "       [1, 3],\n",
              "       [1, 3],\n",
              "       [1, 3],\n",
              "       [1, 3],\n",
              "       [1, 3],\n",
              "       [2, 3],\n",
              "       [2, 3],\n",
              "       [1, 3],\n",
              "       [1, 3],\n",
              "       [1, 3],\n",
              "       [1, 3],\n",
              "       [1, 3],\n",
              "       [1, 3],\n",
              "       [2, 3],\n",
              "       [2, 3],\n",
              "       [1, 3],\n",
              "       [2, 3],\n",
              "       [1, 3],\n",
              "       [1, 3],\n",
              "       [2, 3],\n",
              "       [1, 3],\n",
              "       [2, 3],\n",
              "       [2, 3],\n",
              "       [1, 3],\n",
              "       [1, 3],\n",
              "       [1, 3],\n",
              "       [1, 3],\n",
              "       [1, 3],\n",
              "       [1, 3],\n",
              "       [1, 3],\n",
              "       [1, 3],\n",
              "       [1, 3],\n",
              "       [1, 3],\n",
              "       [1, 3],\n",
              "       [1, 3],\n",
              "       [2, 3],\n",
              "       [1, 3],\n",
              "       [1, 3]])"
            ]
          },
          "metadata": {
            "tags": []
          },
          "execution_count": 28
        }
      ]
    },
    {
      "cell_type": "code",
      "metadata": {
        "id": "6wga3O3acjky"
      },
      "source": [
        "#Channelは1と2のラベル、Regionは1,2,3のラベル、クラスタは1-5のラベルでそれぞれラベルの数が異なる"
      ],
      "execution_count": 29,
      "outputs": []
    },
    {
      "cell_type": "code",
      "metadata": {
        "id": "KGP8lufgc-tK"
      },
      "source": [
        "#6個の特徴量でクラスタリング"
      ],
      "execution_count": 30,
      "outputs": []
    },
    {
      "cell_type": "code",
      "metadata": {
        "id": "KeeVFnakdXzF"
      },
      "source": [
        "train=train_a.values\r\n",
        "x_train, x_test= train_test_split(train, test_size=0.5, random_state=0)"
      ],
      "execution_count": 33,
      "outputs": []
    },
    {
      "cell_type": "code",
      "metadata": {
        "colab": {
          "base_uri": "https://localhost:8080/"
        },
        "id": "BgWVSASodbUK",
        "outputId": "01590890-1725-4371-d869-fc0ebe6075e5"
      },
      "source": [
        "cls3=ScratchKMeans(n_clusters=5)\r\n",
        "cls3.fit(x_train)"
      ],
      "execution_count": 41,
      "outputs": [
        {
          "output_type": "execute_result",
          "data": {
            "text/plain": [
              "100"
            ]
          },
          "metadata": {
            "tags": []
          },
          "execution_count": 41
        }
      ]
    },
    {
      "cell_type": "code",
      "metadata": {
        "colab": {
          "base_uri": "https://localhost:8080/"
        },
        "id": "9go2O2wTdpEL",
        "outputId": "f3f0cf1b-56e9-42ff-a982-624dcb60fba7"
      },
      "source": [
        "y_pred3=cls3.predict(x_test)\r\n",
        "y_pred3"
      ],
      "execution_count": 42,
      "outputs": [
        {
          "output_type": "execute_result",
          "data": {
            "text/plain": [
              "array([[0],\n",
              "       [4],\n",
              "       [0],\n",
              "       [4],\n",
              "       [1],\n",
              "       [1],\n",
              "       [4],\n",
              "       [2],\n",
              "       [0],\n",
              "       [0],\n",
              "       [4],\n",
              "       [4],\n",
              "       [0],\n",
              "       [1],\n",
              "       [0],\n",
              "       [0],\n",
              "       [1],\n",
              "       [0],\n",
              "       [1],\n",
              "       [2],\n",
              "       [2],\n",
              "       [4],\n",
              "       [0],\n",
              "       [0],\n",
              "       [0],\n",
              "       [0],\n",
              "       [4],\n",
              "       [1],\n",
              "       [4],\n",
              "       [2],\n",
              "       [0],\n",
              "       [4],\n",
              "       [0],\n",
              "       [0],\n",
              "       [0],\n",
              "       [4],\n",
              "       [4],\n",
              "       [0],\n",
              "       [0],\n",
              "       [0],\n",
              "       [0],\n",
              "       [2],\n",
              "       [1],\n",
              "       [4],\n",
              "       [2],\n",
              "       [0],\n",
              "       [4],\n",
              "       [0],\n",
              "       [1],\n",
              "       [1],\n",
              "       [0],\n",
              "       [0],\n",
              "       [0],\n",
              "       [4],\n",
              "       [0],\n",
              "       [1],\n",
              "       [0],\n",
              "       [1],\n",
              "       [1],\n",
              "       [1],\n",
              "       [0],\n",
              "       [0],\n",
              "       [1],\n",
              "       [4],\n",
              "       [0],\n",
              "       [0],\n",
              "       [4],\n",
              "       [1],\n",
              "       [0],\n",
              "       [4],\n",
              "       [0],\n",
              "       [0],\n",
              "       [3],\n",
              "       [1],\n",
              "       [1],\n",
              "       [2],\n",
              "       [0],\n",
              "       [0],\n",
              "       [0],\n",
              "       [2],\n",
              "       [0],\n",
              "       [0],\n",
              "       [4],\n",
              "       [1],\n",
              "       [4],\n",
              "       [2],\n",
              "       [0],\n",
              "       [0],\n",
              "       [4],\n",
              "       [4],\n",
              "       [1],\n",
              "       [0],\n",
              "       [1],\n",
              "       [0],\n",
              "       [0],\n",
              "       [0],\n",
              "       [1],\n",
              "       [0],\n",
              "       [0],\n",
              "       [1],\n",
              "       [0],\n",
              "       [0],\n",
              "       [0],\n",
              "       [0],\n",
              "       [2],\n",
              "       [0],\n",
              "       [1],\n",
              "       [1],\n",
              "       [1],\n",
              "       [0],\n",
              "       [1],\n",
              "       [0],\n",
              "       [1],\n",
              "       [4],\n",
              "       [1],\n",
              "       [0],\n",
              "       [1],\n",
              "       [0],\n",
              "       [0],\n",
              "       [1],\n",
              "       [4],\n",
              "       [4],\n",
              "       [4],\n",
              "       [1],\n",
              "       [1],\n",
              "       [4],\n",
              "       [0],\n",
              "       [2],\n",
              "       [0],\n",
              "       [1],\n",
              "       [1],\n",
              "       [0],\n",
              "       [4],\n",
              "       [4],\n",
              "       [4],\n",
              "       [1],\n",
              "       [4],\n",
              "       [0],\n",
              "       [4],\n",
              "       [4],\n",
              "       [4],\n",
              "       [0],\n",
              "       [0],\n",
              "       [1],\n",
              "       [0],\n",
              "       [1],\n",
              "       [0],\n",
              "       [0],\n",
              "       [3],\n",
              "       [1],\n",
              "       [4],\n",
              "       [1],\n",
              "       [0],\n",
              "       [2],\n",
              "       [1],\n",
              "       [2],\n",
              "       [0],\n",
              "       [0],\n",
              "       [0],\n",
              "       [1],\n",
              "       [4],\n",
              "       [0],\n",
              "       [0],\n",
              "       [0],\n",
              "       [0],\n",
              "       [0],\n",
              "       [1],\n",
              "       [0],\n",
              "       [1],\n",
              "       [1],\n",
              "       [0],\n",
              "       [2],\n",
              "       [1],\n",
              "       [0],\n",
              "       [4],\n",
              "       [0],\n",
              "       [0],\n",
              "       [0],\n",
              "       [1],\n",
              "       [1],\n",
              "       [1],\n",
              "       [1],\n",
              "       [0],\n",
              "       [4],\n",
              "       [4],\n",
              "       [1],\n",
              "       [1],\n",
              "       [4],\n",
              "       [0],\n",
              "       [0],\n",
              "       [1],\n",
              "       [0],\n",
              "       [1],\n",
              "       [0],\n",
              "       [0],\n",
              "       [0],\n",
              "       [3],\n",
              "       [3],\n",
              "       [0],\n",
              "       [0],\n",
              "       [4],\n",
              "       [4],\n",
              "       [0],\n",
              "       [0],\n",
              "       [0],\n",
              "       [1],\n",
              "       [0],\n",
              "       [4],\n",
              "       [4],\n",
              "       [0],\n",
              "       [0],\n",
              "       [0],\n",
              "       [1],\n",
              "       [0],\n",
              "       [4],\n",
              "       [1],\n",
              "       [0],\n",
              "       [2],\n",
              "       [2],\n",
              "       [0]])"
            ]
          },
          "metadata": {
            "tags": []
          },
          "execution_count": 42
        }
      ]
    },
    {
      "cell_type": "code",
      "metadata": {
        "id": "DXp3nwPkePMg"
      },
      "source": [
        ""
      ],
      "execution_count": null,
      "outputs": []
    },
    {
      "cell_type": "code",
      "metadata": {
        "id": "Mw7b6Zr2dscw"
      },
      "source": [
        "#卸売り業者にとっての有益な情報\r\n",
        "#Regionが3の地区で最もChannelが多い"
      ],
      "execution_count": 43,
      "outputs": []
    },
    {
      "cell_type": "code",
      "metadata": {
        "id": "IwC5DhaJeEj9"
      },
      "source": [
        ""
      ],
      "execution_count": null,
      "outputs": []
    }
  ]
}